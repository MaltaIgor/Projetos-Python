{
 "cells": [
  {
   "cell_type": "markdown",
   "metadata": {
    "id": "tPVbvbFtd4zM"
   },
   "source": [
    "## Este teste será divido em três partes. Serão avaliadas noções de negócios, noções de SQL e noções de construção de dashboards.\n",
    "\n",
    "Na primeira parte você responderá perguntas sobre noções de negócio. Em seguida responderá perguntas relacionadas ao desenvolvimento de consultas SQL. E por fim você deverá construir um dashboard que responda as perguntas de negócio e traga novos insigths sobre os dados apresentados.\n",
    "\n",
    "**Você pode entregar até onde conseguir fazer o teste, até mesmo propor outras soluções que achar necessário. Não fique preso apenas ao que é solicitado!** 😀"
   ]
  },
  {
   "cell_type": "markdown",
   "metadata": {
    "id": "SzG0eyBKRLtD"
   },
   "source": [
    "## Noções de Negócios\n",
    "\n",
    "Aqui vamos avaliar questões do dia a dia, sobre como lidar com a equipe e o cliente.\n",
    "\n"
   ]
  },
  {
   "cell_type": "markdown",
   "metadata": {
    "id": "kgs8DNihI7Lx"
   },
   "source": [
    "1. Você é designado para um cliente com o objetivo de desenvolver um dashboard para a equipe Comercial. Você nunca trabalhou com este cliente e não tem contexto dos dados. Quais seriam seus passos para o desenvolvimento do trabalho?\n",
    "\n"
   ]
  },
  {
   "cell_type": "markdown",
   "metadata": {
    "id": "pbQhIo2tePOc"
   },
   "source": [
    "1 - Entender as regras de negócio da área comercial, assim como os processos atuais.\n",
    "\n",
    "2 - Conversar com o cliente sobre as dores, as demandas e as expectativas relacionadas a parte de BI da área.\n",
    "\n",
    "3 - Definir métricas e KPIs.\n",
    "\n",
    "4 - Esboçar os visuais para esse relatório com ferramentas visuais para que possamos utilizar um template validado na construção.\n",
    "\n",
    "5 - Análise da base de dados e desenvolvimento da ETL verificando aspectos de performance e armazenamento.\n",
    "\n",
    "6 - Incorporação das bases tratadas no PowerBI e continuação do seu desenvolvimento.\n",
    "\n",
    "7 - 1ª homologação dos dados.\n",
    "\n",
    "8 - 2ª etapa de homologação com apresentação do projeto junto ao cliente.\n",
    "\n",
    "9 - Feedbacks. "
   ]
  },
  {
   "cell_type": "markdown",
   "metadata": {
    "id": "TaKnEu8dd7fa"
   },
   "source": [
    "2. Como você traçaria um processo de validação de dados e consistencia das regras de negócio implementadas?"
   ]
  },
  {
   "cell_type": "markdown",
   "metadata": {
    "id": "TrnFgjxxRe5e"
   },
   "source": [
    "Análise de controles anteriores, conferência com o CRM e o próprio banco de dados do cliente. É interessante duas pessoas conferirem as métricas do dashboard para evitar vícios."
   ]
  },
  {
   "cell_type": "markdown",
   "metadata": {
    "id": "m-KvNhPFHr1g"
   },
   "source": [
    "3. O seu time já teve várias reuniões com o cliente sobre o direcionamento do projeto e finalmente você recebeu os dados para trabalhar. Assim que começou a fazer as análises você encontra várias inconsistências que irão influenciar na qualidade final da entrega. Como você agiria nessa situação?"
   ]
  },
  {
   "cell_type": "markdown",
   "metadata": {
    "id": "KVndbzQmRV1-"
   },
   "source": [
    "Os problemas em bases de dados devem ser corrigidos na fonte. Seria o caso de reportar e fazer com que a equipe de consultoria e o cliente cheguem na solução mais escalável."
   ]
  },
  {
   "cell_type": "markdown",
   "metadata": {
    "id": "4m-R77FPHksy"
   },
   "source": [
    "4. Em uma reunião, o cliente pediu para você adicionar uma visualização completamente nova no dashboard que está desenvolvendo.  Essa demanda, levaria muitas horas e um grande esforço. Você ainda possui muitas tarefas para finalizar e o prazo de entrega está bem apertado. Como você lidaria com essa situação?\n",
    "\n"
   ]
  },
  {
   "cell_type": "markdown",
   "metadata": {
    "id": "EAk9T7xZRgmX"
   },
   "source": [
    "Nesse caso, os conceitos praticados na metodologia ágil entram em vigor. No Scrum, trabalhamos com pequenas entregas dentro da sprint planejada. Um pedido que foge do escopo deve ser avaliado, atribuído uma prioridade e acrescido no planejamento como uma story ou uma ondemand. Então, entregaria a demanda oficial, entenderia a demanda que foi solicitada e faria a homologação do que estava previsto junto ao cliente e negociaria os prazos entendendo a urgência."
   ]
  },
  {
   "cell_type": "markdown",
   "metadata": {
    "id": "UusuQx7UeaIy"
   },
   "source": [
    "5. Como você prepararia uma entrega de um dashboard para o cliente?"
   ]
  },
  {
   "cell_type": "markdown",
   "metadata": {},
   "source": [
    "Em consonância com a resposta nº 1, após uma primeira etapa de validação, seria comunicado a finalização do projeto com a formalização das características. A partir disso, agendaríamos uma reunião para que pudéssemos chegar a segunda etapa de validação de usuário final, a fim de selar o \"pós venda\"."
   ]
  },
  {
   "cell_type": "markdown",
   "metadata": {
    "id": "ls0vTQwK0C6z"
   },
   "source": [
    "# TESTE PRÁTICO DE LINGUAGEM DE CONSULTA ESTRUTURADA (SQL)\n",
    "Para a realização das atividades, você deverá executar as instruções abaixo para importar as bibliotecas e funções necessárias para criar a base de dados.\n",
    "\n",
    "Ao final, esperamos que você desenvolva os códigos selecionados e entregue o notebook com as consultas SQL desenvolvidas e o arquivo .db criado.\n",
    "\n",
    "O teste importará três arquivos cruciais para o desenvolvimento dessa atividade. Todos estão no Githun (não mude as URL's).\n",
    "\n",
    "*   usuarios.csv\n",
    "*   produtos.csv\n",
    "*   vendas.csv\n",
    "\n",
    "## O teste foi desenvolvido para ser executado com o SQLite3 e no Google Colab (Ubuntu 18.04). Você deverá utilizar consultas no padrão ANSI. Os comandos necessários podem ser encontrados em:\n",
    "\n",
    "https://www.sqlite.org/docs.html\n",
    "\n",
    "https://www.tutorialspoint.com/sqlite/index.htm\n",
    "\n"
   ]
  },
  {
   "cell_type": "markdown",
   "metadata": {
    "id": "bSjsGmXsuYqZ"
   },
   "source": [
    "# AVISO!\n",
    "\n",
    "\n",
    "\n",
    "1.   Execute o código abaixo para atualizar a biblioteca do SQLite3 utilizada para essa atividade\n",
    "2.   **Ignore as mensagens de erro sobre perda de conectividade na instrução abaixo (o kernel será reiniciado para atualização do SQLite3)**\n"
   ]
  },
  {
   "cell_type": "code",
   "execution_count": null,
   "metadata": {
    "colab": {
     "base_uri": "https://localhost:8080/"
    },
    "id": "1TZeXvCkWawk",
    "outputId": "347ec037-47d2-47b3-f9aa-4ba81ae48787"
   },
   "outputs": [
    {
     "name": "stdout",
     "output_type": "stream",
     "text": [
      "[WinError 2] O sistema não pode encontrar o arquivo especificado: 'sqlite/'\n",
      "C:\\Users\\igor.malta\\OneDrive - PSP INTERMEDIACAO DE SERVICOS LTDA\\Documentos\\Python\n"
     ]
    },
    {
     "name": "stderr",
     "output_type": "stream",
     "text": [
      "  % Total    % Received % Xferd  Average Speed   Time    Time     Time  Current\n",
      "                                 Dload  Upload   Total   Spent    Left  Speed\n",
      "\n",
      "  0     0    0     0    0     0      0      0 --:--:-- --:--:-- --:--:--     0tar: Error opening archive: Failed to open '\\\\.\\tape0'\n",
      "\n",
      "  0     0    0     0    0     0      0      0 --:--:-- --:--:-- --:--:--     0\n",
      "  0 11.2M    0 16384    0     0  12999      0  0:15:08  0:00:01  0:15:07 13013\n",
      "curl: (23) Failure writing output to destination\n",
      "'.' nÆo ‚ reconhecido como um comando interno\n",
      "ou externo, um programa oper vel ou um arquivo em lotes.\n"
     ]
    },
    {
     "name": "stdout",
     "output_type": "stream",
     "text": [
      "[WinError 3] O sistema não pode encontrar o caminho especificado: '/content/sqlite/'\n",
      "C:\\Users\\igor.malta\\OneDrive - PSP INTERMEDIACAO DE SERVICOS LTDA\\Documentos\\Python\n"
     ]
    },
    {
     "name": "stderr",
     "output_type": "stream",
     "text": [
      "'make' nÆo ‚ reconhecido como um comando interno\n",
      "ou externo, um programa oper vel ou um arquivo em lotes.\n",
      "npm WARN config global `--global`, `--local` are deprecated. Use `--location=global` instead.\n",
      "npm WARN exec The following package was not found and will be installed: degit\n",
      "> destination directory is not empty. Using --force, continuing\n",
      "> cloned coleifer/pysqlite3#HEAD\n",
      "'cp' nÆo ‚ reconhecido como um comando interno\n",
      "ou externo, um programa oper vel ou um arquivo em lotes.\n"
     ]
    },
    {
     "name": "stdout",
     "output_type": "stream",
     "text": [
      "running build_static\n",
      "Builds a C extension using a sqlite3 amalgamation\n",
      "Sqlite amalgamation not found. Please download or build the amalgamation and make sure the following files are present in the pysqlite3 folder: sqlite3.h, sqlite3.c\n"
     ]
    }
   ],
   "source": [
    "import os\n",
    "\n",
    "# BAIXAR A ÚLTIMA RELEASE DO COLAB, DESCOMPACTAR E INSTALAR NO DIRETÓRIO DO \n",
    "# PYTHON 3.7 (VERSÃO USADA PELO COLAB NESSE NOTEBOOK)\n",
    "!curl https://www.sqlite.org/src/tarball/sqlite.tar.gz?r=release | tar xz\n",
    "%cd sqlite/\n",
    "!./configure\n",
    "!make sqlite3.c\n",
    "%cd /content/sqlite/\n",
    "!npx degit coleifer/pysqlite3 -f\n",
    "!cp sqlite/sqlite3.[ch] .\n",
    "!python setup.py build_static build\n",
    "!cp build/lib.linux-x86_64-3.7/pysqlite3/_sqlite3.cpython-37m-x86_64-linux-gnu.so \\\n",
    "     /usr/lib/python3.7/lib-dynload/\n",
    "\n",
    "# REINICIANDO O KERNEL DO COLAB PARA IMPORTAR A BIBLIOTECA ATUALIZADA\n",
    "os.kill(os.getpid(), 9)"
   ]
  },
  {
   "cell_type": "code",
   "execution_count": 6,
   "metadata": {},
   "outputs": [],
   "source": [
    "import os"
   ]
  },
  {
   "cell_type": "markdown",
   "metadata": {
    "id": "YD9I0i8qRVCo"
   },
   "source": [
    "# INSTRUÇÕES PARA REALIZAR AS CONSULTAS\n",
    "### PARA CONSULTAR DADOS, SIGA OS PASSOS ABAIXO:\n",
    "\n",
    "#### Abrir conexão:\n",
    "    conexao_sql = sqlite3.connect(banco)\n",
    "#### Abrir cursor para executar consulta no banco:\n",
    "    cursor = conexao_sql.cursor()\n",
    "#### Criar uma consulta:\n",
    "    consulta = '''\n",
    "        Coloque aqui a sua instrução SQL;\n",
    "    '''\n",
    "    cursor.execute(consulta)\n",
    "#### Para visualizar o resultado da sua consulta:\n",
    "    for linha in cursor:\n",
    "      print(linha)\n",
    "#### Para fechar a conexão:\n",
    "    conexao_sql.close()\n",
    "\n",
    "### LEMBRE-SE DE QUE PYTHON É SENSÍVEL A IDENTAÇÃO DE CÓDIGO!"
   ]
  },
  {
   "cell_type": "markdown",
   "metadata": {
    "id": "Q-JtQam4AsEU"
   },
   "source": [
    "# IMPORTANDO BIBLIOTECAS NECESSÁRIAS PARA EXECUTAR OS CÓDIGOS EM SQL"
   ]
  },
  {
   "cell_type": "code",
   "execution_count": 2,
   "metadata": {
    "id": "0CBwbpEfAl5m"
   },
   "outputs": [],
   "source": [
    "import sqlite3\n",
    "import csv\n",
    "import requests\n",
    "from pathlib import Path\n",
    "from urllib.parse import urlparse"
   ]
  },
  {
   "cell_type": "markdown",
   "metadata": {
    "id": "-pbN5gB4MsUO"
   },
   "source": [
    "# DEFINIÇÃO DE VARIÁVEIS FIXAS PARA O PROJETO"
   ]
  },
  {
   "cell_type": "code",
   "execution_count": 3,
   "metadata": {
    "id": "MExXbyvGMvoE"
   },
   "outputs": [],
   "source": [
    "banco = \"teste_sql.db\""
   ]
  },
  {
   "cell_type": "markdown",
   "metadata": {
    "id": "REYwFNTZ5u93"
   },
   "source": [
    "# FUNÇÃO PARA INSERIR REGISTROS NO BANCO DE DADOS"
   ]
  },
  {
   "cell_type": "code",
   "execution_count": 3,
   "metadata": {
    "id": "-ocVcmyN5uHv"
   },
   "outputs": [],
   "source": [
    "# Recebe como parâmetro\n",
    "# 1. Nome do banco de dados\n",
    "# 2. Nome da tabela que receberá os dados\n",
    "# 3. Lista das colunas da tabela\n",
    "# 4. Dados que serão inseridos\n",
    "\n",
    "def inserir_registros(banco, tabela, lista_colunas, arquivo):\n",
    "  conexao_sql = sqlite3.connect(banco)\n",
    "  cursor = conexao_sql.cursor()\n",
    "  dados = open(arquivo)\n",
    "  conteudo_dados = csv.reader(dados)\n",
    "  num_colunas = 1 if lista_colunas.count(',') == 1 else lista_colunas.count(',')\n",
    "  string_insert = 'INSERT INTO ' + tabela + ' (' + lista_colunas + ') VALUES (?' + ('' if num_colunas == 1 else ', ?' * (num_colunas)) + ')'\n",
    "  cursor.executemany(string_insert, conteudo_dados)\n",
    "  conexao_sql.commit()\n",
    "  conexao_sql.close()"
   ]
  },
  {
   "cell_type": "markdown",
   "metadata": {
    "id": "8ZhCn-s-zofx"
   },
   "source": [
    "# FUNÇÃO PARA BAIXAR A BASE DE DADOS UTILIZADA PARA DESENVOLVIMENTO DAS ATIVIDADES"
   ]
  },
  {
   "cell_type": "code",
   "execution_count": 4,
   "metadata": {
    "id": "jniWnEiPzsoR"
   },
   "outputs": [],
   "source": [
    "# Recebe como parâmetro:\n",
    "# 1. Nome do arquivo com a extensão (Ex: base.csv)\n",
    "# 2. URL do site onde o dado está localizado (Ex: 'https://drive.google.com/user_teste/folder_dataset/file.csv'):\n",
    "\n",
    "def baixar_dados(nome_arquivo, url):\n",
    "  requisicao = requests.get(url)\n",
    "  conteudo = requisicao.content\n",
    "  arquivo_csv = open(nome_arquivo, 'wb')\n",
    "  arquivo_csv.write(conteudo)\n",
    "  arquivo_csv.close()"
   ]
  },
  {
   "cell_type": "markdown",
   "metadata": {
    "id": "ZDzP63LXB-Yb"
   },
   "source": [
    "# CRIAÇÃO DE CONEXÃO COM O BANCO SQLITE3 PARA DESENVOLVIMENTO DA ATIVIDADE"
   ]
  },
  {
   "cell_type": "code",
   "execution_count": 8,
   "metadata": {
    "id": "3XY-opKGB-Fc"
   },
   "outputs": [],
   "source": [
    "# Abre conexão com o banco. Se o arquivo não existir, cria a base.\n",
    "conexao_sql = sqlite3.connect(banco)\n",
    "conexao_sql.close()"
   ]
  },
  {
   "cell_type": "markdown",
   "metadata": {
    "id": "HnUMa9XnCcKb"
   },
   "source": [
    "# CRIAÇÃO DAS TABELAS PARA REALIZAÇÃO DAS ATIVIDADES"
   ]
  },
  {
   "cell_type": "markdown",
   "metadata": {
    "id": "YuyEsU8WAZZm"
   },
   "source": [
    "### TABELA DE USUÁRIOS"
   ]
  },
  {
   "cell_type": "code",
   "execution_count": 41,
   "metadata": {},
   "outputs": [
    {
     "data": {
      "text/plain": [
       "cod_usuario      2162\n",
       "data_cadastro    2162\n",
       "faixa_etaria     2162\n",
       "cidade           2162\n",
       "estado           2162\n",
       "dtype: int64"
      ]
     },
     "execution_count": 41,
     "metadata": {},
     "output_type": "execute_result"
    }
   ],
   "source": [
    "import pandas as pd\n",
    "\n",
    "dados = pd.read_csv(r'C:\\Users\\igor.malta\\Downloads\\usuarios.csv',  delimiter = \",\")\n",
    "dados.isnull().sum().sort_values(ascending=False).head(13)\n"
   ]
  },
  {
   "cell_type": "code",
   "execution_count": 42,
   "metadata": {},
   "outputs": [],
   "source": [
    "dados.dropna(subset=['cod_usuario'], inplace=True)"
   ]
  },
  {
   "cell_type": "code",
   "execution_count": 43,
   "metadata": {},
   "outputs": [
    {
     "data": {
      "text/plain": [
       "cod_usuario      0\n",
       "data_cadastro    0\n",
       "faixa_etaria     0\n",
       "cidade           0\n",
       "estado           0\n",
       "dtype: int64"
      ]
     },
     "execution_count": 43,
     "metadata": {},
     "output_type": "execute_result"
    }
   ],
   "source": [
    "dados.isnull().sum().sort_values(ascending=False).head(13)\n"
   ]
  },
  {
   "cell_type": "code",
   "execution_count": 52,
   "metadata": {},
   "outputs": [],
   "source": [
    "conexao_sql = sqlite3.connect(banco)\n",
    "dados.to_sql('usuarios', con=conexao_sql, if_exists = 'append', index = False)\n"
   ]
  },
  {
   "cell_type": "markdown",
   "metadata": {},
   "source": [
    "## O código abaixo estava gerando erro de 'charmap'. O código não possuía erro algum então analisei a base. A minha escolha foi utilizar o Pandas, e claro, já havia uma suspeita de que existiam valores nulos no CSV. De fato, as linhas nulas estavam causando falha no insert de uma tabela que está modelada para não receber registros nulos. Sendo assim, dropei os valores nulos que por quebra de linha do arquivo csv, o SQLite estava considerando como registro, e trouxe o método que insere o dataframe em uma tabela. Assim, com a conexão e o nome da tabela já criada, importei os valores."
   ]
  },
  {
   "cell_type": "code",
   "execution_count": 47,
   "metadata": {
    "id": "GrzK24ITCS-O"
   },
   "outputs": [
    {
     "ename": "UnicodeDecodeError",
     "evalue": "'charmap' codec can't decode byte 0x81 in position 6656: character maps to <undefined>",
     "output_type": "error",
     "traceback": [
      "\u001b[1;31m---------------------------------------------------------------------------\u001b[0m",
      "\u001b[1;31mUnicodeDecodeError\u001b[0m                        Traceback (most recent call last)",
      "\u001b[1;32mC:\\Users\\IGOR~1.MAL\\AppData\\Local\\Temp/ipykernel_28720/4033461632.py\u001b[0m in \u001b[0;36m<module>\u001b[1;34m\u001b[0m\n\u001b[0;32m     21\u001b[0m \u001b[1;31m# INSERIR OS REGISTROS NO BANCO DE DADOS\u001b[0m\u001b[1;33m\u001b[0m\u001b[1;33m\u001b[0m\u001b[0m\n\u001b[0;32m     22\u001b[0m \u001b[0mlista_campos\u001b[0m \u001b[1;33m=\u001b[0m \u001b[1;34m'cod_usuario, data_cadastro, faixa_etaria, cidade, estado'\u001b[0m\u001b[1;33m\u001b[0m\u001b[1;33m\u001b[0m\u001b[0m\n\u001b[1;32m---> 23\u001b[1;33m \u001b[0minserir_registros\u001b[0m\u001b[1;33m(\u001b[0m\u001b[0mbanco\u001b[0m\u001b[1;33m,\u001b[0m \u001b[1;34m'usuarios'\u001b[0m\u001b[1;33m,\u001b[0m \u001b[0mlista_campos\u001b[0m\u001b[1;33m,\u001b[0m\u001b[0mdados_tratados\u001b[0m\u001b[1;33m)\u001b[0m\u001b[1;33m\u001b[0m\u001b[1;33m\u001b[0m\u001b[0m\n\u001b[0m",
      "\u001b[1;32mC:\\Users\\IGOR~1.MAL\\AppData\\Local\\Temp/ipykernel_28720/1456506058.py\u001b[0m in \u001b[0;36minserir_registros\u001b[1;34m(banco, tabela, lista_colunas, arquivo)\u001b[0m\n\u001b[0;32m     12\u001b[0m   \u001b[0mnum_colunas\u001b[0m \u001b[1;33m=\u001b[0m \u001b[1;36m1\u001b[0m \u001b[1;32mif\u001b[0m \u001b[0mlista_colunas\u001b[0m\u001b[1;33m.\u001b[0m\u001b[0mcount\u001b[0m\u001b[1;33m(\u001b[0m\u001b[1;34m','\u001b[0m\u001b[1;33m)\u001b[0m \u001b[1;33m==\u001b[0m \u001b[1;36m1\u001b[0m \u001b[1;32melse\u001b[0m \u001b[0mlista_colunas\u001b[0m\u001b[1;33m.\u001b[0m\u001b[0mcount\u001b[0m\u001b[1;33m(\u001b[0m\u001b[1;34m','\u001b[0m\u001b[1;33m)\u001b[0m\u001b[1;33m\u001b[0m\u001b[1;33m\u001b[0m\u001b[0m\n\u001b[0;32m     13\u001b[0m   \u001b[0mstring_insert\u001b[0m \u001b[1;33m=\u001b[0m \u001b[1;34m'INSERT INTO '\u001b[0m \u001b[1;33m+\u001b[0m \u001b[0mtabela\u001b[0m \u001b[1;33m+\u001b[0m \u001b[1;34m' ('\u001b[0m \u001b[1;33m+\u001b[0m \u001b[0mlista_colunas\u001b[0m \u001b[1;33m+\u001b[0m \u001b[1;34m') VALUES (?'\u001b[0m \u001b[1;33m+\u001b[0m \u001b[1;33m(\u001b[0m\u001b[1;34m''\u001b[0m \u001b[1;32mif\u001b[0m \u001b[0mnum_colunas\u001b[0m \u001b[1;33m==\u001b[0m \u001b[1;36m1\u001b[0m \u001b[1;32melse\u001b[0m \u001b[1;34m', ?'\u001b[0m \u001b[1;33m*\u001b[0m \u001b[1;33m(\u001b[0m\u001b[0mnum_colunas\u001b[0m\u001b[1;33m)\u001b[0m\u001b[1;33m)\u001b[0m \u001b[1;33m+\u001b[0m \u001b[1;34m')'\u001b[0m\u001b[1;33m\u001b[0m\u001b[1;33m\u001b[0m\u001b[0m\n\u001b[1;32m---> 14\u001b[1;33m   \u001b[0mcursor\u001b[0m\u001b[1;33m.\u001b[0m\u001b[0mexecutemany\u001b[0m\u001b[1;33m(\u001b[0m\u001b[0mstring_insert\u001b[0m\u001b[1;33m,\u001b[0m \u001b[0mconteudo_dados\u001b[0m\u001b[1;33m)\u001b[0m\u001b[1;33m\u001b[0m\u001b[1;33m\u001b[0m\u001b[0m\n\u001b[0m\u001b[0;32m     15\u001b[0m   \u001b[0mconexao_sql\u001b[0m\u001b[1;33m.\u001b[0m\u001b[0mcommit\u001b[0m\u001b[1;33m(\u001b[0m\u001b[1;33m)\u001b[0m\u001b[1;33m\u001b[0m\u001b[1;33m\u001b[0m\u001b[0m\n\u001b[0;32m     16\u001b[0m   \u001b[0mconexao_sql\u001b[0m\u001b[1;33m.\u001b[0m\u001b[0mclose\u001b[0m\u001b[1;33m(\u001b[0m\u001b[1;33m)\u001b[0m\u001b[1;33m\u001b[0m\u001b[1;33m\u001b[0m\u001b[0m\n",
      "\u001b[1;32m~\\Anaconda3\\lib\\encodings\\cp1252.py\u001b[0m in \u001b[0;36mdecode\u001b[1;34m(self, input, final)\u001b[0m\n\u001b[0;32m     21\u001b[0m \u001b[1;32mclass\u001b[0m \u001b[0mIncrementalDecoder\u001b[0m\u001b[1;33m(\u001b[0m\u001b[0mcodecs\u001b[0m\u001b[1;33m.\u001b[0m\u001b[0mIncrementalDecoder\u001b[0m\u001b[1;33m)\u001b[0m\u001b[1;33m:\u001b[0m\u001b[1;33m\u001b[0m\u001b[1;33m\u001b[0m\u001b[0m\n\u001b[0;32m     22\u001b[0m     \u001b[1;32mdef\u001b[0m \u001b[0mdecode\u001b[0m\u001b[1;33m(\u001b[0m\u001b[0mself\u001b[0m\u001b[1;33m,\u001b[0m \u001b[0minput\u001b[0m\u001b[1;33m,\u001b[0m \u001b[0mfinal\u001b[0m\u001b[1;33m=\u001b[0m\u001b[1;32mFalse\u001b[0m\u001b[1;33m)\u001b[0m\u001b[1;33m:\u001b[0m\u001b[1;33m\u001b[0m\u001b[1;33m\u001b[0m\u001b[0m\n\u001b[1;32m---> 23\u001b[1;33m         \u001b[1;32mreturn\u001b[0m \u001b[0mcodecs\u001b[0m\u001b[1;33m.\u001b[0m\u001b[0mcharmap_decode\u001b[0m\u001b[1;33m(\u001b[0m\u001b[0minput\u001b[0m\u001b[1;33m,\u001b[0m\u001b[0mself\u001b[0m\u001b[1;33m.\u001b[0m\u001b[0merrors\u001b[0m\u001b[1;33m,\u001b[0m\u001b[0mdecoding_table\u001b[0m\u001b[1;33m)\u001b[0m\u001b[1;33m[\u001b[0m\u001b[1;36m0\u001b[0m\u001b[1;33m]\u001b[0m\u001b[1;33m\u001b[0m\u001b[1;33m\u001b[0m\u001b[0m\n\u001b[0m\u001b[0;32m     24\u001b[0m \u001b[1;33m\u001b[0m\u001b[0m\n\u001b[0;32m     25\u001b[0m \u001b[1;32mclass\u001b[0m \u001b[0mStreamWriter\u001b[0m\u001b[1;33m(\u001b[0m\u001b[0mCodec\u001b[0m\u001b[1;33m,\u001b[0m\u001b[0mcodecs\u001b[0m\u001b[1;33m.\u001b[0m\u001b[0mStreamWriter\u001b[0m\u001b[1;33m)\u001b[0m\u001b[1;33m:\u001b[0m\u001b[1;33m\u001b[0m\u001b[1;33m\u001b[0m\u001b[0m\n",
      "\u001b[1;31mUnicodeDecodeError\u001b[0m: 'charmap' codec can't decode byte 0x81 in position 6656: character maps to <undefined>"
     ]
    }
   ],
   "source": [
    "url = 'https://raw.githubusercontent.com/A3Data/testes_praticos/main/sql/base_dados/usuarios.csv'\n",
    "nome_arquivo = Path(urlparse(url).path).name\n",
    "baixar_dados(nome_arquivo, url)\n",
    "\n",
    "\n",
    "\n",
    "conexao_sql = sqlite3.connect(banco)\n",
    "# CRIAR A TABELA\n",
    "conexao_sql.execute('''\n",
    "CREATE TABLE IF NOT EXISTS usuarios\n",
    "(\n",
    "  cod_usuario INTEGER NOT NULL,\n",
    "  data_cadastro DATE NOT NULL,\n",
    "  faixa_etaria TEXT,\n",
    "  cidade TEXT NOT NULL,\n",
    "  estado TEXT NOT NULL);'''\n",
    ")\n",
    "conexao_sql.commit()\n",
    "\n",
    "\n",
    "# INSERIR OS REGISTROS NO BANCO DE DADOS\n",
    "lista_campos = 'cod_usuario, data_cadastro, faixa_etaria, cidade, estado'\n",
    "inserir_registros(banco, 'usuarios', lista_campos,nome_arquivo)"
   ]
  },
  {
   "cell_type": "markdown",
   "metadata": {
    "id": "DoMfz7RxJQzZ"
   },
   "source": [
    "### TABELA DE PRODUTOS"
   ]
  },
  {
   "cell_type": "code",
   "execution_count": 7,
   "metadata": {
    "id": "qgL8Rka-JTPI"
   },
   "outputs": [],
   "source": [
    "url = 'https://raw.githubusercontent.com/A3Data/testes_praticos/main/sql/base_dados/produtos.csv'\n",
    "nome_arquivo = Path(urlparse(url).path).name\n",
    "baixar_dados(nome_arquivo, url)\n",
    "\n",
    "conexao_sql = sqlite3.connect(banco)\n",
    "arquivo_produtos = 'produtos.csv'\n",
    "# CRIAR A TABELA\n",
    "conexao_sql.execute('''\n",
    "CREATE TABLE IF NOT EXISTS produtos\n",
    "(\n",
    "  cod_produto INTEGER NOT NULL,\n",
    "  nome_produto TEXT NOT NULL,\n",
    "  categoria_produto TEXT,\n",
    "  valor_produto FLOAT);'''\n",
    ")\n",
    "conexao_sql.commit()\n",
    "\n",
    "# INSERIR OS REGISTROS NO BANCO DE DADOS\n",
    "lista_campos = 'cod_produto, nome_produto, categoria_produto, valor_produto'\n",
    "inserir_registros(banco, 'produtos', lista_campos, arquivo_produtos)"
   ]
  },
  {
   "cell_type": "markdown",
   "metadata": {
    "id": "Hgyf94onJxDN"
   },
   "source": [
    "### TABELA DE VENDAS"
   ]
  },
  {
   "cell_type": "code",
   "execution_count": 8,
   "metadata": {
    "id": "8Wb1heaCNukB"
   },
   "outputs": [],
   "source": [
    "url = 'https://raw.githubusercontent.com/A3Data/testes_praticos/main/sql/base_dados/vendas.csv'\n",
    "nome_arquivo = Path(urlparse(url).path).name\n",
    "baixar_dados(nome_arquivo, url)\n",
    "\n",
    "conexao_sql = sqlite3.connect(banco)\n",
    "arquivo_vendas = 'vendas.csv'\n",
    "# CRIAR A TABELA\n",
    "conexao_sql.execute('''\n",
    "CREATE TABLE IF NOT EXISTS vendas\n",
    "(\n",
    "  cod_usuario INTEGER NOT NULL,\n",
    "  cod_produto INTEGER NOT NULL,\n",
    "  data_compra DATE NOT NULL,\n",
    "  quantidade INT NOT NULL,\n",
    "  valor FLOAT NOT NULL);'''\n",
    ")\n",
    "conexao_sql.commit()\n",
    "\n",
    "# INSERIR OS REGISTROS NO BANCO DE DADOS\n",
    "lista_campos = 'cod_usuario, cod_produto, data_compra, quantidade, valor'\n",
    "inserir_registros(banco, 'vendas', lista_campos, arquivo_vendas)"
   ]
  },
  {
   "cell_type": "markdown",
   "metadata": {
    "id": "nRJNYDRWTgiL"
   },
   "source": [
    "## Pergunta 1:\n",
    "\n",
    "\n",
    " Escreva um comando em SQL que retorne a quantidade de vendas dos estados de Minas Gerais e São Paulo por ano e mês"
   ]
  },
  {
   "cell_type": "code",
   "execution_count": 10,
   "metadata": {
    "id": "ed_t8KnbRVz2"
   },
   "outputs": [
    {
     "name": "stdout",
     "output_type": "stream",
     "text": [
      "('2018-06', 1)\n",
      "('2018-07', 1)\n",
      "('2018-08', 1)\n",
      "('2018-10', 2)\n",
      "('2018-11', 1)\n",
      "('2018-12', 2)\n",
      "('2019-01', 2)\n",
      "('2019-02', 1)\n",
      "('2019-04', 2)\n",
      "('2019-05', 1)\n",
      "('2019-06', 2)\n",
      "('2019-07', 2)\n",
      "('2019-08', 2)\n",
      "('2019-09', 2)\n",
      "('2019-10', 1)\n",
      "('2019-11', 1)\n",
      "('2019-12', 3)\n",
      "('2020-01', 2)\n",
      "('2020-02', 1)\n",
      "('2020-03', 2)\n",
      "('2020-04', 2)\n",
      "('2020-05', 3)\n",
      "('2020-06', 4)\n",
      "('2020-07', 2)\n",
      "('2020-09', 5)\n",
      "('2020-10', 5)\n",
      "('2020-11', 3)\n",
      "('2020-12', 1)\n",
      "('2021-01', 2)\n",
      "('2021-02', 7)\n",
      "('2021-03', 2)\n",
      "('2021-04', 9)\n",
      "('2021-05', 6)\n",
      "('2021-06', 9)\n",
      "('2021-07', 16)\n"
     ]
    }
   ],
   "source": [
    "cursor = conexao_sql.cursor()\n",
    "consulta = '''\n",
    " select \n",
    "     strftime('%Y-%m', v.data_compra),\n",
    "     count(v.cod_usuario) as quantidade\n",
    " from vendas as v\n",
    " inner join usuarios as u on v.cod_usuario = u.cod_usuario\n",
    " where u.estado in ('Minas Gerais', 'São Paulo')\n",
    " group by 1\n",
    " order by 1;\n",
    "\n",
    "'''\n",
    "cursor.execute(consulta)\n",
    "for linha in cursor:\n",
    "  print(linha)\n",
    "\n"
   ]
  },
  {
   "cell_type": "markdown",
   "metadata": {
    "id": "Ck4CkrgpZ5lG"
   },
   "source": [
    "## Pergunta 2:\n",
    "\n",
    "Escreva um comando em SQL que retorne a quantidade de compras realizadas dos usuários que fizeram compras entre 2019 e 2020."
   ]
  },
  {
   "cell_type": "code",
   "execution_count": 13,
   "metadata": {
    "id": "svQauyVNT-mH"
   },
   "outputs": [
    {
     "name": "stdout",
     "output_type": "stream",
     "text": [
      "(70,)\n"
     ]
    }
   ],
   "source": [
    "cursor = conexao_sql.cursor()\n",
    "consulta = '''\n",
    " select \n",
    "     count(v.cod_usuario) as quantidade\n",
    " from vendas as v\n",
    " inner join usuarios as u on v.cod_usuario = u.cod_usuario\n",
    " where v.data_compra between '2019-01-01' and '2019-12-31';\n",
    "'''\n",
    "cursor.execute(consulta)\n",
    "for linha in cursor:\n",
    "  print(linha)"
   ]
  },
  {
   "cell_type": "markdown",
   "metadata": {
    "id": "peLYxwOIaAW5"
   },
   "source": [
    "## Pergunta 3:\n",
    "\n",
    " Escreva um comando em SQL que retorne quais são os 10 produtos mais vendidos em todo o periodo considerado."
   ]
  },
  {
   "cell_type": "code",
   "execution_count": 15,
   "metadata": {
    "id": "vhAIeozJUL9X"
   },
   "outputs": [
    {
     "name": "stdout",
     "output_type": "stream",
     "text": [
      "('Microoondas 35L',)\n",
      "('Mochila Targus',)\n",
      "('SPA Intel 700 L',)\n",
      "('SmartTV Samsung 4K 55 polegadas',)\n",
      "('Ar-condicionado 9500 BTUs LG',)\n",
      "('LenÃ§o umedecido Turma da Monica',)\n",
      "('Escrivaninha em L',)\n",
      "('Monitor LG 19 pol curvado',)\n",
      "('Alcool em Gel 70% Johnson',)\n",
      "('Sofa 3 lugares',)\n"
     ]
    }
   ],
   "source": [
    "cursor = conexao_sql.cursor()\n",
    "consulta = '''\n",
    " select \n",
    "     p.nome_produto\n",
    " from vendas as v\n",
    " inner join produtos as p on v.cod_produto = p.cod_produto\n",
    " group by 1\n",
    " order by sum(v.quantidade) desc\n",
    " limit 10;\n",
    "'''\n",
    "cursor.execute(consulta)\n",
    "for linha in cursor:\n",
    "  print(linha)"
   ]
  },
  {
   "cell_type": "markdown",
   "metadata": {
    "id": "XJCtRK3oaFGO"
   },
   "source": [
    "## Pergunta 4:\n",
    "\n",
    " Escreva um comando em SQL que retorne o ticket médio (valor médio das compras) por faixa etária."
   ]
  },
  {
   "cell_type": "code",
   "execution_count": 74,
   "metadata": {
    "id": "c-KIw9HKUgDT"
   },
   "outputs": [
    {
     "name": "stdout",
     "output_type": "stream",
     "text": [
      "('Entre 10 a 15 anos', 8890.13)\n",
      "('Entre 16 a 21 anos', 12725.95)\n",
      "('Entre 22 a 27 anos', 12203.02)\n",
      "('Entre 28 a 36 anos', 8233.04)\n",
      "('Entre 37 a 49 anos', 16727.19)\n",
      "('Entre 50 a 61 anos', 10849.48)\n",
      "('Entre 62 a 70 anos', 10012.63)\n",
      "('Mais de 70 anos', 11303.1)\n"
     ]
    }
   ],
   "source": [
    "cursor = conexao_sql.cursor()\n",
    "consulta = '''\n",
    " select \n",
    "     u.faixa_etaria,\n",
    "     round(avg(v.valor),2) as ticket_medio\n",
    " from vendas as v\n",
    " inner join usuarios as u on v.cod_usuario = u.cod_usuario\n",
    " group by 1;\n",
    "'''\n",
    "cursor.execute(consulta)\n",
    "for linha in cursor:\n",
    "  print(linha)"
   ]
  },
  {
   "cell_type": "markdown",
   "metadata": {
    "id": "fex3Fh4NVCQw"
   },
   "source": [
    "## Pergunta 5:\n",
    "\n",
    "\n",
    "Escreva um comando em SQL que retorna o produto, quantos usuários fizeram pelo menos uma compra desse produto e qual é o valor mínimo e máximo pago"
   ]
  },
  {
   "cell_type": "code",
   "execution_count": 17,
   "metadata": {
    "id": "9iXs_R3tVMdI"
   },
   "outputs": [
    {
     "name": "stdout",
     "output_type": "stream",
     "text": [
      "('Alcool em Gel 70% Johnson', 36, 4.99, 99.8)\n",
      "('Aparelho de Barbear OneBlade Philco', 13, 129.9, 2598.0)\n",
      "('Ar-condicionado 9500 BTUs LG', 13, 1300.49, 24709.31)\n",
      "('Bicicleta Caloi Aro 29', 15, 2691.56, 26915.6)\n",
      "('Biscoito Chocolicia Chocolate', 18, 5.0, 100.0)\n",
      "('Blusa Lacoste', 18, 138.99, 2779.8)\n",
      "('Cadeira Gamer Xpress', 19, 2099.7, 13298.1)\n",
      "('Cafeteira Nespresso', 21, 219.57, 3732.69)\n",
      "('Escrivaninha em L', 27, 874.0, 8740.0)\n",
      "('Jogo Mortal Kombat 11 PS4', 18, 49.9, 848.3)\n",
      "('Kit 3 barras de chocolate Alpino', 16, 29.7, 198.0)\n",
      "('LenÃ§o umedecido Turma da Monica', 13, 7.9, 158.0)\n",
      "('Microoondas 35L', 13, 389.1, 6614.7)\n",
      "('Mochila Targus', 12, 58.9, 1178.0)\n",
      "('Monitor LG 19 pol curvado', 28, 584.1, 11097.9)\n",
      "('Notebook Asus Intel Core i7', 29, 4590.9, 82636.2)\n",
      "('SPA Intel 700 L', 27, 5999.1, 119982.0)\n",
      "('SmartTV Samsung 4K 55 polegadas', 13, 2499.9, 42498.3)\n",
      "('Smartphone Samsung', 12, 4099.0, 40990.0)\n",
      "('Sofa 3 lugares', 21, 899.9, 17098.1)\n",
      "('Umidificador de Ar Cadence', 21, 77.5, 1550.0)\n"
     ]
    }
   ],
   "source": [
    "cursor = conexao_sql.cursor()\n",
    "consulta = '''\n",
    " select \n",
    "     p.nome_produto,\n",
    "     count(u.cod_usuario) as quantidade_usuarios,\n",
    "     min(v.valor) as minimo_valor,\n",
    "     max(v.valor) as maximo_valor\n",
    " from vendas as v\n",
    " inner join produtos as p on v.cod_produto = p.cod_produto\n",
    " inner join usuarios as u on v.cod_usuario = u.cod_usuario\n",
    " group by 1\n",
    " order by 1;\n",
    "'''\n",
    "cursor.execute(consulta)\n",
    "for linha in cursor:\n",
    "  print(linha)"
   ]
  },
  {
   "cell_type": "markdown",
   "metadata": {
    "id": "LufSnB1S_ukA"
   },
   "source": [
    "## Pergunta 6\n",
    "\n",
    "Escreva um comando em SQL que verifique usuários que não fizeram nenhuma compra"
   ]
  },
  {
   "cell_type": "code",
   "execution_count": 21,
   "metadata": {
    "id": "TWOczWW4_zTX"
   },
   "outputs": [
    {
     "name": "stdout",
     "output_type": "stream",
     "text": [
      "(5098,)\n",
      "(5229,)\n",
      "(5482,)\n",
      "(5504,)\n",
      "(5614,)\n",
      "(5923,)\n",
      "(6985,)\n",
      "(7901,)\n",
      "(9980,)\n",
      "(10080,)\n"
     ]
    }
   ],
   "source": [
    "cursor = conexao_sql.cursor()\n",
    "# utilizado o limit apenas para não ocupar muito espaço no arquivo de resolução\n",
    "consulta = '''\n",
    " select \n",
    "     u.cod_usuario\n",
    " from usuarios as u\n",
    " left join vendas as v on v.cod_usuario = u.cod_usuario\n",
    " where v.cod_usuario is null\n",
    " limit 10;\n",
    "'''\n",
    "cursor.execute(consulta)\n",
    "for linha in cursor:\n",
    "  print(linha)"
   ]
  },
  {
   "cell_type": "markdown",
   "metadata": {
    "id": "dJdjxIQSUMwC"
   },
   "source": [
    "## Pergunta 7:\n",
    "\n",
    "Escreva um comando em SQL que retorne quais são os 3 produtos mais comprados dos estados da região Sul e Sudeste, a quantidade de itens comprados, o valor total pago e a média de preço paga"
   ]
  },
  {
   "cell_type": "code",
   "execution_count": 20,
   "metadata": {
    "executionInfo": {
     "elapsed": 299,
     "status": "ok",
     "timestamp": 1648845715694,
     "user": {
      "displayName": "Samuel Vilela",
      "userId": "08299210434344445665"
     },
     "user_tz": 180
    },
    "id": "eayXzmJkfvzj"
   },
   "outputs": [
    {
     "name": "stdout",
     "output_type": "stream",
     "text": [
      "('Alcool em Gel 70% Johnson', 280, 1397.2, 53.74)\n",
      "('Escrivaninha em L', 141, 61617.0, 4739.77)\n",
      "('Notebook Asus Intel Core i7', 134, 615180.6, 43941.47)\n"
     ]
    }
   ],
   "source": [
    "cursor = conexao_sql.cursor()\n",
    "consulta = '''\n",
    " select \n",
    "     p.nome_produto,\n",
    "     sum(v.quantidade) as quantidade,\n",
    "     round(sum(v.valor),2) as total_pago,\n",
    "     round(avg(v.valor),2) as media_preco_pago\n",
    " from vendas as v\n",
    " inner join produtos as p on v.cod_produto = p.cod_produto\n",
    " inner join usuarios as u on v.cod_usuario = u.cod_usuario\n",
    " where u.estado in ('Minas Gerais', 'São Paulo','Espírito Santo', 'Rio de Janeiro', 'Paraná', 'Santa Catarina', 'Rio Grande do Sul')\n",
    " group by 1\n",
    " order by sum(v.quantidade) desc\n",
    " limit 3;\n",
    "'''\n",
    "cursor.execute(consulta)\n",
    "for linha in cursor:\n",
    "  print(linha)"
   ]
  },
  {
   "cell_type": "markdown",
   "metadata": {
    "id": "Hs2o1EJphVrF"
   },
   "source": [
    "## Pergunta 8\n",
    "\n",
    "Escreva um comando em SQL que retorne o produto, a quantidade de itens vendidos e a receita do produto que tem mais itens vendidos por ano e mês"
   ]
  },
  {
   "cell_type": "code",
   "execution_count": 86,
   "metadata": {
    "id": "t6nBvIQa3Ury"
   },
   "outputs": [
    {
     "name": "stdout",
     "output_type": "stream",
     "text": [
      "('Microoondas 35L', '2018-01', 1, 389.1)\n",
      "('Microoondas 35L', '2018-02', 9, 3501.9)\n",
      "('Microoondas 35L', '2018-03', 31, 12062.1)\n",
      "('Microoondas 35L', '2018-04', 5, 1945.5)\n",
      "('Microoondas 35L', '2018-06', 28, 10894.8)\n",
      "('Microoondas 35L', '2018-07', 2, 778.2)\n",
      "('Microoondas 35L', '2018-08', 10, 3891.0)\n",
      "('Microoondas 35L', '2018-09', 49, 19065.9)\n",
      "('Microoondas 35L', '2018-10', 35, 13618.5)\n",
      "('Microoondas 35L', '2018-11', 20, 7782.0)\n",
      "('Microoondas 35L', '2018-12', 28, 10894.8)\n",
      "('Microoondas 35L', '2019-01', 81, 31517.1)\n",
      "('Microoondas 35L', '2019-02', 82, 31906.2)\n",
      "('Microoondas 35L', '2019-03', 57, 22178.7)\n",
      "('Microoondas 35L', '2019-04', 135, 52528.5)\n",
      "('Microoondas 35L', '2019-05', 126, 49026.6)\n",
      "('Microoondas 35L', '2019-06', 41, 15953.1)\n",
      "('Microoondas 35L', '2019-07', 130, 50583.0)\n",
      "('Microoondas 35L', '2019-08', 134, 52139.4)\n",
      "('Microoondas 35L', '2019-09', 191, 74318.1)\n",
      "('Microoondas 35L', '2019-10', 70, 27237.0)\n",
      "('Microoondas 35L', '2019-11', 193, 75096.3)\n",
      "('Microoondas 35L', '2019-12', 207, 80543.7)\n",
      "('Microoondas 35L', '2020-01', 194, 75485.4)\n",
      "('Microoondas 35L', '2020-02', 265, 103111.5)\n",
      "('Microoondas 35L', '2020-03', 246, 95718.6)\n",
      "('Microoondas 35L', '2020-04', 184, 71594.4)\n",
      "('Microoondas 35L', '2020-05', 193, 75096.3)\n",
      "('Microoondas 35L', '2020-06', 317, 123344.7)\n",
      "('Microoondas 35L', '2020-07', 319, 124122.9)\n",
      "('Microoondas 35L', '2020-08', 400, 155640.0)\n",
      "('Microoondas 35L', '2020-09', 382, 148636.2)\n",
      "('Microoondas 35L', '2020-10', 260, 101166.0)\n",
      "('Microoondas 35L', '2020-11', 484, 188324.4)\n",
      "('Microoondas 35L', '2020-12', 397, 154472.7)\n",
      "('Microoondas 35L', '2021-01', 385, 149803.5)\n",
      "('Microoondas 35L', '2021-02', 573, 222954.3)\n",
      "('Microoondas 35L', '2021-03', 587, 228401.7)\n",
      "('Microoondas 35L', '2021-04', 721, 280541.1)\n",
      "('Microoondas 35L', '2021-05', 826, 321396.6)\n",
      "('Microoondas 35L', '2021-06', 846, 329178.6)\n",
      "('Microoondas 35L', '2021-07', 1234, 480149.4)\n"
     ]
    }
   ],
   "source": [
    "cursor = conexao_sql.cursor()\n",
    "consulta = '''\n",
    " select \n",
    "     p.nome_produto,\n",
    "     strftime('%Y-%m', v.data_compra),\n",
    "     sum(v.quantidade) as quantidade,\n",
    "     round(sum(v.valor),2) as total_pago\n",
    " from vendas as v\n",
    " inner join (select \n",
    "                 v.cod_produto,\n",
    "                 p.nome_produto,\n",
    "                 sum(v.quantidade)\n",
    "                from vendas as v\n",
    "                inner join produtos as p on v.cod_produto = p.cod_produto\n",
    "                group by 1, 2\n",
    "                order by 3 desc\n",
    "                limit 1) as p on v.cod_produto = p.cod_produto\n",
    "\n",
    " group by 1, 2\n",
    " order by 2;\n",
    "'''\n",
    "cursor.execute(consulta)\n",
    "for linha in cursor:\n",
    "  print(linha)"
   ]
  },
  {
   "cell_type": "markdown",
   "metadata": {
    "id": "jkZjZ32lmPH2"
   },
   "source": [
    "# **Construção de dashboard** \n",
    "\n",
    "\n",
    "**Seu desafio é desenvolver uma análise dos dados de vendas disponibilizados pela Data Coporation, com o intuito de gerar insights para os gestores responsáveis.**\n",
    "\n",
    "O dashboard deverá conter apenas uma página e poderá ser desenvolvido na ferramenta que se sentir mais a vontade (ex., Power BI, Qlik, Data Studio, Tableau, Superset).\n",
    "\n",
    "Segue algumas perguntas feitas pelos gestores que devem ser abordadas:\n",
    "\n",
    "1. Quais as produto com melhores desempenhos da loja? E quais as produtos \n",
    "com piores desempenho?\n",
    "\n",
    "2. Os produtos com melhor desempanho possuem alguma característica em comum?\n",
    "\n",
    "3. Onde a loja deve investir mais em marketing pensando em ter mais retorno financeiro?\n",
    "\n",
    "4. Vale mais a pena invertir em novos usuários ou em campanhas para usuários antigos?\n",
    "\n",
    "5. Existe um padrão de venda por faixa etária?\n",
    "\n",
    "6. O gerente geral da Data Corporation decidiu abrir operação de lojas fisicas em quatro cidades. Quais cidades você indicaria baseado no histórico de compras?\n",
    "\n",
    "7. Para abrir a operação de lojas fisicas o gerante também precisa decidir qual categoria ele deve investir, pensando em retorno financeiro. Além disso ele gostaria de indicações de produtos que possam alanvancar as vendas nos primeiros 6 meses. A proposta é que a abertura aconteça nos meses de janeiro e fevereiro. Qual seria sua indicação?\n",
    "\n",
    "\n",
    "**Não fique preso nas perguntas acima, novos insights são sempre bem vindos!**\n",
    "\n",
    "\n",
    "\n"
   ]
  },
  {
   "cell_type": "markdown",
   "metadata": {
    "id": "VXGzi37fhW6_"
   },
   "source": [
    "1- Os 3 produtos com melhor desempenho são o Microondas 35L, a Mochila Targus e o SPA Intel 700L. Os 3 com piores desempenho em vendas são a Bicicleta Caloi Aro 29, o Umidificador de Ar Cadence e a Blusa Lacoste.\n",
    "\n",
    "2- Os produtos com melhor desempenho em vendas não concentram-se em uma categoria em específico, porém se analisarmos a faixa de preço, avaliada em quartis, o top 2 está localizado no 3° quartil, ou seja, da base de produtos é o segundo agrupamento mais barato. Já a terceira, quarta e quinta posição estão agrupados no 1º quartil.\n",
    "\n",
    "3- Pensando em maior retorno financeiro, com base no valor total gerado por estado (já que não leva em consideração a implementação de loja física), é interessante investir em campanhas no estado de Minas gerais, Santa Catarina e Rio Grande do Norte. Por outro lado, se considerarmos tambem a quantidade de produtos vendidos desses estados com maior retorno financeiro, temos que dos top(10)valores x Low(10)quantidade de vendas, os estados de Mato Grosso, Rio Grande do Norte e Goiás lucram muito sem saturar o mercado. Logo, poderiam vender muito mais e destacar em faturamento.\n",
    "\n",
    "4- Para definir se um usuário é novo ou antigo, como não há informação da data \"atual\" de extração da base, defini os usuarios antigos como ate o percentil 75% de acordo com a data de cadastro. Para saber qual é o tipo mais rentável foi realizado o cálculo de ticket médio. O resultado foi que os clientes antigos tem um ticket médio maior do que os clientes mais novos, logo, se comprarem mais,terá um retorno financeiro maior para a empresa.\n",
    "\n",
    "5- 35,73% da quantidade de vendas total está concentrado nas faixas etárias de 50 a 61 anos e 22 a 27 anos. Então, o marketing da empresa poderia se difundir para estratégias tanto para os grupos de jovens adultos e velhos adultos. \n",
    "\n",
    "6- Para inaugurar uma loja física é interessante avaliar no contexto de lugar específico, a quantidade de vendas e o faturamento total. Partindo das cidades com maior quantidade de vendas temos Montes Altos, Bom Sucesso do Sul e Lagoa de Velhos que são o top 3 e ainda estão entre o top 7 de maiores receitas.\n",
    "\n",
    "7- A categoria de Lazer é sem dúvidas a mais rentável para a empresa em todo o cenário historico da base. Para alavancar os resultados nos primeiros 6 meses pode-se manter os meses planejados uma vez que nao foi identificado sazonalidade no faturamento, pelo contrário, as vendas vem crescendo de forma exponencial desde o seu início.\n",
    "\n",
    "Como Sugestão adicional, a tomada de decisão presente nas perguntas carenciam de informação de custo do produto vendido e assim analisarmos também a margem de contribuição quando escolhemos por exemplo a categoria do produto."
   ]
  }
 ],
 "metadata": {
  "colab": {
   "collapsed_sections": [],
   "name": "P_TESTE_PRATICO_SQL.ipynb",
   "provenance": [
    {
     "file_id": "1lCz4h3p_kW9wUk6prQZC6PJmApO4R4-b",
     "timestamp": 1648834011977
    }
   ]
  },
  "kernelspec": {
   "display_name": "Python 3 (ipykernel)",
   "language": "python",
   "name": "python3"
  },
  "language_info": {
   "codemirror_mode": {
    "name": "ipython",
    "version": 3
   },
   "file_extension": ".py",
   "mimetype": "text/x-python",
   "name": "python",
   "nbconvert_exporter": "python",
   "pygments_lexer": "ipython3",
   "version": "3.9.7"
  }
 },
 "nbformat": 4,
 "nbformat_minor": 1
}
