{
 "cells": [
  {
   "cell_type": "markdown",
   "id": "lonely-ebony",
   "metadata": {},
   "source": [
    "# Importação das Bibliotecas"
   ]
  },
  {
   "cell_type": "code",
   "execution_count": 1,
   "id": "blank-steering",
   "metadata": {},
   "outputs": [],
   "source": [
    "import pandas as pd\n",
    "import calendar\n",
    "import datetime\n",
    "import os\n",
    "import matplotlib.pyplot as plt\n",
    "import seaborn as sns"
   ]
  },
  {
   "cell_type": "code",
   "execution_count": 2,
   "id": "guilty-wings",
   "metadata": {},
   "outputs": [],
   "source": [
    "pd.set_option(\"display.max_rows\", None)"
   ]
  },
  {
   "cell_type": "markdown",
   "id": "yellow-chemistry",
   "metadata": {},
   "source": [
    "# Importação dos Dados"
   ]
  },
  {
   "cell_type": "code",
   "execution_count": 3,
   "id": "considerable-portugal",
   "metadata": {},
   "outputs": [],
   "source": [
    "# Ler Arquivo csv\n",
    "\n",
    "data_mailing = pd.read_csv(r'C:\\Apresentacao\\dados\\data_apresentacao', low_memory=False)"
   ]
  },
  {
   "cell_type": "code",
   "execution_count": null,
   "id": "lucky-tiffany",
   "metadata": {},
   "outputs": [],
   "source": [
    "# Ler Excel\n",
    "data_safra = pd.read_excel(r'C:\\Inadimplência\\Refatoração Modelo de Inadimplência\\Data\\extratos\\JAN20.xlsx', \n",
    "                                   sheet_name='Planilha1')\n"
   ]
  },
  {
   "cell_type": "code",
   "execution_count": 4,
   "id": "concerned-score",
   "metadata": {},
   "outputs": [
    {
     "data": {
      "text/plain": [
       "(7793124, 13)"
      ]
     },
     "execution_count": 4,
     "metadata": {},
     "output_type": "execute_result"
    }
   ],
   "source": [
    "# ver o tamanho do dataframe\n",
    "\n",
    "data_mailing.shape"
   ]
  },
  {
   "cell_type": "markdown",
   "id": "promotional-modeling",
   "metadata": {},
   "source": [
    "# Visualização Inicial dos Dados"
   ]
  },
  {
   "cell_type": "code",
   "execution_count": 4,
   "id": "fitting-swing",
   "metadata": {},
   "outputs": [
    {
     "data": {
      "text/html": [
       "<div>\n",
       "<style scoped>\n",
       "    .dataframe tbody tr th:only-of-type {\n",
       "        vertical-align: middle;\n",
       "    }\n",
       "\n",
       "    .dataframe tbody tr th {\n",
       "        vertical-align: top;\n",
       "    }\n",
       "\n",
       "    .dataframe thead th {\n",
       "        text-align: right;\n",
       "    }\n",
       "</style>\n",
       "<table border=\"1\" class=\"dataframe\">\n",
       "  <thead>\n",
       "    <tr style=\"text-align: right;\">\n",
       "      <th></th>\n",
       "      <th>Unnamed: 0</th>\n",
       "      <th>cod_quinzena</th>\n",
       "      <th>soma_recarga</th>\n",
       "      <th>soma_mb_trafegado</th>\n",
       "      <th>dat_ativacao</th>\n",
       "      <th>flag_utilizou_dados</th>\n",
       "      <th>plano_contratado</th>\n",
       "      <th>ds_campo_variavel_3</th>\n",
       "      <th>ds_campo_variavel_4</th>\n",
       "      <th>ds_campo_variavel_5</th>\n",
       "      <th>tipo_mailing</th>\n",
       "      <th>marcacao_ai</th>\n",
       "      <th>venda</th>\n",
       "    </tr>\n",
       "  </thead>\n",
       "  <tbody>\n",
       "    <tr>\n",
       "      <th>0</th>\n",
       "      <td>0</td>\n",
       "      <td>20210401</td>\n",
       "      <td>30.00</td>\n",
       "      <td>6371.39</td>\n",
       "      <td>2020-08-07</td>\n",
       "      <td>S</td>\n",
       "      <td>PREZAO R$29,99 POR MES 3GB+3GB</td>\n",
       "      <td>4GB ilimitado</td>\n",
       "      <td>39.99</td>\n",
       "      <td>30,00 A 34,99</td>\n",
       "      <td>MPLAY NET</td>\n",
       "      <td>BP2</td>\n",
       "      <td>NaN</td>\n",
       "    </tr>\n",
       "    <tr>\n",
       "      <th>1</th>\n",
       "      <td>1</td>\n",
       "      <td>20210401</td>\n",
       "      <td>15.00</td>\n",
       "      <td>2.22</td>\n",
       "      <td>2020-06-10</td>\n",
       "      <td>S</td>\n",
       "      <td>PREZAO R$14,99 2GB POR MES</td>\n",
       "      <td>3GB ilimitado</td>\n",
       "      <td>29.99</td>\n",
       "      <td>15,00 A 19,99</td>\n",
       "      <td>MPLAY NET</td>\n",
       "      <td>BP</td>\n",
       "      <td>NaN</td>\n",
       "    </tr>\n",
       "    <tr>\n",
       "      <th>2</th>\n",
       "      <td>2</td>\n",
       "      <td>20210401</td>\n",
       "      <td>25.00</td>\n",
       "      <td>0.44</td>\n",
       "      <td>2020-03-16</td>\n",
       "      <td>S</td>\n",
       "      <td>PREZAO R$9,99 POR SEMANA 1GB+1GB+RENOVACAO</td>\n",
       "      <td>4GB ilimitado</td>\n",
       "      <td>39.99</td>\n",
       "      <td>25,00 A 29,99</td>\n",
       "      <td>MPLAY NET</td>\n",
       "      <td>BP2</td>\n",
       "      <td>NaN</td>\n",
       "    </tr>\n",
       "    <tr>\n",
       "      <th>3</th>\n",
       "      <td>3</td>\n",
       "      <td>20210401</td>\n",
       "      <td>41.67</td>\n",
       "      <td>8016.61</td>\n",
       "      <td>2019-10-24</td>\n",
       "      <td>S</td>\n",
       "      <td>PREZAO R$14,99 2GB POR MES</td>\n",
       "      <td>8GB ilimitado</td>\n",
       "      <td>41.99</td>\n",
       "      <td>40,00 A 44,99</td>\n",
       "      <td>MPLAY NET</td>\n",
       "      <td>BP2</td>\n",
       "      <td>NaN</td>\n",
       "    </tr>\n",
       "    <tr>\n",
       "      <th>4</th>\n",
       "      <td>4</td>\n",
       "      <td>20210401</td>\n",
       "      <td>8.33</td>\n",
       "      <td>149.68</td>\n",
       "      <td>2020-09-11</td>\n",
       "      <td>S</td>\n",
       "      <td>PREZAO R$1,99 POR DIA</td>\n",
       "      <td>3GB ilimitado</td>\n",
       "      <td>29.99</td>\n",
       "      <td>05,00 A 09,99</td>\n",
       "      <td>MPLAY NET</td>\n",
       "      <td>MP</td>\n",
       "      <td>NaN</td>\n",
       "    </tr>\n",
       "  </tbody>\n",
       "</table>\n",
       "</div>"
      ],
      "text/plain": [
       "   Unnamed: 0  cod_quinzena  soma_recarga  soma_mb_trafegado dat_ativacao  \\\n",
       "0           0      20210401         30.00            6371.39   2020-08-07   \n",
       "1           1      20210401         15.00               2.22   2020-06-10   \n",
       "2           2      20210401         25.00               0.44   2020-03-16   \n",
       "3           3      20210401         41.67            8016.61   2019-10-24   \n",
       "4           4      20210401          8.33             149.68   2020-09-11   \n",
       "\n",
       "  flag_utilizou_dados                            plano_contratado  \\\n",
       "0                   S              PREZAO R$29,99 POR MES 3GB+3GB   \n",
       "1                   S                  PREZAO R$14,99 2GB POR MES   \n",
       "2                   S  PREZAO R$9,99 POR SEMANA 1GB+1GB+RENOVACAO   \n",
       "3                   S                  PREZAO R$14,99 2GB POR MES   \n",
       "4                   S                       PREZAO R$1,99 POR DIA   \n",
       "\n",
       "  ds_campo_variavel_3 ds_campo_variavel_4 ds_campo_variavel_5 tipo_mailing  \\\n",
       "0       4GB ilimitado               39.99       30,00 A 34,99    MPLAY NET   \n",
       "1       3GB ilimitado               29.99       15,00 A 19,99    MPLAY NET   \n",
       "2       4GB ilimitado               39.99       25,00 A 29,99    MPLAY NET   \n",
       "3       8GB ilimitado               41.99       40,00 A 44,99    MPLAY NET   \n",
       "4       3GB ilimitado               29.99       05,00 A 09,99    MPLAY NET   \n",
       "\n",
       "  marcacao_ai  venda  \n",
       "0         BP2    NaN  \n",
       "1          BP    NaN  \n",
       "2         BP2    NaN  \n",
       "3         BP2    NaN  \n",
       "4          MP    NaN  "
      ]
     },
     "execution_count": 4,
     "metadata": {},
     "output_type": "execute_result"
    }
   ],
   "source": [
    "# Ver os 5 primeiros dados registrados\n",
    "\n",
    "data_mailing.head()"
   ]
  },
  {
   "cell_type": "code",
   "execution_count": 6,
   "id": "intensive-court",
   "metadata": {
    "scrolled": false
   },
   "outputs": [
    {
     "data": {
      "text/html": [
       "<div>\n",
       "<style scoped>\n",
       "    .dataframe tbody tr th:only-of-type {\n",
       "        vertical-align: middle;\n",
       "    }\n",
       "\n",
       "    .dataframe tbody tr th {\n",
       "        vertical-align: top;\n",
       "    }\n",
       "\n",
       "    .dataframe thead th {\n",
       "        text-align: right;\n",
       "    }\n",
       "</style>\n",
       "<table border=\"1\" class=\"dataframe\">\n",
       "  <thead>\n",
       "    <tr style=\"text-align: right;\">\n",
       "      <th></th>\n",
       "      <th>Unnamed: 0</th>\n",
       "      <th>cod_quinzena</th>\n",
       "      <th>soma_recarga</th>\n",
       "      <th>soma_mb_trafegado</th>\n",
       "      <th>dat_ativacao</th>\n",
       "      <th>flag_utilizou_dados</th>\n",
       "      <th>plano_contratado</th>\n",
       "      <th>ds_campo_variavel_3</th>\n",
       "      <th>ds_campo_variavel_4</th>\n",
       "      <th>ds_campo_variavel_5</th>\n",
       "      <th>tipo_mailing</th>\n",
       "      <th>marcacao_ai</th>\n",
       "      <th>venda</th>\n",
       "    </tr>\n",
       "  </thead>\n",
       "  <tbody>\n",
       "    <tr>\n",
       "      <th>7793119</th>\n",
       "      <td>537340</td>\n",
       "      <td>20211203</td>\n",
       "      <td>30.00</td>\n",
       "      <td>6350.58</td>\n",
       "      <td>2020-03-25</td>\n",
       "      <td>S</td>\n",
       "      <td>PREZAO R$1,99 POR DIA</td>\n",
       "      <td>4GB Ilimitado</td>\n",
       "      <td>39,99</td>\n",
       "      <td>30,00 A 34,99</td>\n",
       "      <td>MAIOR 90 DIAS</td>\n",
       "      <td>MP</td>\n",
       "      <td>NaN</td>\n",
       "    </tr>\n",
       "    <tr>\n",
       "      <th>7793120</th>\n",
       "      <td>537341</td>\n",
       "      <td>20211203</td>\n",
       "      <td>45.00</td>\n",
       "      <td>649.64</td>\n",
       "      <td>2021-08-11</td>\n",
       "      <td>S</td>\n",
       "      <td>PREZAO R$9,99 POR SEMANA 1GB+1GB</td>\n",
       "      <td>6GB Ilimitado</td>\n",
       "      <td>49,99</td>\n",
       "      <td>45,00 A 49,99</td>\n",
       "      <td>MAIOR 90 DIAS</td>\n",
       "      <td>MP</td>\n",
       "      <td>NaN</td>\n",
       "    </tr>\n",
       "    <tr>\n",
       "      <th>7793121</th>\n",
       "      <td>537342</td>\n",
       "      <td>20211203</td>\n",
       "      <td>30.00</td>\n",
       "      <td>13577.18</td>\n",
       "      <td>2020-05-09</td>\n",
       "      <td>S</td>\n",
       "      <td>PREZAO R$1,99 POR DIA</td>\n",
       "      <td>4GB Ilimitado</td>\n",
       "      <td>39,99</td>\n",
       "      <td>30,00 A 34,99</td>\n",
       "      <td>MAIOR 90 DIAS</td>\n",
       "      <td>MP</td>\n",
       "      <td>NaN</td>\n",
       "    </tr>\n",
       "    <tr>\n",
       "      <th>7793122</th>\n",
       "      <td>537343</td>\n",
       "      <td>20211203</td>\n",
       "      <td>16.67</td>\n",
       "      <td>237.81</td>\n",
       "      <td>2019-08-16</td>\n",
       "      <td>S</td>\n",
       "      <td>PREZAO R$1,99 POR DIA</td>\n",
       "      <td>3GB Ilimitado</td>\n",
       "      <td>29,99</td>\n",
       "      <td>15,00 A 19,99</td>\n",
       "      <td>MAIOR 90 DIAS</td>\n",
       "      <td>MP</td>\n",
       "      <td>NaN</td>\n",
       "    </tr>\n",
       "    <tr>\n",
       "      <th>7793123</th>\n",
       "      <td>537344</td>\n",
       "      <td>20211203</td>\n",
       "      <td>40.00</td>\n",
       "      <td>28442.56</td>\n",
       "      <td>2019-09-06</td>\n",
       "      <td>S</td>\n",
       "      <td>PREZAO R$1,99 POR DIA</td>\n",
       "      <td>6GB Ilimitado</td>\n",
       "      <td>49,99</td>\n",
       "      <td>40,00 A 44,99</td>\n",
       "      <td>MAIOR 90 DIAS</td>\n",
       "      <td>MP</td>\n",
       "      <td>NaN</td>\n",
       "    </tr>\n",
       "  </tbody>\n",
       "</table>\n",
       "</div>"
      ],
      "text/plain": [
       "         Unnamed: 0  cod_quinzena  soma_recarga  soma_mb_trafegado  \\\n",
       "7793119      537340      20211203         30.00            6350.58   \n",
       "7793120      537341      20211203         45.00             649.64   \n",
       "7793121      537342      20211203         30.00           13577.18   \n",
       "7793122      537343      20211203         16.67             237.81   \n",
       "7793123      537344      20211203         40.00           28442.56   \n",
       "\n",
       "        dat_ativacao flag_utilizou_dados                  plano_contratado  \\\n",
       "7793119   2020-03-25                   S             PREZAO R$1,99 POR DIA   \n",
       "7793120   2021-08-11                   S  PREZAO R$9,99 POR SEMANA 1GB+1GB   \n",
       "7793121   2020-05-09                   S             PREZAO R$1,99 POR DIA   \n",
       "7793122   2019-08-16                   S             PREZAO R$1,99 POR DIA   \n",
       "7793123   2019-09-06                   S             PREZAO R$1,99 POR DIA   \n",
       "\n",
       "        ds_campo_variavel_3 ds_campo_variavel_4 ds_campo_variavel_5  \\\n",
       "7793119       4GB Ilimitado               39,99       30,00 A 34,99   \n",
       "7793120       6GB Ilimitado               49,99       45,00 A 49,99   \n",
       "7793121       4GB Ilimitado               39,99       30,00 A 34,99   \n",
       "7793122       3GB Ilimitado               29,99       15,00 A 19,99   \n",
       "7793123       6GB Ilimitado               49,99       40,00 A 44,99   \n",
       "\n",
       "          tipo_mailing marcacao_ai  venda  \n",
       "7793119  MAIOR 90 DIAS          MP    NaN  \n",
       "7793120  MAIOR 90 DIAS          MP    NaN  \n",
       "7793121  MAIOR 90 DIAS          MP    NaN  \n",
       "7793122  MAIOR 90 DIAS          MP    NaN  \n",
       "7793123  MAIOR 90 DIAS          MP    NaN  "
      ]
     },
     "execution_count": 6,
     "metadata": {},
     "output_type": "execute_result"
    }
   ],
   "source": [
    "# Ver os 5 últimos dados registrados\n",
    "\n",
    "data_mailing.tail()"
   ]
  },
  {
   "cell_type": "code",
   "execution_count": 7,
   "id": "collectible-emerald",
   "metadata": {},
   "outputs": [
    {
     "data": {
      "text/html": [
       "<div>\n",
       "<style scoped>\n",
       "    .dataframe tbody tr th:only-of-type {\n",
       "        vertical-align: middle;\n",
       "    }\n",
       "\n",
       "    .dataframe tbody tr th {\n",
       "        vertical-align: top;\n",
       "    }\n",
       "\n",
       "    .dataframe thead th {\n",
       "        text-align: right;\n",
       "    }\n",
       "</style>\n",
       "<table border=\"1\" class=\"dataframe\">\n",
       "  <thead>\n",
       "    <tr style=\"text-align: right;\">\n",
       "      <th></th>\n",
       "      <th>Unnamed: 0</th>\n",
       "      <th>cod_quinzena</th>\n",
       "      <th>soma_recarga</th>\n",
       "      <th>soma_mb_trafegado</th>\n",
       "      <th>dat_ativacao</th>\n",
       "      <th>flag_utilizou_dados</th>\n",
       "      <th>plano_contratado</th>\n",
       "      <th>ds_campo_variavel_3</th>\n",
       "      <th>ds_campo_variavel_4</th>\n",
       "      <th>ds_campo_variavel_5</th>\n",
       "      <th>tipo_mailing</th>\n",
       "      <th>marcacao_ai</th>\n",
       "      <th>venda</th>\n",
       "    </tr>\n",
       "  </thead>\n",
       "  <tbody>\n",
       "    <tr>\n",
       "      <th>3981615</th>\n",
       "      <td>614972</td>\n",
       "      <td>20210801</td>\n",
       "      <td>8.33</td>\n",
       "      <td>3455.83</td>\n",
       "      <td>2020-05-01</td>\n",
       "      <td>S</td>\n",
       "      <td>PREZAO R$14,99 2GB POR MES</td>\n",
       "      <td>PrezÃ£o 6GB</td>\n",
       "      <td>24,99</td>\n",
       "      <td>05,00 A 09,99</td>\n",
       "      <td>PREZAO 6GB</td>\n",
       "      <td>MP</td>\n",
       "      <td>NaN</td>\n",
       "    </tr>\n",
       "    <tr>\n",
       "      <th>3240023</th>\n",
       "      <td>722865</td>\n",
       "      <td>20210701</td>\n",
       "      <td>10.00</td>\n",
       "      <td>0.00</td>\n",
       "      <td>2020-12-23</td>\n",
       "      <td>S</td>\n",
       "      <td>PREZAO R$1,99 POR DIA</td>\n",
       "      <td>3GB Ilimitado</td>\n",
       "      <td>29,99</td>\n",
       "      <td>10,00 A 14,99</td>\n",
       "      <td>MAIOR 90 DIAS ZB1</td>\n",
       "      <td>BP</td>\n",
       "      <td>NaN</td>\n",
       "    </tr>\n",
       "    <tr>\n",
       "      <th>379387</th>\n",
       "      <td>379387</td>\n",
       "      <td>20210401</td>\n",
       "      <td>6.67</td>\n",
       "      <td>0.88</td>\n",
       "      <td>2018-11-21</td>\n",
       "      <td>S</td>\n",
       "      <td>PREZAO R$1,49 POR DIA</td>\n",
       "      <td>3GB Ilimitado</td>\n",
       "      <td>29,99</td>\n",
       "      <td>05,00 A 09,99</td>\n",
       "      <td>MAIOR 90 DIAS ZB1</td>\n",
       "      <td>MP</td>\n",
       "      <td>NaN</td>\n",
       "    </tr>\n",
       "    <tr>\n",
       "      <th>767541</th>\n",
       "      <td>153192</td>\n",
       "      <td>20210501</td>\n",
       "      <td>36.67</td>\n",
       "      <td>1178.02</td>\n",
       "      <td>2014-03-24</td>\n",
       "      <td>S</td>\n",
       "      <td>PREZAO R$9,99 POR SEMANA</td>\n",
       "      <td>6GB Ilimitado</td>\n",
       "      <td>44,99</td>\n",
       "      <td>35,00 A 39,99</td>\n",
       "      <td>MAIOR 90 DIAS</td>\n",
       "      <td>MP</td>\n",
       "      <td>NaN</td>\n",
       "    </tr>\n",
       "    <tr>\n",
       "      <th>7321815</th>\n",
       "      <td>66036</td>\n",
       "      <td>20211203</td>\n",
       "      <td>3.33</td>\n",
       "      <td>0.00</td>\n",
       "      <td>2012-04-05</td>\n",
       "      <td>N</td>\n",
       "      <td>PREZAO R$19,99 POR MES 3GB+3GB</td>\n",
       "      <td>PrezÃ£o 6GB</td>\n",
       "      <td>24,99</td>\n",
       "      <td>00,00 A 04,99</td>\n",
       "      <td>PREZAO 6GB</td>\n",
       "      <td>MP</td>\n",
       "      <td>NaN</td>\n",
       "    </tr>\n",
       "    <tr>\n",
       "      <th>1957176</th>\n",
       "      <td>206302</td>\n",
       "      <td>20210601</td>\n",
       "      <td>6.67</td>\n",
       "      <td>0.58</td>\n",
       "      <td>2020-07-03</td>\n",
       "      <td>S</td>\n",
       "      <td>PREZAO R$14,99 2GB POR MES</td>\n",
       "      <td>PrezÃ£o 6GB</td>\n",
       "      <td>24,99</td>\n",
       "      <td>05,00 A 09,99</td>\n",
       "      <td>PREZAO 6GB ZB1</td>\n",
       "      <td>MP</td>\n",
       "      <td>NaN</td>\n",
       "    </tr>\n",
       "    <tr>\n",
       "      <th>792402</th>\n",
       "      <td>178053</td>\n",
       "      <td>20210501</td>\n",
       "      <td>20.00</td>\n",
       "      <td>0.00</td>\n",
       "      <td>2020-07-07</td>\n",
       "      <td>N</td>\n",
       "      <td>PREZAO R$19,99 POR MES 3GB+3GB</td>\n",
       "      <td>3GB Ilimitado</td>\n",
       "      <td>29,99</td>\n",
       "      <td>20,00 A 24,99</td>\n",
       "      <td>MAIOR 90 DIAS</td>\n",
       "      <td>MP</td>\n",
       "      <td>NaN</td>\n",
       "    </tr>\n",
       "    <tr>\n",
       "      <th>6821520</th>\n",
       "      <td>549740</td>\n",
       "      <td>20211201</td>\n",
       "      <td>5.00</td>\n",
       "      <td>1192.49</td>\n",
       "      <td>2020-08-14</td>\n",
       "      <td>S</td>\n",
       "      <td>PREZAO R$1,99 POR DIA</td>\n",
       "      <td>3GB Ilimitado</td>\n",
       "      <td>29,99</td>\n",
       "      <td>05,00 A 09,99</td>\n",
       "      <td>MAIOR 90 DIAS</td>\n",
       "      <td>MP</td>\n",
       "      <td>NaN</td>\n",
       "    </tr>\n",
       "    <tr>\n",
       "      <th>4729860</th>\n",
       "      <td>344899</td>\n",
       "      <td>20210901</td>\n",
       "      <td>10.00</td>\n",
       "      <td>31.89</td>\n",
       "      <td>NaN</td>\n",
       "      <td>S</td>\n",
       "      <td>PREZAO R$19,99 POR MES 3GB+3GB</td>\n",
       "      <td>PrezÃ£o 6GB</td>\n",
       "      <td>24,99</td>\n",
       "      <td>10,00 A 14,99</td>\n",
       "      <td>PREZAO 6GB</td>\n",
       "      <td>MP</td>\n",
       "      <td>NaN</td>\n",
       "    </tr>\n",
       "    <tr>\n",
       "      <th>710916</th>\n",
       "      <td>96567</td>\n",
       "      <td>20210501</td>\n",
       "      <td>10.00</td>\n",
       "      <td>269.14</td>\n",
       "      <td>2005-05-03</td>\n",
       "      <td>S</td>\n",
       "      <td>PREZAO R$9,99 POR SEMANA</td>\n",
       "      <td>3GB Ilimitado</td>\n",
       "      <td>29,99</td>\n",
       "      <td>10,00 A 14,99</td>\n",
       "      <td>MAIOR 90 DIAS</td>\n",
       "      <td>MP</td>\n",
       "      <td>NaN</td>\n",
       "    </tr>\n",
       "  </tbody>\n",
       "</table>\n",
       "</div>"
      ],
      "text/plain": [
       "         Unnamed: 0  cod_quinzena  soma_recarga  soma_mb_trafegado  \\\n",
       "3981615      614972      20210801          8.33            3455.83   \n",
       "3240023      722865      20210701         10.00               0.00   \n",
       "379387       379387      20210401          6.67               0.88   \n",
       "767541       153192      20210501         36.67            1178.02   \n",
       "7321815       66036      20211203          3.33               0.00   \n",
       "1957176      206302      20210601          6.67               0.58   \n",
       "792402       178053      20210501         20.00               0.00   \n",
       "6821520      549740      20211201          5.00            1192.49   \n",
       "4729860      344899      20210901         10.00              31.89   \n",
       "710916        96567      20210501         10.00             269.14   \n",
       "\n",
       "        dat_ativacao flag_utilizou_dados                plano_contratado  \\\n",
       "3981615   2020-05-01                   S      PREZAO R$14,99 2GB POR MES   \n",
       "3240023   2020-12-23                   S           PREZAO R$1,99 POR DIA   \n",
       "379387    2018-11-21                   S           PREZAO R$1,49 POR DIA   \n",
       "767541    2014-03-24                   S        PREZAO R$9,99 POR SEMANA   \n",
       "7321815   2012-04-05                   N  PREZAO R$19,99 POR MES 3GB+3GB   \n",
       "1957176   2020-07-03                   S      PREZAO R$14,99 2GB POR MES   \n",
       "792402    2020-07-07                   N  PREZAO R$19,99 POR MES 3GB+3GB   \n",
       "6821520   2020-08-14                   S           PREZAO R$1,99 POR DIA   \n",
       "4729860          NaN                   S  PREZAO R$19,99 POR MES 3GB+3GB   \n",
       "710916    2005-05-03                   S        PREZAO R$9,99 POR SEMANA   \n",
       "\n",
       "        ds_campo_variavel_3 ds_campo_variavel_4 ds_campo_variavel_5  \\\n",
       "3981615         PrezÃ£o 6GB               24,99       05,00 A 09,99   \n",
       "3240023       3GB Ilimitado               29,99       10,00 A 14,99   \n",
       "379387        3GB Ilimitado               29,99       05,00 A 09,99   \n",
       "767541        6GB Ilimitado               44,99       35,00 A 39,99   \n",
       "7321815         PrezÃ£o 6GB               24,99       00,00 A 04,99   \n",
       "1957176         PrezÃ£o 6GB               24,99       05,00 A 09,99   \n",
       "792402        3GB Ilimitado               29,99       20,00 A 24,99   \n",
       "6821520       3GB Ilimitado               29,99       05,00 A 09,99   \n",
       "4729860         PrezÃ£o 6GB               24,99       10,00 A 14,99   \n",
       "710916        3GB Ilimitado               29,99       10,00 A 14,99   \n",
       "\n",
       "              tipo_mailing marcacao_ai  venda  \n",
       "3981615         PREZAO 6GB          MP    NaN  \n",
       "3240023  MAIOR 90 DIAS ZB1          BP    NaN  \n",
       "379387   MAIOR 90 DIAS ZB1          MP    NaN  \n",
       "767541       MAIOR 90 DIAS          MP    NaN  \n",
       "7321815         PREZAO 6GB          MP    NaN  \n",
       "1957176     PREZAO 6GB ZB1          MP    NaN  \n",
       "792402       MAIOR 90 DIAS          MP    NaN  \n",
       "6821520      MAIOR 90 DIAS          MP    NaN  \n",
       "4729860         PREZAO 6GB          MP    NaN  \n",
       "710916       MAIOR 90 DIAS          MP    NaN  "
      ]
     },
     "execution_count": 7,
     "metadata": {},
     "output_type": "execute_result"
    }
   ],
   "source": [
    "# Ver os 5 dados aleatórios\n",
    "\n",
    "data_mailing.sample(10)"
   ]
  },
  {
   "cell_type": "markdown",
   "id": "surprised-supplement",
   "metadata": {},
   "source": [
    "# Verificar a Integridade dos Dados"
   ]
  },
  {
   "cell_type": "code",
   "execution_count": 8,
   "id": "eight-slide",
   "metadata": {},
   "outputs": [
    {
     "name": "stdout",
     "output_type": "stream",
     "text": [
      "<class 'pandas.core.frame.DataFrame'>\n",
      "RangeIndex: 7793124 entries, 0 to 7793123\n",
      "Data columns (total 13 columns):\n",
      " #   Column               Dtype  \n",
      "---  ------               -----  \n",
      " 0   Unnamed: 0           int64  \n",
      " 1   cod_quinzena         int64  \n",
      " 2   soma_recarga         float64\n",
      " 3   soma_mb_trafegado    float64\n",
      " 4   dat_ativacao         object \n",
      " 5   flag_utilizou_dados  object \n",
      " 6   plano_contratado     object \n",
      " 7   ds_campo_variavel_3  object \n",
      " 8   ds_campo_variavel_4  object \n",
      " 9   ds_campo_variavel_5  object \n",
      " 10  tipo_mailing         object \n",
      " 11  marcacao_ai          object \n",
      " 12  venda                float64\n",
      "dtypes: float64(3), int64(2), object(8)\n",
      "memory usage: 772.9+ MB\n"
     ]
    }
   ],
   "source": [
    "data_mailing.info()"
   ]
  },
  {
   "cell_type": "code",
   "execution_count": 31,
   "id": "front-arcade",
   "metadata": {
    "scrolled": false
   },
   "outputs": [
    {
     "data": {
      "text/plain": [
       "ds_campo_variavel_3    802198\n",
       "ds_campo_variavel_4    802198\n",
       "dat_ativacao           460820\n",
       "plano_contratado        18129\n",
       "soma_recarga                3\n",
       "marcacao_ai                 1\n",
       "cod_quinzena                0\n",
       "soma_mb_trafegado           0\n",
       "flag_utilizou_dados         0\n",
       "ds_campo_variavel_5         0\n",
       "tipo_mailing                0\n",
       "venda                       0\n",
       "dtype: int64"
      ]
     },
     "execution_count": 31,
     "metadata": {},
     "output_type": "execute_result"
    }
   ],
   "source": [
    "data_mailing.isnull().sum().sort_values(ascending=False).head(13)"
   ]
  },
  {
   "cell_type": "markdown",
   "id": "academic-provision",
   "metadata": {},
   "source": [
    "# Pré-Processamento"
   ]
  },
  {
   "cell_type": "code",
   "execution_count": 6,
   "id": "rubber-webmaster",
   "metadata": {},
   "outputs": [],
   "source": [
    "# Excluir colunas\n",
    "\n",
    "data_mailing.drop(columns=['Unnamed: 0'], inplace=True)"
   ]
  },
  {
   "cell_type": "code",
   "execution_count": 11,
   "id": "plastic-jacksonville",
   "metadata": {},
   "outputs": [
    {
     "data": {
      "text/html": [
       "<div>\n",
       "<style scoped>\n",
       "    .dataframe tbody tr th:only-of-type {\n",
       "        vertical-align: middle;\n",
       "    }\n",
       "\n",
       "    .dataframe tbody tr th {\n",
       "        vertical-align: top;\n",
       "    }\n",
       "\n",
       "    .dataframe thead th {\n",
       "        text-align: right;\n",
       "    }\n",
       "</style>\n",
       "<table border=\"1\" class=\"dataframe\">\n",
       "  <thead>\n",
       "    <tr style=\"text-align: right;\">\n",
       "      <th></th>\n",
       "      <th>cod_quinzena</th>\n",
       "      <th>soma_recarga</th>\n",
       "      <th>soma_mb_trafegado</th>\n",
       "      <th>dat_ativacao</th>\n",
       "      <th>flag_utilizou_dados</th>\n",
       "      <th>plano_contratado</th>\n",
       "      <th>ds_campo_variavel_3</th>\n",
       "      <th>ds_campo_variavel_4</th>\n",
       "      <th>ds_campo_variavel_5</th>\n",
       "      <th>tipo_mailing</th>\n",
       "      <th>marcacao_ai</th>\n",
       "      <th>venda</th>\n",
       "    </tr>\n",
       "  </thead>\n",
       "  <tbody>\n",
       "    <tr>\n",
       "      <th>0</th>\n",
       "      <td>20210401</td>\n",
       "      <td>30.00</td>\n",
       "      <td>6371.39</td>\n",
       "      <td>2020-08-07</td>\n",
       "      <td>S</td>\n",
       "      <td>PREZAO R$29,99 POR MES 3GB+3GB</td>\n",
       "      <td>4GB ilimitado</td>\n",
       "      <td>39.99</td>\n",
       "      <td>30,00 A 34,99</td>\n",
       "      <td>MPLAY NET</td>\n",
       "      <td>BP2</td>\n",
       "      <td>NaN</td>\n",
       "    </tr>\n",
       "    <tr>\n",
       "      <th>1</th>\n",
       "      <td>20210401</td>\n",
       "      <td>15.00</td>\n",
       "      <td>2.22</td>\n",
       "      <td>2020-06-10</td>\n",
       "      <td>S</td>\n",
       "      <td>PREZAO R$14,99 2GB POR MES</td>\n",
       "      <td>3GB ilimitado</td>\n",
       "      <td>29.99</td>\n",
       "      <td>15,00 A 19,99</td>\n",
       "      <td>MPLAY NET</td>\n",
       "      <td>BP</td>\n",
       "      <td>NaN</td>\n",
       "    </tr>\n",
       "    <tr>\n",
       "      <th>2</th>\n",
       "      <td>20210401</td>\n",
       "      <td>25.00</td>\n",
       "      <td>0.44</td>\n",
       "      <td>2020-03-16</td>\n",
       "      <td>S</td>\n",
       "      <td>PREZAO R$9,99 POR SEMANA 1GB+1GB+RENOVACAO</td>\n",
       "      <td>4GB ilimitado</td>\n",
       "      <td>39.99</td>\n",
       "      <td>25,00 A 29,99</td>\n",
       "      <td>MPLAY NET</td>\n",
       "      <td>BP2</td>\n",
       "      <td>NaN</td>\n",
       "    </tr>\n",
       "    <tr>\n",
       "      <th>3</th>\n",
       "      <td>20210401</td>\n",
       "      <td>41.67</td>\n",
       "      <td>8016.61</td>\n",
       "      <td>2019-10-24</td>\n",
       "      <td>S</td>\n",
       "      <td>PREZAO R$14,99 2GB POR MES</td>\n",
       "      <td>8GB ilimitado</td>\n",
       "      <td>41.99</td>\n",
       "      <td>40,00 A 44,99</td>\n",
       "      <td>MPLAY NET</td>\n",
       "      <td>BP2</td>\n",
       "      <td>NaN</td>\n",
       "    </tr>\n",
       "    <tr>\n",
       "      <th>4</th>\n",
       "      <td>20210401</td>\n",
       "      <td>8.33</td>\n",
       "      <td>149.68</td>\n",
       "      <td>2020-09-11</td>\n",
       "      <td>S</td>\n",
       "      <td>PREZAO R$1,99 POR DIA</td>\n",
       "      <td>3GB ilimitado</td>\n",
       "      <td>29.99</td>\n",
       "      <td>05,00 A 09,99</td>\n",
       "      <td>MPLAY NET</td>\n",
       "      <td>MP</td>\n",
       "      <td>NaN</td>\n",
       "    </tr>\n",
       "  </tbody>\n",
       "</table>\n",
       "</div>"
      ],
      "text/plain": [
       "   cod_quinzena  soma_recarga  soma_mb_trafegado dat_ativacao  \\\n",
       "0      20210401         30.00            6371.39   2020-08-07   \n",
       "1      20210401         15.00               2.22   2020-06-10   \n",
       "2      20210401         25.00               0.44   2020-03-16   \n",
       "3      20210401         41.67            8016.61   2019-10-24   \n",
       "4      20210401          8.33             149.68   2020-09-11   \n",
       "\n",
       "  flag_utilizou_dados                            plano_contratado  \\\n",
       "0                   S              PREZAO R$29,99 POR MES 3GB+3GB   \n",
       "1                   S                  PREZAO R$14,99 2GB POR MES   \n",
       "2                   S  PREZAO R$9,99 POR SEMANA 1GB+1GB+RENOVACAO   \n",
       "3                   S                  PREZAO R$14,99 2GB POR MES   \n",
       "4                   S                       PREZAO R$1,99 POR DIA   \n",
       "\n",
       "  ds_campo_variavel_3 ds_campo_variavel_4 ds_campo_variavel_5 tipo_mailing  \\\n",
       "0       4GB ilimitado               39.99       30,00 A 34,99    MPLAY NET   \n",
       "1       3GB ilimitado               29.99       15,00 A 19,99    MPLAY NET   \n",
       "2       4GB ilimitado               39.99       25,00 A 29,99    MPLAY NET   \n",
       "3       8GB ilimitado               41.99       40,00 A 44,99    MPLAY NET   \n",
       "4       3GB ilimitado               29.99       05,00 A 09,99    MPLAY NET   \n",
       "\n",
       "  marcacao_ai  venda  \n",
       "0         BP2    NaN  \n",
       "1          BP    NaN  \n",
       "2         BP2    NaN  \n",
       "3         BP2    NaN  \n",
       "4          MP    NaN  "
      ]
     },
     "execution_count": 11,
     "metadata": {},
     "output_type": "execute_result"
    }
   ],
   "source": [
    "data_mailing.head()"
   ]
  },
  {
   "cell_type": "code",
   "execution_count": 12,
   "id": "ancient-parade",
   "metadata": {},
   "outputs": [
    {
     "ename": "ValueError",
     "evalue": "could not convert string to float: '29,99'",
     "output_type": "error",
     "traceback": [
      "\u001b[1;31m---------------------------------------------------------------------------\u001b[0m",
      "\u001b[1;31mValueError\u001b[0m                                Traceback (most recent call last)",
      "\u001b[1;32m<ipython-input-12-4bc103df3b06>\u001b[0m in \u001b[0;36m<module>\u001b[1;34m\u001b[0m\n\u001b[1;32m----> 1\u001b[1;33m \u001b[0mdata_mailing\u001b[0m\u001b[1;33m[\u001b[0m\u001b[1;34m'ds_campo_variavel_4'\u001b[0m\u001b[1;33m]\u001b[0m \u001b[1;33m=\u001b[0m \u001b[0mdata_mailing\u001b[0m\u001b[1;33m[\u001b[0m\u001b[1;34m'ds_campo_variavel_4'\u001b[0m\u001b[1;33m]\u001b[0m\u001b[1;33m.\u001b[0m\u001b[0mastype\u001b[0m\u001b[1;33m(\u001b[0m\u001b[1;34m'float'\u001b[0m\u001b[1;33m)\u001b[0m\u001b[1;33m\u001b[0m\u001b[1;33m\u001b[0m\u001b[0m\n\u001b[0m",
      "\u001b[1;32mc:\\users\\vinicius.feitosa\\appdata\\local\\programs\\python\\python39\\lib\\site-packages\\pandas\\core\\generic.py\u001b[0m in \u001b[0;36mastype\u001b[1;34m(self, dtype, copy, errors)\u001b[0m\n\u001b[0;32m   5875\u001b[0m         \u001b[1;32melse\u001b[0m\u001b[1;33m:\u001b[0m\u001b[1;33m\u001b[0m\u001b[1;33m\u001b[0m\u001b[0m\n\u001b[0;32m   5876\u001b[0m             \u001b[1;31m# else, only a single dtype is given\u001b[0m\u001b[1;33m\u001b[0m\u001b[1;33m\u001b[0m\u001b[1;33m\u001b[0m\u001b[0m\n\u001b[1;32m-> 5877\u001b[1;33m             \u001b[0mnew_data\u001b[0m \u001b[1;33m=\u001b[0m \u001b[0mself\u001b[0m\u001b[1;33m.\u001b[0m\u001b[0m_mgr\u001b[0m\u001b[1;33m.\u001b[0m\u001b[0mastype\u001b[0m\u001b[1;33m(\u001b[0m\u001b[0mdtype\u001b[0m\u001b[1;33m=\u001b[0m\u001b[0mdtype\u001b[0m\u001b[1;33m,\u001b[0m \u001b[0mcopy\u001b[0m\u001b[1;33m=\u001b[0m\u001b[0mcopy\u001b[0m\u001b[1;33m,\u001b[0m \u001b[0merrors\u001b[0m\u001b[1;33m=\u001b[0m\u001b[0merrors\u001b[0m\u001b[1;33m)\u001b[0m\u001b[1;33m\u001b[0m\u001b[1;33m\u001b[0m\u001b[0m\n\u001b[0m\u001b[0;32m   5878\u001b[0m             \u001b[1;32mreturn\u001b[0m \u001b[0mself\u001b[0m\u001b[1;33m.\u001b[0m\u001b[0m_constructor\u001b[0m\u001b[1;33m(\u001b[0m\u001b[0mnew_data\u001b[0m\u001b[1;33m)\u001b[0m\u001b[1;33m.\u001b[0m\u001b[0m__finalize__\u001b[0m\u001b[1;33m(\u001b[0m\u001b[0mself\u001b[0m\u001b[1;33m,\u001b[0m \u001b[0mmethod\u001b[0m\u001b[1;33m=\u001b[0m\u001b[1;34m\"astype\"\u001b[0m\u001b[1;33m)\u001b[0m\u001b[1;33m\u001b[0m\u001b[1;33m\u001b[0m\u001b[0m\n\u001b[0;32m   5879\u001b[0m \u001b[1;33m\u001b[0m\u001b[0m\n",
      "\u001b[1;32mc:\\users\\vinicius.feitosa\\appdata\\local\\programs\\python\\python39\\lib\\site-packages\\pandas\\core\\internals\\managers.py\u001b[0m in \u001b[0;36mastype\u001b[1;34m(self, dtype, copy, errors)\u001b[0m\n\u001b[0;32m    629\u001b[0m         \u001b[0mself\u001b[0m\u001b[1;33m,\u001b[0m \u001b[0mdtype\u001b[0m\u001b[1;33m,\u001b[0m \u001b[0mcopy\u001b[0m\u001b[1;33m:\u001b[0m \u001b[0mbool\u001b[0m \u001b[1;33m=\u001b[0m \u001b[1;32mFalse\u001b[0m\u001b[1;33m,\u001b[0m \u001b[0merrors\u001b[0m\u001b[1;33m:\u001b[0m \u001b[0mstr\u001b[0m \u001b[1;33m=\u001b[0m \u001b[1;34m\"raise\"\u001b[0m\u001b[1;33m\u001b[0m\u001b[1;33m\u001b[0m\u001b[0m\n\u001b[0;32m    630\u001b[0m     ) -> \"BlockManager\":\n\u001b[1;32m--> 631\u001b[1;33m         \u001b[1;32mreturn\u001b[0m \u001b[0mself\u001b[0m\u001b[1;33m.\u001b[0m\u001b[0mapply\u001b[0m\u001b[1;33m(\u001b[0m\u001b[1;34m\"astype\"\u001b[0m\u001b[1;33m,\u001b[0m \u001b[0mdtype\u001b[0m\u001b[1;33m=\u001b[0m\u001b[0mdtype\u001b[0m\u001b[1;33m,\u001b[0m \u001b[0mcopy\u001b[0m\u001b[1;33m=\u001b[0m\u001b[0mcopy\u001b[0m\u001b[1;33m,\u001b[0m \u001b[0merrors\u001b[0m\u001b[1;33m=\u001b[0m\u001b[0merrors\u001b[0m\u001b[1;33m)\u001b[0m\u001b[1;33m\u001b[0m\u001b[1;33m\u001b[0m\u001b[0m\n\u001b[0m\u001b[0;32m    632\u001b[0m \u001b[1;33m\u001b[0m\u001b[0m\n\u001b[0;32m    633\u001b[0m     def convert(\n",
      "\u001b[1;32mc:\\users\\vinicius.feitosa\\appdata\\local\\programs\\python\\python39\\lib\\site-packages\\pandas\\core\\internals\\managers.py\u001b[0m in \u001b[0;36mapply\u001b[1;34m(self, f, align_keys, ignore_failures, **kwargs)\u001b[0m\n\u001b[0;32m    425\u001b[0m                     \u001b[0mapplied\u001b[0m \u001b[1;33m=\u001b[0m \u001b[0mb\u001b[0m\u001b[1;33m.\u001b[0m\u001b[0mapply\u001b[0m\u001b[1;33m(\u001b[0m\u001b[0mf\u001b[0m\u001b[1;33m,\u001b[0m \u001b[1;33m**\u001b[0m\u001b[0mkwargs\u001b[0m\u001b[1;33m)\u001b[0m\u001b[1;33m\u001b[0m\u001b[1;33m\u001b[0m\u001b[0m\n\u001b[0;32m    426\u001b[0m                 \u001b[1;32melse\u001b[0m\u001b[1;33m:\u001b[0m\u001b[1;33m\u001b[0m\u001b[1;33m\u001b[0m\u001b[0m\n\u001b[1;32m--> 427\u001b[1;33m                     \u001b[0mapplied\u001b[0m \u001b[1;33m=\u001b[0m \u001b[0mgetattr\u001b[0m\u001b[1;33m(\u001b[0m\u001b[0mb\u001b[0m\u001b[1;33m,\u001b[0m \u001b[0mf\u001b[0m\u001b[1;33m)\u001b[0m\u001b[1;33m(\u001b[0m\u001b[1;33m**\u001b[0m\u001b[0mkwargs\u001b[0m\u001b[1;33m)\u001b[0m\u001b[1;33m\u001b[0m\u001b[1;33m\u001b[0m\u001b[0m\n\u001b[0m\u001b[0;32m    428\u001b[0m             \u001b[1;32mexcept\u001b[0m \u001b[1;33m(\u001b[0m\u001b[0mTypeError\u001b[0m\u001b[1;33m,\u001b[0m \u001b[0mNotImplementedError\u001b[0m\u001b[1;33m)\u001b[0m\u001b[1;33m:\u001b[0m\u001b[1;33m\u001b[0m\u001b[1;33m\u001b[0m\u001b[0m\n\u001b[0;32m    429\u001b[0m                 \u001b[1;32mif\u001b[0m \u001b[1;32mnot\u001b[0m \u001b[0mignore_failures\u001b[0m\u001b[1;33m:\u001b[0m\u001b[1;33m\u001b[0m\u001b[1;33m\u001b[0m\u001b[0m\n",
      "\u001b[1;32mc:\\users\\vinicius.feitosa\\appdata\\local\\programs\\python\\python39\\lib\\site-packages\\pandas\\core\\internals\\blocks.py\u001b[0m in \u001b[0;36mastype\u001b[1;34m(self, dtype, copy, errors)\u001b[0m\n\u001b[0;32m    671\u001b[0m             \u001b[0mvals1d\u001b[0m \u001b[1;33m=\u001b[0m \u001b[0mvalues\u001b[0m\u001b[1;33m.\u001b[0m\u001b[0mravel\u001b[0m\u001b[1;33m(\u001b[0m\u001b[1;33m)\u001b[0m\u001b[1;33m\u001b[0m\u001b[1;33m\u001b[0m\u001b[0m\n\u001b[0;32m    672\u001b[0m             \u001b[1;32mtry\u001b[0m\u001b[1;33m:\u001b[0m\u001b[1;33m\u001b[0m\u001b[1;33m\u001b[0m\u001b[0m\n\u001b[1;32m--> 673\u001b[1;33m                 \u001b[0mvalues\u001b[0m \u001b[1;33m=\u001b[0m \u001b[0mastype_nansafe\u001b[0m\u001b[1;33m(\u001b[0m\u001b[0mvals1d\u001b[0m\u001b[1;33m,\u001b[0m \u001b[0mdtype\u001b[0m\u001b[1;33m,\u001b[0m \u001b[0mcopy\u001b[0m\u001b[1;33m=\u001b[0m\u001b[1;32mTrue\u001b[0m\u001b[1;33m)\u001b[0m\u001b[1;33m\u001b[0m\u001b[1;33m\u001b[0m\u001b[0m\n\u001b[0m\u001b[0;32m    674\u001b[0m             \u001b[1;32mexcept\u001b[0m \u001b[1;33m(\u001b[0m\u001b[0mValueError\u001b[0m\u001b[1;33m,\u001b[0m \u001b[0mTypeError\u001b[0m\u001b[1;33m)\u001b[0m\u001b[1;33m:\u001b[0m\u001b[1;33m\u001b[0m\u001b[1;33m\u001b[0m\u001b[0m\n\u001b[0;32m    675\u001b[0m                 \u001b[1;31m# e.g. astype_nansafe can fail on object-dtype of strings\u001b[0m\u001b[1;33m\u001b[0m\u001b[1;33m\u001b[0m\u001b[1;33m\u001b[0m\u001b[0m\n",
      "\u001b[1;32mc:\\users\\vinicius.feitosa\\appdata\\local\\programs\\python\\python39\\lib\\site-packages\\pandas\\core\\dtypes\\cast.py\u001b[0m in \u001b[0;36mastype_nansafe\u001b[1;34m(arr, dtype, copy, skipna)\u001b[0m\n\u001b[0;32m   1095\u001b[0m     \u001b[1;32mif\u001b[0m \u001b[0mcopy\u001b[0m \u001b[1;32mor\u001b[0m \u001b[0mis_object_dtype\u001b[0m\u001b[1;33m(\u001b[0m\u001b[0marr\u001b[0m\u001b[1;33m)\u001b[0m \u001b[1;32mor\u001b[0m \u001b[0mis_object_dtype\u001b[0m\u001b[1;33m(\u001b[0m\u001b[0mdtype\u001b[0m\u001b[1;33m)\u001b[0m\u001b[1;33m:\u001b[0m\u001b[1;33m\u001b[0m\u001b[1;33m\u001b[0m\u001b[0m\n\u001b[0;32m   1096\u001b[0m         \u001b[1;31m# Explicit copy, or required since NumPy can't view from / to object.\u001b[0m\u001b[1;33m\u001b[0m\u001b[1;33m\u001b[0m\u001b[1;33m\u001b[0m\u001b[0m\n\u001b[1;32m-> 1097\u001b[1;33m         \u001b[1;32mreturn\u001b[0m \u001b[0marr\u001b[0m\u001b[1;33m.\u001b[0m\u001b[0mastype\u001b[0m\u001b[1;33m(\u001b[0m\u001b[0mdtype\u001b[0m\u001b[1;33m,\u001b[0m \u001b[0mcopy\u001b[0m\u001b[1;33m=\u001b[0m\u001b[1;32mTrue\u001b[0m\u001b[1;33m)\u001b[0m\u001b[1;33m\u001b[0m\u001b[1;33m\u001b[0m\u001b[0m\n\u001b[0m\u001b[0;32m   1098\u001b[0m \u001b[1;33m\u001b[0m\u001b[0m\n\u001b[0;32m   1099\u001b[0m     \u001b[1;32mreturn\u001b[0m \u001b[0marr\u001b[0m\u001b[1;33m.\u001b[0m\u001b[0mview\u001b[0m\u001b[1;33m(\u001b[0m\u001b[0mdtype\u001b[0m\u001b[1;33m)\u001b[0m\u001b[1;33m\u001b[0m\u001b[1;33m\u001b[0m\u001b[0m\n",
      "\u001b[1;31mValueError\u001b[0m: could not convert string to float: '29,99'"
     ]
    }
   ],
   "source": [
    "data_mailing['ds_campo_variavel_4'] = data_mailing['ds_campo_variavel_4'].astype('float')"
   ]
  },
  {
   "cell_type": "code",
   "execution_count": 22,
   "id": "decreased-pressing",
   "metadata": {},
   "outputs": [
    {
     "data": {
      "text/plain": [
       "29.99    3823176\n",
       "24.99    1695207\n",
       "NaN       802198\n",
       "39.99     671562\n",
       "49.99     323099\n",
       "34.99     252827\n",
       "64.99      86906\n",
       "44.99      76588\n",
       "54.99      38789\n",
       "41.99      18353\n",
       "55.99       4419\n",
       "Name: ds_campo_variavel_4, dtype: int64"
      ]
     },
     "execution_count": 22,
     "metadata": {},
     "output_type": "execute_result"
    }
   ],
   "source": [
    "# ver a quantidade de cada valor da variavel ds_campo_variavel_4\n",
    "\n",
    "data_mailing['ds_campo_variavel_4'].value_counts(dropna=False)"
   ]
  },
  {
   "cell_type": "code",
   "execution_count": 16,
   "id": "brilliant-kenya",
   "metadata": {},
   "outputs": [],
   "source": [
    "# Trocar , por . na coluna ds_campo_variavel_4\n",
    "data_mailing['ds_campo_variavel_4'].replace(',' , '.', inplace=True)"
   ]
  },
  {
   "cell_type": "code",
   "execution_count": 21,
   "id": "armed-representation",
   "metadata": {},
   "outputs": [],
   "source": [
    "data_mailing['ds_campo_variavel_4'].replace(',' , '.', regex=True, inplace=True)"
   ]
  },
  {
   "cell_type": "code",
   "execution_count": 23,
   "id": "heard-trust",
   "metadata": {},
   "outputs": [],
   "source": [
    "# transformar a variavel ds_campo_variavel_4 de string para float\n",
    "\n",
    "data_mailing['ds_campo_variavel_4'] = data_mailing['ds_campo_variavel_4'].astype('float')"
   ]
  },
  {
   "cell_type": "code",
   "execution_count": 57,
   "id": "consolidated-blind",
   "metadata": {},
   "outputs": [
    {
     "data": {
      "text/plain": [
       "29.99    3823176\n",
       "24.99    1695207\n",
       "NaN       802198\n",
       "39.99     671562\n",
       "49.99     323099\n",
       "          ...   \n",
       "64.99      86906\n",
       "44.99      76588\n",
       "54.99      38789\n",
       "41.99      18353\n",
       "55.99       4419\n",
       "Name: ds_campo_variavel_4, Length: 11, dtype: int64"
      ]
     },
     "execution_count": 57,
     "metadata": {},
     "output_type": "execute_result"
    }
   ],
   "source": [
    "# ver a quantidade de cada valor da variavel ds_campo_variavel_4\n",
    "\n",
    "data_mailing['ds_campo_variavel_4'].value_counts(dropna=False)"
   ]
  },
  {
   "cell_type": "code",
   "execution_count": 58,
   "id": "affected-toddler",
   "metadata": {},
   "outputs": [
    {
     "data": {
      "text/plain": [
       "29.99    49.058324\n",
       "24.99    21.752599\n",
       "NaN      10.293664\n",
       "39.99     8.617366\n",
       "49.99     4.145950\n",
       "           ...    \n",
       "64.99     1.115163\n",
       "44.99     0.982764\n",
       "54.99     0.497734\n",
       "41.99     0.235502\n",
       "55.99     0.056704\n",
       "Name: ds_campo_variavel_4, Length: 11, dtype: float64"
      ]
     },
     "execution_count": 58,
     "metadata": {},
     "output_type": "execute_result"
    }
   ],
   "source": [
    "# ver a porcentagem de cada valor da variavel ds_campo_variavel_4\n",
    "\n",
    "data_mailing['ds_campo_variavel_4'].value_counts('mean', dropna=False)*100"
   ]
  },
  {
   "cell_type": "markdown",
   "id": "optional-papua",
   "metadata": {},
   "source": [
    "## Substituir os valores nulos de colunas numéricas"
   ]
  },
  {
   "cell_type": "markdown",
   "id": "underlying-order",
   "metadata": {},
   "source": [
    "### Para coluna soma_mb_trafegado, vamos substituir os valores nulos pela média ou mediana?"
   ]
  },
  {
   "cell_type": "code",
   "execution_count": 27,
   "id": "recent-computer",
   "metadata": {},
   "outputs": [
    {
     "data": {
      "text/plain": [
       "166.16"
      ]
     },
     "execution_count": 27,
     "metadata": {},
     "output_type": "execute_result"
    }
   ],
   "source": [
    "data_mailing['soma_mb_trafegado'].median()"
   ]
  },
  {
   "cell_type": "code",
   "execution_count": 28,
   "id": "legal-portugal",
   "metadata": {},
   "outputs": [],
   "source": [
    "# Substituir os valores pela média\n",
    "\n",
    "data_mailing['soma_mb_trafegado'].fillna(data_mailing['soma_mb_trafegado'].mean(), inplace=True)"
   ]
  },
  {
   "cell_type": "code",
   "execution_count": null,
   "id": "casual-croatia",
   "metadata": {},
   "outputs": [],
   "source": [
    "# Substituir os valores pela mediana\n",
    "\n",
    "data_mailing['soma_mb_trafegado'].fillna(data_mailing['soma_mb_trafegado'].median(), inplace=True)"
   ]
  },
  {
   "cell_type": "markdown",
   "id": "absolute-poverty",
   "metadata": {},
   "source": [
    "### Preencher coluna Venda"
   ]
  },
  {
   "cell_type": "code",
   "execution_count": 30,
   "id": "horizontal-principle",
   "metadata": {},
   "outputs": [],
   "source": [
    "# Substituir os valores por 0\n",
    "\n",
    "data_mailing['venda'].fillna(0, inplace=True)"
   ]
  },
  {
   "cell_type": "markdown",
   "id": "contrary-kruger",
   "metadata": {},
   "source": [
    "### Excluir os Valores nulos"
   ]
  },
  {
   "cell_type": "code",
   "execution_count": 32,
   "id": "strange-providence",
   "metadata": {},
   "outputs": [],
   "source": [
    "# Excluir os Valores nulos\n",
    "\n",
    "data_mailing.dropna(subset=['soma_recarga'], inplace=True)"
   ]
  },
  {
   "cell_type": "markdown",
   "id": "indoor-companion",
   "metadata": {},
   "source": [
    "## Substituir os valores nulos de colunas categóricas"
   ]
  },
  {
   "cell_type": "code",
   "execution_count": 35,
   "id": "acquired-maximum",
   "metadata": {},
   "outputs": [
    {
     "data": {
      "text/plain": [
       "3GB Ilimitado     41.753015\n",
       "PrezÃ£o 6GB       21.752607\n",
       "NaN               10.293655\n",
       "4GB Ilimitado      8.087312\n",
       "3GB ilimitado      4.142217\n",
       "PrezÃ£o 13GB       3.163084\n",
       "6GB Ilimitado      3.159504\n",
       "PrezÃ£o 4GB        3.127130\n",
       "8GB Ilimitado      2.466945\n",
       "10GB Ilimitado     1.115163\n",
       "4GB ilimitado      0.530057\n",
       "8GB ilimitado      0.235503\n",
       "6GB ilimitado      0.117103\n",
       "10GB ilimitado     0.056704\n",
       "Name: ds_campo_variavel_3, dtype: float64"
      ]
     },
     "execution_count": 35,
     "metadata": {},
     "output_type": "execute_result"
    }
   ],
   "source": [
    "data_mailing['ds_campo_variavel_3'].value_counts('mean', dropna=False)*100"
   ]
  },
  {
   "cell_type": "code",
   "execution_count": null,
   "id": "excess-circular",
   "metadata": {},
   "outputs": [],
   "source": [
    "# Substituir os valores pela média\n",
    "\n",
    "data_mailing['ds_campo_variavel_3'].fillna(data_mailing['ds_campo_variavel_3'].mode(), inplace=True)"
   ]
  },
  {
   "cell_type": "markdown",
   "id": "false-hormone",
   "metadata": {},
   "source": [
    "# Outliers !"
   ]
  },
  {
   "cell_type": "code",
   "execution_count": 40,
   "id": "prescription-violin",
   "metadata": {},
   "outputs": [
    {
     "data": {
      "image/png": "[encoded data removed]",
      "text/plain": [
       "<Figure size 1080x720 with 6 Axes>"
      ]
     },
     "metadata": {
      "needs_background": "light"
     },
     "output_type": "display_data"
    }
   ],
   "source": [
    "# plotar histograma\n",
    "\n",
    "data_mailing.hist(bins=15, figsize=(15,10));"
   ]
  },
  {
   "cell_type": "code",
   "execution_count": 315,
   "id": "stone-thesaurus",
   "metadata": {},
   "outputs": [
    {
     "data": {
      "text/html": [
       "<div>\n",
       "<style scoped>\n",
       "    .dataframe tbody tr th:only-of-type {\n",
       "        vertical-align: middle;\n",
       "    }\n",
       "\n",
       "    .dataframe tbody tr th {\n",
       "        vertical-align: top;\n",
       "    }\n",
       "\n",
       "    .dataframe thead th {\n",
       "        text-align: right;\n",
       "    }\n",
       "</style>\n",
       "<table border=\"1\" class=\"dataframe\">\n",
       "  <thead>\n",
       "    <tr style=\"text-align: right;\">\n",
       "      <th></th>\n",
       "      <th>cod_quinzena</th>\n",
       "      <th>soma_recarga</th>\n",
       "      <th>soma_mb_trafegado</th>\n",
       "      <th>ds_campo_variavel_4</th>\n",
       "      <th>venda</th>\n",
       "      <th>periodo_linha</th>\n",
       "    </tr>\n",
       "  </thead>\n",
       "  <tbody>\n",
       "    <tr>\n",
       "      <th>count</th>\n",
       "      <td>7.793124e+06</td>\n",
       "      <td>7.793121e+06</td>\n",
       "      <td>7.793121e+06</td>\n",
       "      <td>6.990926e+06</td>\n",
       "      <td>124925.0</td>\n",
       "      <td>7.332304e+06</td>\n",
       "    </tr>\n",
       "    <tr>\n",
       "      <th>mean</th>\n",
       "      <td>2.021081e+07</td>\n",
       "      <td>1.557442e+01</td>\n",
       "      <td>1.750219e+03</td>\n",
       "      <td>3.162942e+01</td>\n",
       "      <td>1.0</td>\n",
       "      <td>1.206334e+03</td>\n",
       "    </tr>\n",
       "    <tr>\n",
       "      <th>std</th>\n",
       "      <td>2.606605e+02</td>\n",
       "      <td>1.227516e+01</td>\n",
       "      <td>3.705810e+03</td>\n",
       "      <td>7.371427e+00</td>\n",
       "      <td>0.0</td>\n",
       "      <td>1.438905e+03</td>\n",
       "    </tr>\n",
       "    <tr>\n",
       "      <th>min</th>\n",
       "      <td>2.021040e+07</td>\n",
       "      <td>0.000000e+00</td>\n",
       "      <td>0.000000e+00</td>\n",
       "      <td>2.499000e+01</td>\n",
       "      <td>1.0</td>\n",
       "      <td>-2.250000e+02</td>\n",
       "    </tr>\n",
       "    <tr>\n",
       "      <th>25%</th>\n",
       "      <td>2.021060e+07</td>\n",
       "      <td>6.670000e+00</td>\n",
       "      <td>1.000000e-02</td>\n",
       "      <td>2.999000e+01</td>\n",
       "      <td>1.0</td>\n",
       "      <td>1.730000e+02</td>\n",
       "    </tr>\n",
       "    <tr>\n",
       "      <th>50%</th>\n",
       "      <td>2.021080e+07</td>\n",
       "      <td>1.333000e+01</td>\n",
       "      <td>1.661600e+02</td>\n",
       "      <td>2.999000e+01</td>\n",
       "      <td>1.0</td>\n",
       "      <td>5.880000e+02</td>\n",
       "    </tr>\n",
       "    <tr>\n",
       "      <th>75%</th>\n",
       "      <td>2.021100e+07</td>\n",
       "      <td>2.000000e+01</td>\n",
       "      <td>1.672430e+03</td>\n",
       "      <td>2.999000e+01</td>\n",
       "      <td>1.0</td>\n",
       "      <td>1.920000e+03</td>\n",
       "    </tr>\n",
       "    <tr>\n",
       "      <th>max</th>\n",
       "      <td>2.021120e+07</td>\n",
       "      <td>6.667000e+01</td>\n",
       "      <td>2.371333e+05</td>\n",
       "      <td>6.499000e+01</td>\n",
       "      <td>1.0</td>\n",
       "      <td>6.380000e+03</td>\n",
       "    </tr>\n",
       "  </tbody>\n",
       "</table>\n",
       "</div>"
      ],
      "text/plain": [
       "       cod_quinzena  soma_recarga  soma_mb_trafegado  ds_campo_variavel_4  \\\n",
       "count  7.793124e+06  7.793121e+06       7.793121e+06         6.990926e+06   \n",
       "mean   2.021081e+07  1.557442e+01       1.750219e+03         3.162942e+01   \n",
       "std    2.606605e+02  1.227516e+01       3.705810e+03         7.371427e+00   \n",
       "min    2.021040e+07  0.000000e+00       0.000000e+00         2.499000e+01   \n",
       "25%    2.021060e+07  6.670000e+00       1.000000e-02         2.999000e+01   \n",
       "50%    2.021080e+07  1.333000e+01       1.661600e+02         2.999000e+01   \n",
       "75%    2.021100e+07  2.000000e+01       1.672430e+03         2.999000e+01   \n",
       "max    2.021120e+07  6.667000e+01       2.371333e+05         6.499000e+01   \n",
       "\n",
       "          venda  periodo_linha  \n",
       "count  124925.0   7.332304e+06  \n",
       "mean        1.0   1.206334e+03  \n",
       "std         0.0   1.438905e+03  \n",
       "min         1.0  -2.250000e+02  \n",
       "25%         1.0   1.730000e+02  \n",
       "50%         1.0   5.880000e+02  \n",
       "75%         1.0   1.920000e+03  \n",
       "max         1.0   6.380000e+03  "
      ]
     },
     "execution_count": 315,
     "metadata": {},
     "output_type": "execute_result"
    }
   ],
   "source": [
    "data_mailing.describe()"
   ]
  },
  {
   "cell_type": "code",
   "execution_count": 41,
   "id": "anonymous-portuguese",
   "metadata": {},
   "outputs": [
    {
     "data": {
      "text/plain": [
       "1750.2187817653537"
      ]
     },
     "execution_count": 41,
     "metadata": {},
     "output_type": "execute_result"
    }
   ],
   "source": [
    "data_mailing['soma_mb_trafegado'].mean()"
   ]
  },
  {
   "cell_type": "code",
   "execution_count": 42,
   "id": "activated-format",
   "metadata": {},
   "outputs": [
    {
     "data": {
      "text/plain": [
       "166.16"
      ]
     },
     "execution_count": 42,
     "metadata": {},
     "output_type": "execute_result"
    }
   ],
   "source": [
    "data_mailing['soma_mb_trafegado'].median()"
   ]
  },
  {
   "cell_type": "markdown",
   "id": "integral-folder",
   "metadata": {},
   "source": [
    "## soma_recarga"
   ]
  },
  {
   "cell_type": "code",
   "execution_count": 93,
   "id": "crucial-device",
   "metadata": {},
   "outputs": [
    {
     "name": "stdout",
     "output_type": "stream",
     "text": [
      "Iqr da variável soma_recarga:  13.33\n",
      "Limite Superior de atributo:  39.995000000000005\n",
      "Limite Inferior de atributo:  -13.325000000000001\n"
     ]
    }
   ],
   "source": [
    "# Verificar o limite inferior e superior\n",
    "\n",
    "q1_linha = data_mailing.soma_recarga.quantile(.25)\n",
    "q3_linha = data_mailing.soma_recarga.quantile(.75)\n",
    "Iqr_linha = q3_linha - q1_linha\n",
    "sup_linha = q3_linha + 1.5*Iqr_linha\n",
    "inf_linha = q1_linha - 1.5*Iqr_linha\n",
    "\n",
    "print(\"Iqr da variável soma_recarga: \", Iqr_linha)\n",
    "print(\"Limite Superior de atributo: \", sup_linha)\n",
    "print(\"Limite Inferior de atributo: \", inf_linha)"
   ]
  },
  {
   "cell_type": "code",
   "execution_count": 92,
   "id": "shaped-investment",
   "metadata": {},
   "outputs": [
    {
     "data": {
      "image/png": "[encoded data removed]",
      "text/plain": [
       "<Figure size 1080x216 with 1 Axes>"
      ]
     },
     "metadata": {
      "needs_background": "light"
     },
     "output_type": "display_data"
    },
    {
     "name": "stdout",
     "output_type": "stream",
     "text": [
      "soma_recarga: valores acima de 39.9:\n",
      "Entradas: 538176\n",
      "Porcentagem: 6.9058%\n"
     ]
    }
   ],
   "source": [
    "# boxplot\n",
    "\n",
    "data_mailing.soma_recarga.plot(kind='box', vert=False, figsize=(15, 3))\n",
    "plt.show()\n",
    "\n",
    "# Ver quantidade de valores \n",
    "print(\"soma_recarga: valores acima de 39.9:\")\n",
    "print(\"Entradas: {}\".format(len(data_mailing[data_mailing.soma_recarga>39.9])))\n",
    "print(\"Porcentagem: {:.4f}%\".format((len(data_mailing[data_mailing.soma_recarga>39.9]) / data_mailing.shape[0])*100))"
   ]
  },
  {
   "cell_type": "markdown",
   "id": "opposed-information",
   "metadata": {},
   "source": [
    "## soma_mb_trafegado"
   ]
  },
  {
   "cell_type": "code",
   "execution_count": 94,
   "id": "mental-initial",
   "metadata": {},
   "outputs": [
    {
     "name": "stdout",
     "output_type": "stream",
     "text": [
      "Iqr da variável soma_mb_trafegado:  1672.42\n",
      "Limite Superior de atributo:  4181.06\n",
      "Limite Inferior de atributo:  -2508.62\n"
     ]
    }
   ],
   "source": [
    "# Verificar o limite inferior e superior \n",
    "\n",
    "q1_soma = data_mailing.soma_mb_trafegado.quantile(.25)\n",
    "q3_soma = data_mailing.soma_mb_trafegado.quantile(.75)\n",
    "Iqr_soma = q3_soma - q1_soma\n",
    "sup_soma = q3_soma + 1.5*Iqr_soma\n",
    "inf_soma = q1_soma - 1.5*Iqr_soma\n",
    "\n",
    "print(\"Iqr da variável soma_mb_trafegado: \", Iqr_soma)\n",
    "print(\"Limite Superior de atributo: \", sup_soma)\n",
    "print(\"Limite Inferior de atributo: \", inf_soma)"
   ]
  },
  {
   "cell_type": "code",
   "execution_count": 278,
   "id": "confidential-delivery",
   "metadata": {},
   "outputs": [
    {
     "data": {
      "image/png": "[encoded data removed]",
      "text/plain": [
       "<Figure size 1080x216 with 1 Axes>"
      ]
     },
     "metadata": {
      "needs_background": "light"
     },
     "output_type": "display_data"
    },
    {
     "name": "stdout",
     "output_type": "stream",
     "text": [
      "soma_mb_trafegado: valores acima de 4181.06:\n",
      "Entradas: 1072320\n",
      "Porcentagem: 13.7598%\n"
     ]
    }
   ],
   "source": [
    "# boxplot\n",
    "\n",
    "data_mailing.soma_mb_trafegado.plot(kind='box', vert=False, figsize=(15, 3))\n",
    "plt.show()\n",
    "\n",
    "# Ver quantidade de valores \n",
    "print(\"soma_mb_trafegado: valores acima de 4181.06:\")\n",
    "print(\"Entradas: {}\".format(len(data_mailing[data_mailing.soma_mb_trafegado>4181.06])))\n",
    "print(\"Porcentagem: {:.4f}%\".format((len(data_mailing[data_mailing.soma_mb_trafegado>4181.06]) / data_mailing.shape[0])*100))"
   ]
  },
  {
   "cell_type": "code",
   "execution_count": 97,
   "id": "opposed-island",
   "metadata": {},
   "outputs": [
    {
     "data": {
      "text/plain": [
       "166.16"
      ]
     },
     "execution_count": 97,
     "metadata": {},
     "output_type": "execute_result"
    }
   ],
   "source": [
    "data_mailing.soma_mb_trafegado.median()"
   ]
  },
  {
   "cell_type": "code",
   "execution_count": 98,
   "id": "unauthorized-context",
   "metadata": {},
   "outputs": [
    {
     "data": {
      "text/plain": [
       "1750.2187817653537"
      ]
     },
     "execution_count": 98,
     "metadata": {},
     "output_type": "execute_result"
    }
   ],
   "source": [
    "data_mailing.soma_mb_trafegado.mean()"
   ]
  },
  {
   "cell_type": "code",
   "execution_count": 99,
   "id": "capital-terrorism",
   "metadata": {},
   "outputs": [],
   "source": [
    "# Excluir os outliers\n",
    "\n",
    "## data_mailing.drop(data_mailing[data_mailing['soma_mb_trafegado'] >4181].index, inplace=True)"
   ]
  }
 ],
 "metadata": {
  "kernelspec": {
   "display_name": "Python 3",
   "language": "python",
   "name": "python3"
  },
  "language_info": {
   "codemirror_mode": {
    "name": "ipython",
    "version": 3
   },
   "file_extension": ".py",
   "mimetype": "text/x-python",
   "name": "python",
   "nbconvert_exporter": "python",
   "pygments_lexer": "ipython3",
   "version": "3.9.2"
  }
 },
 "nbformat": 4,
 "nbformat_minor": 5
}
