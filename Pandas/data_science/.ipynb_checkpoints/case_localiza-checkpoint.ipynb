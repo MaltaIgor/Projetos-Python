{
 "cells": [
  {
   "cell_type": "markdown",
   "id": "0c490135",
   "metadata": {},
   "source": [
    "# Importação das Bibliotecas"
   ]
  },
  {
   "cell_type": "code",
   "execution_count": 1,
   "id": "f99358ba",
   "metadata": {},
   "outputs": [],
   "source": [
    "from datetime import datetime\n",
    "import statistics\n",
    "import matplotlib.pyplot as plt\n",
    "import pandas as pd\n",
    "import numpy as np\n",
    "from sklearn.preprocessing import MinMaxScaler, LabelEncoder\n",
    "from sklearn.model_selection import train_test_split\n",
    "from sklearn.metrics import confusion_matrix\n",
    "from sklearn.ensemble import RandomForestClassifier"
   ]
  },
  {
   "cell_type": "markdown",
   "id": "69c24838",
   "metadata": {},
   "source": [
    "# Importação dos Dados"
   ]
  },
  {
   "cell_type": "code",
   "execution_count": 2,
   "id": "0a4a8e7e",
   "metadata": {},
   "outputs": [],
   "source": [
    "clientes = pd.read_csv(r'C:\\Users\\igor.malta\\Downloads\\case_localiza\\base_clientes.csv',  delimiter = \";\")\n",
    "contratos = pd.read_csv(r'C:\\Users\\igor.malta\\Downloads\\case_localiza\\base_contratos.csv',  delimiter = \";\")"
   ]
  },
  {
   "cell_type": "markdown",
   "id": "85f9bacf",
   "metadata": {},
   "source": [
    "# Limpeza dos dados"
   ]
  },
  {
   "cell_type": "markdown",
   "id": "349363e1",
   "metadata": {},
   "source": [
    "### Ao realizar a importação, são boas praticas realizar a conferencia dos primeiros e dos ultimos registros para avaliar se os dados estão corretos, com a separação de colunas e a encodificação corretas, assim como a estrutura do dataframe e suas informações."
   ]
  },
  {
   "cell_type": "code",
   "execution_count": 3,
   "id": "c351a532",
   "metadata": {},
   "outputs": [
    {
     "data": {
      "text/html": [
       "<div>\n",
       "<style scoped>\n",
       "    .dataframe tbody tr th:only-of-type {\n",
       "        vertical-align: middle;\n",
       "    }\n",
       "\n",
       "    .dataframe tbody tr th {\n",
       "        vertical-align: top;\n",
       "    }\n",
       "\n",
       "    .dataframe thead th {\n",
       "        text-align: right;\n",
       "    }\n",
       "</style>\n",
       "<table border=\"1\" class=\"dataframe\">\n",
       "  <thead>\n",
       "    <tr style=\"text-align: right;\">\n",
       "      <th></th>\n",
       "      <th>cd_cliente</th>\n",
       "      <th>nome_cliente</th>\n",
       "      <th>aquisição_cliente</th>\n",
       "    </tr>\n",
       "  </thead>\n",
       "  <tbody>\n",
       "    <tr>\n",
       "      <th>0</th>\n",
       "      <td>1</td>\n",
       "      <td>Rosa</td>\n",
       "      <td>Organic</td>\n",
       "    </tr>\n",
       "    <tr>\n",
       "      <th>1</th>\n",
       "      <td>2</td>\n",
       "      <td>Joaquim</td>\n",
       "      <td>Social Media</td>\n",
       "    </tr>\n",
       "    <tr>\n",
       "      <th>2</th>\n",
       "      <td>3</td>\n",
       "      <td>Antônio</td>\n",
       "      <td>Direct</td>\n",
       "    </tr>\n",
       "    <tr>\n",
       "      <th>3</th>\n",
       "      <td>4</td>\n",
       "      <td>Pedro</td>\n",
       "      <td>Google Ads - Search</td>\n",
       "    </tr>\n",
       "    <tr>\n",
       "      <th>4</th>\n",
       "      <td>5</td>\n",
       "      <td>Josefa</td>\n",
       "      <td>Referral</td>\n",
       "    </tr>\n",
       "  </tbody>\n",
       "</table>\n",
       "</div>"
      ],
      "text/plain": [
       "   cd_cliente nome_cliente    aquisição_cliente\n",
       "0           1         Rosa              Organic\n",
       "1           2      Joaquim         Social Media\n",
       "2           3      Antônio               Direct\n",
       "3           4        Pedro  Google Ads - Search\n",
       "4           5       Josefa             Referral"
      ]
     },
     "execution_count": 3,
     "metadata": {},
     "output_type": "execute_result"
    }
   ],
   "source": [
    "clientes.head()"
   ]
  },
  {
   "cell_type": "code",
   "execution_count": 4,
   "id": "75ffe6dd",
   "metadata": {},
   "outputs": [
    {
     "data": {
      "text/html": [
       "<div>\n",
       "<style scoped>\n",
       "    .dataframe tbody tr th:only-of-type {\n",
       "        vertical-align: middle;\n",
       "    }\n",
       "\n",
       "    .dataframe tbody tr th {\n",
       "        vertical-align: top;\n",
       "    }\n",
       "\n",
       "    .dataframe thead th {\n",
       "        text-align: right;\n",
       "    }\n",
       "</style>\n",
       "<table border=\"1\" class=\"dataframe\">\n",
       "  <thead>\n",
       "    <tr style=\"text-align: right;\">\n",
       "      <th></th>\n",
       "      <th>cd_cliente</th>\n",
       "      <th>nome_cliente</th>\n",
       "      <th>aquisição_cliente</th>\n",
       "    </tr>\n",
       "  </thead>\n",
       "  <tbody>\n",
       "    <tr>\n",
       "      <th>44837</th>\n",
       "      <td>109047</td>\n",
       "      <td>Sandra</td>\n",
       "      <td>Organic</td>\n",
       "    </tr>\n",
       "    <tr>\n",
       "      <th>44838</th>\n",
       "      <td>112481</td>\n",
       "      <td>Fabio</td>\n",
       "      <td>Organic</td>\n",
       "    </tr>\n",
       "    <tr>\n",
       "      <th>44839</th>\n",
       "      <td>114109</td>\n",
       "      <td>Rodrigo</td>\n",
       "      <td>Direct</td>\n",
       "    </tr>\n",
       "    <tr>\n",
       "      <th>44840</th>\n",
       "      <td>121495</td>\n",
       "      <td>Sandra</td>\n",
       "      <td>Organic</td>\n",
       "    </tr>\n",
       "    <tr>\n",
       "      <th>44841</th>\n",
       "      <td>123883</td>\n",
       "      <td>Pedro</td>\n",
       "      <td>Organic</td>\n",
       "    </tr>\n",
       "  </tbody>\n",
       "</table>\n",
       "</div>"
      ],
      "text/plain": [
       "       cd_cliente nome_cliente aquisição_cliente\n",
       "44837      109047       Sandra           Organic\n",
       "44838      112481        Fabio           Organic\n",
       "44839      114109      Rodrigo            Direct\n",
       "44840      121495       Sandra           Organic\n",
       "44841      123883        Pedro           Organic"
      ]
     },
     "execution_count": 4,
     "metadata": {},
     "output_type": "execute_result"
    }
   ],
   "source": [
    "clientes.tail()"
   ]
  },
  {
   "cell_type": "code",
   "execution_count": 5,
   "id": "f220d361",
   "metadata": {},
   "outputs": [
    {
     "data": {
      "text/html": [
       "<div>\n",
       "<style scoped>\n",
       "    .dataframe tbody tr th:only-of-type {\n",
       "        vertical-align: middle;\n",
       "    }\n",
       "\n",
       "    .dataframe tbody tr th {\n",
       "        vertical-align: top;\n",
       "    }\n",
       "\n",
       "    .dataframe thead th {\n",
       "        text-align: right;\n",
       "    }\n",
       "</style>\n",
       "<table border=\"1\" class=\"dataframe\">\n",
       "  <thead>\n",
       "    <tr style=\"text-align: right;\">\n",
       "      <th></th>\n",
       "      <th>cidade_retirada</th>\n",
       "      <th>cidade_devolucao</th>\n",
       "      <th>cd_contrato</th>\n",
       "      <th>transporte_locado</th>\n",
       "      <th>data_abertura_contrato</th>\n",
       "      <th>qtd_diarias</th>\n",
       "      <th>data_fechamento_contrato</th>\n",
       "      <th>qtd_hora_extra</th>\n",
       "      <th>valor_contrato</th>\n",
       "      <th>cd_cliente</th>\n",
       "    </tr>\n",
       "  </thead>\n",
       "  <tbody>\n",
       "    <tr>\n",
       "      <th>0</th>\n",
       "      <td>Hogsmeade</td>\n",
       "      <td>Hogsmeade</td>\n",
       "      <td>HGM048798</td>\n",
       "      <td>Portal</td>\n",
       "      <td>26/01/2015 05:58</td>\n",
       "      <td>1</td>\n",
       "      <td>27/01/2015 05:58</td>\n",
       "      <td>0</td>\n",
       "      <td>229</td>\n",
       "      <td>1</td>\n",
       "    </tr>\n",
       "    <tr>\n",
       "      <th>1</th>\n",
       "      <td>Springfield</td>\n",
       "      <td>Springfield</td>\n",
       "      <td>SPF030834</td>\n",
       "      <td>Ônibus Escolar</td>\n",
       "      <td>05/02/2015 15:10</td>\n",
       "      <td>1</td>\n",
       "      <td>06/02/2015 15:10</td>\n",
       "      <td>0</td>\n",
       "      <td>198</td>\n",
       "      <td>1</td>\n",
       "    </tr>\n",
       "    <tr>\n",
       "      <th>2</th>\n",
       "      <td>Porto Real</td>\n",
       "      <td>Porto Real</td>\n",
       "      <td>PRL017782</td>\n",
       "      <td>Barco</td>\n",
       "      <td>04/05/2015 20:49</td>\n",
       "      <td>1</td>\n",
       "      <td>05/05/2015 20:49</td>\n",
       "      <td>0</td>\n",
       "      <td>436</td>\n",
       "      <td>1</td>\n",
       "    </tr>\n",
       "    <tr>\n",
       "      <th>3</th>\n",
       "      <td>Basin City</td>\n",
       "      <td>Basin City</td>\n",
       "      <td>SIN042621</td>\n",
       "      <td>1960 Corvette</td>\n",
       "      <td>07/05/2015 07:34</td>\n",
       "      <td>1</td>\n",
       "      <td>08/05/2015 07:34</td>\n",
       "      <td>0</td>\n",
       "      <td>423</td>\n",
       "      <td>1</td>\n",
       "    </tr>\n",
       "    <tr>\n",
       "      <th>4</th>\n",
       "      <td>Godric's Hollow</td>\n",
       "      <td>Godric's Hollow</td>\n",
       "      <td>GDH044954</td>\n",
       "      <td>Testralio</td>\n",
       "      <td>01/08/2015 11:14</td>\n",
       "      <td>2</td>\n",
       "      <td>03/08/2015 12:14</td>\n",
       "      <td>1</td>\n",
       "      <td>676</td>\n",
       "      <td>1</td>\n",
       "    </tr>\n",
       "  </tbody>\n",
       "</table>\n",
       "</div>"
      ],
      "text/plain": [
       "   cidade_retirada cidade_devolucao cd_contrato transporte_locado  \\\n",
       "0        Hogsmeade        Hogsmeade   HGM048798            Portal   \n",
       "1      Springfield      Springfield   SPF030834    Ônibus Escolar   \n",
       "2       Porto Real       Porto Real   PRL017782             Barco   \n",
       "3       Basin City       Basin City   SIN042621     1960 Corvette   \n",
       "4  Godric's Hollow  Godric's Hollow   GDH044954         Testralio   \n",
       "\n",
       "  data_abertura_contrato  qtd_diarias data_fechamento_contrato  \\\n",
       "0       26/01/2015 05:58            1         27/01/2015 05:58   \n",
       "1       05/02/2015 15:10            1         06/02/2015 15:10   \n",
       "2       04/05/2015 20:49            1         05/05/2015 20:49   \n",
       "3       07/05/2015 07:34            1         08/05/2015 07:34   \n",
       "4       01/08/2015 11:14            2         03/08/2015 12:14   \n",
       "\n",
       "   qtd_hora_extra  valor_contrato  cd_cliente  \n",
       "0               0             229           1  \n",
       "1               0             198           1  \n",
       "2               0             436           1  \n",
       "3               0             423           1  \n",
       "4               1             676           1  "
      ]
     },
     "execution_count": 5,
     "metadata": {},
     "output_type": "execute_result"
    }
   ],
   "source": [
    "contratos.head()"
   ]
  },
  {
   "cell_type": "code",
   "execution_count": 6,
   "id": "d2121a53",
   "metadata": {},
   "outputs": [
    {
     "data": {
      "text/html": [
       "<div>\n",
       "<style scoped>\n",
       "    .dataframe tbody tr th:only-of-type {\n",
       "        vertical-align: middle;\n",
       "    }\n",
       "\n",
       "    .dataframe tbody tr th {\n",
       "        vertical-align: top;\n",
       "    }\n",
       "\n",
       "    .dataframe thead th {\n",
       "        text-align: right;\n",
       "    }\n",
       "</style>\n",
       "<table border=\"1\" class=\"dataframe\">\n",
       "  <thead>\n",
       "    <tr style=\"text-align: right;\">\n",
       "      <th></th>\n",
       "      <th>cidade_retirada</th>\n",
       "      <th>cidade_devolucao</th>\n",
       "      <th>cd_contrato</th>\n",
       "      <th>transporte_locado</th>\n",
       "      <th>data_abertura_contrato</th>\n",
       "      <th>qtd_diarias</th>\n",
       "      <th>data_fechamento_contrato</th>\n",
       "      <th>qtd_hora_extra</th>\n",
       "      <th>valor_contrato</th>\n",
       "      <th>cd_cliente</th>\n",
       "    </tr>\n",
       "  </thead>\n",
       "  <tbody>\n",
       "    <tr>\n",
       "      <th>480858</th>\n",
       "      <td>Godric's Hollow</td>\n",
       "      <td>Godric's Hollow</td>\n",
       "      <td>GDH015195</td>\n",
       "      <td>Vassoura</td>\n",
       "      <td>25/11/2020 20:25</td>\n",
       "      <td>4</td>\n",
       "      <td>29/11/2020 20:25</td>\n",
       "      <td>0</td>\n",
       "      <td>1204</td>\n",
       "      <td>109047</td>\n",
       "    </tr>\n",
       "    <tr>\n",
       "      <th>480859</th>\n",
       "      <td>Springfield</td>\n",
       "      <td>Springfield</td>\n",
       "      <td>SPF004254</td>\n",
       "      <td>Ônibus Escolar</td>\n",
       "      <td>21/03/2018 16:10</td>\n",
       "      <td>7</td>\n",
       "      <td>28/03/2018 17:10</td>\n",
       "      <td>1</td>\n",
       "      <td>2723</td>\n",
       "      <td>112481</td>\n",
       "    </tr>\n",
       "    <tr>\n",
       "      <th>480860</th>\n",
       "      <td>Atlântida</td>\n",
       "      <td>Atlântida</td>\n",
       "      <td>ATL054451</td>\n",
       "      <td>Nadadeiras</td>\n",
       "      <td>11/08/2015 18:22</td>\n",
       "      <td>1</td>\n",
       "      <td>12/08/2015 18:22</td>\n",
       "      <td>0</td>\n",
       "      <td>494</td>\n",
       "      <td>114109</td>\n",
       "    </tr>\n",
       "    <tr>\n",
       "      <th>480861</th>\n",
       "      <td>Porto Real</td>\n",
       "      <td>Porto Real</td>\n",
       "      <td>PRL054093</td>\n",
       "      <td>Canoa</td>\n",
       "      <td>14/07/2015 02:33</td>\n",
       "      <td>1</td>\n",
       "      <td>15/07/2015 02:33</td>\n",
       "      <td>0</td>\n",
       "      <td>179</td>\n",
       "      <td>121495</td>\n",
       "    </tr>\n",
       "    <tr>\n",
       "      <th>480862</th>\n",
       "      <td>Atlântida</td>\n",
       "      <td>Atlântida</td>\n",
       "      <td>ATL031442</td>\n",
       "      <td>Cavalo-Marinho</td>\n",
       "      <td>22/07/2018 00:09</td>\n",
       "      <td>4</td>\n",
       "      <td>26/07/2018 00:09</td>\n",
       "      <td>0</td>\n",
       "      <td>1664</td>\n",
       "      <td>123883</td>\n",
       "    </tr>\n",
       "  </tbody>\n",
       "</table>\n",
       "</div>"
      ],
      "text/plain": [
       "        cidade_retirada cidade_devolucao cd_contrato transporte_locado  \\\n",
       "480858  Godric's Hollow  Godric's Hollow   GDH015195          Vassoura   \n",
       "480859      Springfield      Springfield   SPF004254    Ônibus Escolar   \n",
       "480860        Atlântida        Atlântida   ATL054451        Nadadeiras   \n",
       "480861       Porto Real       Porto Real   PRL054093             Canoa   \n",
       "480862        Atlântida        Atlântida   ATL031442    Cavalo-Marinho   \n",
       "\n",
       "       data_abertura_contrato  qtd_diarias data_fechamento_contrato  \\\n",
       "480858       25/11/2020 20:25            4         29/11/2020 20:25   \n",
       "480859       21/03/2018 16:10            7         28/03/2018 17:10   \n",
       "480860       11/08/2015 18:22            1         12/08/2015 18:22   \n",
       "480861       14/07/2015 02:33            1         15/07/2015 02:33   \n",
       "480862       22/07/2018 00:09            4         26/07/2018 00:09   \n",
       "\n",
       "        qtd_hora_extra  valor_contrato  cd_cliente  \n",
       "480858               0            1204      109047  \n",
       "480859               1            2723      112481  \n",
       "480860               0             494      114109  \n",
       "480861               0             179      121495  \n",
       "480862               0            1664      123883  "
      ]
     },
     "execution_count": 6,
     "metadata": {},
     "output_type": "execute_result"
    }
   ],
   "source": [
    "contratos.tail()"
   ]
  },
  {
   "cell_type": "code",
   "execution_count": 7,
   "id": "9e5c896e",
   "metadata": {},
   "outputs": [
    {
     "data": {
      "text/plain": [
       "(480863, 10)"
      ]
     },
     "execution_count": 7,
     "metadata": {},
     "output_type": "execute_result"
    }
   ],
   "source": [
    "contratos.shape\n"
   ]
  },
  {
   "cell_type": "code",
   "execution_count": 8,
   "id": "e5f9ef18",
   "metadata": {},
   "outputs": [
    {
     "data": {
      "text/plain": [
       "(44842, 3)"
      ]
     },
     "execution_count": 8,
     "metadata": {},
     "output_type": "execute_result"
    }
   ],
   "source": [
    "clientes.shape"
   ]
  },
  {
   "cell_type": "code",
   "execution_count": 9,
   "id": "0be44535",
   "metadata": {},
   "outputs": [
    {
     "name": "stdout",
     "output_type": "stream",
     "text": [
      "<class 'pandas.core.frame.DataFrame'>\n",
      "RangeIndex: 44842 entries, 0 to 44841\n",
      "Data columns (total 3 columns):\n",
      " #   Column             Non-Null Count  Dtype \n",
      "---  ------             --------------  ----- \n",
      " 0   cd_cliente         44842 non-null  int64 \n",
      " 1   nome_cliente       44842 non-null  object\n",
      " 2   aquisição_cliente  44842 non-null  object\n",
      "dtypes: int64(1), object(2)\n",
      "memory usage: 1.0+ MB\n"
     ]
    }
   ],
   "source": [
    "clientes.info()"
   ]
  },
  {
   "cell_type": "code",
   "execution_count": 10,
   "id": "ec956df2",
   "metadata": {},
   "outputs": [
    {
     "name": "stdout",
     "output_type": "stream",
     "text": [
      "<class 'pandas.core.frame.DataFrame'>\n",
      "RangeIndex: 480863 entries, 0 to 480862\n",
      "Data columns (total 10 columns):\n",
      " #   Column                    Non-Null Count   Dtype \n",
      "---  ------                    --------------   ----- \n",
      " 0   cidade_retirada           480863 non-null  object\n",
      " 1   cidade_devolucao          480863 non-null  object\n",
      " 2   cd_contrato               480863 non-null  object\n",
      " 3   transporte_locado         480863 non-null  object\n",
      " 4   data_abertura_contrato    480863 non-null  object\n",
      " 5   qtd_diarias               480863 non-null  int64 \n",
      " 6   data_fechamento_contrato  480863 non-null  object\n",
      " 7   qtd_hora_extra            480863 non-null  int64 \n",
      " 8   valor_contrato            480863 non-null  int64 \n",
      " 9   cd_cliente                480863 non-null  int64 \n",
      "dtypes: int64(4), object(6)\n",
      "memory usage: 36.7+ MB\n"
     ]
    }
   ],
   "source": [
    "contratos.info()"
   ]
  },
  {
   "cell_type": "markdown",
   "id": "6e8504cd",
   "metadata": {},
   "source": [
    "### As bases não possuem valores nulos e está bem estruturada. O próximo passo sera transformar os campos de data que estão com tipo Object para DateTime para que possamos utilizar na agregação min/max e fazer a diferença."
   ]
  },
  {
   "cell_type": "code",
   "execution_count": 11,
   "id": "e0222e4b",
   "metadata": {},
   "outputs": [],
   "source": [
    "\n",
    "format_str = '%d/%m/%Y %H:%M'\n",
    "correct_data = lambda x: datetime.strptime(x, format_str)\n",
    "contratos['data_abertura_contrato'] = list(map(correct_data, contratos['data_abertura_contrato']))\n",
    "contratos['data_fechamento_contrato'] = list(map(correct_data, contratos['data_fechamento_contrato']))"
   ]
  },
  {
   "cell_type": "markdown",
   "id": "2909a2e1",
   "metadata": {},
   "source": [
    "# Manipulação dos dados"
   ]
  },
  {
   "cell_type": "code",
   "execution_count": 12,
   "id": "6c03413e",
   "metadata": {},
   "outputs": [
    {
     "data": {
      "text/html": [
       "<div>\n",
       "<style scoped>\n",
       "    .dataframe tbody tr th:only-of-type {\n",
       "        vertical-align: middle;\n",
       "    }\n",
       "\n",
       "    .dataframe tbody tr th {\n",
       "        vertical-align: top;\n",
       "    }\n",
       "\n",
       "    .dataframe thead th {\n",
       "        text-align: right;\n",
       "    }\n",
       "</style>\n",
       "<table border=\"1\" class=\"dataframe\">\n",
       "  <thead>\n",
       "    <tr style=\"text-align: right;\">\n",
       "      <th></th>\n",
       "      <th>min_abertura</th>\n",
       "      <th>max_fechamento</th>\n",
       "      <th>media_diarias</th>\n",
       "      <th>qtd_contratos</th>\n",
       "      <th>media_he</th>\n",
       "      <th>periodo_inicio_fim_dias</th>\n",
       "    </tr>\n",
       "    <tr>\n",
       "      <th>cd_cliente</th>\n",
       "      <th></th>\n",
       "      <th></th>\n",
       "      <th></th>\n",
       "      <th></th>\n",
       "      <th></th>\n",
       "      <th></th>\n",
       "    </tr>\n",
       "  </thead>\n",
       "  <tbody>\n",
       "    <tr>\n",
       "      <th>1</th>\n",
       "      <td>2015-01-26 05:58:00</td>\n",
       "      <td>2020-10-21 21:26:00</td>\n",
       "      <td>1.916667</td>\n",
       "      <td>36</td>\n",
       "      <td>0.138889</td>\n",
       "      <td>2095 days 15:28:00</td>\n",
       "    </tr>\n",
       "    <tr>\n",
       "      <th>2</th>\n",
       "      <td>2015-01-31 02:29:00</td>\n",
       "      <td>2020-12-15 05:39:00</td>\n",
       "      <td>2.023256</td>\n",
       "      <td>43</td>\n",
       "      <td>0.093023</td>\n",
       "      <td>2145 days 03:10:00</td>\n",
       "    </tr>\n",
       "    <tr>\n",
       "      <th>3</th>\n",
       "      <td>2015-02-12 09:27:00</td>\n",
       "      <td>2020-11-01 18:15:00</td>\n",
       "      <td>2.486486</td>\n",
       "      <td>37</td>\n",
       "      <td>0.000000</td>\n",
       "      <td>2089 days 08:48:00</td>\n",
       "    </tr>\n",
       "    <tr>\n",
       "      <th>4</th>\n",
       "      <td>2015-03-06 15:37:00</td>\n",
       "      <td>2020-12-14 18:31:00</td>\n",
       "      <td>2.472222</td>\n",
       "      <td>36</td>\n",
       "      <td>0.194444</td>\n",
       "      <td>2110 days 02:54:00</td>\n",
       "    </tr>\n",
       "    <tr>\n",
       "      <th>5</th>\n",
       "      <td>2015-02-24 09:00:00</td>\n",
       "      <td>2020-12-12 08:37:00</td>\n",
       "      <td>2.877551</td>\n",
       "      <td>49</td>\n",
       "      <td>0.224490</td>\n",
       "      <td>2117 days 23:37:00</td>\n",
       "    </tr>\n",
       "  </tbody>\n",
       "</table>\n",
       "</div>"
      ],
      "text/plain": [
       "                  min_abertura      max_fechamento  media_diarias  \\\n",
       "cd_cliente                                                          \n",
       "1          2015-01-26 05:58:00 2020-10-21 21:26:00       1.916667   \n",
       "2          2015-01-31 02:29:00 2020-12-15 05:39:00       2.023256   \n",
       "3          2015-02-12 09:27:00 2020-11-01 18:15:00       2.486486   \n",
       "4          2015-03-06 15:37:00 2020-12-14 18:31:00       2.472222   \n",
       "5          2015-02-24 09:00:00 2020-12-12 08:37:00       2.877551   \n",
       "\n",
       "            qtd_contratos  media_he periodo_inicio_fim_dias  \n",
       "cd_cliente                                                   \n",
       "1                      36  0.138889      2095 days 15:28:00  \n",
       "2                      43  0.093023      2145 days 03:10:00  \n",
       "3                      37  0.000000      2089 days 08:48:00  \n",
       "4                      36  0.194444      2110 days 02:54:00  \n",
       "5                      49  0.224490      2117 days 23:37:00  "
      ]
     },
     "execution_count": 12,
     "metadata": {},
     "output_type": "execute_result"
    }
   ],
   "source": [
    "data_churn = contratos.groupby(['cd_cliente']).agg({'data_abertura_contrato':'min','data_fechamento_contrato':'max','qtd_diarias':'mean','cd_cliente':'count','qtd_hora_extra':'mean'})\n",
    "data_churn['periodo_inicio_fim_dias'] = data_churn['data_fechamento_contrato'] - data_churn['data_abertura_contrato']\n",
    "data_churn = data_churn.rename(columns={'data_abertura_contrato': 'min_abertura', 'data_fechamento_contrato': 'max_fechamento', 'qtd_diarias': 'media_diarias', 'cd_cliente': 'qtd_contratos', 'qtd_hora_extra': 'media_he'})\n",
    "data_churn.head()"
   ]
  },
  {
   "cell_type": "markdown",
   "id": "c274df71",
   "metadata": {},
   "source": [
    "### Os valores da tabela de contratos foram agregados para identificarmos o comportamento de cliente por cliente. Para definir quem são os novos clientes, utilizamos a quantidade de contratos, sendo quantidade 1, um cliente novo. E para o churn, a lógica foi trazer a mediana da diferença das datas de abertura de contrato que aquele cliente ja teve (x - (x-1))."
   ]
  },
  {
   "cell_type": "code",
   "execution_count": 13,
   "id": "4a51ff65",
   "metadata": {},
   "outputs": [],
   "source": [
    "contratos = contratos.sort_values(by=['cd_cliente', 'data_abertura_contrato'])\n",
    "contratos = contratos.reset_index(drop='index')\n",
    "\n",
    "\n",
    "data_churn['dif_data'] = None\n",
    "for cliente in contratos.cd_cliente.unique():\n",
    "    list_datas = contratos[contratos['cd_cliente']==cliente].data_abertura_contrato.to_list()\n",
    "    list_dif = []\n",
    "    for index, value in enumerate(list_datas):\n",
    "        try:\n",
    "            list_dif.append(list_datas[index+1]-list_datas[index])\n",
    "        except:\n",
    "            pass\n",
    "    try:\n",
    "        list_dif.sort()\n",
    "        mediana = statistics.median(list_dif)\n",
    "        data_churn.loc[data_churn.index==cliente, 'dif_data'] = mediana\n",
    "    except:\n",
    "#caso seja apenas um contrato a mediana dará erro, então sera usado o máximo de data da base para relacionar ao fechamento.\n",
    "#logo, na proxima etapa quando fiz a comparação da mediana geral\n",
    "        data_churn.loc[data_churn.index==cliente, 'dif_data'] = data_churn.max_fechamento.max()-data_churn.max_fechamento\n"
   ]
  },
  {
   "cell_type": "code",
   "execution_count": 14,
   "id": "ad9c19fe",
   "metadata": {},
   "outputs": [],
   "source": [
    "data_churn = data_churn.merge(clientes.aquisição_cliente, left_on=data_churn.index, right_on=clientes['cd_cliente'])\n",
    "data_churn.drop('key_0', axis = 1, inplace = True)"
   ]
  },
  {
   "cell_type": "markdown",
   "id": "665a3766",
   "metadata": {},
   "source": [
    "### Foi realizado o join entre a tabela de clientes e a tabela de contratos agregados para termos a informação de origem do cliente em nossas análises."
   ]
  },
  {
   "cell_type": "code",
   "execution_count": 15,
   "id": "cbb1b616",
   "metadata": {},
   "outputs": [
    {
     "data": {
      "text/html": [
       "<div>\n",
       "<style scoped>\n",
       "    .dataframe tbody tr th:only-of-type {\n",
       "        vertical-align: middle;\n",
       "    }\n",
       "\n",
       "    .dataframe tbody tr th {\n",
       "        vertical-align: top;\n",
       "    }\n",
       "\n",
       "    .dataframe thead th {\n",
       "        text-align: right;\n",
       "    }\n",
       "</style>\n",
       "<table border=\"1\" class=\"dataframe\">\n",
       "  <thead>\n",
       "    <tr style=\"text-align: right;\">\n",
       "      <th></th>\n",
       "      <th>min_abertura</th>\n",
       "      <th>max_fechamento</th>\n",
       "      <th>media_diarias</th>\n",
       "      <th>qtd_contratos</th>\n",
       "      <th>media_he</th>\n",
       "      <th>periodo_inicio_fim_dias</th>\n",
       "      <th>dif_data</th>\n",
       "      <th>aquisição_cliente</th>\n",
       "    </tr>\n",
       "  </thead>\n",
       "  <tbody>\n",
       "    <tr>\n",
       "      <th>0</th>\n",
       "      <td>2015-01-26 05:58:00</td>\n",
       "      <td>2020-10-21 21:26:00</td>\n",
       "      <td>1.916667</td>\n",
       "      <td>36</td>\n",
       "      <td>0.138889</td>\n",
       "      <td>2095 days 15:28:00</td>\n",
       "      <td>34 days 10:03:00</td>\n",
       "      <td>Organic</td>\n",
       "    </tr>\n",
       "    <tr>\n",
       "      <th>1</th>\n",
       "      <td>2015-01-31 02:29:00</td>\n",
       "      <td>2020-12-15 05:39:00</td>\n",
       "      <td>2.023256</td>\n",
       "      <td>43</td>\n",
       "      <td>0.093023</td>\n",
       "      <td>2145 days 03:10:00</td>\n",
       "      <td>36 days 02:50:00</td>\n",
       "      <td>Social Media</td>\n",
       "    </tr>\n",
       "    <tr>\n",
       "      <th>2</th>\n",
       "      <td>2015-02-12 09:27:00</td>\n",
       "      <td>2020-11-01 18:15:00</td>\n",
       "      <td>2.486486</td>\n",
       "      <td>37</td>\n",
       "      <td>0.000000</td>\n",
       "      <td>2089 days 08:48:00</td>\n",
       "      <td>46 days 22:57:30</td>\n",
       "      <td>Direct</td>\n",
       "    </tr>\n",
       "    <tr>\n",
       "      <th>3</th>\n",
       "      <td>2015-03-06 15:37:00</td>\n",
       "      <td>2020-12-14 18:31:00</td>\n",
       "      <td>2.472222</td>\n",
       "      <td>36</td>\n",
       "      <td>0.194444</td>\n",
       "      <td>2110 days 02:54:00</td>\n",
       "      <td>53 days 16:37:00</td>\n",
       "      <td>Google Ads - Search</td>\n",
       "    </tr>\n",
       "    <tr>\n",
       "      <th>4</th>\n",
       "      <td>2015-02-24 09:00:00</td>\n",
       "      <td>2020-12-12 08:37:00</td>\n",
       "      <td>2.877551</td>\n",
       "      <td>49</td>\n",
       "      <td>0.224490</td>\n",
       "      <td>2117 days 23:37:00</td>\n",
       "      <td>40 days 09:18:30</td>\n",
       "      <td>Referral</td>\n",
       "    </tr>\n",
       "  </tbody>\n",
       "</table>\n",
       "</div>"
      ],
      "text/plain": [
       "         min_abertura      max_fechamento  media_diarias  qtd_contratos  \\\n",
       "0 2015-01-26 05:58:00 2020-10-21 21:26:00       1.916667             36   \n",
       "1 2015-01-31 02:29:00 2020-12-15 05:39:00       2.023256             43   \n",
       "2 2015-02-12 09:27:00 2020-11-01 18:15:00       2.486486             37   \n",
       "3 2015-03-06 15:37:00 2020-12-14 18:31:00       2.472222             36   \n",
       "4 2015-02-24 09:00:00 2020-12-12 08:37:00       2.877551             49   \n",
       "\n",
       "   media_he periodo_inicio_fim_dias          dif_data    aquisição_cliente  \n",
       "0  0.138889      2095 days 15:28:00  34 days 10:03:00              Organic  \n",
       "1  0.093023      2145 days 03:10:00  36 days 02:50:00         Social Media  \n",
       "2  0.000000      2089 days 08:48:00  46 days 22:57:30               Direct  \n",
       "3  0.194444      2110 days 02:54:00  53 days 16:37:00  Google Ads - Search  \n",
       "4  0.224490      2117 days 23:37:00  40 days 09:18:30             Referral  "
      ]
     },
     "execution_count": 15,
     "metadata": {},
     "output_type": "execute_result"
    }
   ],
   "source": [
    "data_churn.head()"
   ]
  },
  {
   "cell_type": "markdown",
   "id": "d79a6eb9",
   "metadata": {},
   "source": [
    "### Criei as colunas que identificam as duas premissas/regras que precisamos validar, já com as variáveis dummies"
   ]
  },
  {
   "cell_type": "code",
   "execution_count": 16,
   "id": "ce5c52f5",
   "metadata": {},
   "outputs": [],
   "source": [
    "#cliente com um contrato apenas é o novo cliente.\n",
    "\n",
    "data_churn[\"categoria_cliente\"] = None\n",
    "data_churn['cliente_novo']=None\n",
    "data_churn[\"cliente_antigo\"] = None\n",
    "data_churn.loc[data_churn[\"qtd_contratos\"]==1,'cliente_novo'] = 1\n",
    "data_churn.loc[data_churn[\"qtd_contratos\"]>1,'cliente_novo'] = 0\n",
    "data_churn.loc[data_churn[\"qtd_contratos\"]==1,'cliente_antigo'] = 0\n",
    "data_churn.loc[data_churn[\"qtd_contratos\"]>1,'cliente_antigo'] = 1\n",
    "data_churn.loc[data_churn[\"qtd_contratos\"]==1,'categoria_cliente'] = \"Novo\"\n",
    "data_churn.loc[data_churn[\"qtd_contratos\"]>1,'categoria_cliente'] = \"Antigo\""
   ]
  },
  {
   "cell_type": "code",
   "execution_count": 17,
   "id": "5121d03c",
   "metadata": {},
   "outputs": [],
   "source": [
    "q2_linha = data_churn.dif_data.quantile(.50)\n",
    "#mediana da base inteira para se comparar com a do cliente e verificar se é churn ou nao\n",
    "data_churn['categoria_churn'] = None\n",
    "data_churn['churn'] = None\n",
    "\n",
    "data_churn.loc[(data_churn['dif_data'] >= q2_linha),['churn']] = 1\n",
    "data_churn.loc[(data_churn['dif_data'] < q2_linha),['churn']] = 0\n",
    "data_churn.loc[(data_churn['dif_data'] >= q2_linha),['categoria_churn']] = \"Sim\"\n",
    "data_churn.loc[(data_churn['dif_data'] < q2_linha),['categoria_churn']] = \"Não\""
   ]
  },
  {
   "cell_type": "markdown",
   "id": "cd058ca6",
   "metadata": {},
   "source": [
    "# Plotagem dos Histogramas"
   ]
  },
  {
   "cell_type": "code",
   "execution_count": 18,
   "id": "eb416dbd",
   "metadata": {},
   "outputs": [
    {
     "data": {
      "image/png": "[encoded data removed]",
      "text/plain": [
       "<Figure size 432x288 with 1 Axes>"
      ]
     },
     "metadata": {
      "needs_background": "light"
     },
     "output_type": "display_data"
    }
   ],
   "source": [
    "dfno = data_churn[data_churn.categoria_churn == \"Não\"].categoria_cliente\n",
    "dfyes = data_churn[data_churn.categoria_churn == \"Sim\"].categoria_cliente\n",
    "\n",
    "plt.hist([dfno, dfyes], color=['blue','red'], label=['Churn = Não','Churn = Sim' ])\n",
    "plt.title(\"Churn por Categoria do cliente\")\n",
    "plt.legend();"
   ]
  },
  {
   "cell_type": "markdown",
   "id": "d04329b1",
   "metadata": {},
   "source": [
    "## Está validado que, proporcionalmente, o Churn entre os novos clientes é bem maior do que o Churn de clientes mais frequentes. Seria interessante que fosse criado um modelo de fidelização de novos clientes com promoções e demais técnicas para blindagem."
   ]
  },
  {
   "cell_type": "code",
   "execution_count": 19,
   "id": "8dc35a74",
   "metadata": {},
   "outputs": [
    {
     "data": {
      "image/png": "[encoded data removed]",
      "text/plain": [
       "<Figure size 432x288 with 1 Axes>"
      ]
     },
     "metadata": {
      "needs_background": "light"
     },
     "output_type": "display_data"
    }
   ],
   "source": [
    "dfno = data_churn[data_churn.categoria_churn == \"Não\"].media_he\n",
    "dfyes = data_churn[data_churn.categoria_churn == \"Sim\"].media_he\n",
    "\n",
    "plt.hist([dfno, dfyes], color=['blue','red'], label=['Churn = Não','Churn = Sim' ])\n",
    "plt.title(\"Churn por Média de Hora Extra\")\n",
    "plt.legend();"
   ]
  },
  {
   "cell_type": "markdown",
   "id": "e45d47aa",
   "metadata": {},
   "source": [
    "## Segundo o grafico, a frequencia de Churn aumenta suavemente na primeira fração de hora extra. Poderíamos criar uma tolerância para que a primeira hora extra seja cobrada apenas no caso de se completar duas horas."
   ]
  },
  {
   "cell_type": "code",
   "execution_count": 20,
   "id": "484d5d46",
   "metadata": {},
   "outputs": [
    {
     "data": {
      "image/png": "[encoded data removed]",
      "text/plain": [
       "<Figure size 432x288 with 1 Axes>"
      ]
     },
     "metadata": {
      "needs_background": "light"
     },
     "output_type": "display_data"
    }
   ],
   "source": [
    "dfno = data_churn[data_churn.categoria_churn == \"Não\"].aquisição_cliente\n",
    "dfyes = data_churn[data_churn.categoria_churn == \"Sim\"].aquisição_cliente\n",
    "\n",
    "plt.hist([dfno, dfyes], color=['blue','red'], label=['Churn = Não','Churn = Sim' ])\n",
    "plt.title(\"Churn por Aquisição Cliente\")\n",
    "plt.legend();"
   ]
  },
  {
   "cell_type": "code",
   "execution_count": 21,
   "id": "353b2f50",
   "metadata": {},
   "outputs": [
    {
     "data": {
      "image/png": "[encoded data removed]",
      "text/plain": [
       "<Figure size 432x288 with 1 Axes>"
      ]
     },
     "metadata": {
      "needs_background": "light"
     },
     "output_type": "display_data"
    }
   ],
   "source": [
    "dfno = data_churn[data_churn.categoria_churn == \"Não\"].qtd_contratos\n",
    "dfyes = data_churn[data_churn.categoria_churn == \"Sim\"].qtd_contratos\n",
    "\n",
    "plt.hist([dfno, dfyes], color=['blue','red'], label=['Churn = Não','Churn = Sim' ])\n",
    "plt.title(\"Churn por qtd Contratos\")\n",
    "plt.legend();"
   ]
  },
  {
   "cell_type": "markdown",
   "id": "cebbf5d3",
   "metadata": {},
   "source": [
    "## Assim como no contexto de novos clientes, os clientes que possuem poucos contratos são os que mais abandonam. Incentivos de locação poderiam ser realizados quando os clientes estiverem próximos de alcançar sua média de intervalo entre um contrato e outro."
   ]
  },
  {
   "cell_type": "code",
   "execution_count": 22,
   "id": "11727f84",
   "metadata": {},
   "outputs": [
    {
     "data": {
      "image/png": "[encoded data removed]",
      "text/plain": [
       "<Figure size 432x288 with 1 Axes>"
      ]
     },
     "metadata": {
      "needs_background": "light"
     },
     "output_type": "display_data"
    }
   ],
   "source": [
    "dfno = data_churn[data_churn.categoria_churn == \"Não\"].media_diarias\n",
    "dfyes = data_churn[data_churn.categoria_churn == \"Sim\"].media_diarias\n",
    "\n",
    "plt.hist([dfno, dfyes], color=['blue','red'], label=['Churn = Não','Churn = Sim' ])\n",
    "plt.title(\"Churn por Média de Diárias\")\n",
    "plt.legend();"
   ]
  },
  {
   "cell_type": "markdown",
   "id": "1a584ec3",
   "metadata": {},
   "source": [
    "## Os que alugam por menos tempo tambem são os maiores ofensores do churn. Atenção especial para os contratos menores trazendo mais proximidade pós venda com esses clientes, agregando tambem o incentivo que comentamos sobre os de poucos contratos."
   ]
  },
  {
   "cell_type": "code",
   "execution_count": 23,
   "id": "a933cd6d",
   "metadata": {},
   "outputs": [
    {
     "data": {
      "image/png": "[encoded data removed]",
      "text/plain": [
       "<Figure size 432x288 with 1 Axes>"
      ]
     },
     "metadata": {
      "needs_background": "light"
     },
     "output_type": "display_data"
    }
   ],
   "source": [
    "dfno = data_churn[data_churn.categoria_churn == \"Não\"].max_fechamento\n",
    "dfyes = data_churn[data_churn.categoria_churn == \"Sim\"].max_fechamento\n",
    "\n",
    "plt.hist([dfno, dfyes], color=['blue','red'], label=['Churn = Não','Churn = Sim' ])\n",
    "plt.title(\"Churn por Máxima de Fechamento\")\n",
    "plt.legend();"
   ]
  },
  {
   "cell_type": "code",
   "execution_count": 24,
   "id": "4e5592fa",
   "metadata": {},
   "outputs": [
    {
     "data": {
      "image/png": "[encoded data removed]",
      "text/plain": [
       "<Figure size 432x288 with 1 Axes>"
      ]
     },
     "metadata": {
      "needs_background": "light"
     },
     "output_type": "display_data"
    }
   ],
   "source": [
    "dfno = data_churn[data_churn.categoria_churn == \"Não\"].min_abertura\n",
    "dfyes = data_churn[data_churn.categoria_churn == \"Sim\"].min_abertura\n",
    "\n",
    "plt.hist([dfno, dfyes], color=['blue','red'], label=['Churn = Não','Churn = Sim' ])\n",
    "plt.title(\"Churn por Mínima de Abertura\")\n",
    "plt.legend();"
   ]
  },
  {
   "cell_type": "markdown",
   "id": "ad8bb219",
   "metadata": {},
   "source": [
    "## Os clientes que começaram a locar a partir de 2016 tem uma proporção de churn bem maior que o não churn. Importante verificar mudança de contexto nesse período."
   ]
  },
  {
   "cell_type": "markdown",
   "id": "8157c70e",
   "metadata": {},
   "source": [
    "# Balanceamento do Dataset e Criação do modelo de Previsão"
   ]
  },
  {
   "cell_type": "code",
   "execution_count": 25,
   "id": "0f55ffc7",
   "metadata": {},
   "outputs": [
    {
     "name": "stdout",
     "output_type": "stream",
     "text": [
      "Sim: 22421 Não: 22421 Não: 50.0\n"
     ]
    },
    {
     "data": {
      "image/png": "[encoded data removed]",
      "text/plain": [
       "<Figure size 432x288 with 1 Axes>"
      ]
     },
     "metadata": {
      "needs_background": "light"
     },
     "output_type": "display_data"
    }
   ],
   "source": [
    "dfno = data_churn[data_churn.categoria_churn == \"Não\"].categoria_churn\n",
    "dfyes = data_churn[data_churn.categoria_churn == \"Sim\"].categoria_churn\n",
    "\n",
    "total = dfno.count() + dfyes.count()\n",
    "percent = round((dfno.count()/total)*100,2)\n",
    "print(f'Sim: {dfyes.count()}', f'Não: {dfno.count()}', f'Não: {percent}')\n",
    "plt.hist([dfno, dfyes], color=['blue','red'], label=['Churn = Não','Churn = Sim' ])\n",
    "plt.legend();"
   ]
  },
  {
   "cell_type": "markdown",
   "id": "fd528390",
   "metadata": {},
   "source": [
    "### O Dataset está balanceado!!!"
   ]
  },
  {
   "cell_type": "code",
   "execution_count": 26,
   "id": "0eaedd47",
   "metadata": {},
   "outputs": [
    {
     "data": {
      "text/html": [
       "<div>\n",
       "<style scoped>\n",
       "    .dataframe tbody tr th:only-of-type {\n",
       "        vertical-align: middle;\n",
       "    }\n",
       "\n",
       "    .dataframe tbody tr th {\n",
       "        vertical-align: top;\n",
       "    }\n",
       "\n",
       "    .dataframe thead th {\n",
       "        text-align: right;\n",
       "    }\n",
       "</style>\n",
       "<table border=\"1\" class=\"dataframe\">\n",
       "  <thead>\n",
       "    <tr style=\"text-align: right;\">\n",
       "      <th></th>\n",
       "      <th>min_abertura</th>\n",
       "      <th>max_fechamento</th>\n",
       "      <th>media_diarias</th>\n",
       "      <th>qtd_contratos</th>\n",
       "      <th>media_he</th>\n",
       "      <th>periodo_inicio_fim_dias</th>\n",
       "      <th>dif_data</th>\n",
       "      <th>aquisição_cliente</th>\n",
       "      <th>categoria_cliente</th>\n",
       "      <th>cliente_novo</th>\n",
       "      <th>cliente_antigo</th>\n",
       "      <th>categoria_churn</th>\n",
       "      <th>churn</th>\n",
       "    </tr>\n",
       "  </thead>\n",
       "  <tbody>\n",
       "    <tr>\n",
       "      <th>27678</th>\n",
       "      <td>2018-02-05 07:43:00</td>\n",
       "      <td>2020-11-25 09:25:00</td>\n",
       "      <td>0.013889</td>\n",
       "      <td>0.046154</td>\n",
       "      <td>0.000000</td>\n",
       "      <td>1024 days 01:42:00</td>\n",
       "      <td>493 days 15:36:00</td>\n",
       "      <td>Organic</td>\n",
       "      <td>Antigo</td>\n",
       "      <td>0</td>\n",
       "      <td>1</td>\n",
       "      <td>Sim</td>\n",
       "      <td>1</td>\n",
       "    </tr>\n",
       "    <tr>\n",
       "      <th>39256</th>\n",
       "      <td>2019-11-13 07:43:00</td>\n",
       "      <td>2020-02-06 13:30:00</td>\n",
       "      <td>0.055556</td>\n",
       "      <td>0.015385</td>\n",
       "      <td>0.000000</td>\n",
       "      <td>85 days 05:47:00</td>\n",
       "      <td>83 days 05:47:00</td>\n",
       "      <td>Google Ads - Search</td>\n",
       "      <td>Antigo</td>\n",
       "      <td>0</td>\n",
       "      <td>1</td>\n",
       "      <td>Não</td>\n",
       "      <td>0</td>\n",
       "    </tr>\n",
       "    <tr>\n",
       "      <th>10286</th>\n",
       "      <td>2015-01-08 20:12:00</td>\n",
       "      <td>2020-07-30 09:26:00</td>\n",
       "      <td>0.066667</td>\n",
       "      <td>0.215385</td>\n",
       "      <td>0.000000</td>\n",
       "      <td>2029 days 13:14:00</td>\n",
       "      <td>142 days 17:12:00</td>\n",
       "      <td>Google Ads - Youtube</td>\n",
       "      <td>Antigo</td>\n",
       "      <td>0</td>\n",
       "      <td>1</td>\n",
       "      <td>Não</td>\n",
       "      <td>0</td>\n",
       "    </tr>\n",
       "    <tr>\n",
       "      <th>24027</th>\n",
       "      <td>2015-01-19 00:58:00</td>\n",
       "      <td>2019-06-05 01:16:00</td>\n",
       "      <td>0.111111</td>\n",
       "      <td>0.030769</td>\n",
       "      <td>0.111111</td>\n",
       "      <td>1598 days 00:18:00</td>\n",
       "      <td>798 days 00:09:00</td>\n",
       "      <td>Google Ads - Search</td>\n",
       "      <td>Antigo</td>\n",
       "      <td>0</td>\n",
       "      <td>1</td>\n",
       "      <td>Sim</td>\n",
       "      <td>1</td>\n",
       "    </tr>\n",
       "    <tr>\n",
       "      <th>12797</th>\n",
       "      <td>2015-04-07 17:29:00</td>\n",
       "      <td>2019-12-25 00:27:00</td>\n",
       "      <td>0.055556</td>\n",
       "      <td>0.169231</td>\n",
       "      <td>0.055556</td>\n",
       "      <td>1722 days 06:58:00</td>\n",
       "      <td>89 days 03:13:00</td>\n",
       "      <td>Facebook Ads - Instagram</td>\n",
       "      <td>Antigo</td>\n",
       "      <td>0</td>\n",
       "      <td>1</td>\n",
       "      <td>Não</td>\n",
       "      <td>0</td>\n",
       "    </tr>\n",
       "  </tbody>\n",
       "</table>\n",
       "</div>"
      ],
      "text/plain": [
       "             min_abertura      max_fechamento  media_diarias  qtd_contratos  \\\n",
       "27678 2018-02-05 07:43:00 2020-11-25 09:25:00       0.013889       0.046154   \n",
       "39256 2019-11-13 07:43:00 2020-02-06 13:30:00       0.055556       0.015385   \n",
       "10286 2015-01-08 20:12:00 2020-07-30 09:26:00       0.066667       0.215385   \n",
       "24027 2015-01-19 00:58:00 2019-06-05 01:16:00       0.111111       0.030769   \n",
       "12797 2015-04-07 17:29:00 2019-12-25 00:27:00       0.055556       0.169231   \n",
       "\n",
       "       media_he periodo_inicio_fim_dias           dif_data  \\\n",
       "27678  0.000000      1024 days 01:42:00  493 days 15:36:00   \n",
       "39256  0.000000        85 days 05:47:00   83 days 05:47:00   \n",
       "10286  0.000000      2029 days 13:14:00  142 days 17:12:00   \n",
       "24027  0.111111      1598 days 00:18:00  798 days 00:09:00   \n",
       "12797  0.055556      1722 days 06:58:00   89 days 03:13:00   \n",
       "\n",
       "              aquisição_cliente categoria_cliente cliente_novo cliente_antigo  \\\n",
       "27678                   Organic            Antigo            0              1   \n",
       "39256       Google Ads - Search            Antigo            0              1   \n",
       "10286      Google Ads - Youtube            Antigo            0              1   \n",
       "24027       Google Ads - Search            Antigo            0              1   \n",
       "12797  Facebook Ads - Instagram            Antigo            0              1   \n",
       "\n",
       "      categoria_churn churn  \n",
       "27678             Sim     1  \n",
       "39256             Não     0  \n",
       "10286             Não     0  \n",
       "24027             Sim     1  \n",
       "12797             Não     0  "
      ]
     },
     "execution_count": 26,
     "metadata": {},
     "output_type": "execute_result"
    }
   ],
   "source": [
    "scaler=MinMaxScaler()\n",
    "data_churn[['media_diarias','qtd_contratos','media_he']] = scaler.fit_transform(data_churn[['media_diarias','qtd_contratos','media_he']])\n",
    "data_churn.sample(5)"
   ]
  },
  {
   "cell_type": "code",
   "execution_count": 27,
   "id": "803aee3a",
   "metadata": {},
   "outputs": [
    {
     "data": {
      "text/html": [
       "<div>\n",
       "<style scoped>\n",
       "    .dataframe tbody tr th:only-of-type {\n",
       "        vertical-align: middle;\n",
       "    }\n",
       "\n",
       "    .dataframe tbody tr th {\n",
       "        vertical-align: top;\n",
       "    }\n",
       "\n",
       "    .dataframe thead th {\n",
       "        text-align: right;\n",
       "    }\n",
       "</style>\n",
       "<table border=\"1\" class=\"dataframe\">\n",
       "  <thead>\n",
       "    <tr style=\"text-align: right;\">\n",
       "      <th></th>\n",
       "      <th>min_abertura</th>\n",
       "      <th>max_fechamento</th>\n",
       "      <th>media_diarias</th>\n",
       "      <th>qtd_contratos</th>\n",
       "      <th>media_he</th>\n",
       "      <th>periodo_inicio_fim_dias</th>\n",
       "      <th>dif_data</th>\n",
       "      <th>aquisição_cliente</th>\n",
       "      <th>categoria_cliente</th>\n",
       "      <th>cliente_novo</th>\n",
       "      <th>cliente_antigo</th>\n",
       "      <th>categoria_churn</th>\n",
       "      <th>churn</th>\n",
       "    </tr>\n",
       "  </thead>\n",
       "  <tbody>\n",
       "    <tr>\n",
       "      <th>40123</th>\n",
       "      <td>2019-06-06 11:39:00</td>\n",
       "      <td>2019-06-09 11:39:00</td>\n",
       "      <td>0.111111</td>\n",
       "      <td>0.000000</td>\n",
       "      <td>0.000000</td>\n",
       "      <td>8</td>\n",
       "      <td>584 days 16:50:00</td>\n",
       "      <td>3</td>\n",
       "      <td>Novo</td>\n",
       "      <td>1</td>\n",
       "      <td>0</td>\n",
       "      <td>Sim</td>\n",
       "      <td>1</td>\n",
       "    </tr>\n",
       "    <tr>\n",
       "      <th>3245</th>\n",
       "      <td>2015-04-12 23:46:00</td>\n",
       "      <td>2020-12-02 22:02:00</td>\n",
       "      <td>0.067050</td>\n",
       "      <td>0.430769</td>\n",
       "      <td>0.080460</td>\n",
       "      <td>27301</td>\n",
       "      <td>48 days 01:08:30</td>\n",
       "      <td>6</td>\n",
       "      <td>Antigo</td>\n",
       "      <td>0</td>\n",
       "      <td>1</td>\n",
       "      <td>Não</td>\n",
       "      <td>0</td>\n",
       "    </tr>\n",
       "    <tr>\n",
       "      <th>31902</th>\n",
       "      <td>2015-08-30 13:20:00</td>\n",
       "      <td>2020-10-23 15:01:00</td>\n",
       "      <td>0.000000</td>\n",
       "      <td>0.015385</td>\n",
       "      <td>0.000000</td>\n",
       "      <td>19460</td>\n",
       "      <td>1880 days 01:41:00</td>\n",
       "      <td>7</td>\n",
       "      <td>Antigo</td>\n",
       "      <td>0</td>\n",
       "      <td>1</td>\n",
       "      <td>Sim</td>\n",
       "      <td>1</td>\n",
       "    </tr>\n",
       "    <tr>\n",
       "      <th>22563</th>\n",
       "      <td>2018-06-02 19:03:00</td>\n",
       "      <td>2020-10-30 18:57:00</td>\n",
       "      <td>0.046296</td>\n",
       "      <td>0.076923</td>\n",
       "      <td>0.055556</td>\n",
       "      <td>5229</td>\n",
       "      <td>186 days 00:38:00</td>\n",
       "      <td>8</td>\n",
       "      <td>Antigo</td>\n",
       "      <td>0</td>\n",
       "      <td>1</td>\n",
       "      <td>Não</td>\n",
       "      <td>0</td>\n",
       "    </tr>\n",
       "    <tr>\n",
       "      <th>25613</th>\n",
       "      <td>2015-01-16 14:33:00</td>\n",
       "      <td>2020-02-14 05:41:00</td>\n",
       "      <td>0.055556</td>\n",
       "      <td>0.107692</td>\n",
       "      <td>0.041667</td>\n",
       "      <td>18646</td>\n",
       "      <td>202 days 06:51:00</td>\n",
       "      <td>1</td>\n",
       "      <td>Antigo</td>\n",
       "      <td>0</td>\n",
       "      <td>1</td>\n",
       "      <td>Não</td>\n",
       "      <td>0</td>\n",
       "    </tr>\n",
       "  </tbody>\n",
       "</table>\n",
       "</div>"
      ],
      "text/plain": [
       "             min_abertura      max_fechamento  media_diarias  qtd_contratos  \\\n",
       "40123 2019-06-06 11:39:00 2019-06-09 11:39:00       0.111111       0.000000   \n",
       "3245  2015-04-12 23:46:00 2020-12-02 22:02:00       0.067050       0.430769   \n",
       "31902 2015-08-30 13:20:00 2020-10-23 15:01:00       0.000000       0.015385   \n",
       "22563 2018-06-02 19:03:00 2020-10-30 18:57:00       0.046296       0.076923   \n",
       "25613 2015-01-16 14:33:00 2020-02-14 05:41:00       0.055556       0.107692   \n",
       "\n",
       "       media_he  periodo_inicio_fim_dias            dif_data  \\\n",
       "40123  0.000000                        8   584 days 16:50:00   \n",
       "3245   0.080460                    27301    48 days 01:08:30   \n",
       "31902  0.000000                    19460  1880 days 01:41:00   \n",
       "22563  0.055556                     5229   186 days 00:38:00   \n",
       "25613  0.041667                    18646   202 days 06:51:00   \n",
       "\n",
       "       aquisição_cliente categoria_cliente cliente_novo cliente_antigo  \\\n",
       "40123                  3              Novo            1              0   \n",
       "3245                   6            Antigo            0              1   \n",
       "31902                  7            Antigo            0              1   \n",
       "22563                  8            Antigo            0              1   \n",
       "25613                  1            Antigo            0              1   \n",
       "\n",
       "      categoria_churn churn  \n",
       "40123             Sim     1  \n",
       "3245              Não     0  \n",
       "31902             Sim     1  \n",
       "22563             Não     0  \n",
       "25613             Não     0  "
      ]
     },
     "execution_count": 27,
     "metadata": {},
     "output_type": "execute_result"
    }
   ],
   "source": [
    "for col in ['aquisição_cliente','periodo_inicio_fim_dias']:\n",
    "    scaler = LabelEncoder()\n",
    "    data_churn[col] = scaler.fit_transform(data_churn[col])\n",
    "data_churn.sample(5)"
   ]
  },
  {
   "cell_type": "markdown",
   "id": "e4bdca34",
   "metadata": {},
   "source": [
    "### Transformar os campos numericos pra uma escala única para que o modelo de provisão trate os campos sem tendenciar o resultado pela grandeza da variável. Além disso, para que seja treinado um modelo, preciso transformar minhas variáveis categóricas para o tipo numérico, conforme acima."
   ]
  },
  {
   "cell_type": "code",
   "execution_count": 28,
   "id": "387b82b7",
   "metadata": {},
   "outputs": [
    {
     "name": "stderr",
     "output_type": "stream",
     "text": [
      "C:\\Users\\IGOR~1.MAL\\AppData\\Local\\Temp/ipykernel_27936/2257028068.py:2: FutureWarning: In a future version of pandas all arguments of DataFrame.drop except for the argument 'labels' will be keyword-only\n",
      "  features = data_churn.drop(['churn','min_abertura','max_fechamento', 'dif_data','categoria_cliente', 'categoria_churn'],1)\n"
     ]
    }
   ],
   "source": [
    "#Separar features e labels\n",
    "features = data_churn.drop(['churn','min_abertura','max_fechamento', 'dif_data','categoria_cliente', 'categoria_churn'],1)\n",
    "label = data_churn['churn']\n",
    "\n",
    "#parte para validação\n",
    "val = data_churn.head(10)\n",
    "\n",
    "#novo feature\n",
    "features = features.iloc[10:]\n",
    "label = label.iloc[10:]\n",
    "\n",
    "#Separa entre treinamento e teste\n",
    "x_train, x_test, y_train, y_test = train_test_split (features,label, test_size=.30, random_state=0)\n",
    "\n",
    "#ajustar o tipo de dado das variáveis\n",
    "y_train=y_train.astype('int64')"
   ]
  },
  {
   "cell_type": "markdown",
   "id": "6d3c2e6c",
   "metadata": {},
   "source": [
    "### Separação dos dados para criação do modelo de categorização e classificação de churn."
   ]
  },
  {
   "cell_type": "code",
   "execution_count": 29,
   "id": "99f36eba",
   "metadata": {},
   "outputs": [
    {
     "data": {
      "text/plain": [
       "RandomForestClassifier(n_estimators=400, n_jobs=-1, random_state=0)"
      ]
     },
     "execution_count": 29,
     "metadata": {},
     "output_type": "execute_result"
    }
   ],
   "source": [
    "modelo = RandomForestClassifier(n_estimators = 400 ,random_state = 0, n_jobs = -1)\n",
    "\n",
    "modelo.fit(x_train,y_train)"
   ]
  },
  {
   "cell_type": "code",
   "execution_count": 30,
   "id": "6963150c",
   "metadata": {},
   "outputs": [
    {
     "name": "stderr",
     "output_type": "stream",
     "text": [
      "C:\\Users\\IGOR~1.MAL\\AppData\\Local\\Temp/ipykernel_27936/295922822.py:3: SettingWithCopyWarning: \n",
      "A value is trying to be set on a copy of a slice from a DataFrame.\n",
      "Try using .loc[row_indexer,col_indexer] = value instead\n",
      "\n",
      "See the caveats in the documentation: https://pandas.pydata.org/pandas-docs/stable/user_guide/indexing.html#returning-a-view-versus-a-copy\n",
      "  x_test['target'] = y_test\n",
      "C:\\Users\\IGOR~1.MAL\\AppData\\Local\\Temp/ipykernel_27936/295922822.py:5: SettingWithCopyWarning: \n",
      "A value is trying to be set on a copy of a slice from a DataFrame.\n",
      "Try using .loc[row_indexer,col_indexer] = value instead\n",
      "\n",
      "See the caveats in the documentation: https://pandas.pydata.org/pandas-docs/stable/user_guide/indexing.html#returning-a-view-versus-a-copy\n",
      "  x_test['predict'] = p\n"
     ]
    },
    {
     "data": {
      "text/plain": [
       "array([[6023,  726],\n",
       "       [ 374, 6327]], dtype=int64)"
      ]
     },
     "execution_count": 30,
     "metadata": {},
     "output_type": "execute_result"
    }
   ],
   "source": [
    "p=modelo.predict(x_test)\n",
    "\n",
    "x_test['target'] = y_test\n",
    "y_test=y_test.astype('int64')\n",
    "x_test['predict'] = p\n",
    "p=p.astype('int64')\n",
    "\n",
    "confusion_matrix(y_test, p)"
   ]
  },
  {
   "cell_type": "markdown",
   "id": "b26b50e5",
   "metadata": {},
   "source": [
    "### Por fim, foi realizado o treinamento do modelo e o teste com a comprovação da matriz de confusão. O modelo obteve o resultado de 6023 verdadeiros positivos para 374 falsos positivos, e 6327 verdadeiros negativos para 726 falsos negativos. Outros tipos de modelo poderiam ser testados mas o utilizado ja obteve um resultado satisfatório para o case."
   ]
  }
 ],
 "metadata": {
  "kernelspec": {
   "display_name": "Python 3 (ipykernel)",
   "language": "python",
   "name": "python3"
  },
  "language_info": {
   "codemirror_mode": {
    "name": "ipython",
    "version": 3
   },
   "file_extension": ".py",
   "mimetype": "text/x-python",
   "name": "python",
   "nbconvert_exporter": "python",
   "pygments_lexer": "ipython3",
   "version": "3.9.7"
  }
 },
 "nbformat": 4,
 "nbformat_minor": 5
}
