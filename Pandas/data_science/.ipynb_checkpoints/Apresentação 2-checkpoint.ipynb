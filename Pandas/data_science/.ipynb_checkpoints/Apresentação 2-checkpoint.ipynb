{
 "cells": [
  {
   "cell_type": "markdown",
   "id": "lonely-ebony",
   "metadata": {},
   "source": [
    "# Importação das Bibliotecas"
   ]
  },
  {
   "cell_type": "code",
   "execution_count": null,
   "id": "blank-steering",
   "metadata": {},
   "outputs": [],
   "source": [
    "import pandas as pd"
   ]
  },
  {
   "cell_type": "code",
   "execution_count": null,
   "id": "guilty-wings",
   "metadata": {},
   "outputs": [],
   "source": [
    "pd.set_option(\"display.max_rows\", None)"
   ]
  },
  {
   "cell_type": "markdown",
   "id": "yellow-chemistry",
   "metadata": {},
   "source": [
    "# Importação dos Dados"
   ]
  },
  {
   "cell_type": "code",
   "execution_count": null,
   "id": "lucky-tiffany",
   "metadata": {},
   "outputs": [],
   "source": [
    "# Ler Excel\n",
    "data_frame= pd.read_excel(r'C:\\Users\\igor.malta\\Downloads\\New Case BA.xlsx', \n",
    "                                   sheet_name='Case')\n"
   ]
  },
  {
   "cell_type": "code",
   "execution_count": null,
   "id": "concerned-score",
   "metadata": {},
   "outputs": [],
   "source": [
    "# ver o tamanho do dataframe\n",
    "\n",
    "data_frame.shape"
   ]
  },
  {
   "cell_type": "markdown",
   "id": "promotional-modeling",
   "metadata": {},
   "source": [
    "# Visualização Inicial dos Dados"
   ]
  },
  {
   "cell_type": "code",
   "execution_count": null,
   "id": "fitting-swing",
   "metadata": {},
   "outputs": [],
   "source": [
    "# Ver os 5 primeiros dados registrados\n",
    "\n",
    "data_frame.head()"
   ]
  },
  {
   "cell_type": "markdown",
   "id": "surprised-supplement",
   "metadata": {},
   "source": [
    "# Verificar a Integridade dos Dados"
   ]
  },
  {
   "cell_type": "code",
   "execution_count": null,
   "id": "eight-slide",
   "metadata": {},
   "outputs": [],
   "source": [
    "data_frame.info()"
   ]
  },
  {
   "cell_type": "code",
   "execution_count": null,
   "id": "front-arcade",
   "metadata": {
    "scrolled": false
   },
   "outputs": [],
   "source": [
    "data_frame.isnull().sum().sort_values(ascending=False).head(13)"
   ]
  },
  {
   "cell_type": "markdown",
   "id": "academic-provision",
   "metadata": {},
   "source": [
    "# Pré-Processamento"
   ]
  },
  {
   "cell_type": "code",
   "execution_count": null,
   "id": "ancient-parade",
   "metadata": {},
   "outputs": [],
   "source": [
    "data_frame['user_id'] = data_frame['user_id'].astype('object')"
   ]
  },
  {
   "cell_type": "code",
   "execution_count": null,
   "id": "decreased-pressing",
   "metadata": {},
   "outputs": [],
   "source": [
    "# ver a quantidade de cada valor da variavel ds_campo_variavel_4\n",
    "\n",
    "data_frame['type_of_user'].value_counts(dropna=False)"
   ]
  },
  {
   "cell_type": "code",
   "execution_count": null,
   "id": "affected-toddler",
   "metadata": {},
   "outputs": [],
   "source": [
    "# ver a porcentagem de cada valor da variavel ds_campo_variavel_4\n",
    "\n",
    "data_frame['type_of_user'].value_counts('mean', dropna=False)*100"
   ]
  },
  {
   "cell_type": "markdown",
   "id": "optional-papua",
   "metadata": {},
   "source": [
    "## Substituir os valores nulos de colunas numéricas"
   ]
  },
  {
   "cell_type": "markdown",
   "id": "underlying-order",
   "metadata": {},
   "source": [
    "### Para coluna soma_mb_trafegado, vamos substituir os valores nulos pela média ou mediana?"
   ]
  },
  {
   "cell_type": "markdown",
   "id": "absolute-poverty",
   "metadata": {},
   "source": [
    "### Preencher coluna Venda"
   ]
  },
  {
   "cell_type": "markdown",
   "id": "contrary-kruger",
   "metadata": {},
   "source": [
    "### Excluir os Valores nulos"
   ]
  },
  {
   "cell_type": "code",
   "execution_count": null,
   "id": "strange-providence",
   "metadata": {},
   "outputs": [],
   "source": [
    "# Excluir os Valores nulos\n",
    "\n",
    "data_frame.dropna(subset=['type_of_user'], inplace=True)"
   ]
  },
  {
   "cell_type": "code",
   "execution_count": null,
   "id": "5271b43e",
   "metadata": {},
   "outputs": [],
   "source": [
    "data_frame.isnull().sum().sort_values(ascending=False).head(13)"
   ]
  },
  {
   "cell_type": "code",
   "execution_count": null,
   "id": "074ab6c5",
   "metadata": {},
   "outputs": [],
   "source": [
    " data_frame.loc[(data_frame[\"lifetime_comission_affiliate\"]>0) \n",
    "    & (data_frame[\"lifetime_comission_creator\"]>0),'type_of_user']= 'Hybrid' "
   ]
  },
  {
   "cell_type": "code",
   "execution_count": null,
   "id": "d9bbcfc5",
   "metadata": {},
   "outputs": [],
   "source": [
    " data_frame.loc[(data_frame[\"lifetime_comission_affiliate\"]==0) \n",
    "    & (data_frame[\"lifetime_comission_creator\"]==0),'type_of_user']= 'excluir' "
   ]
  },
  {
   "cell_type": "code",
   "execution_count": null,
   "id": "47cb4309",
   "metadata": {},
   "outputs": [],
   "source": [
    "data_frame.drop(data_frame[data_frame['type_of_user'] == 'excluir' ].index, inplace=True)"
   ]
  },
  {
   "cell_type": "code",
   "execution_count": null,
   "id": "db2b22de",
   "metadata": {},
   "outputs": [],
   "source": [
    "data_frame.loc[data_frame[\"lifetime_comission_affiliate\"]<0,'lifetime_comission_affiliate'] = 0 "
   ]
  },
  {
   "cell_type": "code",
   "execution_count": null,
   "id": "14c1eee6",
   "metadata": {},
   "outputs": [],
   "source": [
    "data_frame.loc[data_frame[\"lifetime_comission_creator\"]<0,'lifetime_comission_creator'] = 0 "
   ]
  },
  {
   "cell_type": "code",
   "execution_count": null,
   "id": "cb928350",
   "metadata": {},
   "outputs": [],
   "source": [
    "data_frame[\"lifetime_comission_affiliate\"].fillna(0, inplace=True)"
   ]
  },
  {
   "cell_type": "code",
   "execution_count": null,
   "id": "d858ba56",
   "metadata": {},
   "outputs": [],
   "source": [
    "data_frame.isnull().sum().sort_values(ascending=False).head(13)"
   ]
  },
  {
   "cell_type": "markdown",
   "id": "indoor-companion",
   "metadata": {},
   "source": [
    "## Substituir os valores nulos de colunas categóricas"
   ]
  },
  {
   "cell_type": "markdown",
   "id": "false-hormone",
   "metadata": {},
   "source": [
    "# Outliers !"
   ]
  },
  {
   "cell_type": "code",
   "execution_count": null,
   "id": "prescription-violin",
   "metadata": {},
   "outputs": [],
   "source": [
    "# plotar histograma\n",
    "\n",
    "data_frame.hist(bins=200, figsize=(15,10));"
   ]
  },
  {
   "cell_type": "code",
   "execution_count": null,
   "id": "stone-thesaurus",
   "metadata": {},
   "outputs": [],
   "source": [
    "data_frame.describe()"
   ]
  },
  {
   "cell_type": "markdown",
   "id": "integral-folder",
   "metadata": {},
   "source": [
    "## soma_recarga"
   ]
  },
  {
   "cell_type": "code",
   "execution_count": null,
   "id": "crucial-device",
   "metadata": {},
   "outputs": [],
   "source": [
    "# Verificar o limite inferior e superior creator\n",
    "\n",
    "q1_linha = data_frame.lifetime_comission_creator.quantile(.25)\n",
    "q3_linha = data_frame.lifetime_comission_creator.quantile(.75)\n",
    "Iqr_linha = q3_linha - q1_linha\n",
    "sup_linha = q3_linha + 1.5*Iqr_linha\n",
    "inf_linha = q1_linha - 1.5*Iqr_linha\n",
    "\n",
    "print(\"Iqr da variável soma_recarga: \", Iqr_linha)\n",
    "print(\"Limite Superior de atributo: \", sup_linha)\n",
    "print(\"Limite Inferior de atributo: \", inf_linha)"
   ]
  },
  {
   "cell_type": "code",
   "execution_count": null,
   "id": "shaped-investment",
   "metadata": {},
   "outputs": [],
   "source": [
    "# boxplot creator\n",
    "\n",
    "data_frame.lifetime_comission_creator.plot(kind='box', vert=False, figsize=(15, 3))\n",
    "plt.show()\n",
    "\n",
    "# Ver quantidade de valores \n",
    "print(\"soma_recarga: valores acima de 540373,34:\")\n",
    "print(\"Entradas: {}\".format(len(data_frame[data_frame.lifetime_comission_creator>540373.3499999975])))\n",
    "print(\"Porcentagem: {:.4f}%\".format((len(data_frame[data_frame.lifetime_comission_creator>540373.3499999975]) / data_frame.shape[0])*100))\n",
    "print(\"soma_recarga: valores abaixo de -307518,40:\")\n",
    "print(\"Entradas: {}\".format(len(data_frame[data_frame.lifetime_comission_creator<-307518.4099999985])))\n",
    "print(\"Porcentagem: {:.4f}%\".format((len(data_frame[data_frame.lifetime_comission_creator<-307518.4099999985]) / data_frame.shape[0])*100))"
   ]
  },
  {
   "cell_type": "markdown",
   "id": "opposed-information",
   "metadata": {},
   "source": [
    "## soma_mb_trafegado"
   ]
  },
  {
   "cell_type": "code",
   "execution_count": null,
   "id": "mental-initial",
   "metadata": {},
   "outputs": [],
   "source": [
    "# Verificar o limite inferior e superior affiliate\n",
    "\n",
    "q1_linha = data_frame.lifetime_comission_affiliate.quantile(.25)\n",
    "q3_linha = data_frame.lifetime_comission_affiliate.quantile(.75)\n",
    "Iqr_linha = q3_linha - q1_linha\n",
    "sup_linha = q3_linha + 1.5*Iqr_linha\n",
    "inf_linha = q1_linha - 1.5*Iqr_linha\n",
    "\n",
    "print(\"Iqr da variável soma_recarga: \", Iqr_linha)\n",
    "print(\"Limite Superior de atributo: \", sup_linha)\n",
    "print(\"Limite Inferior de atributo: \", inf_linha)"
   ]
  },
  {
   "cell_type": "code",
   "execution_count": null,
   "id": "confidential-delivery",
   "metadata": {},
   "outputs": [],
   "source": [
    "# boxplot affiliate\n",
    "\n",
    "data_frame.lifetime_comission_affiliate.plot(kind='box', vert=False, figsize=(15, 3))\n",
    "plt.show()\n",
    "\n",
    "# Ver quantidade de valores \n",
    "print(\"soma_recarga: valores acima de 410893,62:\")\n",
    "print(\"Entradas: {}\".format(len(data_frame[data_frame.lifetime_comission_affiliate>410893.625])))\n",
    "print(\"Porcentagem: {:.4f}%\".format((len(data_frame[data_frame.lifetime_comission_affiliate>410893.625]) / data_frame.shape[0])*100))\n",
    "print(\"soma_recarga: valores abaixo de -235611,37:\")\n",
    "print(\"Entradas: {}\".format(len(data_frame[data_frame.lifetime_comission_affiliate<-235611.375])))\n",
    "print(\"Porcentagem: {:.4f}%\".format((len(data_frame[data_frame.lifetime_comission_affiliate<-235611.375]) / data_frame.shape[0])*100))"
   ]
  },
  {
   "cell_type": "code",
   "execution_count": null,
   "id": "capital-terrorism",
   "metadata": {},
   "outputs": [],
   "source": [
    "# Excluir os outliers creator\n",
    "\n",
    "data_frame.drop(data_frame[data_frame['lifetime_comission_creator'] >540373.349999997].index, inplace=True)"
   ]
  },
  {
   "cell_type": "code",
   "execution_count": null,
   "id": "f2ac982a",
   "metadata": {},
   "outputs": [],
   "source": [
    "# Excluir os outliers affiliate\n",
    "\n",
    "data_frame.drop(data_frame[data_frame['lifetime_comission_affiliate'] >410893.625].index, inplace=True)"
   ]
  },
  {
   "cell_type": "code",
   "execution_count": null,
   "id": "e2bf6459",
   "metadata": {},
   "outputs": [],
   "source": [
    "data_frame.shape"
   ]
  },
  {
   "cell_type": "code",
   "execution_count": null,
   "id": "ce6b6839",
   "metadata": {},
   "outputs": [],
   "source": [
    "# boxplot affiliate tratado\n",
    "\n",
    "data_frame.lifetime_comission_affiliate.plot(kind='box', vert=False, figsize=(15, 3))\n",
    "plt.show()\n",
    "\n",
    "# Ver quantidade de valores \n",
    "print(\"soma_recarga: valores acima de 410893,62:\")\n",
    "print(\"Entradas: {}\".format(len(data_frame[data_frame.lifetime_comission_affiliate>410893.625])))\n",
    "print(\"Porcentagem: {:.4f}%\".format((len(data_frame[data_frame.lifetime_comission_affiliate>410893.625]) / data_frame.shape[0])*100))\n",
    "print(\"soma_recarga: valores abaixo de -235611,37:\")\n",
    "print(\"Entradas: {}\".format(len(data_frame[data_frame.lifetime_comission_affiliate<-235611.375])))\n",
    "print(\"Porcentagem: {:.4f}%\".format((len(data_frame[data_frame.lifetime_comission_affiliate<-235611.375]) / data_frame.shape[0])*100))"
   ]
  },
  {
   "cell_type": "code",
   "execution_count": null,
   "id": "e5f55726",
   "metadata": {},
   "outputs": [],
   "source": [
    "# boxplot creator tratado\n",
    "\n",
    "data_frame.lifetime_comission_creator.plot(kind='box', vert=False, figsize=(15, 3))\n",
    "plt.show()\n",
    "\n",
    "# Ver quantidade de valores \n",
    "print(\"soma_recarga: valores acima de 540373,34:\")\n",
    "print(\"Entradas: {}\".format(len(data_frame[data_frame.lifetime_comission_creator>540373.3499999975])))\n",
    "print(\"Porcentagem: {:.4f}%\".format((len(data_frame[data_frame.lifetime_comission_creator>540373.3499999975]) / data_frame.shape[0])*100))\n",
    "print(\"soma_recarga: valores abaixo de -307518,40:\")\n",
    "print(\"Entradas: {}\".format(len(data_frame[data_frame.lifetime_comission_creator<-307518.4099999985])))\n",
    "print(\"Porcentagem: {:.4f}%\".format((len(data_frame[data_frame.lifetime_comission_creator<-307518.4099999985]) / data_frame.shape[0])*100))"
   ]
  },
  {
   "cell_type": "code",
   "execution_count": null,
   "id": "7d6d5df5",
   "metadata": {},
   "outputs": [],
   "source": [
    "# plotar histograma sem outliers\n",
    "\n",
    "data_frame.hist(bins=200, figsize=(15,10));"
   ]
  },
  {
   "cell_type": "code",
   "execution_count": null,
   "id": "74b4f5c4",
   "metadata": {},
   "outputs": [],
   "source": [
    "data_frame.to_excel(r'C:\\Users\\igor.malta\\Downloads\\New Case tratada.xlsx',\n",
    "             sheet_name='tratada')  "
   ]
  }
 ],
 "metadata": {
  "kernelspec": {
   "display_name": "Python 3 (ipykernel)",
   "language": "python",
   "name": "python3"
  },
  "language_info": {
   "codemirror_mode": {
    "name": "ipython",
    "version": 3
   },
   "file_extension": ".py",
   "mimetype": "text/x-python",
   "name": "python",
   "nbconvert_exporter": "python",
   "pygments_lexer": "ipython3",
   "version": "3.9.7"
  }
 },
 "nbformat": 4,
 "nbformat_minor": 5
}
