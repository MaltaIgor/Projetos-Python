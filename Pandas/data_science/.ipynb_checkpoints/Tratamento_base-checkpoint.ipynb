{
 "cells": [
  {
   "cell_type": "markdown",
   "id": "lonely-ebony",
   "metadata": {},
   "source": [
    "# Importação das Bibliotecas"
   ]
  },
  {
   "cell_type": "code",
   "execution_count": 1,
   "id": "blank-steering",
   "metadata": {},
   "outputs": [],
   "source": [
    "import pandas as pd"
   ]
  },
  {
   "cell_type": "code",
   "execution_count": 2,
   "id": "guilty-wings",
   "metadata": {},
   "outputs": [],
   "source": [
    "pd.set_option(\"display.max_rows\", None)"
   ]
  },
  {
   "cell_type": "markdown",
   "id": "yellow-chemistry",
   "metadata": {},
   "source": [
    "# Importação dos Dados"
   ]
  },
  {
   "cell_type": "code",
   "execution_count": 3,
   "id": "lucky-tiffany",
   "metadata": {},
   "outputs": [],
   "source": [
    "# Ler Excel\n",
    "data_frame= pd.read_excel(r'C:\\Users\\igor.malta\\Downloads\\New Case BA.xlsx', \n",
    "                                   sheet_name='Case')\n"
   ]
  },
  {
   "cell_type": "code",
   "execution_count": 4,
   "id": "concerned-score",
   "metadata": {},
   "outputs": [
    {
     "data": {
      "text/plain": [
       "(35787, 14)"
      ]
     },
     "execution_count": 4,
     "metadata": {},
     "output_type": "execute_result"
    }
   ],
   "source": [
    "# ver o tamanho do dataframe\n",
    "\n",
    "data_frame.shape"
   ]
  },
  {
   "cell_type": "markdown",
   "id": "promotional-modeling",
   "metadata": {},
   "source": [
    "# Visualização Inicial dos Dados"
   ]
  },
  {
   "cell_type": "code",
   "execution_count": 5,
   "id": "fitting-swing",
   "metadata": {},
   "outputs": [
    {
     "data": {
      "text/html": [
       "<div>\n",
       "<style scoped>\n",
       "    .dataframe tbody tr th:only-of-type {\n",
       "        vertical-align: middle;\n",
       "    }\n",
       "\n",
       "    .dataframe tbody tr th {\n",
       "        vertical-align: top;\n",
       "    }\n",
       "\n",
       "    .dataframe thead th {\n",
       "        text-align: right;\n",
       "    }\n",
       "</style>\n",
       "<table border=\"1\" class=\"dataframe\">\n",
       "  <thead>\n",
       "    <tr style=\"text-align: right;\">\n",
       "      <th></th>\n",
       "      <th>email</th>\n",
       "      <th>user_id</th>\n",
       "      <th>event</th>\n",
       "      <th>lead_age</th>\n",
       "      <th>signup</th>\n",
       "      <th>signup _date</th>\n",
       "      <th>country</th>\n",
       "      <th>Office</th>\n",
       "      <th>intention</th>\n",
       "      <th>lifetime_comission_creator</th>\n",
       "      <th>lifetime_comission_affiliate</th>\n",
       "      <th>type_of_user</th>\n",
       "      <th>segmentation</th>\n",
       "      <th>Product Niche</th>\n",
       "    </tr>\n",
       "  </thead>\n",
       "  <tbody>\n",
       "    <tr>\n",
       "      <th>0</th>\n",
       "      <td>2626920@hotemail.com</td>\n",
       "      <td>2626920.0</td>\n",
       "      <td>NaN</td>\n",
       "      <td>31.0</td>\n",
       "      <td>Y</td>\n",
       "      <td>2014-06-20</td>\n",
       "      <td>Brazil</td>\n",
       "      <td>Brazil</td>\n",
       "      <td>Producer</td>\n",
       "      <td>132036645.0</td>\n",
       "      <td>0.0</td>\n",
       "      <td>Producer</td>\n",
       "      <td>Star</td>\n",
       "      <td>Health and Sports</td>\n",
       "    </tr>\n",
       "    <tr>\n",
       "      <th>1</th>\n",
       "      <td>21882152@hotemail.com</td>\n",
       "      <td>21882152.0</td>\n",
       "      <td>a1</td>\n",
       "      <td>32.0</td>\n",
       "      <td>Y</td>\n",
       "      <td>2017-10-11</td>\n",
       "      <td>Brazil</td>\n",
       "      <td>Brazil</td>\n",
       "      <td>Producer</td>\n",
       "      <td>41352061.0</td>\n",
       "      <td>0.0</td>\n",
       "      <td>Producer</td>\n",
       "      <td>Star</td>\n",
       "      <td>Education</td>\n",
       "    </tr>\n",
       "    <tr>\n",
       "      <th>2</th>\n",
       "      <td>7932372@hotemail.com</td>\n",
       "      <td>7932372.0</td>\n",
       "      <td>a1</td>\n",
       "      <td>28.0</td>\n",
       "      <td>Y</td>\n",
       "      <td>2015-11-04</td>\n",
       "      <td>Brazil</td>\n",
       "      <td>Brazil</td>\n",
       "      <td>Producer</td>\n",
       "      <td>31278179.0</td>\n",
       "      <td>0.0</td>\n",
       "      <td>Producer</td>\n",
       "      <td>Star</td>\n",
       "      <td>Education</td>\n",
       "    </tr>\n",
       "    <tr>\n",
       "      <th>3</th>\n",
       "      <td>7076936@hotemail.com</td>\n",
       "      <td>7076936.0</td>\n",
       "      <td>a1</td>\n",
       "      <td>30.0</td>\n",
       "      <td>Y</td>\n",
       "      <td>2015-09-11</td>\n",
       "      <td>Brazil</td>\n",
       "      <td>Brazil</td>\n",
       "      <td>Producer</td>\n",
       "      <td>20078091.0</td>\n",
       "      <td>0.0</td>\n",
       "      <td>Producer</td>\n",
       "      <td>Star</td>\n",
       "      <td>Education</td>\n",
       "    </tr>\n",
       "    <tr>\n",
       "      <th>4</th>\n",
       "      <td>11628384@hotemail.com</td>\n",
       "      <td>11628384.0</td>\n",
       "      <td>c3</td>\n",
       "      <td>29.0</td>\n",
       "      <td>Y</td>\n",
       "      <td>2016-05-10</td>\n",
       "      <td>Brazil</td>\n",
       "      <td>Brazil</td>\n",
       "      <td>Producer</td>\n",
       "      <td>17329014.0</td>\n",
       "      <td>0.0</td>\n",
       "      <td>Producer</td>\n",
       "      <td>Star</td>\n",
       "      <td>Education</td>\n",
       "    </tr>\n",
       "  </tbody>\n",
       "</table>\n",
       "</div>"
      ],
      "text/plain": [
       "                   email     user_id event  lead_age signup signup _date  \\\n",
       "0   2626920@hotemail.com   2626920.0   NaN      31.0      Y   2014-06-20   \n",
       "1  21882152@hotemail.com  21882152.0    a1      32.0      Y   2017-10-11   \n",
       "2   7932372@hotemail.com   7932372.0    a1      28.0      Y   2015-11-04   \n",
       "3   7076936@hotemail.com   7076936.0    a1      30.0      Y   2015-09-11   \n",
       "4  11628384@hotemail.com  11628384.0    c3      29.0      Y   2016-05-10   \n",
       "\n",
       "  country  Office intention  lifetime_comission_creator  \\\n",
       "0  Brazil  Brazil  Producer                 132036645.0   \n",
       "1  Brazil  Brazil  Producer                  41352061.0   \n",
       "2  Brazil  Brazil  Producer                  31278179.0   \n",
       "3  Brazil  Brazil  Producer                  20078091.0   \n",
       "4  Brazil  Brazil  Producer                  17329014.0   \n",
       "\n",
       "   lifetime_comission_affiliate type_of_user segmentation      Product Niche  \n",
       "0                           0.0     Producer         Star  Health and Sports  \n",
       "1                           0.0     Producer         Star          Education  \n",
       "2                           0.0     Producer         Star          Education  \n",
       "3                           0.0     Producer         Star          Education  \n",
       "4                           0.0     Producer         Star          Education  "
      ]
     },
     "execution_count": 5,
     "metadata": {},
     "output_type": "execute_result"
    }
   ],
   "source": [
    "# Ver os 5 primeiros dados registrados\n",
    "\n",
    "data_frame.head()"
   ]
  },
  {
   "cell_type": "markdown",
   "id": "surprised-supplement",
   "metadata": {},
   "source": [
    "# Verificar a Integridade dos Dados"
   ]
  },
  {
   "cell_type": "code",
   "execution_count": 6,
   "id": "eight-slide",
   "metadata": {},
   "outputs": [
    {
     "name": "stdout",
     "output_type": "stream",
     "text": [
      "<class 'pandas.core.frame.DataFrame'>\n",
      "RangeIndex: 35787 entries, 0 to 35786\n",
      "Data columns (total 14 columns):\n",
      " #   Column                        Non-Null Count  Dtype  \n",
      "---  ------                        --------------  -----  \n",
      " 0   email                         35787 non-null  object \n",
      " 1   user_id                       22677 non-null  float64\n",
      " 2   event                         32551 non-null  object \n",
      " 3   lead_age                      32579 non-null  float64\n",
      " 4   signup                        35787 non-null  object \n",
      " 5   signup _date                  22677 non-null  object \n",
      " 6   country                       32579 non-null  object \n",
      " 7   Office                        22677 non-null  object \n",
      " 8   intention                     32579 non-null  object \n",
      " 9   lifetime_comission_creator    22677 non-null  float64\n",
      " 10  lifetime_comission_affiliate  22676 non-null  float64\n",
      " 11  type_of_user                  21646 non-null  object \n",
      " 12  segmentation                  22677 non-null  object \n",
      " 13  Product Niche                 18254 non-null  object \n",
      "dtypes: float64(4), object(10)\n",
      "memory usage: 3.8+ MB\n"
     ]
    }
   ],
   "source": [
    "data_frame.info()"
   ]
  },
  {
   "cell_type": "code",
   "execution_count": 7,
   "id": "front-arcade",
   "metadata": {
    "scrolled": false
   },
   "outputs": [
    {
     "data": {
      "text/plain": [
       "Product Niche                   17533\n",
       "type_of_user                    14141\n",
       "lifetime_comission_affiliate    13111\n",
       "user_id                         13110\n",
       "signup _date                    13110\n",
       "Office                          13110\n",
       "lifetime_comission_creator      13110\n",
       "segmentation                    13110\n",
       "event                            3236\n",
       "lead_age                         3208\n",
       "country                          3208\n",
       "intention                        3208\n",
       "email                               0\n",
       "dtype: int64"
      ]
     },
     "execution_count": 7,
     "metadata": {},
     "output_type": "execute_result"
    }
   ],
   "source": [
    "data_frame.isnull().sum().sort_values(ascending=False).head(13)"
   ]
  },
  {
   "cell_type": "markdown",
   "id": "academic-provision",
   "metadata": {},
   "source": [
    "# Pré-Processamento"
   ]
  },
  {
   "cell_type": "code",
   "execution_count": 8,
   "id": "ancient-parade",
   "metadata": {},
   "outputs": [],
   "source": [
    "data_frame['user_id'] = data_frame['user_id'].astype('object')"
   ]
  },
  {
   "cell_type": "code",
   "execution_count": 9,
   "id": "decreased-pressing",
   "metadata": {},
   "outputs": [
    {
     "data": {
      "text/plain": [
       "Hybrid       15668\n",
       "NaN          14141\n",
       "Producer      4090\n",
       "Affiliate     1888\n",
       "Name: type_of_user, dtype: int64"
      ]
     },
     "execution_count": 9,
     "metadata": {},
     "output_type": "execute_result"
    }
   ],
   "source": [
    "# ver a quantidade de cada valor da variavel ds_campo_variavel_4\n",
    "\n",
    "data_frame['type_of_user'].value_counts(dropna=False)"
   ]
  },
  {
   "cell_type": "code",
   "execution_count": 10,
   "id": "affected-toddler",
   "metadata": {},
   "outputs": [
    {
     "data": {
      "text/plain": [
       "Hybrid       43.781261\n",
       "NaN          39.514349\n",
       "Producer     11.428731\n",
       "Affiliate     5.275659\n",
       "Name: type_of_user, dtype: float64"
      ]
     },
     "execution_count": 10,
     "metadata": {},
     "output_type": "execute_result"
    }
   ],
   "source": [
    "# ver a porcentagem de cada valor da variavel ds_campo_variavel_4\n",
    "\n",
    "data_frame['type_of_user'].value_counts('mean', dropna=False)*100"
   ]
  },
  {
   "cell_type": "markdown",
   "id": "optional-papua",
   "metadata": {},
   "source": [
    "## Substituir os valores nulos de colunas numéricas"
   ]
  },
  {
   "cell_type": "markdown",
   "id": "underlying-order",
   "metadata": {},
   "source": [
    "### Para coluna soma_mb_trafegado, vamos substituir os valores nulos pela média ou mediana?"
   ]
  },
  {
   "cell_type": "markdown",
   "id": "absolute-poverty",
   "metadata": {},
   "source": [
    "### Preencher coluna Venda"
   ]
  },
  {
   "cell_type": "markdown",
   "id": "contrary-kruger",
   "metadata": {},
   "source": [
    "### Excluir os Valores nulos"
   ]
  },
  {
   "cell_type": "code",
   "execution_count": 11,
   "id": "strange-providence",
   "metadata": {},
   "outputs": [],
   "source": [
    "# Excluir os Valores nulos\n",
    "\n",
    "data_frame.dropna(subset=['type_of_user'], inplace=True)"
   ]
  },
  {
   "cell_type": "code",
   "execution_count": 12,
   "id": "5271b43e",
   "metadata": {},
   "outputs": [
    {
     "data": {
      "text/plain": [
       "Product Niche                   3392\n",
       "event                             28\n",
       "lifetime_comission_affiliate       1\n",
       "email                              0\n",
       "user_id                            0\n",
       "lead_age                           0\n",
       "signup                             0\n",
       "signup _date                       0\n",
       "country                            0\n",
       "Office                             0\n",
       "intention                          0\n",
       "lifetime_comission_creator         0\n",
       "type_of_user                       0\n",
       "dtype: int64"
      ]
     },
     "execution_count": 12,
     "metadata": {},
     "output_type": "execute_result"
    }
   ],
   "source": [
    "data_frame.isnull().sum().sort_values(ascending=False).head(13)"
   ]
  },
  {
   "cell_type": "code",
   "execution_count": 13,
   "id": "074ab6c5",
   "metadata": {},
   "outputs": [],
   "source": [
    " data_frame.loc[(data_frame[\"lifetime_comission_affiliate\"]>0) \n",
    "    & (data_frame[\"lifetime_comission_creator\"]>0),'type_of_user']= 'Hybrid' "
   ]
  },
  {
   "cell_type": "code",
   "execution_count": null,
   "id": "d9bbcfc5",
   "metadata": {},
   "outputs": [],
   "source": [
    " data_frame.loc[(data_frame[\"lifetime_comission_affiliate\"]==0) \n",
    "    & (data_frame[\"lifetime_comission_creator\"]==0),'type_of_user']= 'excluir' "
   ]
  },
  {
   "cell_type": "code",
   "execution_count": null,
   "id": "47cb4309",
   "metadata": {},
   "outputs": [],
   "source": [
    "data_frame.drop(data_frame[data_frame['type_of_user'] == 'excluir' ].index, inplace=True)"
   ]
  },
  {
   "cell_type": "code",
   "execution_count": null,
   "id": "db2b22de",
   "metadata": {},
   "outputs": [],
   "source": [
    "data_frame.loc[data_frame[\"lifetime_comission_affiliate\"]<0,'lifetime_comission_affiliate'] = 0 "
   ]
  },
  {
   "cell_type": "code",
   "execution_count": null,
   "id": "14c1eee6",
   "metadata": {},
   "outputs": [],
   "source": [
    "data_frame.loc[data_frame[\"lifetime_comission_creator\"]<0,'lifetime_comission_creator'] = 0 "
   ]
  },
  {
   "cell_type": "code",
   "execution_count": null,
   "id": "cb928350",
   "metadata": {},
   "outputs": [],
   "source": [
    "data_frame[\"lifetime_comission_affiliate\"].fillna(0, inplace=True)"
   ]
  },
  {
   "cell_type": "code",
   "execution_count": null,
   "id": "d858ba56",
   "metadata": {},
   "outputs": [],
   "source": [
    "data_frame.isnull().sum().sort_values(ascending=False).head(13)"
   ]
  },
  {
   "cell_type": "markdown",
   "id": "indoor-companion",
   "metadata": {},
   "source": [
    "## Substituir os valores nulos de colunas categóricas"
   ]
  },
  {
   "cell_type": "markdown",
   "id": "false-hormone",
   "metadata": {},
   "source": [
    "# Outliers !"
   ]
  },
  {
   "cell_type": "code",
   "execution_count": null,
   "id": "prescription-violin",
   "metadata": {},
   "outputs": [],
   "source": [
    "# plotar histograma\n",
    "\n",
    "data_frame.hist(bins=200, figsize=(15,10));"
   ]
  },
  {
   "cell_type": "code",
   "execution_count": null,
   "id": "stone-thesaurus",
   "metadata": {},
   "outputs": [],
   "source": [
    "data_frame.describe()"
   ]
  },
  {
   "cell_type": "markdown",
   "id": "integral-folder",
   "metadata": {},
   "source": [
    "## soma_recarga"
   ]
  },
  {
   "cell_type": "code",
   "execution_count": null,
   "id": "crucial-device",
   "metadata": {},
   "outputs": [],
   "source": [
    "# Verificar o limite inferior e superior creator\n",
    "\n",
    "q1_linha = data_frame.lifetime_comission_creator.quantile(.25)\n",
    "q3_linha = data_frame.lifetime_comission_creator.quantile(.75)\n",
    "Iqr_linha = q3_linha - q1_linha\n",
    "sup_linha = q3_linha + 1.5*Iqr_linha\n",
    "inf_linha = q1_linha - 1.5*Iqr_linha\n",
    "\n",
    "print(\"Iqr da variável soma_recarga: \", Iqr_linha)\n",
    "print(\"Limite Superior de atributo: \", sup_linha)\n",
    "print(\"Limite Inferior de atributo: \", inf_linha)"
   ]
  },
  {
   "cell_type": "code",
   "execution_count": null,
   "id": "shaped-investment",
   "metadata": {},
   "outputs": [],
   "source": [
    "# boxplot creator\n",
    "\n",
    "data_frame.lifetime_comission_creator.plot(kind='box', vert=False, figsize=(15, 3))\n",
    "plt.show()\n",
    "\n",
    "# Ver quantidade de valores \n",
    "print(\"soma_recarga: valores acima de 540373,34:\")\n",
    "print(\"Entradas: {}\".format(len(data_frame[data_frame.lifetime_comission_creator>540373.3499999975])))\n",
    "print(\"Porcentagem: {:.4f}%\".format((len(data_frame[data_frame.lifetime_comission_creator>540373.3499999975]) / data_frame.shape[0])*100))\n",
    "print(\"soma_recarga: valores abaixo de -307518,40:\")\n",
    "print(\"Entradas: {}\".format(len(data_frame[data_frame.lifetime_comission_creator<-307518.4099999985])))\n",
    "print(\"Porcentagem: {:.4f}%\".format((len(data_frame[data_frame.lifetime_comission_creator<-307518.4099999985]) / data_frame.shape[0])*100))"
   ]
  },
  {
   "cell_type": "markdown",
   "id": "opposed-information",
   "metadata": {},
   "source": [
    "## soma_mb_trafegado"
   ]
  },
  {
   "cell_type": "code",
   "execution_count": null,
   "id": "mental-initial",
   "metadata": {},
   "outputs": [],
   "source": [
    "# Verificar o limite inferior e superior affiliate\n",
    "\n",
    "q1_linha = data_frame.lifetime_comission_affiliate.quantile(.25)\n",
    "q3_linha = data_frame.lifetime_comission_affiliate.quantile(.75)\n",
    "Iqr_linha = q3_linha - q1_linha\n",
    "sup_linha = q3_linha + 1.5*Iqr_linha\n",
    "inf_linha = q1_linha - 1.5*Iqr_linha\n",
    "\n",
    "print(\"Iqr da variável soma_recarga: \", Iqr_linha)\n",
    "print(\"Limite Superior de atributo: \", sup_linha)\n",
    "print(\"Limite Inferior de atributo: \", inf_linha)"
   ]
  },
  {
   "cell_type": "code",
   "execution_count": null,
   "id": "confidential-delivery",
   "metadata": {},
   "outputs": [],
   "source": [
    "# boxplot affiliate\n",
    "\n",
    "data_frame.lifetime_comission_affiliate.plot(kind='box', vert=False, figsize=(15, 3))\n",
    "plt.show()\n",
    "\n",
    "# Ver quantidade de valores \n",
    "print(\"soma_recarga: valores acima de 410893,62:\")\n",
    "print(\"Entradas: {}\".format(len(data_frame[data_frame.lifetime_comission_affiliate>410893.625])))\n",
    "print(\"Porcentagem: {:.4f}%\".format((len(data_frame[data_frame.lifetime_comission_affiliate>410893.625]) / data_frame.shape[0])*100))\n",
    "print(\"soma_recarga: valores abaixo de -235611,37:\")\n",
    "print(\"Entradas: {}\".format(len(data_frame[data_frame.lifetime_comission_affiliate<-235611.375])))\n",
    "print(\"Porcentagem: {:.4f}%\".format((len(data_frame[data_frame.lifetime_comission_affiliate<-235611.375]) / data_frame.shape[0])*100))"
   ]
  },
  {
   "cell_type": "code",
   "execution_count": null,
   "id": "capital-terrorism",
   "metadata": {},
   "outputs": [],
   "source": [
    "# Excluir os outliers creator\n",
    "\n",
    "data_frame.drop(data_frame[data_frame['lifetime_comission_creator'] >540373.349999997].index, inplace=True)"
   ]
  },
  {
   "cell_type": "code",
   "execution_count": null,
   "id": "f2ac982a",
   "metadata": {},
   "outputs": [],
   "source": [
    "# Excluir os outliers affiliate\n",
    "\n",
    "data_frame.drop(data_frame[data_frame['lifetime_comission_affiliate'] >410893.625].index, inplace=True)"
   ]
  },
  {
   "cell_type": "code",
   "execution_count": null,
   "id": "e2bf6459",
   "metadata": {},
   "outputs": [],
   "source": [
    "data_frame.shape"
   ]
  },
  {
   "cell_type": "code",
   "execution_count": null,
   "id": "ce6b6839",
   "metadata": {},
   "outputs": [],
   "source": [
    "# boxplot affiliate tratado\n",
    "\n",
    "data_frame.lifetime_comission_affiliate.plot(kind='box', vert=False, figsize=(15, 3))\n",
    "plt.show()\n",
    "\n",
    "# Ver quantidade de valores \n",
    "print(\"soma_recarga: valores acima de 410893,62:\")\n",
    "print(\"Entradas: {}\".format(len(data_frame[data_frame.lifetime_comission_affiliate>410893.625])))\n",
    "print(\"Porcentagem: {:.4f}%\".format((len(data_frame[data_frame.lifetime_comission_affiliate>410893.625]) / data_frame.shape[0])*100))\n",
    "print(\"soma_recarga: valores abaixo de -235611,37:\")\n",
    "print(\"Entradas: {}\".format(len(data_frame[data_frame.lifetime_comission_affiliate<-235611.375])))\n",
    "print(\"Porcentagem: {:.4f}%\".format((len(data_frame[data_frame.lifetime_comission_affiliate<-235611.375]) / data_frame.shape[0])*100))"
   ]
  },
  {
   "cell_type": "code",
   "execution_count": null,
   "id": "e5f55726",
   "metadata": {},
   "outputs": [],
   "source": [
    "# boxplot creator tratado\n",
    "\n",
    "data_frame.lifetime_comission_creator.plot(kind='box', vert=False, figsize=(15, 3))\n",
    "plt.show()\n",
    "\n",
    "# Ver quantidade de valores \n",
    "print(\"soma_recarga: valores acima de 540373,34:\")\n",
    "print(\"Entradas: {}\".format(len(data_frame[data_frame.lifetime_comission_creator>540373.3499999975])))\n",
    "print(\"Porcentagem: {:.4f}%\".format((len(data_frame[data_frame.lifetime_comission_creator>540373.3499999975]) / data_frame.shape[0])*100))\n",
    "print(\"soma_recarga: valores abaixo de -307518,40:\")\n",
    "print(\"Entradas: {}\".format(len(data_frame[data_frame.lifetime_comission_creator<-307518.4099999985])))\n",
    "print(\"Porcentagem: {:.4f}%\".format((len(data_frame[data_frame.lifetime_comission_creator<-307518.4099999985]) / data_frame.shape[0])*100))"
   ]
  },
  {
   "cell_type": "code",
   "execution_count": null,
   "id": "7d6d5df5",
   "metadata": {},
   "outputs": [],
   "source": [
    "# plotar histograma sem outliers\n",
    "\n",
    "data_frame.hist(bins=200, figsize=(15,10));"
   ]
  },
  {
   "cell_type": "code",
   "execution_count": null,
   "id": "74b4f5c4",
   "metadata": {},
   "outputs": [],
   "source": [
    "data_frame.to_excel(r'C:\\Users\\igor.malta\\Downloads\\New Case tratada.xlsx',\n",
    "             sheet_name='tratada')  "
   ]
  }
 ],
 "metadata": {
  "kernelspec": {
   "display_name": "Python 3 (ipykernel)",
   "language": "python",
   "name": "python3"
  },
  "language_info": {
   "codemirror_mode": {
    "name": "ipython",
    "version": 3
   },
   "file_extension": ".py",
   "mimetype": "text/x-python",
   "name": "python",
   "nbconvert_exporter": "python",
   "pygments_lexer": "ipython3",
   "version": "3.9.7"
  }
 },
 "nbformat": 4,
 "nbformat_minor": 5
}
