{
 "cells": [
  {
   "cell_type": "markdown",
   "id": "0c490135",
   "metadata": {},
   "source": [
    "# Importação das Bibliotecas"
   ]
  },
  {
   "cell_type": "code",
   "execution_count": 52,
   "id": "d70ba51b",
   "metadata": {},
   "outputs": [
    {
     "name": "stdout",
     "output_type": "stream",
     "text": [
      "Collecting tensorflow\n",
      "  Downloading tensorflow-2.9.1-cp39-cp39-win_amd64.whl (444.0 MB)\n",
      "Requirement already satisfied: numpy>=1.20 in c:\\users\\igor.malta\\anaconda3\\lib\\site-packages (from tensorflow) (1.20.3)\n",
      "Requirement already satisfied: h5py>=2.9.0 in c:\\users\\igor.malta\\anaconda3\\lib\\site-packages (from tensorflow) (3.2.1)\n",
      "Requirement already satisfied: six>=1.12.0 in c:\\users\\igor.malta\\anaconda3\\lib\\site-packages (from tensorflow) (1.16.0)\n",
      "Requirement already satisfied: packaging in c:\\users\\igor.malta\\anaconda3\\lib\\site-packages (from tensorflow) (21.0)\n",
      "Collecting absl-py>=1.0.0\n",
      "  Downloading absl_py-1.2.0-py3-none-any.whl (123 kB)\n",
      "Collecting flatbuffers<2,>=1.12\n",
      "  Downloading flatbuffers-1.12-py2.py3-none-any.whl (15 kB)\n",
      "Collecting tensorflow-estimator<2.10.0,>=2.9.0rc0\n",
      "  Downloading tensorflow_estimator-2.9.0-py2.py3-none-any.whl (438 kB)\n",
      "Requirement already satisfied: typing-extensions>=3.6.6 in c:\\users\\igor.malta\\anaconda3\\lib\\site-packages (from tensorflow) (3.10.0.2)\n",
      "Collecting libclang>=13.0.0\n",
      "  Downloading libclang-14.0.6-py2.py3-none-win_amd64.whl (14.2 MB)\n",
      "Collecting tensorboard<2.10,>=2.9\n",
      "  Downloading tensorboard-2.9.1-py3-none-any.whl (5.8 MB)\n",
      "Collecting keras<2.10.0,>=2.9.0rc0\n",
      "  Downloading keras-2.9.0-py2.py3-none-any.whl (1.6 MB)\n",
      "Collecting tensorflow-io-gcs-filesystem>=0.23.1\n",
      "  Downloading tensorflow_io_gcs_filesystem-0.26.0-cp39-cp39-win_amd64.whl (1.5 MB)\n",
      "Requirement already satisfied: setuptools in c:\\users\\igor.malta\\anaconda3\\lib\\site-packages (from tensorflow) (58.0.4)\n",
      "Collecting keras-preprocessing>=1.1.1\n",
      "  Downloading Keras_Preprocessing-1.1.2-py2.py3-none-any.whl (42 kB)\n",
      "Collecting protobuf<3.20,>=3.9.2\n",
      "  Downloading protobuf-3.19.4-cp39-cp39-win_amd64.whl (895 kB)\n",
      "Collecting grpcio<2.0,>=1.24.3\n",
      "  Downloading grpcio-1.47.0-cp39-cp39-win_amd64.whl (3.6 MB)\n",
      "Collecting gast<=0.4.0,>=0.2.1\n",
      "  Downloading gast-0.4.0-py3-none-any.whl (9.8 kB)\n",
      "Collecting google-pasta>=0.1.1\n",
      "  Downloading google_pasta-0.2.0-py3-none-any.whl (57 kB)\n",
      "Collecting astunparse>=1.6.0\n",
      "  Downloading astunparse-1.6.3-py2.py3-none-any.whl (12 kB)\n",
      "Requirement already satisfied: wrapt>=1.11.0 in c:\\users\\igor.malta\\anaconda3\\lib\\site-packages (from tensorflow) (1.12.1)\n",
      "Collecting opt-einsum>=2.3.2\n",
      "  Downloading opt_einsum-3.3.0-py3-none-any.whl (65 kB)\n",
      "Collecting termcolor>=1.1.0\n",
      "  Downloading termcolor-1.1.0.tar.gz (3.9 kB)\n",
      "Requirement already satisfied: wheel<1.0,>=0.23.0 in c:\\users\\igor.malta\\anaconda3\\lib\\site-packages (from astunparse>=1.6.0->tensorflow) (0.37.0)\n",
      "Collecting google-auth-oauthlib<0.5,>=0.4.1\n",
      "  Downloading google_auth_oauthlib-0.4.6-py2.py3-none-any.whl (18 kB)\n",
      "Collecting markdown>=2.6.8\n",
      "  Downloading Markdown-3.4.1-py3-none-any.whl (93 kB)\n",
      "Collecting tensorboard-data-server<0.7.0,>=0.6.0\n",
      "  Downloading tensorboard_data_server-0.6.1-py3-none-any.whl (2.4 kB)\n",
      "Collecting google-auth<3,>=1.6.3\n",
      "  Downloading google_auth-2.11.0-py2.py3-none-any.whl (167 kB)\n",
      "Collecting tensorboard-plugin-wit>=1.6.0\n",
      "  Downloading tensorboard_plugin_wit-1.8.1-py3-none-any.whl (781 kB)\n",
      "Requirement already satisfied: requests<3,>=2.21.0 in c:\\users\\igor.malta\\anaconda3\\lib\\site-packages (from tensorboard<2.10,>=2.9->tensorflow) (2.26.0)\n",
      "Requirement already satisfied: werkzeug>=1.0.1 in c:\\users\\igor.malta\\anaconda3\\lib\\site-packages (from tensorboard<2.10,>=2.9->tensorflow) (2.0.2)\n",
      "Collecting cachetools<6.0,>=2.0.0\n",
      "  Downloading cachetools-5.2.0-py3-none-any.whl (9.3 kB)\n",
      "Collecting rsa<5,>=3.1.4\n",
      "  Downloading rsa-4.9-py3-none-any.whl (34 kB)\n",
      "Collecting pyasn1-modules>=0.2.1\n",
      "  Downloading pyasn1_modules-0.2.8-py2.py3-none-any.whl (155 kB)\n",
      "Collecting requests-oauthlib>=0.7.0\n",
      "  Downloading requests_oauthlib-1.3.1-py2.py3-none-any.whl (23 kB)\n",
      "Requirement already satisfied: importlib-metadata>=4.4 in c:\\users\\igor.malta\\anaconda3\\lib\\site-packages (from markdown>=2.6.8->tensorboard<2.10,>=2.9->tensorflow) (4.8.1)\n",
      "Requirement already satisfied: zipp>=0.5 in c:\\users\\igor.malta\\anaconda3\\lib\\site-packages (from importlib-metadata>=4.4->markdown>=2.6.8->tensorboard<2.10,>=2.9->tensorflow) (3.6.0)\n",
      "Collecting pyasn1<0.5.0,>=0.4.6\n",
      "  Downloading pyasn1-0.4.8-py2.py3-none-any.whl (77 kB)\n",
      "Requirement already satisfied: charset-normalizer~=2.0.0 in c:\\users\\igor.malta\\anaconda3\\lib\\site-packages (from requests<3,>=2.21.0->tensorboard<2.10,>=2.9->tensorflow) (2.0.4)\n",
      "Requirement already satisfied: idna<4,>=2.5 in c:\\users\\igor.malta\\anaconda3\\lib\\site-packages (from requests<3,>=2.21.0->tensorboard<2.10,>=2.9->tensorflow) (3.2)\n",
      "Requirement already satisfied: urllib3<1.27,>=1.21.1 in c:\\users\\igor.malta\\anaconda3\\lib\\site-packages (from requests<3,>=2.21.0->tensorboard<2.10,>=2.9->tensorflow) (1.26.7)\n",
      "Requirement already satisfied: certifi>=2017.4.17 in c:\\users\\igor.malta\\anaconda3\\lib\\site-packages (from requests<3,>=2.21.0->tensorboard<2.10,>=2.9->tensorflow) (2021.10.8)\n",
      "Collecting oauthlib>=3.0.0\n",
      "  Downloading oauthlib-3.2.0-py3-none-any.whl (151 kB)\n",
      "Requirement already satisfied: pyparsing>=2.0.2 in c:\\users\\igor.malta\\anaconda3\\lib\\site-packages (from packaging->tensorflow) (3.0.4)\n",
      "Building wheels for collected packages: termcolor\n",
      "  Building wheel for termcolor (setup.py): started\n",
      "  Building wheel for termcolor (setup.py): finished with status 'done'\n",
      "  Created wheel for termcolor: filename=termcolor-1.1.0-py3-none-any.whl size=4847 sha256=5784f668990e314039ef6639a770c48aa5e7aab781ee830901553a91332d5781\n",
      "  Stored in directory: c:\\users\\igor.malta\\appdata\\local\\pip\\cache\\wheels\\b6\\0d\\90\\0d1bbd99855f99cb2f6c2e5ff96f8023fad8ec367695f7d72d\n",
      "Successfully built termcolor\n",
      "Installing collected packages: pyasn1, rsa, pyasn1-modules, oauthlib, cachetools, requests-oauthlib, google-auth, tensorboard-plugin-wit, tensorboard-data-server, protobuf, markdown, grpcio, google-auth-oauthlib, absl-py, termcolor, tensorflow-io-gcs-filesystem, tensorflow-estimator, tensorboard, opt-einsum, libclang, keras-preprocessing, keras, google-pasta, gast, flatbuffers, astunparse, tensorflow\n",
      "Successfully installed absl-py-1.2.0 astunparse-1.6.3 cachetools-5.2.0 flatbuffers-1.12 gast-0.4.0 google-auth-2.11.0 google-auth-oauthlib-0.4.6 google-pasta-0.2.0 grpcio-1.47.0 keras-2.9.0 keras-preprocessing-1.1.2 libclang-14.0.6 markdown-3.4.1 oauthlib-3.2.0 opt-einsum-3.3.0 protobuf-3.19.4 pyasn1-0.4.8 pyasn1-modules-0.2.8 requests-oauthlib-1.3.1 rsa-4.9 tensorboard-2.9.1 tensorboard-data-server-0.6.1 tensorboard-plugin-wit-1.8.1 tensorflow-2.9.1 tensorflow-estimator-2.9.0 tensorflow-io-gcs-filesystem-0.26.0 termcolor-1.1.0\n"
     ]
    }
   ],
   "source": [
    "import pandas as pd\n",
    "from datetime import datetime\n",
    "import statistics\n",
    "import matplotlib.pyplot as plt\n",
    "from sklearn.preprocessing import MinMaxScaler, LabelEncoder\n",
    "from sklearn.model_selection import train_test_split\n",
    "!pip install tensorflow\n",
    "from tensorflow.keras.models import Sequential"
   ]
  },
  {
   "cell_type": "markdown",
   "id": "69c24838",
   "metadata": {},
   "source": [
    "# Importação dos Dados"
   ]
  },
  {
   "cell_type": "code",
   "execution_count": 2,
   "id": "0a4a8e7e",
   "metadata": {},
   "outputs": [],
   "source": [
    "clientes = pd.read_csv(r'C:\\Users\\igor.malta\\Downloads\\case_localiza\\base_clientes.csv',  delimiter = \";\")\n",
    "contratos = pd.read_csv(r'C:\\Users\\igor.malta\\Downloads\\case_localiza\\base_contratos.csv',  delimiter = \";\")"
   ]
  },
  {
   "cell_type": "markdown",
   "id": "85f9bacf",
   "metadata": {},
   "source": [
    "# Limpeza dos dados"
   ]
  },
  {
   "cell_type": "markdown",
   "id": "349363e1",
   "metadata": {},
   "source": [
    "### Ao realizar a importação, são boas praticas realizar a conferencia dos primeiros e dos ultimos registros para avaliar se os dados estão corretos, com a separação de colunas e a encodificação corretas, assim como a estrutura do dataframe e suas informações."
   ]
  },
  {
   "cell_type": "code",
   "execution_count": 3,
   "id": "c351a532",
   "metadata": {},
   "outputs": [
    {
     "data": {
      "text/html": [
       "<div>\n",
       "<style scoped>\n",
       "    .dataframe tbody tr th:only-of-type {\n",
       "        vertical-align: middle;\n",
       "    }\n",
       "\n",
       "    .dataframe tbody tr th {\n",
       "        vertical-align: top;\n",
       "    }\n",
       "\n",
       "    .dataframe thead th {\n",
       "        text-align: right;\n",
       "    }\n",
       "</style>\n",
       "<table border=\"1\" class=\"dataframe\">\n",
       "  <thead>\n",
       "    <tr style=\"text-align: right;\">\n",
       "      <th></th>\n",
       "      <th>cd_cliente</th>\n",
       "      <th>nome_cliente</th>\n",
       "      <th>aquisição_cliente</th>\n",
       "    </tr>\n",
       "  </thead>\n",
       "  <tbody>\n",
       "    <tr>\n",
       "      <th>0</th>\n",
       "      <td>1</td>\n",
       "      <td>Rosa</td>\n",
       "      <td>Organic</td>\n",
       "    </tr>\n",
       "    <tr>\n",
       "      <th>1</th>\n",
       "      <td>2</td>\n",
       "      <td>Joaquim</td>\n",
       "      <td>Social Media</td>\n",
       "    </tr>\n",
       "    <tr>\n",
       "      <th>2</th>\n",
       "      <td>3</td>\n",
       "      <td>Antônio</td>\n",
       "      <td>Direct</td>\n",
       "    </tr>\n",
       "    <tr>\n",
       "      <th>3</th>\n",
       "      <td>4</td>\n",
       "      <td>Pedro</td>\n",
       "      <td>Google Ads - Search</td>\n",
       "    </tr>\n",
       "    <tr>\n",
       "      <th>4</th>\n",
       "      <td>5</td>\n",
       "      <td>Josefa</td>\n",
       "      <td>Referral</td>\n",
       "    </tr>\n",
       "  </tbody>\n",
       "</table>\n",
       "</div>"
      ],
      "text/plain": [
       "   cd_cliente nome_cliente    aquisição_cliente\n",
       "0           1         Rosa              Organic\n",
       "1           2      Joaquim         Social Media\n",
       "2           3      Antônio               Direct\n",
       "3           4        Pedro  Google Ads - Search\n",
       "4           5       Josefa             Referral"
      ]
     },
     "execution_count": 3,
     "metadata": {},
     "output_type": "execute_result"
    }
   ],
   "source": [
    "clientes.head()"
   ]
  },
  {
   "cell_type": "code",
   "execution_count": 4,
   "id": "75ffe6dd",
   "metadata": {},
   "outputs": [
    {
     "data": {
      "text/html": [
       "<div>\n",
       "<style scoped>\n",
       "    .dataframe tbody tr th:only-of-type {\n",
       "        vertical-align: middle;\n",
       "    }\n",
       "\n",
       "    .dataframe tbody tr th {\n",
       "        vertical-align: top;\n",
       "    }\n",
       "\n",
       "    .dataframe thead th {\n",
       "        text-align: right;\n",
       "    }\n",
       "</style>\n",
       "<table border=\"1\" class=\"dataframe\">\n",
       "  <thead>\n",
       "    <tr style=\"text-align: right;\">\n",
       "      <th></th>\n",
       "      <th>cd_cliente</th>\n",
       "      <th>nome_cliente</th>\n",
       "      <th>aquisição_cliente</th>\n",
       "    </tr>\n",
       "  </thead>\n",
       "  <tbody>\n",
       "    <tr>\n",
       "      <th>44837</th>\n",
       "      <td>109047</td>\n",
       "      <td>Sandra</td>\n",
       "      <td>Organic</td>\n",
       "    </tr>\n",
       "    <tr>\n",
       "      <th>44838</th>\n",
       "      <td>112481</td>\n",
       "      <td>Fabio</td>\n",
       "      <td>Organic</td>\n",
       "    </tr>\n",
       "    <tr>\n",
       "      <th>44839</th>\n",
       "      <td>114109</td>\n",
       "      <td>Rodrigo</td>\n",
       "      <td>Direct</td>\n",
       "    </tr>\n",
       "    <tr>\n",
       "      <th>44840</th>\n",
       "      <td>121495</td>\n",
       "      <td>Sandra</td>\n",
       "      <td>Organic</td>\n",
       "    </tr>\n",
       "    <tr>\n",
       "      <th>44841</th>\n",
       "      <td>123883</td>\n",
       "      <td>Pedro</td>\n",
       "      <td>Organic</td>\n",
       "    </tr>\n",
       "  </tbody>\n",
       "</table>\n",
       "</div>"
      ],
      "text/plain": [
       "       cd_cliente nome_cliente aquisição_cliente\n",
       "44837      109047       Sandra           Organic\n",
       "44838      112481        Fabio           Organic\n",
       "44839      114109      Rodrigo            Direct\n",
       "44840      121495       Sandra           Organic\n",
       "44841      123883        Pedro           Organic"
      ]
     },
     "execution_count": 4,
     "metadata": {},
     "output_type": "execute_result"
    }
   ],
   "source": [
    "clientes.tail()"
   ]
  },
  {
   "cell_type": "code",
   "execution_count": 5,
   "id": "f220d361",
   "metadata": {},
   "outputs": [
    {
     "data": {
      "text/html": [
       "<div>\n",
       "<style scoped>\n",
       "    .dataframe tbody tr th:only-of-type {\n",
       "        vertical-align: middle;\n",
       "    }\n",
       "\n",
       "    .dataframe tbody tr th {\n",
       "        vertical-align: top;\n",
       "    }\n",
       "\n",
       "    .dataframe thead th {\n",
       "        text-align: right;\n",
       "    }\n",
       "</style>\n",
       "<table border=\"1\" class=\"dataframe\">\n",
       "  <thead>\n",
       "    <tr style=\"text-align: right;\">\n",
       "      <th></th>\n",
       "      <th>cidade_retirada</th>\n",
       "      <th>cidade_devolucao</th>\n",
       "      <th>cd_contrato</th>\n",
       "      <th>transporte_locado</th>\n",
       "      <th>data_abertura_contrato</th>\n",
       "      <th>qtd_diarias</th>\n",
       "      <th>data_fechamento_contrato</th>\n",
       "      <th>qtd_hora_extra</th>\n",
       "      <th>valor_contrato</th>\n",
       "      <th>cd_cliente</th>\n",
       "    </tr>\n",
       "  </thead>\n",
       "  <tbody>\n",
       "    <tr>\n",
       "      <th>0</th>\n",
       "      <td>Hogsmeade</td>\n",
       "      <td>Hogsmeade</td>\n",
       "      <td>HGM048798</td>\n",
       "      <td>Portal</td>\n",
       "      <td>26/01/2015 05:58</td>\n",
       "      <td>1</td>\n",
       "      <td>27/01/2015 05:58</td>\n",
       "      <td>0</td>\n",
       "      <td>229</td>\n",
       "      <td>1</td>\n",
       "    </tr>\n",
       "    <tr>\n",
       "      <th>1</th>\n",
       "      <td>Springfield</td>\n",
       "      <td>Springfield</td>\n",
       "      <td>SPF030834</td>\n",
       "      <td>Ônibus Escolar</td>\n",
       "      <td>05/02/2015 15:10</td>\n",
       "      <td>1</td>\n",
       "      <td>06/02/2015 15:10</td>\n",
       "      <td>0</td>\n",
       "      <td>198</td>\n",
       "      <td>1</td>\n",
       "    </tr>\n",
       "    <tr>\n",
       "      <th>2</th>\n",
       "      <td>Porto Real</td>\n",
       "      <td>Porto Real</td>\n",
       "      <td>PRL017782</td>\n",
       "      <td>Barco</td>\n",
       "      <td>04/05/2015 20:49</td>\n",
       "      <td>1</td>\n",
       "      <td>05/05/2015 20:49</td>\n",
       "      <td>0</td>\n",
       "      <td>436</td>\n",
       "      <td>1</td>\n",
       "    </tr>\n",
       "    <tr>\n",
       "      <th>3</th>\n",
       "      <td>Basin City</td>\n",
       "      <td>Basin City</td>\n",
       "      <td>SIN042621</td>\n",
       "      <td>1960 Corvette</td>\n",
       "      <td>07/05/2015 07:34</td>\n",
       "      <td>1</td>\n",
       "      <td>08/05/2015 07:34</td>\n",
       "      <td>0</td>\n",
       "      <td>423</td>\n",
       "      <td>1</td>\n",
       "    </tr>\n",
       "    <tr>\n",
       "      <th>4</th>\n",
       "      <td>Godric's Hollow</td>\n",
       "      <td>Godric's Hollow</td>\n",
       "      <td>GDH044954</td>\n",
       "      <td>Testralio</td>\n",
       "      <td>01/08/2015 11:14</td>\n",
       "      <td>2</td>\n",
       "      <td>03/08/2015 12:14</td>\n",
       "      <td>1</td>\n",
       "      <td>676</td>\n",
       "      <td>1</td>\n",
       "    </tr>\n",
       "  </tbody>\n",
       "</table>\n",
       "</div>"
      ],
      "text/plain": [
       "   cidade_retirada cidade_devolucao cd_contrato transporte_locado  \\\n",
       "0        Hogsmeade        Hogsmeade   HGM048798            Portal   \n",
       "1      Springfield      Springfield   SPF030834    Ônibus Escolar   \n",
       "2       Porto Real       Porto Real   PRL017782             Barco   \n",
       "3       Basin City       Basin City   SIN042621     1960 Corvette   \n",
       "4  Godric's Hollow  Godric's Hollow   GDH044954         Testralio   \n",
       "\n",
       "  data_abertura_contrato  qtd_diarias data_fechamento_contrato  \\\n",
       "0       26/01/2015 05:58            1         27/01/2015 05:58   \n",
       "1       05/02/2015 15:10            1         06/02/2015 15:10   \n",
       "2       04/05/2015 20:49            1         05/05/2015 20:49   \n",
       "3       07/05/2015 07:34            1         08/05/2015 07:34   \n",
       "4       01/08/2015 11:14            2         03/08/2015 12:14   \n",
       "\n",
       "   qtd_hora_extra  valor_contrato  cd_cliente  \n",
       "0               0             229           1  \n",
       "1               0             198           1  \n",
       "2               0             436           1  \n",
       "3               0             423           1  \n",
       "4               1             676           1  "
      ]
     },
     "execution_count": 5,
     "metadata": {},
     "output_type": "execute_result"
    }
   ],
   "source": [
    "contratos.head()"
   ]
  },
  {
   "cell_type": "code",
   "execution_count": 6,
   "id": "d2121a53",
   "metadata": {},
   "outputs": [
    {
     "data": {
      "text/html": [
       "<div>\n",
       "<style scoped>\n",
       "    .dataframe tbody tr th:only-of-type {\n",
       "        vertical-align: middle;\n",
       "    }\n",
       "\n",
       "    .dataframe tbody tr th {\n",
       "        vertical-align: top;\n",
       "    }\n",
       "\n",
       "    .dataframe thead th {\n",
       "        text-align: right;\n",
       "    }\n",
       "</style>\n",
       "<table border=\"1\" class=\"dataframe\">\n",
       "  <thead>\n",
       "    <tr style=\"text-align: right;\">\n",
       "      <th></th>\n",
       "      <th>cidade_retirada</th>\n",
       "      <th>cidade_devolucao</th>\n",
       "      <th>cd_contrato</th>\n",
       "      <th>transporte_locado</th>\n",
       "      <th>data_abertura_contrato</th>\n",
       "      <th>qtd_diarias</th>\n",
       "      <th>data_fechamento_contrato</th>\n",
       "      <th>qtd_hora_extra</th>\n",
       "      <th>valor_contrato</th>\n",
       "      <th>cd_cliente</th>\n",
       "    </tr>\n",
       "  </thead>\n",
       "  <tbody>\n",
       "    <tr>\n",
       "      <th>480858</th>\n",
       "      <td>Godric's Hollow</td>\n",
       "      <td>Godric's Hollow</td>\n",
       "      <td>GDH015195</td>\n",
       "      <td>Vassoura</td>\n",
       "      <td>25/11/2020 20:25</td>\n",
       "      <td>4</td>\n",
       "      <td>29/11/2020 20:25</td>\n",
       "      <td>0</td>\n",
       "      <td>1204</td>\n",
       "      <td>109047</td>\n",
       "    </tr>\n",
       "    <tr>\n",
       "      <th>480859</th>\n",
       "      <td>Springfield</td>\n",
       "      <td>Springfield</td>\n",
       "      <td>SPF004254</td>\n",
       "      <td>Ônibus Escolar</td>\n",
       "      <td>21/03/2018 16:10</td>\n",
       "      <td>7</td>\n",
       "      <td>28/03/2018 17:10</td>\n",
       "      <td>1</td>\n",
       "      <td>2723</td>\n",
       "      <td>112481</td>\n",
       "    </tr>\n",
       "    <tr>\n",
       "      <th>480860</th>\n",
       "      <td>Atlântida</td>\n",
       "      <td>Atlântida</td>\n",
       "      <td>ATL054451</td>\n",
       "      <td>Nadadeiras</td>\n",
       "      <td>11/08/2015 18:22</td>\n",
       "      <td>1</td>\n",
       "      <td>12/08/2015 18:22</td>\n",
       "      <td>0</td>\n",
       "      <td>494</td>\n",
       "      <td>114109</td>\n",
       "    </tr>\n",
       "    <tr>\n",
       "      <th>480861</th>\n",
       "      <td>Porto Real</td>\n",
       "      <td>Porto Real</td>\n",
       "      <td>PRL054093</td>\n",
       "      <td>Canoa</td>\n",
       "      <td>14/07/2015 02:33</td>\n",
       "      <td>1</td>\n",
       "      <td>15/07/2015 02:33</td>\n",
       "      <td>0</td>\n",
       "      <td>179</td>\n",
       "      <td>121495</td>\n",
       "    </tr>\n",
       "    <tr>\n",
       "      <th>480862</th>\n",
       "      <td>Atlântida</td>\n",
       "      <td>Atlântida</td>\n",
       "      <td>ATL031442</td>\n",
       "      <td>Cavalo-Marinho</td>\n",
       "      <td>22/07/2018 00:09</td>\n",
       "      <td>4</td>\n",
       "      <td>26/07/2018 00:09</td>\n",
       "      <td>0</td>\n",
       "      <td>1664</td>\n",
       "      <td>123883</td>\n",
       "    </tr>\n",
       "  </tbody>\n",
       "</table>\n",
       "</div>"
      ],
      "text/plain": [
       "        cidade_retirada cidade_devolucao cd_contrato transporte_locado  \\\n",
       "480858  Godric's Hollow  Godric's Hollow   GDH015195          Vassoura   \n",
       "480859      Springfield      Springfield   SPF004254    Ônibus Escolar   \n",
       "480860        Atlântida        Atlântida   ATL054451        Nadadeiras   \n",
       "480861       Porto Real       Porto Real   PRL054093             Canoa   \n",
       "480862        Atlântida        Atlântida   ATL031442    Cavalo-Marinho   \n",
       "\n",
       "       data_abertura_contrato  qtd_diarias data_fechamento_contrato  \\\n",
       "480858       25/11/2020 20:25            4         29/11/2020 20:25   \n",
       "480859       21/03/2018 16:10            7         28/03/2018 17:10   \n",
       "480860       11/08/2015 18:22            1         12/08/2015 18:22   \n",
       "480861       14/07/2015 02:33            1         15/07/2015 02:33   \n",
       "480862       22/07/2018 00:09            4         26/07/2018 00:09   \n",
       "\n",
       "        qtd_hora_extra  valor_contrato  cd_cliente  \n",
       "480858               0            1204      109047  \n",
       "480859               1            2723      112481  \n",
       "480860               0             494      114109  \n",
       "480861               0             179      121495  \n",
       "480862               0            1664      123883  "
      ]
     },
     "execution_count": 6,
     "metadata": {},
     "output_type": "execute_result"
    }
   ],
   "source": [
    "contratos.tail()"
   ]
  },
  {
   "cell_type": "code",
   "execution_count": 7,
   "id": "9e5c896e",
   "metadata": {},
   "outputs": [
    {
     "data": {
      "text/plain": [
       "(480863, 10)"
      ]
     },
     "execution_count": 7,
     "metadata": {},
     "output_type": "execute_result"
    }
   ],
   "source": [
    "contratos.shape\n"
   ]
  },
  {
   "cell_type": "code",
   "execution_count": 8,
   "id": "e5f9ef18",
   "metadata": {},
   "outputs": [
    {
     "data": {
      "text/plain": [
       "(44842, 3)"
      ]
     },
     "execution_count": 8,
     "metadata": {},
     "output_type": "execute_result"
    }
   ],
   "source": [
    "clientes.shape"
   ]
  },
  {
   "cell_type": "code",
   "execution_count": 9,
   "id": "0be44535",
   "metadata": {},
   "outputs": [
    {
     "name": "stdout",
     "output_type": "stream",
     "text": [
      "<class 'pandas.core.frame.DataFrame'>\n",
      "RangeIndex: 44842 entries, 0 to 44841\n",
      "Data columns (total 3 columns):\n",
      " #   Column             Non-Null Count  Dtype \n",
      "---  ------             --------------  ----- \n",
      " 0   cd_cliente         44842 non-null  int64 \n",
      " 1   nome_cliente       44842 non-null  object\n",
      " 2   aquisição_cliente  44842 non-null  object\n",
      "dtypes: int64(1), object(2)\n",
      "memory usage: 1.0+ MB\n"
     ]
    }
   ],
   "source": [
    "clientes.info()"
   ]
  },
  {
   "cell_type": "code",
   "execution_count": 10,
   "id": "ec956df2",
   "metadata": {},
   "outputs": [
    {
     "name": "stdout",
     "output_type": "stream",
     "text": [
      "<class 'pandas.core.frame.DataFrame'>\n",
      "RangeIndex: 480863 entries, 0 to 480862\n",
      "Data columns (total 10 columns):\n",
      " #   Column                    Non-Null Count   Dtype \n",
      "---  ------                    --------------   ----- \n",
      " 0   cidade_retirada           480863 non-null  object\n",
      " 1   cidade_devolucao          480863 non-null  object\n",
      " 2   cd_contrato               480863 non-null  object\n",
      " 3   transporte_locado         480863 non-null  object\n",
      " 4   data_abertura_contrato    480863 non-null  object\n",
      " 5   qtd_diarias               480863 non-null  int64 \n",
      " 6   data_fechamento_contrato  480863 non-null  object\n",
      " 7   qtd_hora_extra            480863 non-null  int64 \n",
      " 8   valor_contrato            480863 non-null  int64 \n",
      " 9   cd_cliente                480863 non-null  int64 \n",
      "dtypes: int64(4), object(6)\n",
      "memory usage: 36.7+ MB\n"
     ]
    }
   ],
   "source": [
    "contratos.info()"
   ]
  },
  {
   "cell_type": "markdown",
   "id": "6e8504cd",
   "metadata": {},
   "source": [
    "### As bases não possuem valores nulos e está bem estruturada. O próximo passo sera transformar os campos de data que estão com tipo Object para DateTime para que possamos utilizar na agregação min/max e fazer a diferença."
   ]
  },
  {
   "cell_type": "code",
   "execution_count": 11,
   "id": "e0222e4b",
   "metadata": {},
   "outputs": [],
   "source": [
    "\n",
    "format_str = '%d/%m/%Y %H:%M'\n",
    "correct_data = lambda x: datetime.strptime(x, format_str)\n",
    "contratos['data_abertura_contrato'] = list(map(correct_data, contratos['data_abertura_contrato']))\n",
    "contratos['data_fechamento_contrato'] = list(map(correct_data, contratos['data_fechamento_contrato']))"
   ]
  },
  {
   "cell_type": "markdown",
   "id": "2909a2e1",
   "metadata": {},
   "source": [
    "# Manipulação dos dados"
   ]
  },
  {
   "cell_type": "code",
   "execution_count": 12,
   "id": "6c03413e",
   "metadata": {},
   "outputs": [
    {
     "data": {
      "text/html": [
       "<div>\n",
       "<style scoped>\n",
       "    .dataframe tbody tr th:only-of-type {\n",
       "        vertical-align: middle;\n",
       "    }\n",
       "\n",
       "    .dataframe tbody tr th {\n",
       "        vertical-align: top;\n",
       "    }\n",
       "\n",
       "    .dataframe thead th {\n",
       "        text-align: right;\n",
       "    }\n",
       "</style>\n",
       "<table border=\"1\" class=\"dataframe\">\n",
       "  <thead>\n",
       "    <tr style=\"text-align: right;\">\n",
       "      <th></th>\n",
       "      <th>min_abertura</th>\n",
       "      <th>max_fechamento</th>\n",
       "      <th>media_diarias</th>\n",
       "      <th>qtd_contratos</th>\n",
       "      <th>media_he</th>\n",
       "      <th>periodo_inicio_fim_dias</th>\n",
       "    </tr>\n",
       "    <tr>\n",
       "      <th>cd_cliente</th>\n",
       "      <th></th>\n",
       "      <th></th>\n",
       "      <th></th>\n",
       "      <th></th>\n",
       "      <th></th>\n",
       "      <th></th>\n",
       "    </tr>\n",
       "  </thead>\n",
       "  <tbody>\n",
       "    <tr>\n",
       "      <th>1</th>\n",
       "      <td>2015-01-26 05:58:00</td>\n",
       "      <td>2020-10-21 21:26:00</td>\n",
       "      <td>1.916667</td>\n",
       "      <td>36</td>\n",
       "      <td>0.138889</td>\n",
       "      <td>2095 days 15:28:00</td>\n",
       "    </tr>\n",
       "    <tr>\n",
       "      <th>2</th>\n",
       "      <td>2015-01-31 02:29:00</td>\n",
       "      <td>2020-12-15 05:39:00</td>\n",
       "      <td>2.023256</td>\n",
       "      <td>43</td>\n",
       "      <td>0.093023</td>\n",
       "      <td>2145 days 03:10:00</td>\n",
       "    </tr>\n",
       "    <tr>\n",
       "      <th>3</th>\n",
       "      <td>2015-02-12 09:27:00</td>\n",
       "      <td>2020-11-01 18:15:00</td>\n",
       "      <td>2.486486</td>\n",
       "      <td>37</td>\n",
       "      <td>0.000000</td>\n",
       "      <td>2089 days 08:48:00</td>\n",
       "    </tr>\n",
       "    <tr>\n",
       "      <th>4</th>\n",
       "      <td>2015-03-06 15:37:00</td>\n",
       "      <td>2020-12-14 18:31:00</td>\n",
       "      <td>2.472222</td>\n",
       "      <td>36</td>\n",
       "      <td>0.194444</td>\n",
       "      <td>2110 days 02:54:00</td>\n",
       "    </tr>\n",
       "    <tr>\n",
       "      <th>5</th>\n",
       "      <td>2015-02-24 09:00:00</td>\n",
       "      <td>2020-12-12 08:37:00</td>\n",
       "      <td>2.877551</td>\n",
       "      <td>49</td>\n",
       "      <td>0.224490</td>\n",
       "      <td>2117 days 23:37:00</td>\n",
       "    </tr>\n",
       "  </tbody>\n",
       "</table>\n",
       "</div>"
      ],
      "text/plain": [
       "                  min_abertura      max_fechamento  media_diarias  \\\n",
       "cd_cliente                                                          \n",
       "1          2015-01-26 05:58:00 2020-10-21 21:26:00       1.916667   \n",
       "2          2015-01-31 02:29:00 2020-12-15 05:39:00       2.023256   \n",
       "3          2015-02-12 09:27:00 2020-11-01 18:15:00       2.486486   \n",
       "4          2015-03-06 15:37:00 2020-12-14 18:31:00       2.472222   \n",
       "5          2015-02-24 09:00:00 2020-12-12 08:37:00       2.877551   \n",
       "\n",
       "            qtd_contratos  media_he periodo_inicio_fim_dias  \n",
       "cd_cliente                                                   \n",
       "1                      36  0.138889      2095 days 15:28:00  \n",
       "2                      43  0.093023      2145 days 03:10:00  \n",
       "3                      37  0.000000      2089 days 08:48:00  \n",
       "4                      36  0.194444      2110 days 02:54:00  \n",
       "5                      49  0.224490      2117 days 23:37:00  "
      ]
     },
     "execution_count": 12,
     "metadata": {},
     "output_type": "execute_result"
    }
   ],
   "source": [
    "data_churn = contratos.groupby(['cd_cliente']).agg({'data_abertura_contrato':'min','data_fechamento_contrato':'max','qtd_diarias':'mean','cd_cliente':'count','qtd_hora_extra':'mean'})\n",
    "data_churn['periodo_inicio_fim_dias'] = data_churn['data_fechamento_contrato'] - data_churn['data_abertura_contrato']\n",
    "data_churn = data_churn.rename(columns={'data_abertura_contrato': 'min_abertura', 'data_fechamento_contrato': 'max_fechamento', 'qtd_diarias': 'media_diarias', 'cd_cliente': 'qtd_contratos', 'qtd_hora_extra': 'media_he'})\n",
    "data_churn.head()"
   ]
  },
  {
   "cell_type": "code",
   "execution_count": 13,
   "id": "4a51ff65",
   "metadata": {},
   "outputs": [],
   "source": [
    "contratos = contratos.sort_values(by=['cd_cliente', 'data_abertura_contrato'])\n",
    "contratos = contratos.reset_index(drop='index')\n",
    "\n",
    "\n",
    "data_churn['dif_data'] = None\n",
    "for cliente in contratos.cd_cliente.unique():\n",
    "    list_datas = contratos[contratos['cd_cliente']==cliente].data_abertura_contrato.to_list()\n",
    "    list_dif = []\n",
    "    for index, value in enumerate(list_datas):\n",
    "        try:\n",
    "            list_dif.append(list_datas[index+1]-list_datas[index])\n",
    "        except:\n",
    "            pass\n",
    "    try:\n",
    "        list_dif.sort()\n",
    "        mediana = statistics.median(list_dif)\n",
    "        data_churn.loc[data_churn.index==cliente, 'dif_data'] = mediana\n",
    "    except:\n",
    "#caso seja apenas um contrato a mediana dará erro, então sera usado o máximo de data da base para relacionar ao fechamento.\n",
    "#logo, na proxima etapa quando fizermos a comparação da mediana geral\n",
    "        data_churn.loc[data_churn.index==cliente, 'dif_data'] = data_churn.max_fechamento.max()-data_churn.max_fechamento\n"
   ]
  },
  {
   "cell_type": "code",
   "execution_count": 14,
   "id": "1df4cfb0",
   "metadata": {},
   "outputs": [
    {
     "data": {
      "text/html": [
       "<div>\n",
       "<style scoped>\n",
       "    .dataframe tbody tr th:only-of-type {\n",
       "        vertical-align: middle;\n",
       "    }\n",
       "\n",
       "    .dataframe tbody tr th {\n",
       "        vertical-align: top;\n",
       "    }\n",
       "\n",
       "    .dataframe thead th {\n",
       "        text-align: right;\n",
       "    }\n",
       "</style>\n",
       "<table border=\"1\" class=\"dataframe\">\n",
       "  <thead>\n",
       "    <tr style=\"text-align: right;\">\n",
       "      <th></th>\n",
       "      <th>min_abertura</th>\n",
       "      <th>max_fechamento</th>\n",
       "      <th>media_diarias</th>\n",
       "      <th>qtd_contratos</th>\n",
       "      <th>media_he</th>\n",
       "      <th>periodo_inicio_fim_dias</th>\n",
       "      <th>dif_data</th>\n",
       "      <th>aquisição_cliente</th>\n",
       "    </tr>\n",
       "  </thead>\n",
       "  <tbody>\n",
       "    <tr>\n",
       "      <th>0</th>\n",
       "      <td>2015-01-26 05:58:00</td>\n",
       "      <td>2020-10-21 21:26:00</td>\n",
       "      <td>1.916667</td>\n",
       "      <td>36</td>\n",
       "      <td>0.138889</td>\n",
       "      <td>2095 days 15:28:00</td>\n",
       "      <td>34 days 10:03:00</td>\n",
       "      <td>Organic</td>\n",
       "    </tr>\n",
       "    <tr>\n",
       "      <th>1</th>\n",
       "      <td>2015-01-31 02:29:00</td>\n",
       "      <td>2020-12-15 05:39:00</td>\n",
       "      <td>2.023256</td>\n",
       "      <td>43</td>\n",
       "      <td>0.093023</td>\n",
       "      <td>2145 days 03:10:00</td>\n",
       "      <td>36 days 02:50:00</td>\n",
       "      <td>Social Media</td>\n",
       "    </tr>\n",
       "    <tr>\n",
       "      <th>2</th>\n",
       "      <td>2015-02-12 09:27:00</td>\n",
       "      <td>2020-11-01 18:15:00</td>\n",
       "      <td>2.486486</td>\n",
       "      <td>37</td>\n",
       "      <td>0.000000</td>\n",
       "      <td>2089 days 08:48:00</td>\n",
       "      <td>46 days 22:57:30</td>\n",
       "      <td>Direct</td>\n",
       "    </tr>\n",
       "    <tr>\n",
       "      <th>3</th>\n",
       "      <td>2015-03-06 15:37:00</td>\n",
       "      <td>2020-12-14 18:31:00</td>\n",
       "      <td>2.472222</td>\n",
       "      <td>36</td>\n",
       "      <td>0.194444</td>\n",
       "      <td>2110 days 02:54:00</td>\n",
       "      <td>53 days 16:37:00</td>\n",
       "      <td>Google Ads - Search</td>\n",
       "    </tr>\n",
       "    <tr>\n",
       "      <th>4</th>\n",
       "      <td>2015-02-24 09:00:00</td>\n",
       "      <td>2020-12-12 08:37:00</td>\n",
       "      <td>2.877551</td>\n",
       "      <td>49</td>\n",
       "      <td>0.224490</td>\n",
       "      <td>2117 days 23:37:00</td>\n",
       "      <td>40 days 09:18:30</td>\n",
       "      <td>Referral</td>\n",
       "    </tr>\n",
       "    <tr>\n",
       "      <th>...</th>\n",
       "      <td>...</td>\n",
       "      <td>...</td>\n",
       "      <td>...</td>\n",
       "      <td>...</td>\n",
       "      <td>...</td>\n",
       "      <td>...</td>\n",
       "      <td>...</td>\n",
       "      <td>...</td>\n",
       "    </tr>\n",
       "    <tr>\n",
       "      <th>44837</th>\n",
       "      <td>2020-11-25 20:25:00</td>\n",
       "      <td>2020-11-29 20:25:00</td>\n",
       "      <td>4.000000</td>\n",
       "      <td>1</td>\n",
       "      <td>0.000000</td>\n",
       "      <td>4 days 00:00:00</td>\n",
       "      <td>45 days 08:04:00</td>\n",
       "      <td>Organic</td>\n",
       "    </tr>\n",
       "    <tr>\n",
       "      <th>44838</th>\n",
       "      <td>2018-03-21 16:10:00</td>\n",
       "      <td>2018-03-28 17:10:00</td>\n",
       "      <td>7.000000</td>\n",
       "      <td>1</td>\n",
       "      <td>1.000000</td>\n",
       "      <td>7 days 01:00:00</td>\n",
       "      <td>1022 days 11:19:00</td>\n",
       "      <td>Organic</td>\n",
       "    </tr>\n",
       "    <tr>\n",
       "      <th>44839</th>\n",
       "      <td>2015-08-11 18:22:00</td>\n",
       "      <td>2015-08-12 18:22:00</td>\n",
       "      <td>1.000000</td>\n",
       "      <td>1</td>\n",
       "      <td>0.000000</td>\n",
       "      <td>1 days 00:00:00</td>\n",
       "      <td>1981 days 10:07:00</td>\n",
       "      <td>Direct</td>\n",
       "    </tr>\n",
       "    <tr>\n",
       "      <th>44840</th>\n",
       "      <td>2015-07-14 02:33:00</td>\n",
       "      <td>2015-07-15 02:33:00</td>\n",
       "      <td>1.000000</td>\n",
       "      <td>1</td>\n",
       "      <td>0.000000</td>\n",
       "      <td>1 days 00:00:00</td>\n",
       "      <td>2010 days 01:56:00</td>\n",
       "      <td>Organic</td>\n",
       "    </tr>\n",
       "    <tr>\n",
       "      <th>44841</th>\n",
       "      <td>2018-07-22 00:09:00</td>\n",
       "      <td>2018-07-26 00:09:00</td>\n",
       "      <td>4.000000</td>\n",
       "      <td>1</td>\n",
       "      <td>0.000000</td>\n",
       "      <td>4 days 00:00:00</td>\n",
       "      <td>903 days 04:20:00</td>\n",
       "      <td>Organic</td>\n",
       "    </tr>\n",
       "  </tbody>\n",
       "</table>\n",
       "<p>44842 rows × 8 columns</p>\n",
       "</div>"
      ],
      "text/plain": [
       "             min_abertura      max_fechamento  media_diarias  qtd_contratos  \\\n",
       "0     2015-01-26 05:58:00 2020-10-21 21:26:00       1.916667             36   \n",
       "1     2015-01-31 02:29:00 2020-12-15 05:39:00       2.023256             43   \n",
       "2     2015-02-12 09:27:00 2020-11-01 18:15:00       2.486486             37   \n",
       "3     2015-03-06 15:37:00 2020-12-14 18:31:00       2.472222             36   \n",
       "4     2015-02-24 09:00:00 2020-12-12 08:37:00       2.877551             49   \n",
       "...                   ...                 ...            ...            ...   \n",
       "44837 2020-11-25 20:25:00 2020-11-29 20:25:00       4.000000              1   \n",
       "44838 2018-03-21 16:10:00 2018-03-28 17:10:00       7.000000              1   \n",
       "44839 2015-08-11 18:22:00 2015-08-12 18:22:00       1.000000              1   \n",
       "44840 2015-07-14 02:33:00 2015-07-15 02:33:00       1.000000              1   \n",
       "44841 2018-07-22 00:09:00 2018-07-26 00:09:00       4.000000              1   \n",
       "\n",
       "       media_he periodo_inicio_fim_dias            dif_data  \\\n",
       "0      0.138889      2095 days 15:28:00    34 days 10:03:00   \n",
       "1      0.093023      2145 days 03:10:00    36 days 02:50:00   \n",
       "2      0.000000      2089 days 08:48:00    46 days 22:57:30   \n",
       "3      0.194444      2110 days 02:54:00    53 days 16:37:00   \n",
       "4      0.224490      2117 days 23:37:00    40 days 09:18:30   \n",
       "...         ...                     ...                 ...   \n",
       "44837  0.000000         4 days 00:00:00    45 days 08:04:00   \n",
       "44838  1.000000         7 days 01:00:00  1022 days 11:19:00   \n",
       "44839  0.000000         1 days 00:00:00  1981 days 10:07:00   \n",
       "44840  0.000000         1 days 00:00:00  2010 days 01:56:00   \n",
       "44841  0.000000         4 days 00:00:00   903 days 04:20:00   \n",
       "\n",
       "         aquisição_cliente  \n",
       "0                  Organic  \n",
       "1             Social Media  \n",
       "2                   Direct  \n",
       "3      Google Ads - Search  \n",
       "4                 Referral  \n",
       "...                    ...  \n",
       "44837              Organic  \n",
       "44838              Organic  \n",
       "44839               Direct  \n",
       "44840              Organic  \n",
       "44841              Organic  \n",
       "\n",
       "[44842 rows x 8 columns]"
      ]
     },
     "execution_count": 14,
     "metadata": {},
     "output_type": "execute_result"
    }
   ],
   "source": [
    "data_churn = data_churn.merge(clientes.aquisição_cliente, left_on=data_churn.index, right_on=clientes['cd_cliente'])\n",
    "data_churn.drop('key_0', axis = 1, inplace = True)"
   ]
  },
  {
   "cell_type": "code",
   "execution_count": 20,
   "id": "a0c63f0a",
   "metadata": {},
   "outputs": [
    {
     "data": {
      "text/html": [
       "<div>\n",
       "<style scoped>\n",
       "    .dataframe tbody tr th:only-of-type {\n",
       "        vertical-align: middle;\n",
       "    }\n",
       "\n",
       "    .dataframe tbody tr th {\n",
       "        vertical-align: top;\n",
       "    }\n",
       "\n",
       "    .dataframe thead th {\n",
       "        text-align: right;\n",
       "    }\n",
       "</style>\n",
       "<table border=\"1\" class=\"dataframe\">\n",
       "  <thead>\n",
       "    <tr style=\"text-align: right;\">\n",
       "      <th></th>\n",
       "      <th>min_abertura</th>\n",
       "      <th>max_fechamento</th>\n",
       "      <th>media_diarias</th>\n",
       "      <th>qtd_contratos</th>\n",
       "      <th>media_he</th>\n",
       "      <th>periodo_inicio_fim_dias</th>\n",
       "      <th>dif_data</th>\n",
       "      <th>aquisição_cliente</th>\n",
       "    </tr>\n",
       "  </thead>\n",
       "  <tbody>\n",
       "    <tr>\n",
       "      <th>0</th>\n",
       "      <td>2015-01-26 05:58:00</td>\n",
       "      <td>2020-10-21 21:26:00</td>\n",
       "      <td>1.916667</td>\n",
       "      <td>36</td>\n",
       "      <td>0.138889</td>\n",
       "      <td>2095 days 15:28:00</td>\n",
       "      <td>34 days 10:03:00</td>\n",
       "      <td>Organic</td>\n",
       "    </tr>\n",
       "    <tr>\n",
       "      <th>1</th>\n",
       "      <td>2015-01-31 02:29:00</td>\n",
       "      <td>2020-12-15 05:39:00</td>\n",
       "      <td>2.023256</td>\n",
       "      <td>43</td>\n",
       "      <td>0.093023</td>\n",
       "      <td>2145 days 03:10:00</td>\n",
       "      <td>36 days 02:50:00</td>\n",
       "      <td>Social Media</td>\n",
       "    </tr>\n",
       "    <tr>\n",
       "      <th>2</th>\n",
       "      <td>2015-02-12 09:27:00</td>\n",
       "      <td>2020-11-01 18:15:00</td>\n",
       "      <td>2.486486</td>\n",
       "      <td>37</td>\n",
       "      <td>0.000000</td>\n",
       "      <td>2089 days 08:48:00</td>\n",
       "      <td>46 days 22:57:30</td>\n",
       "      <td>Direct</td>\n",
       "    </tr>\n",
       "    <tr>\n",
       "      <th>3</th>\n",
       "      <td>2015-03-06 15:37:00</td>\n",
       "      <td>2020-12-14 18:31:00</td>\n",
       "      <td>2.472222</td>\n",
       "      <td>36</td>\n",
       "      <td>0.194444</td>\n",
       "      <td>2110 days 02:54:00</td>\n",
       "      <td>53 days 16:37:00</td>\n",
       "      <td>Google Ads - Search</td>\n",
       "    </tr>\n",
       "    <tr>\n",
       "      <th>4</th>\n",
       "      <td>2015-02-24 09:00:00</td>\n",
       "      <td>2020-12-12 08:37:00</td>\n",
       "      <td>2.877551</td>\n",
       "      <td>49</td>\n",
       "      <td>0.224490</td>\n",
       "      <td>2117 days 23:37:00</td>\n",
       "      <td>40 days 09:18:30</td>\n",
       "      <td>Referral</td>\n",
       "    </tr>\n",
       "  </tbody>\n",
       "</table>\n",
       "</div>"
      ],
      "text/plain": [
       "         min_abertura      max_fechamento  media_diarias  qtd_contratos  \\\n",
       "0 2015-01-26 05:58:00 2020-10-21 21:26:00       1.916667             36   \n",
       "1 2015-01-31 02:29:00 2020-12-15 05:39:00       2.023256             43   \n",
       "2 2015-02-12 09:27:00 2020-11-01 18:15:00       2.486486             37   \n",
       "3 2015-03-06 15:37:00 2020-12-14 18:31:00       2.472222             36   \n",
       "4 2015-02-24 09:00:00 2020-12-12 08:37:00       2.877551             49   \n",
       "\n",
       "   media_he periodo_inicio_fim_dias          dif_data    aquisição_cliente  \n",
       "0  0.138889      2095 days 15:28:00  34 days 10:03:00              Organic  \n",
       "1  0.093023      2145 days 03:10:00  36 days 02:50:00         Social Media  \n",
       "2  0.000000      2089 days 08:48:00  46 days 22:57:30               Direct  \n",
       "3  0.194444      2110 days 02:54:00  53 days 16:37:00  Google Ads - Search  \n",
       "4  0.224490      2117 days 23:37:00  40 days 09:18:30             Referral  "
      ]
     },
     "execution_count": 20,
     "metadata": {},
     "output_type": "execute_result"
    }
   ],
   "source": [
    "data_churn.head()"
   ]
  },
  {
   "cell_type": "code",
   "execution_count": 21,
   "id": "ce5c52f5",
   "metadata": {},
   "outputs": [],
   "source": [
    "#cliente com um contrato apenas é o novo cliente.\n",
    "\n",
    "data_churn[\"categoria_cliente\"] = None\n",
    "data_churn['cliente_novo']=None\n",
    "data_churn[\"cliente_antigo\"] = None\n",
    "data_churn.loc[data_churn[\"qtd_contratos\"]==1,'cliente_novo'] = 1\n",
    "data_churn.loc[data_churn[\"qtd_contratos\"]>1,'cliente_novo'] = 0\n",
    "data_churn.loc[data_churn[\"qtd_contratos\"]==1,'cliente_antigo'] = 0\n",
    "data_churn.loc[data_churn[\"qtd_contratos\"]>1,'cliente_antigo'] = 1\n",
    "data_churn.loc[data_churn[\"qtd_contratos\"]==1,'categoria_cliente'] = \"Novo\"\n",
    "data_churn.loc[data_churn[\"qtd_contratos\"]>1,'categoria_cliente'] = \"Antigo\""
   ]
  },
  {
   "cell_type": "code",
   "execution_count": 22,
   "id": "5121d03c",
   "metadata": {},
   "outputs": [],
   "source": [
    "q2_linha = data_churn.dif_data.quantile(.50)\n",
    "#mediana da base inteira para se comparar com a do cliente e verificar se é churn ou nao\n",
    "data_churn['categoria_churn'] = None\n",
    "data_churn['churn'] = None\n",
    "\n",
    "data_churn.loc[(data_churn['dif_data'] >= q2_linha),['churn']] = 1\n",
    "data_churn.loc[(data_churn['dif_data'] < q2_linha),['churn']] = 0\n",
    "data_churn.loc[(data_churn['dif_data'] >= q2_linha),['categoria_churn']] = \"Sim\"\n",
    "data_churn.loc[(data_churn['dif_data'] < q2_linha),['categoria_churn']] = \"Não\""
   ]
  },
  {
   "cell_type": "markdown",
   "id": "67f67c1b",
   "metadata": {},
   "source": [
    "# Plotagem dos Histogramas"
   ]
  },
  {
   "cell_type": "code",
   "execution_count": 23,
   "id": "eb416dbd",
   "metadata": {},
   "outputs": [
    {
     "data": {
      "text/plain": [
       "<matplotlib.legend.Legend at 0x1dbed521f40>"
      ]
     },
     "execution_count": 23,
     "metadata": {},
     "output_type": "execute_result"
    },
    {
     "data": {
      "image/png": "[encoded data removed]",
      "text/plain": [
       "<Figure size 432x288 with 1 Axes>"
      ]
     },
     "metadata": {
      "needs_background": "light"
     },
     "output_type": "display_data"
    }
   ],
   "source": [
    "dfno = data_churn[data_churn.categoria_churn == \"Não\"].categoria_cliente\n",
    "dfyes = data_churn[data_churn.categoria_churn == \"Sim\"].categoria_cliente\n",
    "\n",
    "plt.hist([dfno, dfyes], color=['blue','red'], label=['Churn = Não','Churn = Sim' ])\n",
    "plt.legend()"
   ]
  },
  {
   "cell_type": "code",
   "execution_count": 24,
   "id": "930a5ad5",
   "metadata": {},
   "outputs": [
    {
     "data": {
      "text/plain": [
       "<matplotlib.legend.Legend at 0x1dbebc0d3a0>"
      ]
     },
     "execution_count": 24,
     "metadata": {},
     "output_type": "execute_result"
    },
    {
     "data": {
      "image/png": "[encoded data removed]",
      "text/plain": [
       "<Figure size 432x288 with 1 Axes>"
      ]
     },
     "metadata": {
      "needs_background": "light"
     },
     "output_type": "display_data"
    }
   ],
   "source": [
    "dfno = data_churn[data_churn.categoria_churn == \"Não\"].media_he\n",
    "dfyes = data_churn[data_churn.categoria_churn == \"Sim\"].media_he\n",
    "\n",
    "plt.hist([dfno, dfyes], color=['blue','red'], label=['Churn = Não','Churn = Sim' ])\n",
    "plt.legend()"
   ]
  },
  {
   "cell_type": "code",
   "execution_count": 25,
   "id": "b2fed863",
   "metadata": {},
   "outputs": [
    {
     "data": {
      "text/html": [
       "<div>\n",
       "<style scoped>\n",
       "    .dataframe tbody tr th:only-of-type {\n",
       "        vertical-align: middle;\n",
       "    }\n",
       "\n",
       "    .dataframe tbody tr th {\n",
       "        vertical-align: top;\n",
       "    }\n",
       "\n",
       "    .dataframe thead th {\n",
       "        text-align: right;\n",
       "    }\n",
       "</style>\n",
       "<table border=\"1\" class=\"dataframe\">\n",
       "  <thead>\n",
       "    <tr style=\"text-align: right;\">\n",
       "      <th></th>\n",
       "      <th>min_abertura</th>\n",
       "      <th>max_fechamento</th>\n",
       "      <th>media_diarias</th>\n",
       "      <th>qtd_contratos</th>\n",
       "      <th>media_he</th>\n",
       "      <th>periodo_inicio_fim_dias</th>\n",
       "      <th>dif_data</th>\n",
       "      <th>aquisição_cliente</th>\n",
       "      <th>categoria_cliente</th>\n",
       "      <th>cliente_novo</th>\n",
       "      <th>cliente_antigo</th>\n",
       "      <th>categoria_churn</th>\n",
       "      <th>churn</th>\n",
       "      <th>nao_churn</th>\n",
       "    </tr>\n",
       "  </thead>\n",
       "  <tbody>\n",
       "    <tr>\n",
       "      <th>0</th>\n",
       "      <td>2015-01-26 05:58:00</td>\n",
       "      <td>2020-10-21 21:26:00</td>\n",
       "      <td>1.916667</td>\n",
       "      <td>36</td>\n",
       "      <td>0.138889</td>\n",
       "      <td>2095 days 15:28:00</td>\n",
       "      <td>34 days 10:03:00</td>\n",
       "      <td>Organic</td>\n",
       "      <td>Antigo</td>\n",
       "      <td>0</td>\n",
       "      <td>1</td>\n",
       "      <td>Não</td>\n",
       "      <td>0</td>\n",
       "      <td>1</td>\n",
       "    </tr>\n",
       "    <tr>\n",
       "      <th>1</th>\n",
       "      <td>2015-01-31 02:29:00</td>\n",
       "      <td>2020-12-15 05:39:00</td>\n",
       "      <td>2.023256</td>\n",
       "      <td>43</td>\n",
       "      <td>0.093023</td>\n",
       "      <td>2145 days 03:10:00</td>\n",
       "      <td>36 days 02:50:00</td>\n",
       "      <td>Social Media</td>\n",
       "      <td>Antigo</td>\n",
       "      <td>0</td>\n",
       "      <td>1</td>\n",
       "      <td>Não</td>\n",
       "      <td>0</td>\n",
       "      <td>1</td>\n",
       "    </tr>\n",
       "    <tr>\n",
       "      <th>2</th>\n",
       "      <td>2015-02-12 09:27:00</td>\n",
       "      <td>2020-11-01 18:15:00</td>\n",
       "      <td>2.486486</td>\n",
       "      <td>37</td>\n",
       "      <td>0.000000</td>\n",
       "      <td>2089 days 08:48:00</td>\n",
       "      <td>46 days 22:57:30</td>\n",
       "      <td>Direct</td>\n",
       "      <td>Antigo</td>\n",
       "      <td>0</td>\n",
       "      <td>1</td>\n",
       "      <td>Não</td>\n",
       "      <td>0</td>\n",
       "      <td>1</td>\n",
       "    </tr>\n",
       "    <tr>\n",
       "      <th>3</th>\n",
       "      <td>2015-03-06 15:37:00</td>\n",
       "      <td>2020-12-14 18:31:00</td>\n",
       "      <td>2.472222</td>\n",
       "      <td>36</td>\n",
       "      <td>0.194444</td>\n",
       "      <td>2110 days 02:54:00</td>\n",
       "      <td>53 days 16:37:00</td>\n",
       "      <td>Google Ads - Search</td>\n",
       "      <td>Antigo</td>\n",
       "      <td>0</td>\n",
       "      <td>1</td>\n",
       "      <td>Não</td>\n",
       "      <td>0</td>\n",
       "      <td>1</td>\n",
       "    </tr>\n",
       "    <tr>\n",
       "      <th>4</th>\n",
       "      <td>2015-02-24 09:00:00</td>\n",
       "      <td>2020-12-12 08:37:00</td>\n",
       "      <td>2.877551</td>\n",
       "      <td>49</td>\n",
       "      <td>0.224490</td>\n",
       "      <td>2117 days 23:37:00</td>\n",
       "      <td>40 days 09:18:30</td>\n",
       "      <td>Referral</td>\n",
       "      <td>Antigo</td>\n",
       "      <td>0</td>\n",
       "      <td>1</td>\n",
       "      <td>Não</td>\n",
       "      <td>0</td>\n",
       "      <td>1</td>\n",
       "    </tr>\n",
       "  </tbody>\n",
       "</table>\n",
       "</div>"
      ],
      "text/plain": [
       "         min_abertura      max_fechamento  media_diarias  qtd_contratos  \\\n",
       "0 2015-01-26 05:58:00 2020-10-21 21:26:00       1.916667             36   \n",
       "1 2015-01-31 02:29:00 2020-12-15 05:39:00       2.023256             43   \n",
       "2 2015-02-12 09:27:00 2020-11-01 18:15:00       2.486486             37   \n",
       "3 2015-03-06 15:37:00 2020-12-14 18:31:00       2.472222             36   \n",
       "4 2015-02-24 09:00:00 2020-12-12 08:37:00       2.877551             49   \n",
       "\n",
       "   media_he periodo_inicio_fim_dias          dif_data    aquisição_cliente  \\\n",
       "0  0.138889      2095 days 15:28:00  34 days 10:03:00              Organic   \n",
       "1  0.093023      2145 days 03:10:00  36 days 02:50:00         Social Media   \n",
       "2  0.000000      2089 days 08:48:00  46 days 22:57:30               Direct   \n",
       "3  0.194444      2110 days 02:54:00  53 days 16:37:00  Google Ads - Search   \n",
       "4  0.224490      2117 days 23:37:00  40 days 09:18:30             Referral   \n",
       "\n",
       "  categoria_cliente cliente_novo cliente_antigo categoria_churn churn  \\\n",
       "0            Antigo            0              1             Não     0   \n",
       "1            Antigo            0              1             Não     0   \n",
       "2            Antigo            0              1             Não     0   \n",
       "3            Antigo            0              1             Não     0   \n",
       "4            Antigo            0              1             Não     0   \n",
       "\n",
       "  nao_churn  \n",
       "0         1  \n",
       "1         1  \n",
       "2         1  \n",
       "3         1  \n",
       "4         1  "
      ]
     },
     "execution_count": 25,
     "metadata": {},
     "output_type": "execute_result"
    }
   ],
   "source": [
    "data_churn.head()"
   ]
  },
  {
   "cell_type": "code",
   "execution_count": 26,
   "id": "4b745392",
   "metadata": {},
   "outputs": [
    {
     "data": {
      "text/plain": [
       "<matplotlib.legend.Legend at 0x1dbeb1ac670>"
      ]
     },
     "execution_count": 26,
     "metadata": {},
     "output_type": "execute_result"
    },
    {
     "data": {
      "image/png": "[encoded data removed]",
      "text/plain": [
       "<Figure size 432x288 with 1 Axes>"
      ]
     },
     "metadata": {
      "needs_background": "light"
     },
     "output_type": "display_data"
    }
   ],
   "source": [
    "dfno = data_churn[data_churn.categoria_churn == \"Não\"].aquisição_cliente\n",
    "dfyes = data_churn[data_churn.categoria_churn == \"Sim\"].aquisição_cliente\n",
    "\n",
    "plt.hist([dfno, dfyes], color=['blue','red'], label=['Churn = Não','Churn = Sim' ])\n",
    "plt.legend()"
   ]
  },
  {
   "cell_type": "code",
   "execution_count": 27,
   "id": "a52225c7",
   "metadata": {},
   "outputs": [
    {
     "data": {
      "text/plain": [
       "<matplotlib.legend.Legend at 0x1dbed1c0070>"
      ]
     },
     "execution_count": 27,
     "metadata": {},
     "output_type": "execute_result"
    },
    {
     "data": {
      "image/png": "[encoded data removed]",
      "text/plain": [
       "<Figure size 432x288 with 1 Axes>"
      ]
     },
     "metadata": {
      "needs_background": "light"
     },
     "output_type": "display_data"
    }
   ],
   "source": [
    "dfno = data_churn[data_churn.categoria_churn == \"Não\"].qtd_contratos\n",
    "dfyes = data_churn[data_churn.categoria_churn == \"Sim\"].qtd_contratos\n",
    "\n",
    "plt.hist([dfno, dfyes], color=['blue','red'], label=['Churn = Não','Churn = Sim' ])\n",
    "plt.legend()"
   ]
  },
  {
   "cell_type": "code",
   "execution_count": 28,
   "id": "2fa933e8",
   "metadata": {},
   "outputs": [
    {
     "data": {
      "text/plain": [
       "<matplotlib.legend.Legend at 0x1dbed300580>"
      ]
     },
     "execution_count": 28,
     "metadata": {},
     "output_type": "execute_result"
    },
    {
     "data": {
      "image/png": "[encoded data removed]",
      "text/plain": [
       "<Figure size 432x288 with 1 Axes>"
      ]
     },
     "metadata": {
      "needs_background": "light"
     },
     "output_type": "display_data"
    }
   ],
   "source": [
    "dfno = data_churn[data_churn.categoria_churn == \"Não\"].media_diarias\n",
    "dfyes = data_churn[data_churn.categoria_churn == \"Sim\"].media_diarias\n",
    "\n",
    "plt.hist([dfno, dfyes], color=['blue','red'], label=['Churn = Não','Churn = Sim' ])\n",
    "plt.legend()"
   ]
  },
  {
   "cell_type": "code",
   "execution_count": 29,
   "id": "c2753b79",
   "metadata": {},
   "outputs": [
    {
     "data": {
      "text/plain": [
       "<matplotlib.legend.Legend at 0x1dbed647370>"
      ]
     },
     "execution_count": 29,
     "metadata": {},
     "output_type": "execute_result"
    },
    {
     "data": {
      "image/png": "[encoded data removed]",
      "text/plain": [
       "<Figure size 432x288 with 1 Axes>"
      ]
     },
     "metadata": {
      "needs_background": "light"
     },
     "output_type": "display_data"
    }
   ],
   "source": [
    "dfno = data_churn[data_churn.categoria_churn == \"Não\"].max_fechamento\n",
    "dfyes = data_churn[data_churn.categoria_churn == \"Sim\"].max_fechamento\n",
    "\n",
    "plt.hist([dfno, dfyes], color=['blue','red'], label=['Churn = Não','Churn = Sim' ])\n",
    "plt.legend()"
   ]
  },
  {
   "cell_type": "code",
   "execution_count": 30,
   "id": "16edd410",
   "metadata": {},
   "outputs": [
    {
     "data": {
      "text/plain": [
       "<matplotlib.legend.Legend at 0x1dbed654730>"
      ]
     },
     "execution_count": 30,
     "metadata": {},
     "output_type": "execute_result"
    },
    {
     "data": {
      "image/png": "[encoded data removed]",
      "text/plain": [
       "<Figure size 432x288 with 1 Axes>"
      ]
     },
     "metadata": {
      "needs_background": "light"
     },
     "output_type": "display_data"
    }
   ],
   "source": [
    "dfno = data_churn[data_churn.categoria_churn == \"Não\"].min_abertura\n",
    "dfyes = data_churn[data_churn.categoria_churn == \"Sim\"].min_abertura\n",
    "\n",
    "plt.hist([dfno, dfyes], color=['blue','red'], label=['Churn = Não','Churn = Sim' ])\n",
    "plt.legend()"
   ]
  },
  {
   "cell_type": "markdown",
   "id": "9400103f",
   "metadata": {},
   "source": [
    "# Balanceamento do Dataset e Criação do modelo de Previsão"
   ]
  },
  {
   "cell_type": "code",
   "execution_count": 32,
   "id": "bf956ecc",
   "metadata": {},
   "outputs": [
    {
     "name": "stdout",
     "output_type": "stream",
     "text": [
      "Sim: 22421 Não: 22421 Não: 50.0\n"
     ]
    },
    {
     "data": {
      "text/plain": [
       "<matplotlib.legend.Legend at 0x1dbee34b790>"
      ]
     },
     "execution_count": 32,
     "metadata": {},
     "output_type": "execute_result"
    },
    {
     "data": {
      "image/png": "[encoded data removed]",
      "text/plain": [
       "<Figure size 432x288 with 1 Axes>"
      ]
     },
     "metadata": {
      "needs_background": "light"
     },
     "output_type": "display_data"
    }
   ],
   "source": [
    "dfno = data_churn[data_churn.categoria_churn == \"Não\"].categoria_churn\n",
    "dfyes = data_churn[data_churn.categoria_churn == \"Sim\"].categoria_churn\n",
    "\n",
    "total = dfno.count() + dfyes.count()\n",
    "percent = round((dfno.count()/total)*100,2)\n",
    "print(f'Sim: {dfyes.count()}', f'Não: {dfno.count()}', f'Não: {percent}')\n",
    "plt.hist([dfno, dfyes], color=['blue','red'], label=['Churn = Não','Churn = Sim' ])\n",
    "plt.legend()"
   ]
  },
  {
   "cell_type": "markdown",
   "id": "a1a29a68",
   "metadata": {},
   "source": [
    "### O Dataset está balanceado!!!"
   ]
  },
  {
   "cell_type": "code",
   "execution_count": 38,
   "id": "35ad4caa",
   "metadata": {},
   "outputs": [
    {
     "data": {
      "text/html": [
       "<div>\n",
       "<style scoped>\n",
       "    .dataframe tbody tr th:only-of-type {\n",
       "        vertical-align: middle;\n",
       "    }\n",
       "\n",
       "    .dataframe tbody tr th {\n",
       "        vertical-align: top;\n",
       "    }\n",
       "\n",
       "    .dataframe thead th {\n",
       "        text-align: right;\n",
       "    }\n",
       "</style>\n",
       "<table border=\"1\" class=\"dataframe\">\n",
       "  <thead>\n",
       "    <tr style=\"text-align: right;\">\n",
       "      <th></th>\n",
       "      <th>min_abertura</th>\n",
       "      <th>max_fechamento</th>\n",
       "      <th>media_diarias</th>\n",
       "      <th>qtd_contratos</th>\n",
       "      <th>media_he</th>\n",
       "      <th>periodo_inicio_fim_dias</th>\n",
       "      <th>dif_data</th>\n",
       "      <th>aquisição_cliente</th>\n",
       "      <th>categoria_cliente</th>\n",
       "      <th>cliente_novo</th>\n",
       "      <th>cliente_antigo</th>\n",
       "      <th>categoria_churn</th>\n",
       "      <th>churn</th>\n",
       "      <th>nao_churn</th>\n",
       "    </tr>\n",
       "  </thead>\n",
       "  <tbody>\n",
       "    <tr>\n",
       "      <th>12199</th>\n",
       "      <td>2015-03-25 03:04:00</td>\n",
       "      <td>2020-12-20 02:15:00</td>\n",
       "      <td>0.070988</td>\n",
       "      <td>0.261538</td>\n",
       "      <td>0.092593</td>\n",
       "      <td>2096 days 23:11:00</td>\n",
       "      <td>131 days 16:10:00</td>\n",
       "      <td>Organic</td>\n",
       "      <td>Antigo</td>\n",
       "      <td>0</td>\n",
       "      <td>1</td>\n",
       "      <td>Não</td>\n",
       "      <td>0</td>\n",
       "      <td>1</td>\n",
       "    </tr>\n",
       "    <tr>\n",
       "      <th>39482</th>\n",
       "      <td>2015-03-30 06:11:00</td>\n",
       "      <td>2020-10-11 02:46:00</td>\n",
       "      <td>0.166667</td>\n",
       "      <td>0.015385</td>\n",
       "      <td>0.000000</td>\n",
       "      <td>2021 days 20:35:00</td>\n",
       "      <td>2017 days 20:35:00</td>\n",
       "      <td>Google Ads - Search</td>\n",
       "      <td>Antigo</td>\n",
       "      <td>0</td>\n",
       "      <td>1</td>\n",
       "      <td>Sim</td>\n",
       "      <td>1</td>\n",
       "      <td>0</td>\n",
       "    </tr>\n",
       "    <tr>\n",
       "      <th>22112</th>\n",
       "      <td>2015-11-06 13:43:00</td>\n",
       "      <td>2020-10-01 15:29:00</td>\n",
       "      <td>0.024691</td>\n",
       "      <td>0.123077</td>\n",
       "      <td>0.037037</td>\n",
       "      <td>1791 days 01:46:00</td>\n",
       "      <td>113 days 20:12:00</td>\n",
       "      <td>Social Media</td>\n",
       "      <td>Antigo</td>\n",
       "      <td>0</td>\n",
       "      <td>1</td>\n",
       "      <td>Não</td>\n",
       "      <td>0</td>\n",
       "      <td>1</td>\n",
       "    </tr>\n",
       "    <tr>\n",
       "      <th>33152</th>\n",
       "      <td>2020-07-12 17:00:00</td>\n",
       "      <td>2020-12-11 17:46:00</td>\n",
       "      <td>0.305556</td>\n",
       "      <td>0.015385</td>\n",
       "      <td>0.000000</td>\n",
       "      <td>152 days 00:46:00</td>\n",
       "      <td>148 days 00:46:00</td>\n",
       "      <td>Direct</td>\n",
       "      <td>Antigo</td>\n",
       "      <td>0</td>\n",
       "      <td>1</td>\n",
       "      <td>Não</td>\n",
       "      <td>0</td>\n",
       "      <td>1</td>\n",
       "    </tr>\n",
       "    <tr>\n",
       "      <th>29405</th>\n",
       "      <td>2015-11-13 11:58:00</td>\n",
       "      <td>2020-09-22 12:43:00</td>\n",
       "      <td>0.066667</td>\n",
       "      <td>0.061538</td>\n",
       "      <td>0.000000</td>\n",
       "      <td>1775 days 00:45:00</td>\n",
       "      <td>525 days 13:05:30</td>\n",
       "      <td>Facebook Ads - Instagram</td>\n",
       "      <td>Antigo</td>\n",
       "      <td>0</td>\n",
       "      <td>1</td>\n",
       "      <td>Sim</td>\n",
       "      <td>1</td>\n",
       "      <td>0</td>\n",
       "    </tr>\n",
       "  </tbody>\n",
       "</table>\n",
       "</div>"
      ],
      "text/plain": [
       "             min_abertura      max_fechamento  media_diarias  qtd_contratos  \\\n",
       "12199 2015-03-25 03:04:00 2020-12-20 02:15:00       0.070988       0.261538   \n",
       "39482 2015-03-30 06:11:00 2020-10-11 02:46:00       0.166667       0.015385   \n",
       "22112 2015-11-06 13:43:00 2020-10-01 15:29:00       0.024691       0.123077   \n",
       "33152 2020-07-12 17:00:00 2020-12-11 17:46:00       0.305556       0.015385   \n",
       "29405 2015-11-13 11:58:00 2020-09-22 12:43:00       0.066667       0.061538   \n",
       "\n",
       "       media_he periodo_inicio_fim_dias            dif_data  \\\n",
       "12199  0.092593      2096 days 23:11:00   131 days 16:10:00   \n",
       "39482  0.000000      2021 days 20:35:00  2017 days 20:35:00   \n",
       "22112  0.037037      1791 days 01:46:00   113 days 20:12:00   \n",
       "33152  0.000000       152 days 00:46:00   148 days 00:46:00   \n",
       "29405  0.000000      1775 days 00:45:00   525 days 13:05:30   \n",
       "\n",
       "              aquisição_cliente categoria_cliente cliente_novo cliente_antigo  \\\n",
       "12199                   Organic            Antigo            0              1   \n",
       "39482       Google Ads - Search            Antigo            0              1   \n",
       "22112              Social Media            Antigo            0              1   \n",
       "33152                    Direct            Antigo            0              1   \n",
       "29405  Facebook Ads - Instagram            Antigo            0              1   \n",
       "\n",
       "      categoria_churn churn nao_churn  \n",
       "12199             Não     0         1  \n",
       "39482             Sim     1         0  \n",
       "22112             Não     0         1  \n",
       "33152             Não     0         1  \n",
       "29405             Sim     1         0  "
      ]
     },
     "execution_count": 38,
     "metadata": {},
     "output_type": "execute_result"
    }
   ],
   "source": [
    "#transformar os campos numericos pra uma escala única para que o modelo de provisão trate os campos sem tendenciar \n",
    "scaler=MinMaxScaler()\n",
    "data_churn[['media_diarias','qtd_contratos','media_he']] = scaler.fit_transform(data_churn[['media_diarias','qtd_contratos','media_he']])\n",
    "data_churn.sample(5)"
   ]
  },
  {
   "cell_type": "code",
   "execution_count": 40,
   "id": "9f6e0282",
   "metadata": {},
   "outputs": [
    {
     "name": "stderr",
     "output_type": "stream",
     "text": [
      "C:\\Users\\IGOR~1.MAL\\AppData\\Local\\Temp/ipykernel_9128/1714044755.py:2: FutureWarning: In a future version of pandas all arguments of DataFrame.drop except for the argument 'labels' will be keyword-only\n",
      "  features = data_churn.drop(['churn'],1)\n"
     ]
    }
   ],
   "source": [
    "#Separar features e labels\n",
    "features = data_churn.drop(['churn'],1)\n",
    "label = data_churn['churn']"
   ]
  },
  {
   "cell_type": "code",
   "execution_count": 41,
   "id": "5f917563",
   "metadata": {},
   "outputs": [],
   "source": [
    "#parte para validação\n",
    "val = features.head(10)"
   ]
  },
  {
   "cell_type": "code",
   "execution_count": 42,
   "id": "2ac1b1f6",
   "metadata": {},
   "outputs": [],
   "source": [
    "#novo feature\n",
    "features = features.iloc[10:]\n",
    "label = label.iloc[10:]"
   ]
  },
  {
   "cell_type": "code",
   "execution_count": 45,
   "id": "1dd56a9a",
   "metadata": {},
   "outputs": [],
   "source": [
    "#Separa entre treinamento e teste\n",
    "x_train, x_test, y_train, y_test = train_test_split (features,label, test_size=.20, random_state=42)"
   ]
  },
  {
   "cell_type": "code",
   "execution_count": 53,
   "id": "018b7e51",
   "metadata": {},
   "outputs": [
    {
     "ename": "NameError",
     "evalue": "name 'Dense' is not defined",
     "output_type": "error",
     "traceback": [
      "\u001b[1;31m---------------------------------------------------------------------------\u001b[0m",
      "\u001b[1;31mNameError\u001b[0m                                 Traceback (most recent call last)",
      "\u001b[1;32mC:\\Users\\IGOR~1.MAL\\AppData\\Local\\Temp/ipykernel_9128/36997292.py\u001b[0m in \u001b[0;36m<module>\u001b[1;34m\u001b[0m\n\u001b[0;32m      1\u001b[0m model = Sequential([\n\u001b[1;32m----> 2\u001b[1;33m \u001b[0mDense\u001b[0m\u001b[1;33m(\u001b[0m\u001b[1;36m20\u001b[0m\u001b[1;33m,\u001b[0m \u001b[0minput_shape\u001b[0m\u001b[1;33m=\u001b[0m\u001b[1;33m(\u001b[0m\u001b[1;36m13\u001b[0m\u001b[1;33m,\u001b[0m\u001b[1;33m)\u001b[0m\u001b[1;33m,\u001b[0m \u001b[0mactivation\u001b[0m\u001b[1;33m=\u001b[0m\u001b[1;34m'relu'\u001b[0m\u001b[1;33m)\u001b[0m\u001b[1;33m,\u001b[0m\u001b[1;33m\u001b[0m\u001b[1;33m\u001b[0m\u001b[0m\n\u001b[0m\u001b[0;32m      3\u001b[0m \u001b[0mDense\u001b[0m\u001b[1;33m(\u001b[0m\u001b[1;36m52\u001b[0m\u001b[1;33m,\u001b[0m \u001b[0mactivation\u001b[0m\u001b[1;33m=\u001b[0m \u001b[1;34m'relu'\u001b[0m\u001b[1;33m)\u001b[0m\u001b[1;33m,\u001b[0m\u001b[1;33m\u001b[0m\u001b[1;33m\u001b[0m\u001b[0m\n\u001b[0;32m      4\u001b[0m \u001b[0mDense\u001b[0m\u001b[1;33m(\u001b[0m\u001b[1;36m1\u001b[0m\u001b[1;33m,\u001b[0m \u001b[0mactivation\u001b[0m\u001b[1;33m=\u001b[0m \u001b[1;34m'sigmoid'\u001b[0m\u001b[1;33m)\u001b[0m\u001b[1;33m\u001b[0m\u001b[1;33m\u001b[0m\u001b[0m\n\u001b[0;32m      5\u001b[0m ])\n",
      "\u001b[1;31mNameError\u001b[0m: name 'Dense' is not defined"
     ]
    }
   ],
   "source": [
    "model = Sequential([\n",
    "Dense(20, input_shape=(13,), activation='relu'),\n",
    "Dense(52, activation= 'relu'),\n",
    "Dense(1, activation= 'sigmoid')\n",
    "])\n",
    "#Passando parametro de execução\n",
    "model.compile(optimizer='adam',\n",
    "loss='binary_crossentropy',\n",
    "metrics=['accuracy'])"
   ]
  }
 ],
 "metadata": {
  "kernelspec": {
   "display_name": "Python 3 (ipykernel)",
   "language": "python",
   "name": "python3"
  },
  "language_info": {
   "codemirror_mode": {
    "name": "ipython",
    "version": 3
   },
   "file_extension": ".py",
   "mimetype": "text/x-python",
   "name": "python",
   "nbconvert_exporter": "python",
   "pygments_lexer": "ipython3",
   "version": "3.9.7"
  }
 },
 "nbformat": 4,
 "nbformat_minor": 5
}
