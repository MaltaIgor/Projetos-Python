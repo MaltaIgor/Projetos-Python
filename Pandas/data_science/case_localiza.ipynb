{
 "cells": [
  {
   "cell_type": "markdown",
   "id": "d96d98fe",
   "metadata": {},
   "source": [
    "# Análise Igor Malta"
   ]
  },
  {
   "cell_type": "markdown",
   "id": "0c490135",
   "metadata": {},
   "source": [
    "# Importação das Bibliotecas"
   ]
  },
  {
   "cell_type": "code",
   "execution_count": 1,
   "id": "871dbe2a",
   "metadata": {},
   "outputs": [],
   "source": [
    "from datetime import datetime\n",
    "import statistics\n",
    "import matplotlib.pyplot as plt\n",
    "import pandas as pd\n",
    "import numpy as np\n",
    "from sklearn.preprocessing import MinMaxScaler, LabelEncoder\n",
    "from sklearn.model_selection import train_test_split\n",
    "from sklearn.metrics import confusion_matrix, classification_report\n",
    "from sklearn.ensemble import RandomForestClassifier"
   ]
  },
  {
   "cell_type": "markdown",
   "id": "69c24838",
   "metadata": {},
   "source": [
    "# Importação dos Dados"
   ]
  },
  {
   "cell_type": "code",
   "execution_count": 2,
   "id": "0a4a8e7e",
   "metadata": {},
   "outputs": [],
   "source": [
    "clientes = pd.read_csv(r'C:\\Users\\igor.malta\\Downloads\\case_localiza\\base_clientes.csv',  delimiter = \";\")\n",
    "contratos = pd.read_csv(r'C:\\Users\\igor.malta\\Downloads\\case_localiza\\base_contratos.csv',  delimiter = \";\")"
   ]
  },
  {
   "cell_type": "markdown",
   "id": "85f9bacf",
   "metadata": {},
   "source": [
    "# Limpeza dos dados"
   ]
  },
  {
   "cell_type": "markdown",
   "id": "349363e1",
   "metadata": {},
   "source": [
    "### Ao realizar a importação, são boas praticas realizar a conferencia dos primeiros e dos ultimos registros para avaliar se os dados estão corretos, com a separação de colunas e a encodificação corretas, assim como a estrutura do dataframe e suas informações."
   ]
  },
  {
   "cell_type": "code",
   "execution_count": 3,
   "id": "c351a532",
   "metadata": {},
   "outputs": [
    {
     "data": {
      "text/html": [
       "<div>\n",
       "<style scoped>\n",
       "    .dataframe tbody tr th:only-of-type {\n",
       "        vertical-align: middle;\n",
       "    }\n",
       "\n",
       "    .dataframe tbody tr th {\n",
       "        vertical-align: top;\n",
       "    }\n",
       "\n",
       "    .dataframe thead th {\n",
       "        text-align: right;\n",
       "    }\n",
       "</style>\n",
       "<table border=\"1\" class=\"dataframe\">\n",
       "  <thead>\n",
       "    <tr style=\"text-align: right;\">\n",
       "      <th></th>\n",
       "      <th>cd_cliente</th>\n",
       "      <th>nome_cliente</th>\n",
       "      <th>aquisição_cliente</th>\n",
       "    </tr>\n",
       "  </thead>\n",
       "  <tbody>\n",
       "    <tr>\n",
       "      <th>0</th>\n",
       "      <td>1</td>\n",
       "      <td>Rosa</td>\n",
       "      <td>Organic</td>\n",
       "    </tr>\n",
       "    <tr>\n",
       "      <th>1</th>\n",
       "      <td>2</td>\n",
       "      <td>Joaquim</td>\n",
       "      <td>Social Media</td>\n",
       "    </tr>\n",
       "    <tr>\n",
       "      <th>2</th>\n",
       "      <td>3</td>\n",
       "      <td>Antônio</td>\n",
       "      <td>Direct</td>\n",
       "    </tr>\n",
       "    <tr>\n",
       "      <th>3</th>\n",
       "      <td>4</td>\n",
       "      <td>Pedro</td>\n",
       "      <td>Google Ads - Search</td>\n",
       "    </tr>\n",
       "    <tr>\n",
       "      <th>4</th>\n",
       "      <td>5</td>\n",
       "      <td>Josefa</td>\n",
       "      <td>Referral</td>\n",
       "    </tr>\n",
       "  </tbody>\n",
       "</table>\n",
       "</div>"
      ],
      "text/plain": [
       "   cd_cliente nome_cliente    aquisição_cliente\n",
       "0           1         Rosa              Organic\n",
       "1           2      Joaquim         Social Media\n",
       "2           3      Antônio               Direct\n",
       "3           4        Pedro  Google Ads - Search\n",
       "4           5       Josefa             Referral"
      ]
     },
     "execution_count": 3,
     "metadata": {},
     "output_type": "execute_result"
    }
   ],
   "source": [
    "clientes.head()"
   ]
  },
  {
   "cell_type": "code",
   "execution_count": 4,
   "id": "75ffe6dd",
   "metadata": {},
   "outputs": [
    {
     "data": {
      "text/html": [
       "<div>\n",
       "<style scoped>\n",
       "    .dataframe tbody tr th:only-of-type {\n",
       "        vertical-align: middle;\n",
       "    }\n",
       "\n",
       "    .dataframe tbody tr th {\n",
       "        vertical-align: top;\n",
       "    }\n",
       "\n",
       "    .dataframe thead th {\n",
       "        text-align: right;\n",
       "    }\n",
       "</style>\n",
       "<table border=\"1\" class=\"dataframe\">\n",
       "  <thead>\n",
       "    <tr style=\"text-align: right;\">\n",
       "      <th></th>\n",
       "      <th>cd_cliente</th>\n",
       "      <th>nome_cliente</th>\n",
       "      <th>aquisição_cliente</th>\n",
       "    </tr>\n",
       "  </thead>\n",
       "  <tbody>\n",
       "    <tr>\n",
       "      <th>44837</th>\n",
       "      <td>109047</td>\n",
       "      <td>Sandra</td>\n",
       "      <td>Organic</td>\n",
       "    </tr>\n",
       "    <tr>\n",
       "      <th>44838</th>\n",
       "      <td>112481</td>\n",
       "      <td>Fabio</td>\n",
       "      <td>Organic</td>\n",
       "    </tr>\n",
       "    <tr>\n",
       "      <th>44839</th>\n",
       "      <td>114109</td>\n",
       "      <td>Rodrigo</td>\n",
       "      <td>Direct</td>\n",
       "    </tr>\n",
       "    <tr>\n",
       "      <th>44840</th>\n",
       "      <td>121495</td>\n",
       "      <td>Sandra</td>\n",
       "      <td>Organic</td>\n",
       "    </tr>\n",
       "    <tr>\n",
       "      <th>44841</th>\n",
       "      <td>123883</td>\n",
       "      <td>Pedro</td>\n",
       "      <td>Organic</td>\n",
       "    </tr>\n",
       "  </tbody>\n",
       "</table>\n",
       "</div>"
      ],
      "text/plain": [
       "       cd_cliente nome_cliente aquisição_cliente\n",
       "44837      109047       Sandra           Organic\n",
       "44838      112481        Fabio           Organic\n",
       "44839      114109      Rodrigo            Direct\n",
       "44840      121495       Sandra           Organic\n",
       "44841      123883        Pedro           Organic"
      ]
     },
     "execution_count": 4,
     "metadata": {},
     "output_type": "execute_result"
    }
   ],
   "source": [
    "clientes.tail()"
   ]
  },
  {
   "cell_type": "code",
   "execution_count": 5,
   "id": "f220d361",
   "metadata": {},
   "outputs": [
    {
     "data": {
      "text/html": [
       "<div>\n",
       "<style scoped>\n",
       "    .dataframe tbody tr th:only-of-type {\n",
       "        vertical-align: middle;\n",
       "    }\n",
       "\n",
       "    .dataframe tbody tr th {\n",
       "        vertical-align: top;\n",
       "    }\n",
       "\n",
       "    .dataframe thead th {\n",
       "        text-align: right;\n",
       "    }\n",
       "</style>\n",
       "<table border=\"1\" class=\"dataframe\">\n",
       "  <thead>\n",
       "    <tr style=\"text-align: right;\">\n",
       "      <th></th>\n",
       "      <th>cidade_retirada</th>\n",
       "      <th>cidade_devolucao</th>\n",
       "      <th>cd_contrato</th>\n",
       "      <th>transporte_locado</th>\n",
       "      <th>data_abertura_contrato</th>\n",
       "      <th>qtd_diarias</th>\n",
       "      <th>data_fechamento_contrato</th>\n",
       "      <th>qtd_hora_extra</th>\n",
       "      <th>valor_contrato</th>\n",
       "      <th>cd_cliente</th>\n",
       "    </tr>\n",
       "  </thead>\n",
       "  <tbody>\n",
       "    <tr>\n",
       "      <th>0</th>\n",
       "      <td>Hogsmeade</td>\n",
       "      <td>Hogsmeade</td>\n",
       "      <td>HGM048798</td>\n",
       "      <td>Portal</td>\n",
       "      <td>26/01/2015 05:58</td>\n",
       "      <td>1</td>\n",
       "      <td>27/01/2015 05:58</td>\n",
       "      <td>0</td>\n",
       "      <td>229</td>\n",
       "      <td>1</td>\n",
       "    </tr>\n",
       "    <tr>\n",
       "      <th>1</th>\n",
       "      <td>Springfield</td>\n",
       "      <td>Springfield</td>\n",
       "      <td>SPF030834</td>\n",
       "      <td>Ônibus Escolar</td>\n",
       "      <td>05/02/2015 15:10</td>\n",
       "      <td>1</td>\n",
       "      <td>06/02/2015 15:10</td>\n",
       "      <td>0</td>\n",
       "      <td>198</td>\n",
       "      <td>1</td>\n",
       "    </tr>\n",
       "    <tr>\n",
       "      <th>2</th>\n",
       "      <td>Porto Real</td>\n",
       "      <td>Porto Real</td>\n",
       "      <td>PRL017782</td>\n",
       "      <td>Barco</td>\n",
       "      <td>04/05/2015 20:49</td>\n",
       "      <td>1</td>\n",
       "      <td>05/05/2015 20:49</td>\n",
       "      <td>0</td>\n",
       "      <td>436</td>\n",
       "      <td>1</td>\n",
       "    </tr>\n",
       "    <tr>\n",
       "      <th>3</th>\n",
       "      <td>Basin City</td>\n",
       "      <td>Basin City</td>\n",
       "      <td>SIN042621</td>\n",
       "      <td>1960 Corvette</td>\n",
       "      <td>07/05/2015 07:34</td>\n",
       "      <td>1</td>\n",
       "      <td>08/05/2015 07:34</td>\n",
       "      <td>0</td>\n",
       "      <td>423</td>\n",
       "      <td>1</td>\n",
       "    </tr>\n",
       "    <tr>\n",
       "      <th>4</th>\n",
       "      <td>Godric's Hollow</td>\n",
       "      <td>Godric's Hollow</td>\n",
       "      <td>GDH044954</td>\n",
       "      <td>Testralio</td>\n",
       "      <td>01/08/2015 11:14</td>\n",
       "      <td>2</td>\n",
       "      <td>03/08/2015 12:14</td>\n",
       "      <td>1</td>\n",
       "      <td>676</td>\n",
       "      <td>1</td>\n",
       "    </tr>\n",
       "  </tbody>\n",
       "</table>\n",
       "</div>"
      ],
      "text/plain": [
       "   cidade_retirada cidade_devolucao cd_contrato transporte_locado  \\\n",
       "0        Hogsmeade        Hogsmeade   HGM048798            Portal   \n",
       "1      Springfield      Springfield   SPF030834    Ônibus Escolar   \n",
       "2       Porto Real       Porto Real   PRL017782             Barco   \n",
       "3       Basin City       Basin City   SIN042621     1960 Corvette   \n",
       "4  Godric's Hollow  Godric's Hollow   GDH044954         Testralio   \n",
       "\n",
       "  data_abertura_contrato  qtd_diarias data_fechamento_contrato  \\\n",
       "0       26/01/2015 05:58            1         27/01/2015 05:58   \n",
       "1       05/02/2015 15:10            1         06/02/2015 15:10   \n",
       "2       04/05/2015 20:49            1         05/05/2015 20:49   \n",
       "3       07/05/2015 07:34            1         08/05/2015 07:34   \n",
       "4       01/08/2015 11:14            2         03/08/2015 12:14   \n",
       "\n",
       "   qtd_hora_extra  valor_contrato  cd_cliente  \n",
       "0               0             229           1  \n",
       "1               0             198           1  \n",
       "2               0             436           1  \n",
       "3               0             423           1  \n",
       "4               1             676           1  "
      ]
     },
     "execution_count": 5,
     "metadata": {},
     "output_type": "execute_result"
    }
   ],
   "source": [
    "contratos.head()"
   ]
  },
  {
   "cell_type": "code",
   "execution_count": 6,
   "id": "d2121a53",
   "metadata": {},
   "outputs": [
    {
     "data": {
      "text/html": [
       "<div>\n",
       "<style scoped>\n",
       "    .dataframe tbody tr th:only-of-type {\n",
       "        vertical-align: middle;\n",
       "    }\n",
       "\n",
       "    .dataframe tbody tr th {\n",
       "        vertical-align: top;\n",
       "    }\n",
       "\n",
       "    .dataframe thead th {\n",
       "        text-align: right;\n",
       "    }\n",
       "</style>\n",
       "<table border=\"1\" class=\"dataframe\">\n",
       "  <thead>\n",
       "    <tr style=\"text-align: right;\">\n",
       "      <th></th>\n",
       "      <th>cidade_retirada</th>\n",
       "      <th>cidade_devolucao</th>\n",
       "      <th>cd_contrato</th>\n",
       "      <th>transporte_locado</th>\n",
       "      <th>data_abertura_contrato</th>\n",
       "      <th>qtd_diarias</th>\n",
       "      <th>data_fechamento_contrato</th>\n",
       "      <th>qtd_hora_extra</th>\n",
       "      <th>valor_contrato</th>\n",
       "      <th>cd_cliente</th>\n",
       "    </tr>\n",
       "  </thead>\n",
       "  <tbody>\n",
       "    <tr>\n",
       "      <th>480858</th>\n",
       "      <td>Godric's Hollow</td>\n",
       "      <td>Godric's Hollow</td>\n",
       "      <td>GDH015195</td>\n",
       "      <td>Vassoura</td>\n",
       "      <td>25/11/2020 20:25</td>\n",
       "      <td>4</td>\n",
       "      <td>29/11/2020 20:25</td>\n",
       "      <td>0</td>\n",
       "      <td>1204</td>\n",
       "      <td>109047</td>\n",
       "    </tr>\n",
       "    <tr>\n",
       "      <th>480859</th>\n",
       "      <td>Springfield</td>\n",
       "      <td>Springfield</td>\n",
       "      <td>SPF004254</td>\n",
       "      <td>Ônibus Escolar</td>\n",
       "      <td>21/03/2018 16:10</td>\n",
       "      <td>7</td>\n",
       "      <td>28/03/2018 17:10</td>\n",
       "      <td>1</td>\n",
       "      <td>2723</td>\n",
       "      <td>112481</td>\n",
       "    </tr>\n",
       "    <tr>\n",
       "      <th>480860</th>\n",
       "      <td>Atlântida</td>\n",
       "      <td>Atlântida</td>\n",
       "      <td>ATL054451</td>\n",
       "      <td>Nadadeiras</td>\n",
       "      <td>11/08/2015 18:22</td>\n",
       "      <td>1</td>\n",
       "      <td>12/08/2015 18:22</td>\n",
       "      <td>0</td>\n",
       "      <td>494</td>\n",
       "      <td>114109</td>\n",
       "    </tr>\n",
       "    <tr>\n",
       "      <th>480861</th>\n",
       "      <td>Porto Real</td>\n",
       "      <td>Porto Real</td>\n",
       "      <td>PRL054093</td>\n",
       "      <td>Canoa</td>\n",
       "      <td>14/07/2015 02:33</td>\n",
       "      <td>1</td>\n",
       "      <td>15/07/2015 02:33</td>\n",
       "      <td>0</td>\n",
       "      <td>179</td>\n",
       "      <td>121495</td>\n",
       "    </tr>\n",
       "    <tr>\n",
       "      <th>480862</th>\n",
       "      <td>Atlântida</td>\n",
       "      <td>Atlântida</td>\n",
       "      <td>ATL031442</td>\n",
       "      <td>Cavalo-Marinho</td>\n",
       "      <td>22/07/2018 00:09</td>\n",
       "      <td>4</td>\n",
       "      <td>26/07/2018 00:09</td>\n",
       "      <td>0</td>\n",
       "      <td>1664</td>\n",
       "      <td>123883</td>\n",
       "    </tr>\n",
       "  </tbody>\n",
       "</table>\n",
       "</div>"
      ],
      "text/plain": [
       "        cidade_retirada cidade_devolucao cd_contrato transporte_locado  \\\n",
       "480858  Godric's Hollow  Godric's Hollow   GDH015195          Vassoura   \n",
       "480859      Springfield      Springfield   SPF004254    Ônibus Escolar   \n",
       "480860        Atlântida        Atlântida   ATL054451        Nadadeiras   \n",
       "480861       Porto Real       Porto Real   PRL054093             Canoa   \n",
       "480862        Atlântida        Atlântida   ATL031442    Cavalo-Marinho   \n",
       "\n",
       "       data_abertura_contrato  qtd_diarias data_fechamento_contrato  \\\n",
       "480858       25/11/2020 20:25            4         29/11/2020 20:25   \n",
       "480859       21/03/2018 16:10            7         28/03/2018 17:10   \n",
       "480860       11/08/2015 18:22            1         12/08/2015 18:22   \n",
       "480861       14/07/2015 02:33            1         15/07/2015 02:33   \n",
       "480862       22/07/2018 00:09            4         26/07/2018 00:09   \n",
       "\n",
       "        qtd_hora_extra  valor_contrato  cd_cliente  \n",
       "480858               0            1204      109047  \n",
       "480859               1            2723      112481  \n",
       "480860               0             494      114109  \n",
       "480861               0             179      121495  \n",
       "480862               0            1664      123883  "
      ]
     },
     "execution_count": 6,
     "metadata": {},
     "output_type": "execute_result"
    }
   ],
   "source": [
    "contratos.tail()"
   ]
  },
  {
   "cell_type": "code",
   "execution_count": 7,
   "id": "9e5c896e",
   "metadata": {},
   "outputs": [
    {
     "data": {
      "text/plain": [
       "(480863, 10)"
      ]
     },
     "execution_count": 7,
     "metadata": {},
     "output_type": "execute_result"
    }
   ],
   "source": [
    "contratos.shape\n"
   ]
  },
  {
   "cell_type": "code",
   "execution_count": 8,
   "id": "e5f9ef18",
   "metadata": {},
   "outputs": [
    {
     "data": {
      "text/plain": [
       "(44842, 3)"
      ]
     },
     "execution_count": 8,
     "metadata": {},
     "output_type": "execute_result"
    }
   ],
   "source": [
    "clientes.shape"
   ]
  },
  {
   "cell_type": "code",
   "execution_count": 9,
   "id": "0be44535",
   "metadata": {},
   "outputs": [
    {
     "name": "stdout",
     "output_type": "stream",
     "text": [
      "<class 'pandas.core.frame.DataFrame'>\n",
      "RangeIndex: 44842 entries, 0 to 44841\n",
      "Data columns (total 3 columns):\n",
      " #   Column             Non-Null Count  Dtype \n",
      "---  ------             --------------  ----- \n",
      " 0   cd_cliente         44842 non-null  int64 \n",
      " 1   nome_cliente       44842 non-null  object\n",
      " 2   aquisição_cliente  44842 non-null  object\n",
      "dtypes: int64(1), object(2)\n",
      "memory usage: 1.0+ MB\n"
     ]
    }
   ],
   "source": [
    "clientes.info()"
   ]
  },
  {
   "cell_type": "code",
   "execution_count": 10,
   "id": "ec956df2",
   "metadata": {},
   "outputs": [
    {
     "name": "stdout",
     "output_type": "stream",
     "text": [
      "<class 'pandas.core.frame.DataFrame'>\n",
      "RangeIndex: 480863 entries, 0 to 480862\n",
      "Data columns (total 10 columns):\n",
      " #   Column                    Non-Null Count   Dtype \n",
      "---  ------                    --------------   ----- \n",
      " 0   cidade_retirada           480863 non-null  object\n",
      " 1   cidade_devolucao          480863 non-null  object\n",
      " 2   cd_contrato               480863 non-null  object\n",
      " 3   transporte_locado         480863 non-null  object\n",
      " 4   data_abertura_contrato    480863 non-null  object\n",
      " 5   qtd_diarias               480863 non-null  int64 \n",
      " 6   data_fechamento_contrato  480863 non-null  object\n",
      " 7   qtd_hora_extra            480863 non-null  int64 \n",
      " 8   valor_contrato            480863 non-null  int64 \n",
      " 9   cd_cliente                480863 non-null  int64 \n",
      "dtypes: int64(4), object(6)\n",
      "memory usage: 36.7+ MB\n"
     ]
    }
   ],
   "source": [
    "contratos.info()"
   ]
  },
  {
   "cell_type": "markdown",
   "id": "6e8504cd",
   "metadata": {},
   "source": [
    "### As bases não possuem valores nulos e está bem estruturada. O próximo passo sera transformar os campos de data que estão com tipo Object para DateTime para que possamos utilizar na agregação min/max e fazer a diferença."
   ]
  },
  {
   "cell_type": "code",
   "execution_count": 11,
   "id": "e0222e4b",
   "metadata": {},
   "outputs": [],
   "source": [
    "\n",
    "format_str = '%d/%m/%Y %H:%M'\n",
    "correct_data = lambda x: datetime.strptime(x, format_str)\n",
    "contratos['data_abertura_contrato'] = list(map(correct_data, contratos['data_abertura_contrato']))\n",
    "contratos['data_fechamento_contrato'] = list(map(correct_data, contratos['data_fechamento_contrato']))"
   ]
  },
  {
   "cell_type": "markdown",
   "id": "2909a2e1",
   "metadata": {},
   "source": [
    "# Manipulação dos dados"
   ]
  },
  {
   "cell_type": "code",
   "execution_count": 12,
   "id": "6c03413e",
   "metadata": {},
   "outputs": [
    {
     "data": {
      "text/html": [
       "<div>\n",
       "<style scoped>\n",
       "    .dataframe tbody tr th:only-of-type {\n",
       "        vertical-align: middle;\n",
       "    }\n",
       "\n",
       "    .dataframe tbody tr th {\n",
       "        vertical-align: top;\n",
       "    }\n",
       "\n",
       "    .dataframe thead th {\n",
       "        text-align: right;\n",
       "    }\n",
       "</style>\n",
       "<table border=\"1\" class=\"dataframe\">\n",
       "  <thead>\n",
       "    <tr style=\"text-align: right;\">\n",
       "      <th></th>\n",
       "      <th>min_abertura</th>\n",
       "      <th>max_fechamento</th>\n",
       "      <th>media_diarias</th>\n",
       "      <th>qtd_contratos</th>\n",
       "      <th>media_he</th>\n",
       "      <th>periodo_inicio_fim_dias</th>\n",
       "    </tr>\n",
       "    <tr>\n",
       "      <th>cd_cliente</th>\n",
       "      <th></th>\n",
       "      <th></th>\n",
       "      <th></th>\n",
       "      <th></th>\n",
       "      <th></th>\n",
       "      <th></th>\n",
       "    </tr>\n",
       "  </thead>\n",
       "  <tbody>\n",
       "    <tr>\n",
       "      <th>1</th>\n",
       "      <td>2015-01-26 05:58:00</td>\n",
       "      <td>2020-10-21 21:26:00</td>\n",
       "      <td>1.916667</td>\n",
       "      <td>36</td>\n",
       "      <td>0.138889</td>\n",
       "      <td>2095 days 15:28:00</td>\n",
       "    </tr>\n",
       "    <tr>\n",
       "      <th>2</th>\n",
       "      <td>2015-01-31 02:29:00</td>\n",
       "      <td>2020-12-15 05:39:00</td>\n",
       "      <td>2.023256</td>\n",
       "      <td>43</td>\n",
       "      <td>0.093023</td>\n",
       "      <td>2145 days 03:10:00</td>\n",
       "    </tr>\n",
       "    <tr>\n",
       "      <th>3</th>\n",
       "      <td>2015-02-12 09:27:00</td>\n",
       "      <td>2020-11-01 18:15:00</td>\n",
       "      <td>2.486486</td>\n",
       "      <td>37</td>\n",
       "      <td>0.000000</td>\n",
       "      <td>2089 days 08:48:00</td>\n",
       "    </tr>\n",
       "    <tr>\n",
       "      <th>4</th>\n",
       "      <td>2015-03-06 15:37:00</td>\n",
       "      <td>2020-12-14 18:31:00</td>\n",
       "      <td>2.472222</td>\n",
       "      <td>36</td>\n",
       "      <td>0.194444</td>\n",
       "      <td>2110 days 02:54:00</td>\n",
       "    </tr>\n",
       "    <tr>\n",
       "      <th>5</th>\n",
       "      <td>2015-02-24 09:00:00</td>\n",
       "      <td>2020-12-12 08:37:00</td>\n",
       "      <td>2.877551</td>\n",
       "      <td>49</td>\n",
       "      <td>0.224490</td>\n",
       "      <td>2117 days 23:37:00</td>\n",
       "    </tr>\n",
       "  </tbody>\n",
       "</table>\n",
       "</div>"
      ],
      "text/plain": [
       "                  min_abertura      max_fechamento  media_diarias  \\\n",
       "cd_cliente                                                          \n",
       "1          2015-01-26 05:58:00 2020-10-21 21:26:00       1.916667   \n",
       "2          2015-01-31 02:29:00 2020-12-15 05:39:00       2.023256   \n",
       "3          2015-02-12 09:27:00 2020-11-01 18:15:00       2.486486   \n",
       "4          2015-03-06 15:37:00 2020-12-14 18:31:00       2.472222   \n",
       "5          2015-02-24 09:00:00 2020-12-12 08:37:00       2.877551   \n",
       "\n",
       "            qtd_contratos  media_he periodo_inicio_fim_dias  \n",
       "cd_cliente                                                   \n",
       "1                      36  0.138889      2095 days 15:28:00  \n",
       "2                      43  0.093023      2145 days 03:10:00  \n",
       "3                      37  0.000000      2089 days 08:48:00  \n",
       "4                      36  0.194444      2110 days 02:54:00  \n",
       "5                      49  0.224490      2117 days 23:37:00  "
      ]
     },
     "execution_count": 12,
     "metadata": {},
     "output_type": "execute_result"
    }
   ],
   "source": [
    "data_churn = contratos.groupby(['cd_cliente']).agg({'data_abertura_contrato':'min','data_fechamento_contrato':'max','qtd_diarias':'mean','cd_cliente':'count','qtd_hora_extra':'mean'})\n",
    "data_churn['periodo_inicio_fim_dias'] = data_churn['data_fechamento_contrato'] - data_churn['data_abertura_contrato']\n",
    "data_churn = data_churn.rename(columns={'data_abertura_contrato': 'min_abertura', 'data_fechamento_contrato': 'max_fechamento', 'qtd_diarias': 'media_diarias', 'cd_cliente': 'qtd_contratos', 'qtd_hora_extra': 'media_he'})\n",
    "data_churn.head()"
   ]
  },
  {
   "cell_type": "markdown",
   "id": "5bb84e74",
   "metadata": {},
   "source": [
    "### Os valores da tabela de contratos foram agregados para identificarmos o comportamento de cliente por cliente. Para definir quem são os novos clientes, utilizamos a quantidade de contratos, sendo quantidade 1, um cliente novo. E para o churn, a lógica foi trazer a mediana da diferença das datas de abertura de contrato que aquele cliente ja teve (x - (x-1))."
   ]
  },
  {
   "cell_type": "code",
   "execution_count": null,
   "id": "4a51ff65",
   "metadata": {},
   "outputs": [],
   "source": [
    "contratos = contratos.sort_values(by=['cd_cliente', 'data_abertura_contrato'])\n",
    "contratos = contratos.reset_index(drop='index')\n",
    "\n",
    "\n",
    "data_churn['dif_data'] = None\n",
    "for cliente in contratos.cd_cliente.unique():\n",
    "    list_datas = contratos[contratos['cd_cliente']==cliente].data_abertura_contrato.to_list()\n",
    "    list_dif = []\n",
    "    for index, value in enumerate(list_datas):\n",
    "        try:\n",
    "            list_dif.append(list_datas[index+1]-list_datas[index])\n",
    "        except:\n",
    "            pass\n",
    "    try:\n",
    "        list_dif.sort()\n",
    "        mediana = statistics.median(list_dif)\n",
    "        data_churn.loc[data_churn.index==cliente, 'dif_data'] = mediana\n",
    "    except:\n",
    "#caso seja apenas um contrato a mediana dará erro, então sera usado o máximo de data da base para relacionar ao fechamento.\n",
    "#logo, na proxima etapa quando fiz a comparação da mediana geral\n",
    "        data_churn.loc[data_churn.index==cliente, 'dif_data'] = data_churn.max_fechamento.max()-data_churn.max_fechamento\n"
   ]
  },
  {
   "cell_type": "code",
   "execution_count": null,
   "id": "07c882be",
   "metadata": {},
   "outputs": [],
   "source": [
    "data_churn = data_churn.merge(clientes.aquisição_cliente, left_on=data_churn.index, right_on=clientes['cd_cliente'])\n",
    "data_churn.drop('key_0', axis = 1, inplace = True)"
   ]
  },
  {
   "cell_type": "markdown",
   "id": "c68896d3",
   "metadata": {},
   "source": [
    "### Foi realizado o join entre a tabela de clientes e a tabela de contratos agregados para termos a informação de origem do cliente em nossas análises."
   ]
  },
  {
   "cell_type": "code",
   "execution_count": null,
   "id": "a7fc73b4",
   "metadata": {},
   "outputs": [],
   "source": [
    "data_churn.head()"
   ]
  },
  {
   "cell_type": "markdown",
   "id": "6ff051b2",
   "metadata": {},
   "source": [
    "### Criei as colunas que identificam as duas premissas/regras que precisamos validar, já com as variáveis dummies"
   ]
  },
  {
   "cell_type": "code",
   "execution_count": null,
   "id": "ce5c52f5",
   "metadata": {},
   "outputs": [],
   "source": [
    "#cliente com um contrato apenas é o novo cliente.\n",
    "\n",
    "data_churn[\"categoria_cliente\"] = None\n",
    "data_churn['cliente_novo']=None\n",
    "data_churn[\"cliente_antigo\"] = None\n",
    "data_churn.loc[data_churn[\"qtd_contratos\"]==1,'cliente_novo'] = 1\n",
    "data_churn.loc[data_churn[\"qtd_contratos\"]>1,'cliente_novo'] = 0\n",
    "data_churn.loc[data_churn[\"qtd_contratos\"]==1,'cliente_antigo'] = 0\n",
    "data_churn.loc[data_churn[\"qtd_contratos\"]>1,'cliente_antigo'] = 1\n",
    "data_churn.loc[data_churn[\"qtd_contratos\"]==1,'categoria_cliente'] = \"Novo\"\n",
    "data_churn.loc[data_churn[\"qtd_contratos\"]>1,'categoria_cliente'] = \"Antigo\""
   ]
  },
  {
   "cell_type": "code",
   "execution_count": null,
   "id": "5121d03c",
   "metadata": {},
   "outputs": [],
   "source": [
    "q2_linha = data_churn.dif_data.quantile(.50)\n",
    "#mediana da base inteira para se comparar com a do cliente e verificar se é churn ou nao\n",
    "data_churn['categoria_churn'] = None\n",
    "data_churn['churn'] = None\n",
    "\n",
    "data_churn.loc[(data_churn['dif_data'] >= q2_linha),['churn']] = 1\n",
    "data_churn.loc[(data_churn['dif_data'] < q2_linha),['churn']] = 0\n",
    "data_churn.loc[(data_churn['dif_data'] >= q2_linha),['categoria_churn']] = \"Sim\"\n",
    "data_churn.loc[(data_churn['dif_data'] < q2_linha),['categoria_churn']] = \"Não\""
   ]
  },
  {
   "cell_type": "markdown",
   "id": "f91958d9",
   "metadata": {},
   "source": [
    "# Plotagem dos Histogramas"
   ]
  },
  {
   "cell_type": "code",
   "execution_count": null,
   "id": "eb416dbd",
   "metadata": {},
   "outputs": [],
   "source": [
    "dfno = data_churn[data_churn.categoria_churn == \"Não\"].categoria_cliente\n",
    "dfyes = data_churn[data_churn.categoria_churn == \"Sim\"].categoria_cliente\n",
    "\n",
    "plt.hist([dfno, dfyes], color=['blue','red'], label=['Churn = Não','Churn = Sim' ])\n",
    "plt.title(\"Churn por Categoria do cliente\")\n",
    "plt.legend();"
   ]
  },
  {
   "cell_type": "markdown",
   "id": "25f35d52",
   "metadata": {},
   "source": [
    "## Está validado que, proporcionalmente, o Churn entre os novos clientes é bem maior do que o Churn de clientes mais frequentes. Seria interessante que fosse criado um modelo de fidelização de novos clientes com promoções e demais técnicas para blindagem."
   ]
  },
  {
   "cell_type": "code",
   "execution_count": null,
   "id": "bf368a62",
   "metadata": {},
   "outputs": [],
   "source": [
    "dfno = data_churn[data_churn.categoria_churn == \"Não\"].media_he\n",
    "dfyes = data_churn[data_churn.categoria_churn == \"Sim\"].media_he\n",
    "\n",
    "plt.hist([dfno, dfyes], color=['blue','red'], label=['Churn = Não','Churn = Sim' ])\n",
    "plt.title(\"Churn por Média de Hora Extra\")\n",
    "plt.legend();"
   ]
  },
  {
   "cell_type": "markdown",
   "id": "ae0c45de",
   "metadata": {},
   "source": [
    "## Segundo o grafico, a frequencia de Churn aumenta suavemente na primeira fração de hora extra. Poderíamos criar uma tolerância para que a primeira hora extra seja cobrada apenas no caso de se completar duas horas."
   ]
  },
  {
   "cell_type": "code",
   "execution_count": null,
   "id": "283b3235",
   "metadata": {},
   "outputs": [],
   "source": [
    "dfno = data_churn[data_churn.categoria_churn == \"Não\"].aquisição_cliente\n",
    "dfyes = data_churn[data_churn.categoria_churn == \"Sim\"].aquisição_cliente\n",
    "\n",
    "plt.hist([dfno, dfyes], color=['blue','red'], label=['Churn = Não','Churn = Sim' ])\n",
    "plt.title(\"Churn por Aquisição Cliente\")\n",
    "plt.legend();"
   ]
  },
  {
   "cell_type": "code",
   "execution_count": null,
   "id": "dd802649",
   "metadata": {},
   "outputs": [],
   "source": [
    "dfno = data_churn[data_churn.categoria_churn == \"Não\"].qtd_contratos\n",
    "dfyes = data_churn[data_churn.categoria_churn == \"Sim\"].qtd_contratos\n",
    "\n",
    "plt.hist([dfno, dfyes], color=['blue','red'], label=['Churn = Não','Churn = Sim' ])\n",
    "plt.title(\"Churn por qtd Contratos\")\n",
    "plt.legend();"
   ]
  },
  {
   "cell_type": "markdown",
   "id": "cf708ebd",
   "metadata": {},
   "source": [
    "## Assim como no contexto de novos clientes, os clientes que possuem poucos contratos são os que mais abandonam. Incentivos de locação poderiam ser realizados quando os clientes estiverem próximos de alcançar sua média de intervalo entre um contrato e outro."
   ]
  },
  {
   "cell_type": "code",
   "execution_count": null,
   "id": "baaa57fc",
   "metadata": {},
   "outputs": [],
   "source": [
    "dfno = data_churn[data_churn.categoria_churn == \"Não\"].media_diarias\n",
    "dfyes = data_churn[data_churn.categoria_churn == \"Sim\"].media_diarias\n",
    "\n",
    "plt.hist([dfno, dfyes], color=['blue','red'], label=['Churn = Não','Churn = Sim' ])\n",
    "plt.title(\"Churn por Média de Diárias\")\n",
    "plt.legend();"
   ]
  },
  {
   "cell_type": "markdown",
   "id": "adcb0824",
   "metadata": {},
   "source": [
    "## Os que alugam por menos tempo tambem são os maiores ofensores do churn. Atenção especial para os contratos menores trazendo mais proximidade pós venda com esses clientes, agregando tambem o incentivo que comentamos sobre os de poucos contratos."
   ]
  },
  {
   "cell_type": "code",
   "execution_count": null,
   "id": "fdc5328b",
   "metadata": {},
   "outputs": [],
   "source": [
    "dfno = data_churn[data_churn.categoria_churn == \"Não\"].max_fechamento\n",
    "dfyes = data_churn[data_churn.categoria_churn == \"Sim\"].max_fechamento\n",
    "\n",
    "plt.hist([dfno, dfyes], color=['blue','red'], label=['Churn = Não','Churn = Sim' ])\n",
    "plt.title(\"Churn por Máxima de Fechamento\")\n",
    "plt.legend();"
   ]
  },
  {
   "cell_type": "code",
   "execution_count": null,
   "id": "4db739a3",
   "metadata": {},
   "outputs": [],
   "source": [
    "dfno = data_churn[data_churn.categoria_churn == \"Não\"].min_abertura\n",
    "dfyes = data_churn[data_churn.categoria_churn == \"Sim\"].min_abertura\n",
    "\n",
    "plt.hist([dfno, dfyes], color=['blue','red'], label=['Churn = Não','Churn = Sim' ])\n",
    "plt.title(\"Churn por Mínima de Abertura\")\n",
    "plt.legend();"
   ]
  },
  {
   "cell_type": "markdown",
   "id": "f0f52e44",
   "metadata": {},
   "source": [
    "## Os clientes que começaram a locar a partir de 2016 tem uma proporção de churn bem maior que o não churn. Importante verificar mudança de contexto nesse período."
   ]
  },
  {
   "cell_type": "markdown",
   "id": "57d775ef",
   "metadata": {},
   "source": [
    "# Balanceamento do Dataset e Criação do modelo de Previsão"
   ]
  },
  {
   "cell_type": "code",
   "execution_count": null,
   "id": "def76780",
   "metadata": {},
   "outputs": [],
   "source": [
    "dfno = data_churn[data_churn.categoria_churn == \"Não\"].categoria_churn\n",
    "dfyes = data_churn[data_churn.categoria_churn == \"Sim\"].categoria_churn\n",
    "\n",
    "total = dfno.count() + dfyes.count()\n",
    "percent = round((dfno.count()/total)*100,2)\n",
    "print(f'Sim: {dfyes.count()}', f'Não: {dfno.count()}', f'Não: {percent}')\n",
    "plt.hist([dfno, dfyes], color=['blue','red'], label=['Churn = Não','Churn = Sim' ])\n",
    "plt.legend();"
   ]
  },
  {
   "cell_type": "markdown",
   "id": "51a8f99c",
   "metadata": {},
   "source": [
    "### O Dataset está balanceado!!!"
   ]
  },
  {
   "cell_type": "code",
   "execution_count": null,
   "id": "c208e91c",
   "metadata": {},
   "outputs": [],
   "source": [
    "scaler=MinMaxScaler()\n",
    "data_churn[['media_diarias','qtd_contratos','media_he']] = scaler.fit_transform(data_churn[['media_diarias','qtd_contratos','media_he']])\n",
    "data_churn.sample(5)"
   ]
  },
  {
   "cell_type": "code",
   "execution_count": null,
   "id": "8c0969e3",
   "metadata": {},
   "outputs": [],
   "source": [
    "for col in ['aquisição_cliente','periodo_inicio_fim_dias']:\n",
    "    scaler = LabelEncoder()\n",
    "    data_churn[col] = scaler.fit_transform(data_churn[col])\n",
    "data_churn.sample(5)"
   ]
  },
  {
   "cell_type": "markdown",
   "id": "7c9c85e6",
   "metadata": {},
   "source": [
    "### Transformar os campos numericos pra uma escala única para que o modelo de provisão trate os campos sem tendenciar o resultado pela grandeza da variável. Além disso, para que seja treinado um modelo, preciso transformar minhas variáveis categóricas para o tipo numérico, conforme acima."
   ]
  },
  {
   "cell_type": "code",
   "execution_count": null,
   "id": "86e404a2",
   "metadata": {},
   "outputs": [],
   "source": [
    "#Separar features e labels\n",
    "features = data_churn.drop(['churn','min_abertura','max_fechamento', 'dif_data','categoria_cliente', 'categoria_churn'],1)\n",
    "label = data_churn['churn']\n",
    "\n",
    "#parte para validação\n",
    "val = data_churn.head(10)\n",
    "\n",
    "#novo feature\n",
    "features = features.iloc[10:]\n",
    "label = label.iloc[10:]\n",
    "\n",
    "#Separa entre treinamento e teste\n",
    "x_train, x_test, y_train, y_test = train_test_split (features,label, test_size=.30, random_state=0)\n",
    "\n",
    "#ajustar o tipo de dado das variáveis\n",
    "y_train=y_train.astype('int64')"
   ]
  },
  {
   "cell_type": "markdown",
   "id": "7ee7c1a9",
   "metadata": {},
   "source": [
    "### Separação dos dados para criação do modelo de categorização e classificação de churn."
   ]
  },
  {
   "cell_type": "code",
   "execution_count": null,
   "id": "ae7b0772",
   "metadata": {},
   "outputs": [],
   "source": [
    "modelo = RandomForestClassifier(n_estimators = 400 ,random_state = 0, n_jobs = -1)\n",
    "\n",
    "modelo.fit(x_train,y_train)"
   ]
  },
  {
   "cell_type": "code",
   "execution_count": null,
   "id": "a513c679",
   "metadata": {},
   "outputs": [],
   "source": [
    "p=modelo.predict(x_test)\n",
    "\n",
    "x_test['target'] = y_test\n",
    "y_test=y_test.astype('int64')\n",
    "x_test['predict'] = p\n",
    "p=p.astype('int64')\n",
    "\n",
    "confusion_matrix(y_test, p)"
   ]
  },
  {
   "cell_type": "markdown",
   "id": "c83581ed",
   "metadata": {},
   "source": [
    "### Por fim, foi realizado o treinamento do modelo e o teste com a comprovação da matriz de confusão. O modelo obteve o resultado de 6023 verdadeiros positivos para 374 falsos positivos, e 6327 verdadeiros negativos para 726 falsos negativos. A precisão minima do modelo em 90%. Segue o relatório de classificação abaixo."
   ]
  },
  {
   "cell_type": "code",
   "execution_count": null,
   "id": "cb2b2ab6",
   "metadata": {},
   "outputs": [],
   "source": [
    "print(classification_report(y_test, p))"
   ]
  }
 ],
 "metadata": {
  "kernelspec": {
   "display_name": "Python 3 (ipykernel)",
   "language": "python",
   "name": "python3"
  },
  "language_info": {
   "codemirror_mode": {
    "name": "ipython",
    "version": 3
   },
   "file_extension": ".py",
   "mimetype": "text/x-python",
   "name": "python",
   "nbconvert_exporter": "python",
   "pygments_lexer": "ipython3",
   "version": "3.9.7"
  }
 },
 "nbformat": 4,
 "nbformat_minor": 5
}
