{
 "cells": [
  {
   "cell_type": "code",
   "execution_count": 15,
   "id": "5b0da40c",
   "metadata": {},
   "outputs": [
    {
     "name": "stdout",
     "output_type": "stream",
     "text": [
      "<Response [400]>\n",
      "{'object': 'error', 'status': 400, 'code': 'validation_error', 'message': 'path failed validation: path.page_id should be a valid uuid, instead was `\"teste-6ab881de1df246ceb5736abc9bca97e3\"`.'}\n"
     ]
    }
   ],
   "source": [
    "import requests, json\n",
    "import pandas as pd\n",
    "\n",
    "\n",
    "token = 'secret_B2cG3BCyImHqfMCzgT82q6eoJXSXL9aZrro0fUrS78i'\n",
    "databaseId = 'teste-6ab881de1df246ceb5736abc9bca97e3'\n",
    "\n",
    "headers = {\n",
    "    \"Authorization\": \"Bearer \" + token,\n",
    "    \"Content-Type\": \"application/json\",\n",
    "    \"Notion-Version\": \"2021-08-16\"\n",
    "}\n",
    "\n",
    "\n",
    "readUrl = f\"https://api.notion.com/v1/pages/{databaseId}\"\n",
    "#readUrl = \"https://www.notion.so/tabela-0fcad281e2b84ceea76c2145fb86bbce\"\n",
    "res = requests.request(\"GET\", readUrl, headers=headers)\n",
    "data = res.json()\n",
    "print(res)\n",
    "#tabela = pd.read_json(data)\n",
    "print(data)\n",
    "#tabela.head()"
   ]
  },
  {
   "cell_type": "code",
   "execution_count": null,
   "id": "8e6dcbed",
   "metadata": {},
   "outputs": [],
   "source": []
  }
 ],
 "metadata": {
  "kernelspec": {
   "display_name": "Python 3 (ipykernel)",
   "language": "python",
   "name": "python3"
  },
  "language_info": {
   "codemirror_mode": {
    "name": "ipython",
    "version": 3
   },
   "file_extension": ".py",
   "mimetype": "text/x-python",
   "name": "python",
   "nbconvert_exporter": "python",
   "pygments_lexer": "ipython3",
   "version": "3.9.7"
  }
 },
 "nbformat": 4,
 "nbformat_minor": 5
}
