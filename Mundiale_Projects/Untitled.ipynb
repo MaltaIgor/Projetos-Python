{
 "cells": [
  {
   "cell_type": "code",
   "execution_count": 1,
   "id": "16c361cc",
   "metadata": {},
   "outputs": [],
   "source": [
    "import pandas as pd\n",
    "import calendar\n",
    "import datetime\n",
    "import os"
   ]
  },
  {
   "cell_type": "code",
   "execution_count": 4,
   "id": "48a2b649",
   "metadata": {},
   "outputs": [],
   "source": [
    "data_mailing = pd.read_csv(r'C:\\Users\\igor.malta\\Downloads\\data_apresentacao', low_memory=False)"
   ]
  },
  {
   "cell_type": "code",
   "execution_count": 5,
   "id": "275fc27f",
   "metadata": {},
   "outputs": [
    {
     "data": {
      "text/html": [
       "<div>\n",
       "<style scoped>\n",
       "    .dataframe tbody tr th:only-of-type {\n",
       "        vertical-align: middle;\n",
       "    }\n",
       "\n",
       "    .dataframe tbody tr th {\n",
       "        vertical-align: top;\n",
       "    }\n",
       "\n",
       "    .dataframe thead th {\n",
       "        text-align: right;\n",
       "    }\n",
       "</style>\n",
       "<table border=\"1\" class=\"dataframe\">\n",
       "  <thead>\n",
       "    <tr style=\"text-align: right;\">\n",
       "      <th></th>\n",
       "      <th>Unnamed: 0</th>\n",
       "      <th>cod_quinzena</th>\n",
       "      <th>soma_recarga</th>\n",
       "      <th>soma_mb_trafegado</th>\n",
       "      <th>dat_ativacao</th>\n",
       "      <th>flag_utilizou_dados</th>\n",
       "      <th>plano_contratado</th>\n",
       "      <th>ds_campo_variavel_3</th>\n",
       "      <th>ds_campo_variavel_4</th>\n",
       "      <th>ds_campo_variavel_5</th>\n",
       "      <th>tipo_mailing</th>\n",
       "      <th>marcacao_ai</th>\n",
       "      <th>venda</th>\n",
       "    </tr>\n",
       "  </thead>\n",
       "  <tbody>\n",
       "    <tr>\n",
       "      <th>0</th>\n",
       "      <td>0</td>\n",
       "      <td>20210401</td>\n",
       "      <td>30.00</td>\n",
       "      <td>6371.39</td>\n",
       "      <td>2020-08-07</td>\n",
       "      <td>S</td>\n",
       "      <td>PREZAO R$29,99 POR MES 3GB+3GB</td>\n",
       "      <td>4GB ilimitado</td>\n",
       "      <td>39.99</td>\n",
       "      <td>30,00 A 34,99</td>\n",
       "      <td>MPLAY NET</td>\n",
       "      <td>BP2</td>\n",
       "      <td>NaN</td>\n",
       "    </tr>\n",
       "    <tr>\n",
       "      <th>1</th>\n",
       "      <td>1</td>\n",
       "      <td>20210401</td>\n",
       "      <td>15.00</td>\n",
       "      <td>2.22</td>\n",
       "      <td>2020-06-10</td>\n",
       "      <td>S</td>\n",
       "      <td>PREZAO R$14,99 2GB POR MES</td>\n",
       "      <td>3GB ilimitado</td>\n",
       "      <td>29.99</td>\n",
       "      <td>15,00 A 19,99</td>\n",
       "      <td>MPLAY NET</td>\n",
       "      <td>BP</td>\n",
       "      <td>NaN</td>\n",
       "    </tr>\n",
       "    <tr>\n",
       "      <th>2</th>\n",
       "      <td>2</td>\n",
       "      <td>20210401</td>\n",
       "      <td>25.00</td>\n",
       "      <td>0.44</td>\n",
       "      <td>2020-03-16</td>\n",
       "      <td>S</td>\n",
       "      <td>PREZAO R$9,99 POR SEMANA 1GB+1GB+RENOVACAO</td>\n",
       "      <td>4GB ilimitado</td>\n",
       "      <td>39.99</td>\n",
       "      <td>25,00 A 29,99</td>\n",
       "      <td>MPLAY NET</td>\n",
       "      <td>BP2</td>\n",
       "      <td>NaN</td>\n",
       "    </tr>\n",
       "    <tr>\n",
       "      <th>3</th>\n",
       "      <td>3</td>\n",
       "      <td>20210401</td>\n",
       "      <td>41.67</td>\n",
       "      <td>8016.61</td>\n",
       "      <td>2019-10-24</td>\n",
       "      <td>S</td>\n",
       "      <td>PREZAO R$14,99 2GB POR MES</td>\n",
       "      <td>8GB ilimitado</td>\n",
       "      <td>41.99</td>\n",
       "      <td>40,00 A 44,99</td>\n",
       "      <td>MPLAY NET</td>\n",
       "      <td>BP2</td>\n",
       "      <td>NaN</td>\n",
       "    </tr>\n",
       "    <tr>\n",
       "      <th>4</th>\n",
       "      <td>4</td>\n",
       "      <td>20210401</td>\n",
       "      <td>8.33</td>\n",
       "      <td>149.68</td>\n",
       "      <td>2020-09-11</td>\n",
       "      <td>S</td>\n",
       "      <td>PREZAO R$1,99 POR DIA</td>\n",
       "      <td>3GB ilimitado</td>\n",
       "      <td>29.99</td>\n",
       "      <td>05,00 A 09,99</td>\n",
       "      <td>MPLAY NET</td>\n",
       "      <td>MP</td>\n",
       "      <td>NaN</td>\n",
       "    </tr>\n",
       "  </tbody>\n",
       "</table>\n",
       "</div>"
      ],
      "text/plain": [
       "   Unnamed: 0  cod_quinzena  soma_recarga  soma_mb_trafegado dat_ativacao  \\\n",
       "0           0      20210401         30.00            6371.39   2020-08-07   \n",
       "1           1      20210401         15.00               2.22   2020-06-10   \n",
       "2           2      20210401         25.00               0.44   2020-03-16   \n",
       "3           3      20210401         41.67            8016.61   2019-10-24   \n",
       "4           4      20210401          8.33             149.68   2020-09-11   \n",
       "\n",
       "  flag_utilizou_dados                            plano_contratado  \\\n",
       "0                   S              PREZAO R$29,99 POR MES 3GB+3GB   \n",
       "1                   S                  PREZAO R$14,99 2GB POR MES   \n",
       "2                   S  PREZAO R$9,99 POR SEMANA 1GB+1GB+RENOVACAO   \n",
       "3                   S                  PREZAO R$14,99 2GB POR MES   \n",
       "4                   S                       PREZAO R$1,99 POR DIA   \n",
       "\n",
       "  ds_campo_variavel_3 ds_campo_variavel_4 ds_campo_variavel_5 tipo_mailing  \\\n",
       "0       4GB ilimitado               39.99       30,00 A 34,99    MPLAY NET   \n",
       "1       3GB ilimitado               29.99       15,00 A 19,99    MPLAY NET   \n",
       "2       4GB ilimitado               39.99       25,00 A 29,99    MPLAY NET   \n",
       "3       8GB ilimitado               41.99       40,00 A 44,99    MPLAY NET   \n",
       "4       3GB ilimitado               29.99       05,00 A 09,99    MPLAY NET   \n",
       "\n",
       "  marcacao_ai  venda  \n",
       "0         BP2    NaN  \n",
       "1          BP    NaN  \n",
       "2         BP2    NaN  \n",
       "3         BP2    NaN  \n",
       "4          MP    NaN  "
      ]
     },
     "execution_count": 5,
     "metadata": {},
     "output_type": "execute_result"
    }
   ],
   "source": [
    "data_mailing.head()"
   ]
  },
  {
   "cell_type": "code",
   "execution_count": 6,
   "id": "1754eb49",
   "metadata": {},
   "outputs": [
    {
     "name": "stdout",
     "output_type": "stream",
     "text": [
      "<class 'pandas.core.frame.DataFrame'>\n",
      "RangeIndex: 7793124 entries, 0 to 7793123\n",
      "Data columns (total 13 columns):\n",
      " #   Column               Dtype  \n",
      "---  ------               -----  \n",
      " 0   Unnamed: 0           int64  \n",
      " 1   cod_quinzena         int64  \n",
      " 2   soma_recarga         float64\n",
      " 3   soma_mb_trafegado    float64\n",
      " 4   dat_ativacao         object \n",
      " 5   flag_utilizou_dados  object \n",
      " 6   plano_contratado     object \n",
      " 7   ds_campo_variavel_3  object \n",
      " 8   ds_campo_variavel_4  object \n",
      " 9   ds_campo_variavel_5  object \n",
      " 10  tipo_mailing         object \n",
      " 11  marcacao_ai          object \n",
      " 12  venda                float64\n",
      "dtypes: float64(3), int64(2), object(8)\n",
      "memory usage: 772.9+ MB\n"
     ]
    }
   ],
   "source": [
    "data_mailing.info()"
   ]
  },
  {
   "cell_type": "code",
   "execution_count": 9,
   "id": "779ed6c3",
   "metadata": {},
   "outputs": [
    {
     "data": {
      "text/plain": [
       "20210801    13.066878\n",
       "20211201    12.626503\n",
       "20210901    12.532112\n",
       "20211001    11.679219\n",
       "20210501    11.411085\n",
       "20210701    10.900442\n",
       "20210601     9.832822\n",
       "20210401     7.883219\n",
       "20211203     6.895117\n",
       "20210502     3.172604\n",
       "Name: cod_quinzena, dtype: float64"
      ]
     },
     "execution_count": 9,
     "metadata": {},
     "output_type": "execute_result"
    }
   ],
   "source": [
    "data_mailing['cod_quinzena'].value_counts('mean')*100"
   ]
  },
  {
   "cell_type": "code",
   "execution_count": 10,
   "id": "bec26401",
   "metadata": {},
   "outputs": [
    {
     "data": {
      "text/plain": [
       "array([20210401, 20210501, 20210502, 20210601, 20210701, 20210801,\n",
       "       20210901, 20211001, 20211201, 20211203], dtype=int64)"
      ]
     },
     "execution_count": 10,
     "metadata": {},
     "output_type": "execute_result"
    }
   ],
   "source": [
    "data_mailing['cod_quinzena'].unique()"
   ]
  },
  {
   "cell_type": "code",
   "execution_count": null,
   "id": "c0fb0c75",
   "metadata": {},
   "outputs": [],
   "source": []
  },
  {
   "cell_type": "code",
   "execution_count": null,
   "id": "dbf3376d",
   "metadata": {},
   "outputs": [],
   "source": []
  }
 ],
 "metadata": {
  "kernelspec": {
   "display_name": "Python 3 (ipykernel)",
   "language": "python",
   "name": "python3"
  },
  "language_info": {
   "codemirror_mode": {
    "name": "ipython",
    "version": 3
   },
   "file_extension": ".py",
   "mimetype": "text/x-python",
   "name": "python",
   "nbconvert_exporter": "python",
   "pygments_lexer": "ipython3",
   "version": "3.9.7"
  }
 },
 "nbformat": 4,
 "nbformat_minor": 5
}
