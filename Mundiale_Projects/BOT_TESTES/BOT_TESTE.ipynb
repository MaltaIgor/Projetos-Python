{
 "cells": [
  {
   "cell_type": "code",
   "execution_count": null,
   "id": "d9dbbb3d",
   "metadata": {},
   "outputs": [],
   "source": [
    "from selenium import webdriver\n",
    "from selenium.webdriver.common.keys import Keys\n",
    "import pyautogui as gui\n",
    "from time import sleep\n",
    "\n",
    "driver = webdriver.Chrome('chromedriver')\n",
    "driver.get(\"https://ofertasbrisanet.com.br/\")\n",
    "sleep(1)\n",
    "gui.hotkey('win','up') #tela cheia\n",
    "sleep(1)\n",
    "gui.click(1021, 652) #clica no botao de escolha da cidade\n",
    "gui.click(969, 736) #clica no botao de escolha da cidade\n",
    "gui.click(969, 736) #clica no botao de escolha da cidade\n",
    "sleep(6)\n",
    "gui.click(1818, 966) #clica no snippet\n",
    "sleep(5)\n",
    "gui.click(1817, 873) # clica chat\n",
    "sleep(10)\n",
    "gui.click(1557, 618) # clica nao sou cliente\n",
    "sleep(6)\n",
    "gui.click(1568, 997) #clica campo texto\n",
    "sleep(6)\n",
    "gui.write('31010480')\n",
    "gui.press('enter')\n",
    "sleep(10)\n",
    "gui.write('346')\n",
    "gui.press('enter')\n",
    "sleep(10)\n",
    "gui.click(1609, 829) #clica endereço correto\n",
    "sleep(10)\n",
    "gui.click(1568, 997) #clica campo texto\n",
    "sleep(6)\n",
    "gui.write('Era um teste, obrigado!!')\n",
    "gui.press('enter')"
   ]
  },
  {
   "cell_type": "code",
   "execution_count": 30,
   "id": "fd27b7d9",
   "metadata": {},
   "outputs": [],
   "source": [
    "sleep(1)\n",
    "gui.click(1557, 618)\n",
    "sleep(3)\n",
    "gui.click(1568, 997)\n",
    "sleep(1)\n",
    "pyautogui.write('31010480')\n",
    "pyautogui.press('enter')\n",
    "sleep(2)\n",
    "pyautogui.write('346')\n",
    "pyautogui.press('enter')\n"
   ]
  },
  {
   "cell_type": "code",
   "execution_count": 52,
   "id": "533e4e8c",
   "metadata": {},
   "outputs": [
    {
     "data": {
      "text/plain": [
       "Point(x=1609, y=829)"
      ]
     },
     "execution_count": 52,
     "metadata": {},
     "output_type": "execute_result"
    }
   ],
   "source": [
    "sleep(5)\n",
    "gui.position()"
   ]
  },
  {
   "cell_type": "code",
   "execution_count": 32,
   "id": "0eb518c4",
   "metadata": {},
   "outputs": [],
   "source": [
    "gui.hotkey('home','up')"
   ]
  },
  {
   "cell_type": "code",
   "execution_count": null,
   "id": "26887bc4",
   "metadata": {},
   "outputs": [],
   "source": []
  }
 ],
 "metadata": {
  "kernelspec": {
   "display_name": "Python 3",
   "language": "python",
   "name": "python3"
  },
  "language_info": {
   "codemirror_mode": {
    "name": "ipython",
    "version": 3
   },
   "file_extension": ".py",
   "mimetype": "text/x-python",
   "name": "python",
   "nbconvert_exporter": "python",
   "pygments_lexer": "ipython3",
   "version": "3.8.8"
  }
 },
 "nbformat": 4,
 "nbformat_minor": 5
}
