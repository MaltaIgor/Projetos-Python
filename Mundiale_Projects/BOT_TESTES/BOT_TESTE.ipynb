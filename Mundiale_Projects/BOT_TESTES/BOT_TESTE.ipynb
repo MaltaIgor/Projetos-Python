{
 "cells": [
  {
   "cell_type": "code",
   "execution_count": 5,
   "id": "d9dbbb3d",
   "metadata": {},
   "outputs": [
    {
     "name": "stderr",
     "output_type": "stream",
     "text": [
      "<ipython-input-5-d761b8fccf82>:28: DeprecationWarning: find_element_by_* commands are deprecated. Please use find_element() instead\n",
      "  navegador.find_element_by_xpath('//*[@id=\"modal-portal\"]/div/div/form/div/div/select').click()\n",
      "<ipython-input-5-d761b8fccf82>:29: DeprecationWarning: find_element_by_* commands are deprecated. Please use find_element() instead\n",
      "  navegador.find_element_by_xpath('//*[@id=\"modal-portal\"]/div/div/form/div/div/select/option[2]').click()\n",
      "<ipython-input-5-d761b8fccf82>:30: DeprecationWarning: find_element_by_* commands are deprecated. Please use find_element() instead\n",
      "  navegador.find_element_by_xpath('//*[@id=\"modal-portal\"]/div/div/form/button').click()\n"
     ]
    },
    {
     "ename": "JavascriptException",
     "evalue": "Message: javascript error: Cannot read properties of null (reading 'click')\n  (Session info: chrome=95.0.4638.69)\nStacktrace:\nBacktrace:\n\tOrdinal0 [0x004C3AB3+2505395]\n\tOrdinal0 [0x0045AE41+2076225]\n\tOrdinal0 [0x00362498+1057944]\n\tOrdinal0 [0x00364BC4+1067972]\n\tOrdinal0 [0x00364A8E+1067662]\n\tOrdinal0 [0x0036533A+1069882]\n\tOrdinal0 [0x003B5A7B+1399419]\n\tOrdinal0 [0x003A59F3+1333747]\n\tOrdinal0 [0x003B5168+1397096]\n\tOrdinal0 [0x003A58BB+1333435]\n\tOrdinal0 [0x003823E4+1188836]\n\tOrdinal0 [0x0038323F+1192511]\n\tGetHandleVerifier [0x0064CB36+1554566]\n\tGetHandleVerifier [0x006F4A0C+2242396]\n\tGetHandleVerifier [0x00550E0B+523099]\n\tGetHandleVerifier [0x0054FEB0+519168]\n\tOrdinal0 [0x004602FD+2097917]\n\tOrdinal0 [0x00464388+2114440]\n\tOrdinal0 [0x004644C2+2114754]\n\tOrdinal0 [0x0046E041+2154561]\n\tBaseThreadInitThunk [0x770EFA29+25]\n\tRtlGetAppContainerNamedObjectPath [0x77697A9E+286]\n\tRtlGetAppContainerNamedObjectPath [0x77697A6E+238]\n",
     "output_type": "error",
     "traceback": [
      "\u001b[1;31m---------------------------------------------------------------------------\u001b[0m",
      "\u001b[1;31mJavascriptException\u001b[0m                       Traceback (most recent call last)",
      "\u001b[1;32m<ipython-input-5-d761b8fccf82>\u001b[0m in \u001b[0;36m<module>\u001b[1;34m\u001b[0m\n\u001b[0;32m     55\u001b[0m \u001b[0mnavegador\u001b[0m\u001b[1;33m.\u001b[0m\u001b[0mget\u001b[0m\u001b[1;33m(\u001b[0m\u001b[0msites\u001b[0m\u001b[1;33m[\u001b[0m\u001b[1;36m0\u001b[0m\u001b[1;33m]\u001b[0m\u001b[1;33m)\u001b[0m\u001b[1;33m\u001b[0m\u001b[1;33m\u001b[0m\u001b[0m\n\u001b[0;32m     56\u001b[0m \u001b[0mcidade\u001b[0m\u001b[1;33m(\u001b[0m\u001b[1;33m)\u001b[0m\u001b[1;33m\u001b[0m\u001b[1;33m\u001b[0m\u001b[0m\n\u001b[1;32m---> 57\u001b[1;33m \u001b[0miniciar_chat\u001b[0m\u001b[1;33m(\u001b[0m\u001b[1;33m)\u001b[0m\u001b[1;33m\u001b[0m\u001b[1;33m\u001b[0m\u001b[0m\n\u001b[0m\u001b[0;32m     58\u001b[0m \u001b[1;33m\u001b[0m\u001b[0m\n\u001b[0;32m     59\u001b[0m \u001b[1;31m#    else:\u001b[0m\u001b[1;33m\u001b[0m\u001b[1;33m\u001b[0m\u001b[1;33m\u001b[0m\u001b[0m\n",
      "\u001b[1;32m<ipython-input-5-d761b8fccf82>\u001b[0m in \u001b[0;36miniciar_chat\u001b[1;34m()\u001b[0m\n\u001b[0;32m     46\u001b[0m      \u001b[0mnavegador\u001b[0m\u001b[1;33m.\u001b[0m\u001b[0mexecute_script\u001b[0m\u001b[1;33m(\u001b[0m\u001b[1;34m'document.querySelector(\"#dots-chat-cta > img\").click()'\u001b[0m\u001b[1;33m)\u001b[0m \u001b[1;31m#clica no chat\u001b[0m\u001b[1;33m\u001b[0m\u001b[1;33m\u001b[0m\u001b[0m\n\u001b[0;32m     47\u001b[0m      \u001b[0msleep\u001b[0m \u001b[1;33m(\u001b[0m\u001b[1;36m3\u001b[0m\u001b[1;33m)\u001b[0m\u001b[1;33m\u001b[0m\u001b[1;33m\u001b[0m\u001b[0m\n\u001b[1;32m---> 48\u001b[1;33m      \u001b[0mnavegador\u001b[0m\u001b[1;33m.\u001b[0m\u001b[0mexecute_script\u001b[0m\u001b[1;33m(\u001b[0m\u001b[1;34m'document.querySelector(\"#blip-chat-header > div > svg\").click()'\u001b[0m\u001b[1;33m)\u001b[0m\u001b[1;33m\u001b[0m\u001b[1;33m\u001b[0m\u001b[0m\n\u001b[0m\u001b[0;32m     49\u001b[0m \u001b[1;33m\u001b[0m\u001b[0m\n\u001b[0;32m     50\u001b[0m \u001b[1;33m\u001b[0m\u001b[0m\n",
      "\u001b[1;32m~\\Anaconda3\\lib\\site-packages\\selenium\\webdriver\\remote\\webdriver.py\u001b[0m in \u001b[0;36mexecute_script\u001b[1;34m(self, script, *args)\u001b[0m\n\u001b[0;32m    870\u001b[0m         \u001b[0mcommand\u001b[0m \u001b[1;33m=\u001b[0m \u001b[0mCommand\u001b[0m\u001b[1;33m.\u001b[0m\u001b[0mW3C_EXECUTE_SCRIPT\u001b[0m\u001b[1;33m\u001b[0m\u001b[1;33m\u001b[0m\u001b[0m\n\u001b[0;32m    871\u001b[0m \u001b[1;33m\u001b[0m\u001b[0m\n\u001b[1;32m--> 872\u001b[1;33m         return self.execute(command, {\n\u001b[0m\u001b[0;32m    873\u001b[0m             \u001b[1;34m'script'\u001b[0m\u001b[1;33m:\u001b[0m \u001b[0mscript\u001b[0m\u001b[1;33m,\u001b[0m\u001b[1;33m\u001b[0m\u001b[1;33m\u001b[0m\u001b[0m\n\u001b[0;32m    874\u001b[0m             'args': converted_args})['value']\n",
      "\u001b[1;32m~\\Anaconda3\\lib\\site-packages\\selenium\\webdriver\\remote\\webdriver.py\u001b[0m in \u001b[0;36mexecute\u001b[1;34m(self, driver_command, params)\u001b[0m\n\u001b[0;32m    416\u001b[0m         \u001b[0mresponse\u001b[0m \u001b[1;33m=\u001b[0m \u001b[0mself\u001b[0m\u001b[1;33m.\u001b[0m\u001b[0mcommand_executor\u001b[0m\u001b[1;33m.\u001b[0m\u001b[0mexecute\u001b[0m\u001b[1;33m(\u001b[0m\u001b[0mdriver_command\u001b[0m\u001b[1;33m,\u001b[0m \u001b[0mparams\u001b[0m\u001b[1;33m)\u001b[0m\u001b[1;33m\u001b[0m\u001b[1;33m\u001b[0m\u001b[0m\n\u001b[0;32m    417\u001b[0m         \u001b[1;32mif\u001b[0m \u001b[0mresponse\u001b[0m\u001b[1;33m:\u001b[0m\u001b[1;33m\u001b[0m\u001b[1;33m\u001b[0m\u001b[0m\n\u001b[1;32m--> 418\u001b[1;33m             \u001b[0mself\u001b[0m\u001b[1;33m.\u001b[0m\u001b[0merror_handler\u001b[0m\u001b[1;33m.\u001b[0m\u001b[0mcheck_response\u001b[0m\u001b[1;33m(\u001b[0m\u001b[0mresponse\u001b[0m\u001b[1;33m)\u001b[0m\u001b[1;33m\u001b[0m\u001b[1;33m\u001b[0m\u001b[0m\n\u001b[0m\u001b[0;32m    419\u001b[0m             response['value'] = self._unwrap_value(\n\u001b[0;32m    420\u001b[0m                 response.get('value', None))\n",
      "\u001b[1;32m~\\Anaconda3\\lib\\site-packages\\selenium\\webdriver\\remote\\errorhandler.py\u001b[0m in \u001b[0;36mcheck_response\u001b[1;34m(self, response)\u001b[0m\n\u001b[0;32m    241\u001b[0m                 \u001b[0malert_text\u001b[0m \u001b[1;33m=\u001b[0m \u001b[0mvalue\u001b[0m\u001b[1;33m[\u001b[0m\u001b[1;34m'alert'\u001b[0m\u001b[1;33m]\u001b[0m\u001b[1;33m.\u001b[0m\u001b[0mget\u001b[0m\u001b[1;33m(\u001b[0m\u001b[1;34m'text'\u001b[0m\u001b[1;33m)\u001b[0m\u001b[1;33m\u001b[0m\u001b[1;33m\u001b[0m\u001b[0m\n\u001b[0;32m    242\u001b[0m             \u001b[1;32mraise\u001b[0m \u001b[0mexception_class\u001b[0m\u001b[1;33m(\u001b[0m\u001b[0mmessage\u001b[0m\u001b[1;33m,\u001b[0m \u001b[0mscreen\u001b[0m\u001b[1;33m,\u001b[0m \u001b[0mstacktrace\u001b[0m\u001b[1;33m,\u001b[0m \u001b[0malert_text\u001b[0m\u001b[1;33m)\u001b[0m  \u001b[1;31m# type: ignore[call-arg]  # mypy is not smart enough here\u001b[0m\u001b[1;33m\u001b[0m\u001b[1;33m\u001b[0m\u001b[0m\n\u001b[1;32m--> 243\u001b[1;33m         \u001b[1;32mraise\u001b[0m \u001b[0mexception_class\u001b[0m\u001b[1;33m(\u001b[0m\u001b[0mmessage\u001b[0m\u001b[1;33m,\u001b[0m \u001b[0mscreen\u001b[0m\u001b[1;33m,\u001b[0m \u001b[0mstacktrace\u001b[0m\u001b[1;33m)\u001b[0m\u001b[1;33m\u001b[0m\u001b[1;33m\u001b[0m\u001b[0m\n\u001b[0m\u001b[0;32m    244\u001b[0m \u001b[1;33m\u001b[0m\u001b[0m\n\u001b[0;32m    245\u001b[0m     \u001b[1;32mdef\u001b[0m \u001b[0m_value_or_default\u001b[0m\u001b[1;33m(\u001b[0m\u001b[0mself\u001b[0m\u001b[1;33m,\u001b[0m \u001b[0mobj\u001b[0m\u001b[1;33m:\u001b[0m \u001b[0mMapping\u001b[0m\u001b[1;33m[\u001b[0m\u001b[0m_KT\u001b[0m\u001b[1;33m,\u001b[0m \u001b[0m_VT\u001b[0m\u001b[1;33m]\u001b[0m\u001b[1;33m,\u001b[0m \u001b[0mkey\u001b[0m\u001b[1;33m:\u001b[0m \u001b[0m_KT\u001b[0m\u001b[1;33m,\u001b[0m \u001b[0mdefault\u001b[0m\u001b[1;33m:\u001b[0m \u001b[0m_VT\u001b[0m\u001b[1;33m)\u001b[0m \u001b[1;33m->\u001b[0m \u001b[0m_VT\u001b[0m\u001b[1;33m:\u001b[0m\u001b[1;33m\u001b[0m\u001b[1;33m\u001b[0m\u001b[0m\n",
      "\u001b[1;31mJavascriptException\u001b[0m: Message: javascript error: Cannot read properties of null (reading 'click')\n  (Session info: chrome=95.0.4638.69)\nStacktrace:\nBacktrace:\n\tOrdinal0 [0x004C3AB3+2505395]\n\tOrdinal0 [0x0045AE41+2076225]\n\tOrdinal0 [0x00362498+1057944]\n\tOrdinal0 [0x00364BC4+1067972]\n\tOrdinal0 [0x00364A8E+1067662]\n\tOrdinal0 [0x0036533A+1069882]\n\tOrdinal0 [0x003B5A7B+1399419]\n\tOrdinal0 [0x003A59F3+1333747]\n\tOrdinal0 [0x003B5168+1397096]\n\tOrdinal0 [0x003A58BB+1333435]\n\tOrdinal0 [0x003823E4+1188836]\n\tOrdinal0 [0x0038323F+1192511]\n\tGetHandleVerifier [0x0064CB36+1554566]\n\tGetHandleVerifier [0x006F4A0C+2242396]\n\tGetHandleVerifier [0x00550E0B+523099]\n\tGetHandleVerifier [0x0054FEB0+519168]\n\tOrdinal0 [0x004602FD+2097917]\n\tOrdinal0 [0x00464388+2114440]\n\tOrdinal0 [0x004644C2+2114754]\n\tOrdinal0 [0x0046E041+2154561]\n\tBaseThreadInitThunk [0x770EFA29+25]\n\tRtlGetAppContainerNamedObjectPath [0x77697A9E+286]\n\tRtlGetAppContainerNamedObjectPath [0x77697A6E+238]\n"
     ]
    }
   ],
   "source": [
    "from selenium import webdriver\n",
    "from selenium.webdriver.common.keys import Keys\n",
    "from selenium.webdriver.support.ui import Select \n",
    "from selenium.webdriver.support.ui import WebDriverWait\n",
    "from selenium.webdriver.support import expected_conditions as EC\n",
    "from selenium.webdriver.common.by import By\n",
    "from time import sleep\n",
    "\n",
    "sites = ['https://ofertasbrisanet.com.br',\n",
    "         'https://ofertasblinktelecom.com.br/',\n",
    "         'https://ofertasvalenet.com.br/',\n",
    "         'http://ofertascoprel.com.br/',\n",
    "         'https://ofertasvipbrtelecom.com.br/',\n",
    "         'https://ofertasligue.net/',\n",
    "         'https://ofertasazza.net.br/',\n",
    "         'https://ofertassumicity.com.br/',\n",
    "         'https://oferta.fleetnet.com.br/',\n",
    "         'http://ofertasmobtelecom.com.br/',\n",
    "        'http://ofertasercomtel.com.br/',\n",
    "        'https://ofertastvn.com.br',\n",
    "        'https://ofertastely.com.br/',\n",
    "        'https://ofertasdesktop.com.br',\n",
    "        'https://ofertassoumaster.com.br/']\n",
    "\n",
    "navegador = webdriver.Chrome(\"chromedriver\")\n",
    "def cidade():\n",
    "    try:\n",
    "        navegador.find_element_by_xpath('//*[@id=\"modal-portal\"]/div/div/form/div/div/select').click()\n",
    "        navegador.find_element_by_xpath('//*[@id=\"modal-portal\"]/div/div/form/div/div/select/option[2]').click()\n",
    "        navegador.find_element_by_xpath('//*[@id=\"modal-portal\"]/div/div/form/button').click()\n",
    "    except :\n",
    "        try:\n",
    "            navegador.find_element_by_xpath('//*[@id=\"__next\"]/section/div/div/main/section/div/select').click()\n",
    "            navegador.find_element_by_xpath('//*[@id=\"__next\"]/section/div/div/main/section/div/select/option[2]').click()\n",
    "        except :\n",
    "            try:\n",
    "                navegador.find_element_by_xpath('//*[@id=\"modal-portal\"]/div/div/form/div/div/div/select').click()\n",
    "                navegador.find_element_by_xpath('//*[@id=\"modal-portal\"]/div/div/form/div/div/div/select/option[2]').click()\n",
    "                navegador.find_element_by_xpath('//*[@id=\"modal-portal\"]/div/div/form/button').click()\n",
    "            except: \n",
    "                pass\n",
    "          \n",
    "def iniciar_chat():\n",
    "     sleep (1)\n",
    "     navegador.execute_script('document.querySelector(\"#dots-cta > img\").click()') #clica snippet\n",
    "     navegador.execute_script('document.querySelector(\"#dots-chat-cta > img\").click()') #clica no chat\n",
    "     sleep (3)\n",
    "     navegador.execute_script('document.querySelector(\"#blip-chat-header > div > svg\").click()')\n",
    "\n",
    "        \n",
    "#    except: \n",
    " #       pass\n",
    "#for item in sites:\n",
    "#    if sites.index(item) == 0:\n",
    "navegador.get(sites[0])\n",
    "cidade()\n",
    "iniciar_chat()\n",
    "\n",
    "#    else:\n",
    "#        navegador.switch_to.new_window('tab')\n",
    " #       navegador.get(item)\n",
    "  #      cidade()\n",
    "\n"
   ]
  },
  {
   "cell_type": "code",
   "execution_count": 30,
   "id": "fd27b7d9",
   "metadata": {},
   "outputs": [],
   "source": [
    "from selenium import webdriver\n",
    "from selenium.webdriver.common.keys import Keys\n",
    "import pyautogui as gui\n",
    "from time import sleep\n",
    "\n",
    "driver = webdriver.Chrome('chromedriver')\n",
    "driver.get(\"https://ofertasbrisanet.com.br/\")\n",
    "sleep(1)\n",
    "gui.hotkey('win','up') #tela cheia\n",
    "sleep(1)\n",
    "gui.click(1021, 652) #clica no botao de escolha da cidade\n",
    "gui.click(969, 736) #clica no botao de escolha da cidade\n",
    "gui.click(969, 736) #clica no botao de escolha da cidade\n",
    "sleep(6)\n",
    "gui.click(1818, 966) #clica no snippet\n",
    "sleep(5)\n",
    "gui.click(1817, 873) # clica chat\n",
    "\n",
    "sleep(10)\n",
    "gui.click(1557, 618) # clica nao sou cliente\n",
    "sleep(6)\n",
    "gui.click(1568, 997) #clica campo texto\n",
    "sleep(6)\n",
    "gui.write('31010480')\n",
    "gui.press('enter')\n",
    "sleep(10)\n",
    "gui.write('346')\n",
    "gui.press('enter')\n",
    "sleep(10)\n",
    "gui.click(1609, 829) #clica endereço correto\n",
    "sleep(10)\n",
    "gui.click(1568, 997) #clica campo texto\n",
    "sleep(6)\n",
    "gui.write('Era um teste, obrigado!!')\n",
    "gui.press('enter')"
   ]
  },
  {
   "cell_type": "code",
   "execution_count": 52,
   "id": "533e4e8c",
   "metadata": {},
   "outputs": [
    {
     "data": {
      "text/plain": [
       "Point(x=1609, y=829)"
      ]
     },
     "execution_count": 52,
     "metadata": {},
     "output_type": "execute_result"
    }
   ],
   "source": []
  },
  {
   "cell_type": "code",
   "execution_count": 32,
   "id": "0eb518c4",
   "metadata": {},
   "outputs": [],
   "source": []
  },
  {
   "cell_type": "code",
   "execution_count": 10,
   "id": "26887bc4",
   "metadata": {},
   "outputs": [
    {
     "name": "stderr",
     "output_type": "stream",
     "text": [
      "<ipython-input-10-bd7e86b9b09e>:6: DeprecationWarning: find_element_by_* commands are deprecated. Please use find_element() instead\n",
      "  x = driver.find_element_by_id('RESULT_RadioButton-9')\n"
     ]
    }
   ],
   "source": []
  },
  {
   "cell_type": "code",
   "execution_count": null,
   "id": "3aa72db3",
   "metadata": {},
   "outputs": [],
   "source": []
  }
 ],
 "metadata": {
  "kernelspec": {
   "display_name": "Python 3",
   "language": "python",
   "name": "python3"
  },
  "language_info": {
   "codemirror_mode": {
    "name": "ipython",
    "version": 3
   },
   "file_extension": ".py",
   "mimetype": "text/x-python",
   "name": "python",
   "nbconvert_exporter": "python",
   "pygments_lexer": "ipython3",
   "version": "3.8.8"
  }
 },
 "nbformat": 4,
 "nbformat_minor": 5
}
