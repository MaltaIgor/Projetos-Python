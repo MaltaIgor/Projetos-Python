{
 "cells": [
  {
   "cell_type": "code",
   "execution_count": null,
   "id": "05fb0f0c",
   "metadata": {},
   "outputs": [],
   "source": [
    "from selenium import webdriver\n",
    "import os\n",
    "from time import sleep\n",
    "class zapbot:\n",
    "    # O local de execução do nosso script\n",
    "    dir_path = os.getcwd()\n",
    "    # O caminho do chromedriver\n",
    "    chromedriver = os.path.join(dir_path, \"chromedriver.exe\")\n",
    "    # Caminho onde será criada pasta profile\n",
    "    profile = os.path.join(dir_path, \"profile\", \"wpp\")\n",
    "    def __init__(self):\n",
    "        self.options = webdriver.ChromeOptions()\n",
    "        # Configurando a pasta profile, para mantermos os dados da seção\n",
    "        self.options.add_argument(\n",
    "            r\"user-data-dir={}\".format(self.profile))\n",
    "        # Inicializa o webdriver\n",
    "        self.driver = webdriver.Chrome(\n",
    "            self.chromedriver, chrome_options=self.options)\n",
    "        # Abre o whatsappweb\n",
    "        self.driver.get(\"https://web.whatsapp.com/\")\n",
    "        # Aguarda alguns segundos para validação manual do QrCode\n",
    "self.driver.implicitly_wait(15)"
   ]
  }
 ],
 "metadata": {
  "kernelspec": {
   "display_name": "Python 3 (ipykernel)",
   "language": "python",
   "name": "python3"
  },
  "language_info": {
   "codemirror_mode": {
    "name": "ipython",
    "version": 3
   },
   "file_extension": ".py",
   "mimetype": "text/x-python",
   "name": "python",
   "nbconvert_exporter": "python",
   "pygments_lexer": "ipython3",
   "version": "3.9.7"
  }
 },
 "nbformat": 4,
 "nbformat_minor": 5
}
