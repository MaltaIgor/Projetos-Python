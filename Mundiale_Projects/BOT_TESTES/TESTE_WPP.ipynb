{
 "cells": [
  {
   "cell_type": "code",
   "execution_count": null,
   "id": "05fb0f0c",
   "metadata": {},
   "outputs": [],
   "source": [
    "from selenium import webdriver\n",
    "import os\n",
    "from time import sleep\n",
    "class zapbot:\n",
    "    # O local de execução do nosso script\n",
    "    dir_path = os.getcwd()\n",
    "    # O caminho do chromedriver\n",
    "    chromedriver = os.path.join(dir_path, \"chromedriver.exe\")\n",
    "    # Caminho onde será criada pasta profile\n",
    "    profile = os.path.join(dir_path, \"profile\", \"wpp\")\n",
    "    def __init__(self):\n",
    "        self.options = webdriver.ChromeOptions()\n",
    "        # Configurando a pasta profile, para mantermos os dados da seção\n",
    "        self.options.add_argument(\n",
    "            r\"user-data-dir={}\".format(self.profile))\n",
    "        # Inicializa o webdriver\n",
    "        self.driver = webdriver.Chrome(\n",
    "            self.chromedriver, chrome_options=self.options)\n",
    "        # Abre o whatsappweb\n",
    "        self.driver.get(\"https://web.whatsapp.com/\")\n",
    "        # Aguarda alguns segundos para validação manual do QrCode\n",
    "self.driver.implicitly_wait(15)"
   ]
  },
  {
   "cell_type": "code",
   "execution_count": 12,
   "id": "0268d686",
   "metadata": {},
   "outputs": [
    {
     "ename": "SyntaxError",
     "evalue": "cannot assign to operator (Temp/ipykernel_5384/2433993385.py, line 5)",
     "output_type": "error",
     "traceback": [
      "\u001b[1;36m  File \u001b[1;32m\"C:\\Users\\IGOR~1.MAL\\AppData\\Local\\Temp/ipykernel_5384/2433993385.py\"\u001b[1;36m, line \u001b[1;32m5\u001b[0m\n\u001b[1;33m    for y+1 (len(num)):\u001b[0m\n\u001b[1;37m        ^\u001b[0m\n\u001b[1;31mSyntaxError\u001b[0m\u001b[1;31m:\u001b[0m cannot assign to operator\n"
     ]
    }
   ],
   "source": [
    "nums=[1,2,3,6,5,4,8,9]\n",
    "nums.sort(reverse = True)\n",
    "lista=[]\n",
    "for x in (len(num)):\n",
    "    for y+1 (len(num)):\n",
    "        for z+2 (len(num)):\n",
    "            if ((nums[x]+nums[y+1]>nums[z+2]) and (nums[x]+nums[z+2]>nums[y+1]) and (nums[z+2]+nums[y+1]>nums[x])):\n",
    "            lista.append(nums[x]+nums[y+1]+nums[z+2])\n",
    "\n",
    "            \n",
    "lista.sort(reverse = True)\n",
    "print(lista[0])"
   ]
  },
  {
   "cell_type": "code",
   "execution_count": 11,
   "id": "7d02d395",
   "metadata": {},
   "outputs": [
    {
     "name": "stdout",
     "output_type": "stream",
     "text": [
      "8\n"
     ]
    }
   ],
   "source": [
    "num=[1,2,3,6,5,4,8,9]\n",
    "print(len(num))"
   ]
  },
  {
   "cell_type": "code",
   "execution_count": null,
   "id": "76ec2e26",
   "metadata": {},
   "outputs": [],
   "source": []
  }
 ],
 "metadata": {
  "kernelspec": {
   "display_name": "Python 3 (ipykernel)",
   "language": "python",
   "name": "python3"
  },
  "language_info": {
   "codemirror_mode": {
    "name": "ipython",
    "version": 3
   },
   "file_extension": ".py",
   "mimetype": "text/x-python",
   "name": "python",
   "nbconvert_exporter": "python",
   "pygments_lexer": "ipython3",
   "version": "3.9.7"
  }
 },
 "nbformat": 4,
 "nbformat_minor": 5
}
