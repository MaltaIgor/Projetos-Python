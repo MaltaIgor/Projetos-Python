{
 "cells": [
  {
   "cell_type": "code",
   "execution_count": 12,
   "id": "6c914a5a",
   "metadata": {},
   "outputs": [
    {
     "name": "stderr",
     "output_type": "stream",
     "text": [
      "C:\\Users\\IGOR~1.MAL\\AppData\\Local\\Temp/ipykernel_17912/3438959603.py:43: DeprecationWarning: executable_path has been deprecated, please pass in a Service object\n",
      "  driver = webdriver.Chrome(r\"chromedriver.exe\")\n"
     ]
    }
   ],
   "source": [
    "#Importação das bibliotecas\n",
    "\n",
    "import pandas as pd\n",
    "from time import sleep\n",
    "from selenium import webdriver\n",
    "from selenium.webdriver.common.keys import Keys\n",
    "from selenium.webdriver.common.by import By\n",
    "from selenium.webdriver.support.ui import WebDriverWait\n",
    "from selenium.webdriver.support import expected_conditions\n",
    "import pyodbc\n",
    "\n",
    "conn = pyodbc.connect('Driver={MySQL ODBC 8.0 ANSI Driver};'\n",
    "                      'Server=tup02mql007;'\n",
    "                      'Database=plan_mailing;'\n",
    "                      'UID=mundiale.macro;'\n",
    "                      'PASSWORD=MM@6e789d1f;'\n",
    "                      'OPTION=3;')\n",
    "cursor = conn.cursor()\n",
    "try:\n",
    "    data = pd.read_excel( r\"C:\\Users\\igor.malta\\Downloads\\resultado.xlsx\" , sheet_name = 'disparo_wpp')\n",
    "    data = data.data_engajado.max()\n",
    "except:\n",
    "    data = input(\"coloque uma data no formato yyyy-mm-dd: \")\n",
    "sql = f\"\"\"SELECT distinct\n",
    "\tsale.id_operation,\n",
    "    eng.operacao,\n",
    "    eng.id_ticket,\n",
    "    max(eng.dt_criacao) as data_engajado,\n",
    "    eng.nome_cliente,\n",
    "    eng.cpf,\n",
    "    concat(concat(\"https://api.whatsapp.com/send/?phone=55\", (CASE WHEN canal_atendimento = \"WHATSAPP\" THEN eng.telefone_id_lead ELSE ifnull(IFNULL(telefone1,telefone2),null) end)),\n",
    "    CONCAT(CONCAT(CONCAT(CONCAT(\"&text=Olá! \", eng.nome_cliente) , \" souda \"), eng.operacao), \". Precisamos que me envie as fotos, para que possamos finalizar o seu pedido. É necessário que envie três fotos no APP BRISA CLIENTES, uma selfie com o documento pessoal em mãos, uma foto da frente e outra de trás do documento RG e CPF para completar seu pedido.\n",
    "Link passo a passo: https://bit.ly/brisanet_app\")) as link\n",
    "\t\n",
    "FROM wit_core_sale.resume_sale_data as sale\n",
    "left join core_attendance.tickets_engajados_detalhes as eng on eng.id_ticket = sale.id_ticket\n",
    "WHERE sale.id_operation = 77\n",
    "AND sale.tag = \"PENDENCIA APP\"\n",
    "AND nome_cliente <> ''\n",
    "AND eng.dt_criacao > '{data}'\n",
    "group by 1,2,3,5,6,7\n",
    "\"\"\"\n",
    "\n",
    "planilha = pd.read_sql(sql, conn)\n",
    "#Abertura do navegador e busca pelo site\n",
    "driver = webdriver.Chrome(r\"chromedriver.exe\")\n",
    "driver.get(\"https://web.whatsapp.com/\")\n",
    "\n",
    "sleep (10) #tempo pra logar no wpp com o qrcode\n",
    "\n",
    "#Percorre todos os links\n",
    "for x in planilha.link:\n",
    "    #Busca o link daquela linha\n",
    "    driver.get(x)\n",
    "    #clica no snippet para iniciar conversa\n",
    "    driver.find_element(By.XPATH, '//*[@id=\"action-button\"]').click()\n",
    "    driver.execute_script('document.querySelector(\"#fallback_block > div > div > h4:nth-child(2) > a\").click()')\n",
    "    #Aguarda o carregamento da pagina verificando a visibilidade do elemento da tela do wpp\n",
    "    WebDriverWait(driver, 40).until(expected_conditions.presence_of_element_located((By.CSS_SELECTOR, '#main > footer > div._2BU3P.tm2tP.copyable-area > div > span:nth-child(2) > div > div._2lMWa > div._3HQNh._1Ae7k > button > span')))\n",
    "    sleep(1)    #tempo para um comando nao atropelar o outro\n",
    "    #driver.find_element(By.CSS_SELECTOR,'#main > footer > div._2BU3P.tm2tP.copyable-area > div > span:nth-child(2) > div > div._2lMWa > div.p3_M1').send_keys(y, Keys.ENTER)\n",
    "    #Envia a mensagem\n",
    "    driver.execute_script('document.querySelector(\"#main > footer > div._2BU3P.tm2tP.copyable-area > div > span:nth-child(2) > div > div._2lMWa > div._3HQNh._1Ae7k > button > span\").click()')\n",
    "    #inclui o dado OK no dataframe que colocaremos no excel\n",
    "    sleep(2)    #tempo para um comando nao atropelar o outro\n",
    "    planilha[[\"enviado?\"]]= \"ok\"\n",
    "#Após toda a planilha percorrida, criamos um novo arquivo com os resultados.\n",
    "planilha.to_excel( r\"C:\\Users\\igor.malta\\Downloads\\resultado.xlsx\" , sheet_name = 'disparo_wpp') \n",
    "conn.close()\n",
    "        "
   ]
  },
  {
   "cell_type": "code",
   "execution_count": 7,
   "id": "182be94e",
   "metadata": {},
   "outputs": [
    {
     "name": "stdout",
     "output_type": "stream",
     "text": [
      "digite a data no formato: yyyy-mm-dd2022-06-01\n"
     ]
    },
    {
     "data": {
      "text/plain": [
       "Timestamp('2022-07-06 18:35:52')"
      ]
     },
     "execution_count": 7,
     "metadata": {},
     "output_type": "execute_result"
    }
   ],
   "source": []
  },
  {
   "cell_type": "code",
   "execution_count": null,
   "id": "c8a481ae",
   "metadata": {},
   "outputs": [],
   "source": []
  },
  {
   "cell_type": "code",
   "execution_count": null,
   "id": "9c3d094f",
   "metadata": {},
   "outputs": [],
   "source": []
  }
 ],
 "metadata": {
  "kernelspec": {
   "display_name": "Python 3 (ipykernel)",
   "language": "python",
   "name": "python3"
  },
  "language_info": {
   "codemirror_mode": {
    "name": "ipython",
    "version": 3
   },
   "file_extension": ".py",
   "mimetype": "text/x-python",
   "name": "python",
   "nbconvert_exporter": "python",
   "pygments_lexer": "ipython3",
   "version": "3.9.7"
  }
 },
 "nbformat": 4,
 "nbformat_minor": 5
}
