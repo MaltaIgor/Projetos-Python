{
 "cells": [
  {
   "cell_type": "code",
   "execution_count": 10,
   "id": "6c914a5a",
   "metadata": {},
   "outputs": [
    {
     "name": "stderr",
     "output_type": "stream",
     "text": [
      "C:\\Users\\IGOR~1.MAL\\AppData\\Local\\Temp/ipykernel_89720/2948187314.py:3: DeprecationWarning: executable_path has been deprecated, please pass in a Service object\n",
      "  driver = webdriver.Chrome(r\"chromedriver.exe\")\n"
     ]
    }
   ],
   "source": [
    "#Importação das bibliotecas\n",
    "\n",
    "import pandas as pd\n",
    "from time import sleep\n",
    "from selenium import webdriver\n",
    "from selenium.webdriver.common.keys import Keys\n",
    "from selenium.webdriver.common.by import By\n",
    "from selenium.webdriver.support.ui import WebDriverWait\n",
    "from selenium.webdriver.support import expected_conditions\n",
    "\n",
    "#leitura da planilha onde a primeira linha deve ser o cabeçalho\n",
    "planilha = pd.read_excel(r\"C:\\Users\\igor.malta\\Downloads\\BOT em Desenvolvimento.xlsx\", sheet_name = \"Export\")\n",
    "#Seleção das informações que importam para o relatorio de conclusao de envio\n",
    "planilha = planilha[[\"id_ticket\",\"operacao\",\"cpf\", \"Link\"]]\n",
    "#Abertura do navegador e busca pelo site\n",
    "driver = webdriver.Chrome(r\"chromedriver.exe\")\n",
    "driver.get(\"https://web.whatsapp.com/\")\n",
    "\n",
    "sleep (10) #tempo pra logar no wpp com o qrcode\n",
    "\n",
    "#Percorre todos os links\n",
    "for x in planilha.Link:\n",
    "    #Busca o link daquela linha\n",
    "    driver.get(x)\n",
    "    \n",
    "    #clica no snippet para iniciar conversa\n",
    "    driver.find_element(By.XPATH, '//*[@id=\"action-button\"]').click()\n",
    "    driver.execute_script('document.querySelector(\"#fallback_block > div > div > h4:nth-child(2) > a\").click()')\n",
    "    #Aguarda o carregamento da pagina verificando a visibilidade do elemento da tela do wpp\n",
    "    WebDriverWait(driver, 20).until(expected_conditions.presence_of_element_located((By.CSS_SELECTOR, '#main > footer > div._2BU3P.tm2tP.copyable-area > div > span:nth-child(2) > div > div._2lMWa > div._3HQNh._1Ae7k > button > span')))\n",
    "    sleep(1)    #tempo para um comando nao atropelar o outro\n",
    "    #Envia a mensagem\n",
    "    driver.execute_script('document.querySelector(\"#main > footer > div._2BU3P.tm2tP.copyable-area > div > span:nth-child(2) > div > div._2lMWa > div._3HQNh._1Ae7k > button > span\").click()')\n",
    "    #inclui o dado OK no dataframe que colocaremos no excel\n",
    "    planilha[[\"enviado?\"]]= \"ok\"\n",
    "#Após toda a planilha percorrida, criamos um novo arquivo com os resultados.\n",
    "planilha.to_excel( r\"C:\\Users\\igor.malta\\Downloads\\resultado.xlsx\" , sheet_name = 'disparo_wpp') "
   ]
  }
 ],
 "metadata": {
  "kernelspec": {
   "display_name": "Python 3 (ipykernel)",
   "language": "python",
   "name": "python3"
  },
  "language_info": {
   "codemirror_mode": {
    "name": "ipython",
    "version": 3
   },
   "file_extension": ".py",
   "mimetype": "text/x-python",
   "name": "python",
   "nbconvert_exporter": "python",
   "pygments_lexer": "ipython3",
   "version": "3.9.7"
  }
 },
 "nbformat": 4,
 "nbformat_minor": 5
}
