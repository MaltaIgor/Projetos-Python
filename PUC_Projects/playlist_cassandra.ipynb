{
 "cells": [
  {
   "cell_type": "code",
   "execution_count": 1,
   "metadata": {},
   "outputs": [],
   "source": [
    "# pip install cassandra-driver\n",
    "\n",
    "from cassandra.cluster import Cluster\n",
    "cluster = Cluster()\n",
    "session = cluster.connect('aula')\n"
   ]
  },
  {
   "cell_type": "code",
   "execution_count": null,
   "metadata": {},
   "outputs": [],
   "source": [
    "session.execute(\n",
    "\"\"\"\n",
    "create table pla(\n",
    "    id uuid primary key,\n",
    "    lastname text,\n",
    "    age text,\n",
    "    city text,\n",
    "    email text,\n",
    "    firstname text\n",
    ");\n",
    "\n",
    "\"\"\"\n",
    ")\n",
    "\n",
    "session.execute(\n",
    "\"\"\"\n",
    "insert into users (id, lastname, age, city, email, firstname) values\n",
    "(uuid(),'jones','35','austin','bob@example.com','bob');\n",
    "\n",
    "\"\"\"\n",
    ")\n",
    "\n",
    "session.execute(\n",
    "\"\"\"\n",
    "select * from users where lastname = 'jones' ALLOW FILTERING;\n",
    "\n",
    "\"\"\"\n",
    ")"
   ]
  },
  {
   "cell_type": "code",
   "execution_count": 13,
   "metadata": {},
   "outputs": [],
   "source": [
    "RESULT = session.execute(\n",
    "\"\"\"\n",
    "insert into musicas (id,nome,album,artista)\n",
    " values( uuid(),'Teste10', 'Help!','Beatles')\n",
    ";\n",
    "\"\"\"\n",
    ")"
   ]
  },
  {
   "cell_type": "code",
   "execution_count": 17,
   "metadata": {},
   "outputs": [
    {
     "data": {
      "text/plain": [
       "<cassandra.cluster.ResultSet at 0x26c24a22af0>"
      ]
     },
     "execution_count": 17,
     "metadata": {},
     "output_type": "execute_result"
    }
   ],
   "source": [
    "session.execute(\n",
    "\"\"\"\n",
    "create table playlist(\n",
    "    id uuid primary key,\n",
    "   musica text  \n",
    ");\n",
    "\n",
    "\"\"\")"
   ]
  },
  {
   "cell_type": "code",
   "execution_count": 21,
   "metadata": {},
   "outputs": [
    {
     "data": {
      "text/plain": [
       "<cassandra.cluster.ResultSet at 0x26c249c1640>"
      ]
     },
     "execution_count": 21,
     "metadata": {},
     "output_type": "execute_result"
    }
   ],
   "source": [
    "session.execute(\n",
    "\"\"\"\n",
    "insert into playlist (id,musica)\n",
    " values( uuid(),'Teste7')\n",
    ";\n",
    "\"\"\"\n",
    ")"
   ]
  },
  {
   "cell_type": "code",
   "execution_count": 44,
   "metadata": {},
   "outputs": [
    {
     "name": "stdout",
     "output_type": "stream",
     "text": [
      "<cassandra.cluster.ResultSet object at 0x0000026C212FA100>\n"
     ]
    }
   ],
   "source": [
    "playlist = session.execute(\n",
    "\"\"\"\n",
    "select musica from playlist;\n",
    "\"\"\"\n",
    "\n",
    ")\n",
    "print(playlist)"
   ]
  },
  {
   "cell_type": "code",
   "execution_count": 2,
   "metadata": {},
   "outputs": [
    {
     "name": "stdout",
     "output_type": "stream",
     "text": [
      "A sua playlist atual é:\n"
     ]
    },
    {
     "ename": "RuntimeError",
     "evalue": "Cannot use index operator when results have been iterated.",
     "output_type": "error",
     "traceback": [
      "\u001b[1;31m---------------------------------------------------------------------------\u001b[0m",
      "\u001b[1;31mRuntimeError\u001b[0m                              Traceback (most recent call last)",
      "\u001b[1;32mC:\\Users\\IGOR~1.MAL\\AppData\\Local\\Temp/ipykernel_15828/1343341942.py\u001b[0m in \u001b[0;36m<module>\u001b[1;34m\u001b[0m\n\u001b[0;32m     10\u001b[0m \u001b[1;32mfor\u001b[0m \u001b[0mx\u001b[0m \u001b[1;32min\u001b[0m \u001b[0mplaylist\u001b[0m\u001b[1;33m:\u001b[0m\u001b[1;33m\u001b[0m\u001b[1;33m\u001b[0m\u001b[0m\n\u001b[0;32m     11\u001b[0m \u001b[1;33m\u001b[0m\u001b[0m\n\u001b[1;32m---> 12\u001b[1;33m     \u001b[0mprint\u001b[0m\u001b[1;33m(\u001b[0m\u001b[1;34mf\"{y}ª {playlist[x]}\"\u001b[0m\u001b[1;33m)\u001b[0m\u001b[1;33m\u001b[0m\u001b[1;33m\u001b[0m\u001b[0m\n\u001b[0m\u001b[0;32m     13\u001b[0m     \u001b[0my\u001b[0m\u001b[1;33m=\u001b[0m\u001b[0my\u001b[0m\u001b[1;33m+\u001b[0m\u001b[1;36m1\u001b[0m\u001b[1;33m\u001b[0m\u001b[1;33m\u001b[0m\u001b[0m\n\u001b[0;32m     14\u001b[0m \u001b[1;32mfrom\u001b[0m \u001b[0mtime\u001b[0m \u001b[1;32mimport\u001b[0m \u001b[0msleep\u001b[0m\u001b[1;33m\u001b[0m\u001b[1;33m\u001b[0m\u001b[0m\n",
      "\u001b[1;32mc:\\Users\\igor.malta\\Anaconda3\\lib\\site-packages\\cassandra\\cluster.cp39-win_amd64.pyd\u001b[0m in \u001b[0;36mcassandra.cluster.ResultSet.__getitem__\u001b[1;34m()\u001b[0m\n",
      "\u001b[1;32mc:\\Users\\igor.malta\\Anaconda3\\lib\\site-packages\\cassandra\\cluster.cp39-win_amd64.pyd\u001b[0m in \u001b[0;36mcassandra.cluster.ResultSet._enter_list_mode\u001b[1;34m()\u001b[0m\n",
      "\u001b[1;31mRuntimeError\u001b[0m: Cannot use index operator when results have been iterated."
     ]
    }
   ],
   "source": [
    "playlist = session.execute(\n",
    "\"\"\"\n",
    "select musica from playlist;\n",
    "\"\"\"\n",
    "\n",
    ")\n",
    "\n",
    "print(\"A sua playlist atual é:\")\n",
    "y=1\n",
    "for x in playlist:\n",
    "    \n",
    "    print(f\"{y}ª {playlist[x]}\")\n",
    "    y=y+1\n",
    "from time import sleep\n",
    "sleep(1)\n",
    "tarefa = 0\n",
    "while tarefa not in range(1,4):\n",
    "    tarefa = int(input(\"\"\"O que deseja fazer? \\n\n",
    "    1- adicionar \\n\n",
    "    2- excluir \\n\n",
    "    3- trocar\"\"\"))\n",
    "\n",
    "if tarefa == 1:\n",
    "    tarefa = \"ADI(\"+ input(\"Qual musica gostaria de incluir?\")+\")\"\n",
    "elif tarefa ==2:\n",
    "    tarefa = \"EXC(\"+ input(\"Qual musica gostaria de excluir?\")+\")\"\n",
    "elif tarefa ==3:\n",
    "    tarefa = \"TRO(\"+ input(\"Qual musica gostaria de trocar?\")+ input(\"E por qual?\")+\")\"\n"
   ]
  },
  {
   "cell_type": "code",
   "execution_count": 71,
   "metadata": {},
   "outputs": [
    {
     "data": {
      "text/plain": [
       "<cassandra.cluster.ResultSet at 0x26c212faaf0>"
      ]
     },
     "execution_count": 71,
     "metadata": {},
     "output_type": "execute_result"
    }
   ],
   "source": [
    "session.execute(\n",
    "    \"\"\"\n",
    "    create table playlist_vers (\n",
    "        id_playlist int primary key,\n",
    "        atualizacao int ,\n",
    "        modificacao text\n",
    "    ) WITH COMPACT STORAGE ;\n",
    "    \"\"\"\n",
    ")"
   ]
  },
  {
   "cell_type": "code",
   "execution_count": null,
   "metadata": {},
   "outputs": [],
   "source": []
  }
 ],
 "metadata": {
  "kernelspec": {
   "display_name": "Python 3.9.7 ('base')",
   "language": "python",
   "name": "python3"
  },
  "language_info": {
   "codemirror_mode": {
    "name": "ipython",
    "version": 3
   },
   "file_extension": ".py",
   "mimetype": "text/x-python",
   "name": "python",
   "nbconvert_exporter": "python",
   "pygments_lexer": "ipython3",
   "version": "3.9.7"
  },
  "orig_nbformat": 4,
  "vscode": {
   "interpreter": {
    "hash": "270d3f23b30b1b382a0b027e6d0328824021986d82b16fe04eebe5da0ea20240"
   }
  }
 },
 "nbformat": 4,
 "nbformat_minor": 2
}
