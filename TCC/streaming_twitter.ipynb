{
 "cells": [
  {
   "cell_type": "code",
   "execution_count": 60,
   "metadata": {},
   "outputs": [],
   "source": [
    "import tweepy as tw\n",
    "import pandas as pd\n",
    "import os\n",
    "from dotenv import load_dotenv, find_dotenv"
   ]
  },
  {
   "cell_type": "code",
   "execution_count": 80,
   "metadata": {},
   "outputs": [],
   "source": [
    "load_dotenv(find_dotenv())\n",
    "bearer_token=os.getenv('bearer_token')\n",
    "consumer_key=os.getenv('consumer_key')\n",
    "consumer_secret=os.getenv('consumer_secret')\n",
    "access_token=os.getenv('access_token')\n",
    "access_token_secret=os.getenv('access_token_secret')"
   ]
  },
  {
   "cell_type": "code",
   "execution_count": 81,
   "metadata": {},
   "outputs": [
    {
     "name": "stdout",
     "output_type": "stream",
     "text": [
      "ZMQDholhLoxdWZ2tQQbneRJTdZJP5iPUfi94YD18HVqbI1W8rE\n"
     ]
    }
   ],
   "source": [
    "cli = tw.Client(bearer_token, consumer_key, consumer_secret, access_token, wait_on_rate_limit=True)\n",
    "print(consumer_secret)"
   ]
  },
  {
   "cell_type": "code",
   "execution_count": 72,
   "metadata": {},
   "outputs": [],
   "source": [
    "consumer_key = 'fOTRRcVziZInVGGV3vJZYtvxH'\n",
    "consumer_secret = 'EZ0Vh0VHKxYMQJ25f23PP88Uw9pYtMAZeR3XmVk9O1DLAT88z3'\n",
    "access_token = '93256416-tegCXI9plQYJY9btUAG5pL3QLy1oClShc6boKes7P'\n",
    "access_token_secret = '1pSK1otW9tEejGWRHMDmad7j2rUGQ08UNYn1CczRwh463'\n",
    "bearer_token = 'AAAAAAAAAAAAAAAAAAAAANUOlQEAAAAAq1Y3km9e3sYRQNJXB18oThM1WQE%3DUFagcQUbBuBBMe2UlOVzMj3mHRopTRwVYwPA4EcOYT6dwShc07'"
   ]
  },
  {
   "cell_type": "code",
   "execution_count": 49,
   "metadata": {},
   "outputs": [
    {
     "data": {
      "text/plain": [
       "Response(data=[<Tweet id=1615469922208948240 text='RT @GiuliaJules88: Essa é pro Enem:\\nSe Bolsonaro gastou 80mil em sorvete em um mês, quantas bolas ele chupava por dia? 🙃'>, <Tweet id=1615469921210703880 text='RT @studsfolk: COMO VOU ESTUDAR MATEMÁTICA ESSE ANO – fuvest &amp; enem 📖 \\n\\numa thread p/ #studytwt https://t.co/BSmh6n2AMI'>, <Tweet id=1615469695628451844 text='RT @studsfolk: COMO VOU ESTUDAR MATEMÁTICA ESSE ANO – fuvest &amp; enem 📖 \\n\\numa thread p/ #studytwt https://t.co/BSmh6n2AMI'>, <Tweet id=1615469550803324928 text='RT @studsfolk: COMO VOU ESTUDAR MATEMÁTICA ESSE ANO – fuvest &amp; enem 📖 \\n\\numa thread p/ #studytwt https://t.co/BSmh6n2AMI'>, <Tweet id=1615469353222250501 text='eu pensei que ia ter paz no período temporal entre terminar o enem e esperar a nota, mas aparentemente a ansiedade de não ter certeza de nada até lá é deveras pior  :)))))))'>, <Tweet id=1615469269248090136 text='RT @GiuliaJules88: Essa é pro Enem:\\nSe Bolsonaro gastou 80mil em sorvete em um mês, quantas bolas ele chupava por dia? 🙃'>, <Tweet id=1615469138058649818 text='RT @MELdicina: Esperando a nota do enem sair mas ja to com essa energia aqui https://t.co/BmWjP488oP'>, <Tweet id=1615469072623312896 text='pelo amor de Deus eu imploro PARA DE APARECER VIDEO ENEM E VEST NO MDU TTK MANO era meu lugar de fuga PORRA'>, <Tweet id=1615468867215851520 text='RT @GiuliaJules88: Essa é pro Enem:\\nSe Bolsonaro gastou 80mil em sorvete em um mês, quantas bolas ele chupava por dia? 🙃'>, <Tweet id=1615468654405066763 text='ano que vem eu acabo a escola depois das férias do final desse ano não terei mais férias vou ter que estudar pro enem vou ficar maior de idade acho que tô em crise'>], includes={}, errors=[], meta={'newest_id': '1615469922208948240', 'oldest_id': '1615468654405066763', 'result_count': 10, 'next_token': 'b26v89c19zqg8o3fqk41gbef65vg5dt7ofi7dq3xd1ojh'})"
      ]
     },
     "execution_count": 49,
     "metadata": {},
     "output_type": "execute_result"
    }
   ],
   "source": [
    "cli.search_recent_tweets(query='enem')"
   ]
  }
 ],
 "metadata": {
  "kernelspec": {
   "display_name": "base",
   "language": "python",
   "name": "python3"
  },
  "language_info": {
   "codemirror_mode": {
    "name": "ipython",
    "version": 3
   },
   "file_extension": ".py",
   "mimetype": "text/x-python",
   "name": "python",
   "nbconvert_exporter": "python",
   "pygments_lexer": "ipython3",
   "version": "3.9.13"
  },
  "orig_nbformat": 4,
  "vscode": {
   "interpreter": {
    "hash": "1d5c0991d7aaec591df3718f21ace1a5ed6433a5190cce3bdc604214b7d049a4"
   }
  }
 },
 "nbformat": 4,
 "nbformat_minor": 2
}
