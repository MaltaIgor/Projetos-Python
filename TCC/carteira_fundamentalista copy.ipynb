{
 "cells": [
  {
   "cell_type": "code",
   "execution_count": null,
   "metadata": {},
   "outputs": [],
   "source": [
    "import yfinance as yf\n",
    "import pandas as pd\n",
    "from datetime import datetime\n",
    "import numpy as np"
   ]
  },
  {
   "cell_type": "code",
   "execution_count": null,
   "metadata": {},
   "outputs": [],
   "source": [
    "list_symbols = pd.read_excel('C:/projeto_python/ibrx.xls')['Código'].values\n",
    "list_symbols"
   ]
  },
  {
   "cell_type": "code",
   "execution_count": null,
   "metadata": {},
   "outputs": [],
   "source": [
    "list_melhores = []\n",
    "list_relacao_mm = []\n",
    "list_precos = []\n",
    "for ativo in list_symbols:\n",
    "    soma_fundamentos = 0\n",
    "    dividend_yield = 0\n",
    "    chamada_api = yf.Ticker(ativo+'.SA')\n",
    "    hist = chamada_api.history(period='30mo',interval = '1wk')\n",
    "    hist_precos = hist['Close']\n",
    "    hist_dividendos = hist['Dividends']\n",
    "    hist_dividendos_ultimo_ano = hist_dividendos.loc[datetime(2020,1,1):datetime(2021,12,31)]\n",
    "    \n",
    "\n",
    "    dividend_yield = (hist_dividendos_ultimo_ano.sum()/2)/hist_precos[-1] if hist_precos[-1] > 0 else 0\n",
    "    \n",
    "    if dividend_yield > 0.03:\n",
    "        try:\n",
    "            balanco_anual = chamada_api.balance_sheet\n",
    "            balanco_trimestral = chamada_api.quarterly_balance_sheet\n",
    "            dre_anual = chamada_api.financials\n",
    "            dfc_anual = chamada_api.cashflow\n",
    "            dre_trimestral = chamada_api.quarterly_financials\n",
    "            dfc_trimestral = chamada_api.quarterly_cashflow\n",
    "            \n",
    "            if dre_anual.keys()[0].year >= 0:\n",
    "                balanco = balanco_anual\n",
    "                dre = dre_anual\n",
    "                dfc = dfc_anual\n",
    "                variacao_receita = int(dre.loc['Total Revenue'][0] > dre.loc['Total Revenue'][1])\n",
    "                variacao_ebit = int(dre.loc['Ebit'][0] > dre.loc['Ebit'][1])\n",
    "                variacao_caixa = int(dfc.loc['Change In Cash'][0] > dfc.loc['Change In Cash'][1])\n",
    "                variacao_divida = int(balanco.loc['Total Current Liabilities'][0] < balanco.loc['Total Current Liabilities'][1])\n",
    "                \n",
    "                soma_fundamentos = variacao_caixa + variacao_ebit + variacao_receita + variacao_divida\n",
    "                if soma_fundamentos >= 2:\n",
    "                    print(ativo,variacao_divida,variacao_caixa,variacao_ebit,variacao_receita,dre_anual.keys()[0])\n",
    "                    list_melhores.append(ativo)\n",
    "                    list_relacao_mm.append(abs(hist_precos[-1] / np.mean(hist_precos[-40:])-1))\n",
    "                    list_precos.append(round(hist_precos[-1],2))\n",
    "            else:\n",
    "                continue\n",
    "        except:\n",
    "            print(ativo)\n",
    "            continue"
   ]
  },
  {
   "cell_type": "code",
   "execution_count": null,
   "metadata": {},
   "outputs": [],
   "source": [
    "carteira_df = pd.DataFrame({'MM':list_relacao_mm,'Preços':list_precos}, index=list_melhores).sort_values(by = 'MM',ascending=True)\n",
    "\n",
    "carteira_df"
   ]
  },
  {
   "cell_type": "code",
   "execution_count": null,
   "metadata": {},
   "outputs": [],
   "source": [
    "lista_drop = ['ELET6','PETR3']\n",
    "\n",
    "carteira_limpa = carteira_df.drop(lista_drop)\n",
    "\n",
    "\n",
    "carteira_limpa"
   ]
  },
  {
   "cell_type": "code",
   "execution_count": null,
   "metadata": {},
   "outputs": [],
   "source": [
    "list_pesos = [(1+x)/(carteira_limpa['MM'].sum()+len(carteira_limpa['MM'].values)) for x in carteira_limpa['MM'].values]\n",
    "list_pesos.reverse()\n",
    "\n",
    "list_pesos"
   ]
  },
  {
   "cell_type": "code",
   "execution_count": null,
   "metadata": {},
   "outputs": [],
   "source": [
    "carteira_limpa['Pesos'] = list_pesos\n",
    "carteira_limpa"
   ]
  }
 ],
 "metadata": {
  "kernelspec": {
   "display_name": "base",
   "language": "python",
   "name": "python3"
  },
  "language_info": {
   "codemirror_mode": {
    "name": "ipython",
    "version": 3
   },
   "file_extension": ".py",
   "mimetype": "text/x-python",
   "name": "python",
   "nbconvert_exporter": "python",
   "pygments_lexer": "ipython3",
   "version": "3.9.13"
  },
  "orig_nbformat": 4
 },
 "nbformat": 4,
 "nbformat_minor": 2
}
