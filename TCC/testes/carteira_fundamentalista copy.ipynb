{
 "cells": [
  {
   "cell_type": "code",
   "execution_count": 1,
   "metadata": {},
   "outputs": [],
   "source": [
    "import yfinance as yf\n",
    "import pandas as pd\n",
    "from datetime import datetime\n",
    "import numpy as np"
   ]
  },
  {
   "cell_type": "code",
   "execution_count": 2,
   "metadata": {},
   "outputs": [
    {
     "data": {
      "text/plain": [
       "['RRRP3',\n",
       " 'ALSO3',\n",
       " 'ALPA4',\n",
       " 'ABEV3',\n",
       " 'ARZZ3',\n",
       " 'ASAI3',\n",
       " 'AURE3',\n",
       " 'AZUL4',\n",
       " 'B3SA3',\n",
       " 'BPAN4',\n",
       " 'BBSE3',\n",
       " 'BBDC3',\n",
       " 'BBDC4',\n",
       " 'BRAP4',\n",
       " 'BBAS3',\n",
       " 'BRKM5',\n",
       " 'BRFS3',\n",
       " 'BPAC11',\n",
       " 'CRFB3',\n",
       " 'CBAV3',\n",
       " 'CCRO3',\n",
       " 'CMIG4',\n",
       " 'CIEL3',\n",
       " 'COGN3',\n",
       " 'CPLE6',\n",
       " 'CSAN3',\n",
       " 'CPFE3',\n",
       " 'CMIN3',\n",
       " 'CVCB3',\n",
       " 'CYRE3',\n",
       " 'DXCO3',\n",
       " 'ECOR3',\n",
       " 'ELET3',\n",
       " 'ELET6',\n",
       " 'EMBR3',\n",
       " 'ENAT3',\n",
       " 'ENBR3',\n",
       " 'ENGI11',\n",
       " 'ENEV3',\n",
       " 'EGIE3',\n",
       " 'EQTL3',\n",
       " 'EZTC3',\n",
       " 'FLRY3',\n",
       " 'GGBR4',\n",
       " 'GOAU4',\n",
       " 'GOLL4',\n",
       " 'GMAT3',\n",
       " 'NTCO3',\n",
       " 'SOMA3',\n",
       " 'HAPV3',\n",
       " 'HYPE3',\n",
       " 'IGTI11',\n",
       " 'ITSA4',\n",
       " 'ITUB4',\n",
       " 'JBSS3',\n",
       " 'KLBN11',\n",
       " 'RENT3',\n",
       " 'LWSA3',\n",
       " 'LREN3',\n",
       " 'MDIA3',\n",
       " 'MGLU3',\n",
       " 'MRFG3',\n",
       " 'CASH3',\n",
       " 'BEEF3',\n",
       " 'MOVI3',\n",
       " 'MRVE3',\n",
       " 'MULT3',\n",
       " 'PCAR3',\n",
       " 'PETR3',\n",
       " 'PETR4',\n",
       " 'RECV3',\n",
       " 'PRIO3',\n",
       " 'PETZ3',\n",
       " 'PSSA3',\n",
       " 'QUAL3',\n",
       " 'RADL3',\n",
       " 'RAIZ4',\n",
       " 'RDOR3',\n",
       " 'RAIL3',\n",
       " 'SBSP3',\n",
       " 'SANB11',\n",
       " 'STBP3',\n",
       " 'SMTO3',\n",
       " 'CSNA3',\n",
       " 'SLCE3',\n",
       " 'SUZB3',\n",
       " 'TAEE11',\n",
       " 'VIVT3',\n",
       " 'TIMS3',\n",
       " 'TOTS3',\n",
       " 'TRPL4',\n",
       " 'UGPA3',\n",
       " 'USIM5',\n",
       " 'VALE3',\n",
       " 'VAMO3',\n",
       " 'VIIA3',\n",
       " 'VBBR3',\n",
       " 'WEGE3',\n",
       " 'YDUQ3']"
      ]
     },
     "execution_count": 2,
     "metadata": {},
     "output_type": "execute_result"
    }
   ],
   "source": [
    "symbol_list_ibrx = list(pd.read_csv('ibrx.csv',delimiter=\";\").index)\n",
    "symbol_list_ibrx"
   ]
  },
  {
   "cell_type": "code",
   "execution_count": 4,
   "metadata": {},
   "outputs": [
    {
     "name": "stderr",
     "output_type": "stream",
     "text": [
      "C:\\Users\\igorb\\AppData\\Local\\Temp\\ipykernel_12352\\2199307986.py:10: FutureWarning: Indexing a timezone-aware DatetimeIndex with a timezone-naive datetime is deprecated and will raise KeyError in a future version. Use a timezone-aware object instead.\n",
      "  hist_dividendos_ultimo_ano = hist_dividendos.loc[datetime(2020,1,1):datetime(2021,12,31)]\n"
     ]
    },
    {
     "ename": "Exception",
     "evalue": "yfinance failed to decrypt Yahoo data response",
     "output_type": "error",
     "traceback": [
      "\u001b[1;31m---------------------------------------------------------------------------\u001b[0m",
      "\u001b[1;31mException\u001b[0m                                 Traceback (most recent call last)",
      "\u001b[1;32m~\\AppData\\Local\\Temp\\ipykernel_12352\\2199307986.py\u001b[0m in \u001b[0;36m<module>\u001b[1;34m\u001b[0m\n\u001b[0;32m     14\u001b[0m \u001b[1;32mif\u001b[0m \u001b[0mdividend_yield\u001b[0m \u001b[1;33m>\u001b[0m \u001b[1;36m0.03\u001b[0m\u001b[1;33m:\u001b[0m\u001b[1;33m\u001b[0m\u001b[1;33m\u001b[0m\u001b[0m\n\u001b[0;32m     15\u001b[0m     \u001b[0mteste\u001b[0m \u001b[1;33m=\u001b[0m \u001b[0myf\u001b[0m\u001b[1;33m.\u001b[0m\u001b[0mTicker\u001b[0m\u001b[1;33m(\u001b[0m\u001b[1;34m'PETR4.SA'\u001b[0m\u001b[1;33m)\u001b[0m\u001b[1;33m\u001b[0m\u001b[1;33m\u001b[0m\u001b[0m\n\u001b[1;32m---> 16\u001b[1;33m     \u001b[0mbalanco_anual\u001b[0m \u001b[1;33m=\u001b[0m \u001b[0mteste\u001b[0m\u001b[1;33m.\u001b[0m\u001b[0mbalance_sheet\u001b[0m\u001b[1;33m\u001b[0m\u001b[1;33m\u001b[0m\u001b[0m\n\u001b[0m\u001b[0;32m     17\u001b[0m     \u001b[0mbalanco_trimestral\u001b[0m \u001b[1;33m=\u001b[0m \u001b[0myf\u001b[0m\u001b[1;33m.\u001b[0m\u001b[0mTicker\u001b[0m\u001b[1;33m(\u001b[0m\u001b[1;34m'PETR4.SA'\u001b[0m\u001b[1;33m)\u001b[0m\u001b[1;33m.\u001b[0m\u001b[0mquarterly_balance_sheet\u001b[0m\u001b[1;33m\u001b[0m\u001b[1;33m\u001b[0m\u001b[0m\n\u001b[0;32m     18\u001b[0m     \u001b[0mdre_anual\u001b[0m \u001b[1;33m=\u001b[0m \u001b[0myf\u001b[0m\u001b[1;33m.\u001b[0m\u001b[0mTicker\u001b[0m\u001b[1;33m(\u001b[0m\u001b[1;34m'PETR4.SA'\u001b[0m\u001b[1;33m)\u001b[0m\u001b[1;33m.\u001b[0m\u001b[0mfinancials\u001b[0m\u001b[1;33m\u001b[0m\u001b[1;33m\u001b[0m\u001b[0m\n",
      "\u001b[1;32mc:\\Users\\igorb\\anaconda3\\lib\\site-packages\\yfinance\\ticker.py\u001b[0m in \u001b[0;36mbalance_sheet\u001b[1;34m(self)\u001b[0m\n\u001b[0;32m    180\u001b[0m     \u001b[1;33m@\u001b[0m\u001b[0mproperty\u001b[0m\u001b[1;33m\u001b[0m\u001b[1;33m\u001b[0m\u001b[0m\n\u001b[0;32m    181\u001b[0m     \u001b[1;32mdef\u001b[0m \u001b[0mbalance_sheet\u001b[0m\u001b[1;33m(\u001b[0m\u001b[0mself\u001b[0m\u001b[1;33m)\u001b[0m \u001b[1;33m->\u001b[0m \u001b[0m_pd\u001b[0m\u001b[1;33m.\u001b[0m\u001b[0mDataFrame\u001b[0m\u001b[1;33m:\u001b[0m\u001b[1;33m\u001b[0m\u001b[1;33m\u001b[0m\u001b[0m\n\u001b[1;32m--> 182\u001b[1;33m         \u001b[1;32mreturn\u001b[0m \u001b[0mself\u001b[0m\u001b[1;33m.\u001b[0m\u001b[0mget_balance_sheet\u001b[0m\u001b[1;33m(\u001b[0m\u001b[0mpretty\u001b[0m\u001b[1;33m=\u001b[0m\u001b[1;32mTrue\u001b[0m\u001b[1;33m)\u001b[0m\u001b[1;33m\u001b[0m\u001b[1;33m\u001b[0m\u001b[0m\n\u001b[0m\u001b[0;32m    183\u001b[0m \u001b[1;33m\u001b[0m\u001b[0m\n\u001b[0;32m    184\u001b[0m     \u001b[1;33m@\u001b[0m\u001b[0mproperty\u001b[0m\u001b[1;33m\u001b[0m\u001b[1;33m\u001b[0m\u001b[0m\n",
      "\u001b[1;32mc:\\Users\\igorb\\anaconda3\\lib\\site-packages\\yfinance\\base.py\u001b[0m in \u001b[0;36mget_balance_sheet\u001b[1;34m(self, proxy, as_dict, pretty, freq, legacy)\u001b[0m\n\u001b[0;32m   1619\u001b[0m             \u001b[0mdata\u001b[0m \u001b[1;33m=\u001b[0m \u001b[0mself\u001b[0m\u001b[1;33m.\u001b[0m\u001b[0m_fundamentals\u001b[0m\u001b[1;33m.\u001b[0m\u001b[0mfinancials\u001b[0m\u001b[1;33m.\u001b[0m\u001b[0mget_balance_sheet_scrape\u001b[0m\u001b[1;33m(\u001b[0m\u001b[0mfreq\u001b[0m\u001b[1;33m=\u001b[0m\u001b[0mfreq\u001b[0m\u001b[1;33m,\u001b[0m \u001b[0mproxy\u001b[0m\u001b[1;33m=\u001b[0m\u001b[0mproxy\u001b[0m\u001b[1;33m)\u001b[0m\u001b[1;33m\u001b[0m\u001b[1;33m\u001b[0m\u001b[0m\n\u001b[0;32m   1620\u001b[0m         \u001b[1;32melse\u001b[0m\u001b[1;33m:\u001b[0m\u001b[1;33m\u001b[0m\u001b[1;33m\u001b[0m\u001b[0m\n\u001b[1;32m-> 1621\u001b[1;33m             \u001b[0mdata\u001b[0m \u001b[1;33m=\u001b[0m \u001b[0mself\u001b[0m\u001b[1;33m.\u001b[0m\u001b[0m_fundamentals\u001b[0m\u001b[1;33m.\u001b[0m\u001b[0mfinancials\u001b[0m\u001b[1;33m.\u001b[0m\u001b[0mget_balance_sheet_time_series\u001b[0m\u001b[1;33m(\u001b[0m\u001b[0mfreq\u001b[0m\u001b[1;33m=\u001b[0m\u001b[0mfreq\u001b[0m\u001b[1;33m,\u001b[0m \u001b[0mproxy\u001b[0m\u001b[1;33m=\u001b[0m\u001b[0mproxy\u001b[0m\u001b[1;33m)\u001b[0m\u001b[1;33m\u001b[0m\u001b[1;33m\u001b[0m\u001b[0m\n\u001b[0m\u001b[0;32m   1622\u001b[0m \u001b[1;33m\u001b[0m\u001b[0m\n\u001b[0;32m   1623\u001b[0m         \u001b[1;32mif\u001b[0m \u001b[0mpretty\u001b[0m\u001b[1;33m:\u001b[0m\u001b[1;33m\u001b[0m\u001b[1;33m\u001b[0m\u001b[0m\n",
      "\u001b[1;32mc:\\Users\\igorb\\anaconda3\\lib\\site-packages\\yfinance\\scrapers\\fundamentals.py\u001b[0m in \u001b[0;36mget_balance_sheet_time_series\u001b[1;34m(self, freq, proxy)\u001b[0m\n\u001b[0;32m    117\u001b[0m         \u001b[0mres\u001b[0m \u001b[1;33m=\u001b[0m \u001b[0mself\u001b[0m\u001b[1;33m.\u001b[0m\u001b[0m_balance_sheet_time_series\u001b[0m\u001b[1;33m\u001b[0m\u001b[1;33m\u001b[0m\u001b[0m\n\u001b[0;32m    118\u001b[0m         \u001b[1;32mif\u001b[0m \u001b[0mfreq\u001b[0m \u001b[1;32mnot\u001b[0m \u001b[1;32min\u001b[0m \u001b[0mres\u001b[0m\u001b[1;33m:\u001b[0m\u001b[1;33m\u001b[0m\u001b[1;33m\u001b[0m\u001b[0m\n\u001b[1;32m--> 119\u001b[1;33m             \u001b[0mres\u001b[0m\u001b[1;33m[\u001b[0m\u001b[0mfreq\u001b[0m\u001b[1;33m]\u001b[0m \u001b[1;33m=\u001b[0m \u001b[0mself\u001b[0m\u001b[1;33m.\u001b[0m\u001b[0m_fetch_time_series\u001b[0m\u001b[1;33m(\u001b[0m\u001b[1;34m\"balance-sheet\"\u001b[0m\u001b[1;33m,\u001b[0m \u001b[0mfreq\u001b[0m\u001b[1;33m,\u001b[0m \u001b[0mproxy\u001b[0m\u001b[1;33m=\u001b[0m\u001b[1;32mNone\u001b[0m\u001b[1;33m)\u001b[0m\u001b[1;33m\u001b[0m\u001b[1;33m\u001b[0m\u001b[0m\n\u001b[0m\u001b[0;32m    120\u001b[0m         \u001b[1;32mreturn\u001b[0m \u001b[0mres\u001b[0m\u001b[1;33m[\u001b[0m\u001b[0mfreq\u001b[0m\u001b[1;33m]\u001b[0m\u001b[1;33m\u001b[0m\u001b[1;33m\u001b[0m\u001b[0m\n\u001b[0;32m    121\u001b[0m \u001b[1;33m\u001b[0m\u001b[0m\n",
      "\u001b[1;32mc:\\Users\\igorb\\anaconda3\\lib\\site-packages\\yfinance\\scrapers\\fundamentals.py\u001b[0m in \u001b[0;36m_fetch_time_series\u001b[1;34m(self, name, timescale, proxy)\u001b[0m\n\u001b[0;32m    140\u001b[0m \u001b[1;33m\u001b[0m\u001b[0m\n\u001b[0;32m    141\u001b[0m         \u001b[1;32mtry\u001b[0m\u001b[1;33m:\u001b[0m\u001b[1;33m\u001b[0m\u001b[1;33m\u001b[0m\u001b[0m\n\u001b[1;32m--> 142\u001b[1;33m             \u001b[0mstatement\u001b[0m \u001b[1;33m=\u001b[0m \u001b[0mself\u001b[0m\u001b[1;33m.\u001b[0m\u001b[0m_create_financials_table\u001b[0m\u001b[1;33m(\u001b[0m\u001b[0mname\u001b[0m\u001b[1;33m,\u001b[0m \u001b[0mtimescale\u001b[0m\u001b[1;33m,\u001b[0m \u001b[0mproxy\u001b[0m\u001b[1;33m)\u001b[0m\u001b[1;33m\u001b[0m\u001b[1;33m\u001b[0m\u001b[0m\n\u001b[0m\u001b[0;32m    143\u001b[0m \u001b[1;33m\u001b[0m\u001b[0m\n\u001b[0;32m    144\u001b[0m             \u001b[1;32mif\u001b[0m \u001b[0mstatement\u001b[0m \u001b[1;32mis\u001b[0m \u001b[1;32mnot\u001b[0m \u001b[1;32mNone\u001b[0m\u001b[1;33m:\u001b[0m\u001b[1;33m\u001b[0m\u001b[1;33m\u001b[0m\u001b[0m\n",
      "\u001b[1;32mc:\\Users\\igorb\\anaconda3\\lib\\site-packages\\yfinance\\scrapers\\fundamentals.py\u001b[0m in \u001b[0;36m_create_financials_table\u001b[1;34m(self, name, timescale, proxy)\u001b[0m\n\u001b[0;32m    153\u001b[0m             \u001b[0mname\u001b[0m \u001b[1;33m=\u001b[0m \u001b[1;34m\"financials\"\u001b[0m\u001b[1;33m\u001b[0m\u001b[1;33m\u001b[0m\u001b[0m\n\u001b[0;32m    154\u001b[0m \u001b[1;33m\u001b[0m\u001b[0m\n\u001b[1;32m--> 155\u001b[1;33m         \u001b[0mkeys\u001b[0m \u001b[1;33m=\u001b[0m \u001b[0mself\u001b[0m\u001b[1;33m.\u001b[0m\u001b[0m_get_datastore_keys\u001b[0m\u001b[1;33m(\u001b[0m\u001b[0mname\u001b[0m\u001b[1;33m,\u001b[0m \u001b[0mproxy\u001b[0m\u001b[1;33m)\u001b[0m\u001b[1;33m\u001b[0m\u001b[1;33m\u001b[0m\u001b[0m\n\u001b[0m\u001b[0;32m    156\u001b[0m         \u001b[1;32mtry\u001b[0m\u001b[1;33m:\u001b[0m\u001b[1;33m\u001b[0m\u001b[1;33m\u001b[0m\u001b[0m\n\u001b[0;32m    157\u001b[0m             \u001b[1;32mreturn\u001b[0m \u001b[0mself\u001b[0m\u001b[1;33m.\u001b[0m\u001b[0mget_financials_time_series\u001b[0m\u001b[1;33m(\u001b[0m\u001b[0mtimescale\u001b[0m\u001b[1;33m,\u001b[0m \u001b[0mkeys\u001b[0m\u001b[1;33m,\u001b[0m \u001b[0mproxy\u001b[0m\u001b[1;33m)\u001b[0m\u001b[1;33m\u001b[0m\u001b[1;33m\u001b[0m\u001b[0m\n",
      "\u001b[1;32mc:\\Users\\igorb\\anaconda3\\lib\\site-packages\\yfinance\\scrapers\\fundamentals.py\u001b[0m in \u001b[0;36m_get_datastore_keys\u001b[1;34m(self, sub_page, proxy)\u001b[0m\n\u001b[0;32m    160\u001b[0m \u001b[1;33m\u001b[0m\u001b[0m\n\u001b[0;32m    161\u001b[0m     \u001b[1;32mdef\u001b[0m \u001b[0m_get_datastore_keys\u001b[0m\u001b[1;33m(\u001b[0m\u001b[0mself\u001b[0m\u001b[1;33m,\u001b[0m \u001b[0msub_page\u001b[0m\u001b[1;33m,\u001b[0m \u001b[0mproxy\u001b[0m\u001b[1;33m)\u001b[0m \u001b[1;33m->\u001b[0m \u001b[0mlist\u001b[0m\u001b[1;33m:\u001b[0m\u001b[1;33m\u001b[0m\u001b[1;33m\u001b[0m\u001b[0m\n\u001b[1;32m--> 162\u001b[1;33m         \u001b[0mdata_stores\u001b[0m \u001b[1;33m=\u001b[0m \u001b[0mself\u001b[0m\u001b[1;33m.\u001b[0m\u001b[0m_data\u001b[0m\u001b[1;33m.\u001b[0m\u001b[0mget_json_data_stores\u001b[0m\u001b[1;33m(\u001b[0m\u001b[0msub_page\u001b[0m\u001b[1;33m,\u001b[0m \u001b[0mproxy\u001b[0m\u001b[1;33m)\u001b[0m\u001b[1;33m\u001b[0m\u001b[1;33m\u001b[0m\u001b[0m\n\u001b[0m\u001b[0;32m    163\u001b[0m \u001b[1;33m\u001b[0m\u001b[0m\n\u001b[0;32m    164\u001b[0m         \u001b[1;31m# Step 1: get the keys:\u001b[0m\u001b[1;33m\u001b[0m\u001b[1;33m\u001b[0m\u001b[0m\n",
      "\u001b[1;32mc:\\Users\\igorb\\anaconda3\\lib\\site-packages\\yfinance\\data.py\u001b[0m in \u001b[0;36mwrapped\u001b[1;34m(*args, **kwargs)\u001b[0m\n\u001b[0;32m     39\u001b[0m         \u001b[0margs\u001b[0m \u001b[1;33m=\u001b[0m \u001b[0mtuple\u001b[0m\u001b[1;33m(\u001b[0m\u001b[1;33m[\u001b[0m\u001b[0mtuple\u001b[0m\u001b[1;33m(\u001b[0m\u001b[0marg\u001b[0m\u001b[1;33m)\u001b[0m \u001b[1;32mif\u001b[0m \u001b[0misinstance\u001b[0m\u001b[1;33m(\u001b[0m\u001b[0marg\u001b[0m\u001b[1;33m,\u001b[0m \u001b[0mlist\u001b[0m\u001b[1;33m)\u001b[0m \u001b[1;32melse\u001b[0m \u001b[0marg\u001b[0m \u001b[1;32mfor\u001b[0m \u001b[0marg\u001b[0m \u001b[1;32min\u001b[0m \u001b[0margs\u001b[0m\u001b[1;33m]\u001b[0m\u001b[1;33m)\u001b[0m\u001b[1;33m\u001b[0m\u001b[1;33m\u001b[0m\u001b[0m\n\u001b[0;32m     40\u001b[0m         \u001b[0mkwargs\u001b[0m \u001b[1;33m=\u001b[0m \u001b[1;33m{\u001b[0m\u001b[0mk\u001b[0m\u001b[1;33m:\u001b[0m \u001b[0mtuple\u001b[0m\u001b[1;33m(\u001b[0m\u001b[0mv\u001b[0m\u001b[1;33m)\u001b[0m \u001b[1;32mif\u001b[0m \u001b[0misinstance\u001b[0m\u001b[1;33m(\u001b[0m\u001b[0mv\u001b[0m\u001b[1;33m,\u001b[0m \u001b[0mlist\u001b[0m\u001b[1;33m)\u001b[0m \u001b[1;32melse\u001b[0m \u001b[0mv\u001b[0m \u001b[1;32mfor\u001b[0m \u001b[0mk\u001b[0m\u001b[1;33m,\u001b[0m \u001b[0mv\u001b[0m \u001b[1;32min\u001b[0m \u001b[0mkwargs\u001b[0m\u001b[1;33m.\u001b[0m\u001b[0mitems\u001b[0m\u001b[1;33m(\u001b[0m\u001b[1;33m)\u001b[0m\u001b[1;33m}\u001b[0m\u001b[1;33m\u001b[0m\u001b[1;33m\u001b[0m\u001b[0m\n\u001b[1;32m---> 41\u001b[1;33m         \u001b[1;32mreturn\u001b[0m \u001b[0mfunc\u001b[0m\u001b[1;33m(\u001b[0m\u001b[1;33m*\u001b[0m\u001b[0margs\u001b[0m\u001b[1;33m,\u001b[0m \u001b[1;33m**\u001b[0m\u001b[0mkwargs\u001b[0m\u001b[1;33m)\u001b[0m\u001b[1;33m\u001b[0m\u001b[1;33m\u001b[0m\u001b[0m\n\u001b[0m\u001b[0;32m     42\u001b[0m \u001b[1;33m\u001b[0m\u001b[0m\n\u001b[0;32m     43\u001b[0m     \u001b[1;31m# copy over the lru_cache extra methods to this wrapper to be able to access them\u001b[0m\u001b[1;33m\u001b[0m\u001b[1;33m\u001b[0m\u001b[0m\n",
      "\u001b[1;32mc:\\Users\\igorb\\anaconda3\\lib\\site-packages\\yfinance\\data.py\u001b[0m in \u001b[0;36mget_json_data_stores\u001b[1;34m(self, sub_page, proxy)\u001b[0m\n\u001b[0;32m    309\u001b[0m \u001b[1;33m\u001b[0m\u001b[0m\n\u001b[0;32m    310\u001b[0m         \u001b[1;31m# Decrypt!\u001b[0m\u001b[1;33m\u001b[0m\u001b[1;33m\u001b[0m\u001b[0m\n\u001b[1;32m--> 311\u001b[1;33m         \u001b[0mstores\u001b[0m \u001b[1;33m=\u001b[0m \u001b[0mdecrypt_cryptojs_aes_stores\u001b[0m\u001b[1;33m(\u001b[0m\u001b[0mdata\u001b[0m\u001b[1;33m,\u001b[0m \u001b[0mkeys\u001b[0m\u001b[1;33m)\u001b[0m\u001b[1;33m\u001b[0m\u001b[1;33m\u001b[0m\u001b[0m\n\u001b[0m\u001b[0;32m    312\u001b[0m         \u001b[1;32mif\u001b[0m \u001b[0mstores\u001b[0m \u001b[1;32mis\u001b[0m \u001b[1;32mNone\u001b[0m\u001b[1;33m:\u001b[0m\u001b[1;33m\u001b[0m\u001b[1;33m\u001b[0m\u001b[0m\n\u001b[0;32m    313\u001b[0m             \u001b[1;31m# Maybe Yahoo returned old format, not encrypted\u001b[0m\u001b[1;33m\u001b[0m\u001b[1;33m\u001b[0m\u001b[0m\n",
      "\u001b[1;32mc:\\Users\\igorb\\anaconda3\\lib\\site-packages\\yfinance\\data.py\u001b[0m in \u001b[0;36mdecrypt_cryptojs_aes_stores\u001b[1;34m(data, keys)\u001b[0m\n\u001b[0;32m    160\u001b[0m                 \u001b[1;32mpass\u001b[0m\u001b[1;33m\u001b[0m\u001b[1;33m\u001b[0m\u001b[0m\n\u001b[0;32m    161\u001b[0m         \u001b[1;32mif\u001b[0m \u001b[1;32mnot\u001b[0m \u001b[0msuccess\u001b[0m\u001b[1;33m:\u001b[0m\u001b[1;33m\u001b[0m\u001b[1;33m\u001b[0m\u001b[0m\n\u001b[1;32m--> 162\u001b[1;33m             \u001b[1;32mraise\u001b[0m \u001b[0mException\u001b[0m\u001b[1;33m(\u001b[0m\u001b[1;34m\"yfinance failed to decrypt Yahoo data response\"\u001b[0m\u001b[1;33m)\u001b[0m\u001b[1;33m\u001b[0m\u001b[1;33m\u001b[0m\u001b[0m\n\u001b[0m\u001b[0;32m    163\u001b[0m \u001b[1;33m\u001b[0m\u001b[0m\n\u001b[0;32m    164\u001b[0m     \u001b[0mdecoded_stores\u001b[0m \u001b[1;33m=\u001b[0m \u001b[0mjson\u001b[0m\u001b[1;33m.\u001b[0m\u001b[0mloads\u001b[0m\u001b[1;33m(\u001b[0m\u001b[0mplaintext\u001b[0m\u001b[1;33m)\u001b[0m\u001b[1;33m\u001b[0m\u001b[1;33m\u001b[0m\u001b[0m\n",
      "\u001b[1;31mException\u001b[0m: yfinance failed to decrypt Yahoo data response"
     ]
    }
   ],
   "source": [
    "list_melhores = []\n",
    "list_relacao_mm = []\n",
    "list_precos = []\n",
    "\n",
    "soma_fundamentos = 0\n",
    "dividend_yield = 0\n",
    "chamada_api = yf.Ticker('PETR4.SA').history(period='30mo',interval = '1wk')\n",
    "hist_precos = chamada_api['Close']\n",
    "hist_dividendos = chamada_api['Dividends']\n",
    "hist_dividendos_ultimo_ano = hist_dividendos.loc[datetime(2020,1,1):datetime(2021,12,31)]\n",
    "    \n",
    "\n",
    "dividend_yield = (hist_dividendos_ultimo_ano.sum()/2)/hist_precos[-1] if hist_precos[-1] > 0 else 0\n",
    "if dividend_yield > 0.03:\n",
    "\n",
    "    balanco_anual = yf.Ticker('PETR4.SA').balance_sheet\n",
    "    balanco_trimestral = yf.Ticker('PETR4.SA').quarterly_balance_sheet\n",
    "    dre_anual = yf.Ticker('PETR4.SA').financials\n",
    "    dfc_anual = yf.Ticker('PETR4.SA').cashflow\n",
    "    dre_trimestral = yf.Ticker('PETR4.SA').quarterly_financials\n",
    "    dfc_trimestral = yf.Ticker('PETR4.SA').quarterly_cashflow\n",
    "    \n",
    "    if dre_anual.keys()[0].year >= 0:\n",
    "        balanco = balanco_anual\n",
    "        dre = dre_anual\n",
    "        dfc = dfc_anual\n",
    "        variacao_receita = int(dre.loc['Total Revenue'][0] > dre.loc['Total Revenue'][1])\n",
    "        variacao_ebit = int(dre.loc['Ebit'][0] > dre.loc['Ebit'][1])\n",
    "        variacao_caixa = int(dfc.loc['Change In Cash'][0] > dfc.loc['Change In Cash'][1])\n",
    "        variacao_divida = int(balanco.loc['Total Current Liabilities'][0] < balanco.loc['Total Current Liabilities'][1])\n",
    "        \n",
    "        soma_fundamentos = variacao_caixa + variacao_ebit + variacao_receita + variacao_divida\n",
    "        if soma_fundamentos >= 2:\n",
    "            print(\"ativo\",variacao_divida,variacao_caixa,variacao_ebit,variacao_receita,dre_anual.keys()[0])\n",
    "            list_relacao_mm.append(abs(hist_precos[-1] / np.mean(hist_precos[-40:])-1))\n",
    "            list_precos.append(round(hist_precos[-1],2))"
   ]
  },
  {
   "cell_type": "code",
   "execution_count": 11,
   "metadata": {},
   "outputs": [
    {
     "data": {
      "text/plain": [
       "datetime.datetime(2023, 3, 27, 0, 0)"
      ]
     },
     "execution_count": 11,
     "metadata": {},
     "output_type": "execute_result"
    }
   ],
   "source": [
    "x = datetime(dt.year,dt.month,dt.day)\n",
    "x"
   ]
  },
  {
   "cell_type": "code",
   "execution_count": 9,
   "metadata": {},
   "outputs": [
    {
     "data": {
      "text/plain": [
       "datetime.datetime(2023, 6, 1, 0, 0)"
      ]
     },
     "execution_count": 9,
     "metadata": {},
     "output_type": "execute_result"
    }
   ],
   "source": [
    "x= datetime(2023,6,1). \n",
    "x"
   ]
  }
 ],
 "metadata": {
  "kernelspec": {
   "display_name": "base",
   "language": "python",
   "name": "python3"
  },
  "language_info": {
   "codemirror_mode": {
    "name": "ipython",
    "version": 3
   },
   "file_extension": ".py",
   "mimetype": "text/x-python",
   "name": "python",
   "nbconvert_exporter": "python",
   "pygments_lexer": "ipython3",
   "version": "3.9.13"
  },
  "orig_nbformat": 4
 },
 "nbformat": 4,
 "nbformat_minor": 2
}
