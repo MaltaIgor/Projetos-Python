{
 "cells": [
  {
   "cell_type": "code",
   "execution_count": 3,
   "metadata": {},
   "outputs": [],
   "source": [
    "import yfinance as yf\n",
    "import pandas as pd\n",
    "from datetime import datetime\n",
    "import numpy as np"
   ]
  },
  {
   "cell_type": "code",
   "execution_count": null,
   "metadata": {},
   "outputs": [],
   "source": [
    "symbol_list_ibrx = list(pd.read_csv('ibrx.csv',delimiter=\";\").index)\n",
    "symbol_list_ibrx"
   ]
  },
  {
   "cell_type": "code",
   "execution_count": null,
   "metadata": {},
   "outputs": [],
   "source": [
    "list_melhores = []\n",
    "list_relacao_mm = []\n",
    "list_precos = []\n",
    "\n",
    "soma_fundamentos = 0\n",
    "dividend_yield = 0\n",
    "chamada_api = yf.Ticker('PETR4.SA').history(period='30mo',interval = '1wk')\n",
    "hist_precos = chamada_api['Close']\n",
    "hist_dividendos = chamada_api['Dividends']\n",
    "hist_dividendos_ultimo_ano = hist_dividendos.loc[datetime(2020,1,1):datetime(2021,12,31)]\n",
    "    \n",
    "\n",
    "dividend_yield = (hist_dividendos_ultimo_ano.sum()/2)/hist_precos[-1] if hist_precos[-1] > 0 else 0\n",
    "if dividend_yield > 0.03:\n",
    "\n",
    "    balanco_anual = yf.Ticker('PETR4.SA').balance_sheet\n",
    "    balanco_trimestral = yf.Ticker('PETR4.SA').quarterly_balance_sheet\n",
    "    dre_anual = yf.Ticker('PETR4.SA').financials\n",
    "    dfc_anual = yf.Ticker('PETR4.SA').cashflow\n",
    "    dre_trimestral = yf.Ticker('PETR4.SA').quarterly_financials\n",
    "    dfc_trimestral = yf.Ticker('PETR4.SA').quarterly_cashflow\n",
    "    \n",
    "    if dre_anual.keys()[0].year >= 0:\n",
    "        balanco = balanco_anual\n",
    "        dre = dre_anual\n",
    "        dfc = dfc_anual\n",
    "        variacao_receita = int(dre.loc['Total Revenue'][0] > dre.loc['Total Revenue'][1])\n",
    "        variacao_ebit = int(dre.loc['Ebit'][0] > dre.loc['Ebit'][1])\n",
    "        variacao_caixa = int(dfc.loc['Change In Cash'][0] > dfc.loc['Change In Cash'][1])\n",
    "        variacao_divida = int(balanco.loc['Total Current Liabilities'][0] < balanco.loc['Total Current Liabilities'][1])\n",
    "        \n",
    "        soma_fundamentos = variacao_caixa + variacao_ebit + variacao_receita + variacao_divida\n",
    "        if soma_fundamentos >= 2:\n",
    "            print(\"ativo\",variacao_divida,variacao_caixa,variacao_ebit,variacao_receita,dre_anual.keys()[0])\n",
    "            list_relacao_mm.append(abs(hist_precos[-1] / np.mean(hist_precos[-40:])-1))\n",
    "            list_precos.append(round(hist_precos[-1],2))"
   ]
  },
  {
   "cell_type": "code",
   "execution_count": 11,
   "metadata": {},
   "outputs": [
    {
     "data": {
      "text/plain": [
       "datetime.datetime(2023, 3, 27, 0, 0)"
      ]
     },
     "execution_count": 11,
     "metadata": {},
     "output_type": "execute_result"
    }
   ],
   "source": [
    "x = datetime(dt.year,dt.month,dt.day)\n",
    "x"
   ]
  },
  {
   "cell_type": "code",
   "execution_count": 9,
   "metadata": {},
   "outputs": [
    {
     "data": {
      "text/plain": [
       "datetime.datetime(2023, 6, 1, 0, 0)"
      ]
     },
     "execution_count": 9,
     "metadata": {},
     "output_type": "execute_result"
    }
   ],
   "source": [
    "x= datetime(2023,6,1). \n",
    "x"
   ]
  }
 ],
 "metadata": {
  "kernelspec": {
   "display_name": "base",
   "language": "python",
   "name": "python3"
  },
  "language_info": {
   "codemirror_mode": {
    "name": "ipython",
    "version": 3
   },
   "file_extension": ".py",
   "mimetype": "text/x-python",
   "name": "python",
   "nbconvert_exporter": "python",
   "pygments_lexer": "ipython3",
   "version": "3.9.13"
  },
  "orig_nbformat": 4
 },
 "nbformat": 4,
 "nbformat_minor": 2
}
