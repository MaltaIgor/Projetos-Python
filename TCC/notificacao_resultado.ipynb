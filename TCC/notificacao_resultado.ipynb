{
 "cells": [
  {
   "cell_type": "code",
   "execution_count": 2,
   "metadata": {},
   "outputs": [],
   "source": [
    "# IMPORT REQUIRED LIBRARIES\n",
    "# YOU SHOULD MAKE SURE THAT YOU ALREADY INSTLALED THEM PREVIOUSLY\n",
    "import yfinance as yf\n",
    "import finplot as fplt\n",
    "# chamada_api = yf.Ticker('PETR4.SA').history(period='36mo')\n",
    "# Create a finplot instance\n",
    "chamada_api = yf.Ticker('PETR4.SA').history(period='36mo')\n",
    "ax = fplt.create_plot(title='Gráfico de Velas', rows = 1, maximize=False)\n",
    "# Plot the data on the graph\n",
    "candles = chamada_api[['Open', 'Close', 'High', 'Low']]\n",
    "daily_plot = fplt.candlestick_ochl(candles, candle_width=1)\n",
    "daily_plot.colors.update(dict(bull_body='#bfb', bull_shadow='#ada', bear_body='#fbc', bear_shadow='#dab'))\n",
    "# Add some additional features to the plot\n",
    "fplt.show()"
   ]
  }
 ],
 "metadata": {
  "kernelspec": {
   "display_name": "base",
   "language": "python",
   "name": "python3"
  },
  "language_info": {
   "codemirror_mode": {
    "name": "ipython",
    "version": 3
   },
   "file_extension": ".py",
   "mimetype": "text/x-python",
   "name": "python",
   "nbconvert_exporter": "python",
   "pygments_lexer": "ipython3",
   "version": "3.9.13"
  },
  "orig_nbformat": 4
 },
 "nbformat": 4,
 "nbformat_minor": 2
}
