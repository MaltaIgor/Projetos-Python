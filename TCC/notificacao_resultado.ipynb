{
 "cells": [
  {
   "cell_type": "code",
   "execution_count": null,
   "metadata": {},
   "outputs": [],
   "source": [
    "# IMPORT REQUIRED LIBRARIES\n",
    "# YOU SHOULD MAKE SURE THAT YOU ALREADY INSTLALED THEM PREVIOUSLY\n",
    "import yfinance as yf\n",
    "import finplot as fplt\n",
    "# chamada_api = yf.Ticker('PETR4.SA').history(period='36mo')\n",
    "# Create a finplot instance\n",
    "chamada_api = yf.Ticker('PETR4.SA').history(period='1mo')\n",
    "b = fplt.background = fplt.odd_plot_background = '#242320'\n",
    "w = fplt.foreground = '#eef'\n",
    "fplt.cross_hair_color = w+'a'\n",
    "ax, axv = fplt.create_plot(title='Gráfico de Velas', rows = 2, maximize=False)\n",
    "# Plot the data on the graph\n",
    "candles = chamada_api[['Open', 'Close', 'High', 'Low']]\n",
    "daily_plot = fplt.candlestick_ochl(candles, candle_width=1)\n",
    "daily_plot.colors.update(dict(bull_body='#bfb', bull_shadow='#ada', bear_body='#fbc', bear_shadow='#dab'))\n",
    "\n",
    "# Add some additional features to the plot\n",
    "\n",
    "fplt.show()"
   ]
  },
  {
   "cell_type": "code",
   "execution_count": null,
   "metadata": {},
   "outputs": [],
   "source": [
    "# IMPORT REQUIRED LIBRARIES\n",
    "# YOU SHOULD MAKE SURE THAT YOU ALREADY INSTLALED THEM PREVIOUSLY\n",
    "import yfinance as yf\n",
    "import finplot as fplt\n",
    "# chamada_api = yf.Ticker('PETR4.SA').history(period='36mo')\n",
    "# Create a finplot instance\n",
    "chamada_api = yf.Ticker('PETR4.SA').history(period='36mo')\n",
    "b = fplt.background = fplt.odd_plot_background = '#242320'\n",
    "w = fplt.foreground = '#eef'\n",
    "fplt.cross_hair_color = w+'a'\n",
    "ax, axv = fplt.create_plot(title='Gráfico de Velas', rows = 2, maximize=False)\n",
    "# Plot the data on the graph\n",
    "candles = chamada_api[['Open', 'Close', 'High', 'Low']]\n",
    "daily_plot = fplt.candlestick_ochl(candles, candle_width=1)\n",
    "daily_plot.colors.update(dict(bull_body='#bfb', bull_shadow='#ada', bear_body='#fbc', bear_shadow='#dab'))\n",
    "df_renko = chamada_api.reset_index()\n",
    "fplt.volume_ocv(df_renko[['Date','Open','Close','Volume']], ax=axv, )\n",
    "# Add some additional features to the plot\n",
    "\n",
    "fplt.show()"
   ]
  },
  {
   "cell_type": "code",
   "execution_count": null,
   "metadata": {},
   "outputs": [],
   "source": [
    "# IMPORT REQUIRED LIBRARIES\n",
    "# YOU SHOULD MAKE SURE THAT YOU ALREADY INSTLALED THEM PREVIOUSLY\n",
    "import yfinance as yf\n",
    "import finplot as fplt\n",
    "# chamada_api = yf.Ticker('PETR4.SA').history(period='36mo')\n",
    "# Create a finplot instance\n",
    "chamada_api = yf.Ticker('PETR4.SA').history(period='36mo')\n",
    "b = fplt.background = fplt.odd_plot_background = '#242320'\n",
    "w = fplt.foreground = '#eef'\n",
    "fplt.cross_hair_color = w+'a'\n",
    "ax, axv = fplt.create_plot(title='Gráfico de Velas', rows = 2, maximize=False)\n",
    "# Plot the data on the graph\n",
    "candles = chamada_api[['Open', 'Close', 'High', 'Low']]\n",
    "daily_plot = fplt.candlestick_ochl(candles, candle_width=1)\n",
    "daily_plot.colors.update(dict(bull_body='#bfb', bull_shadow='#ada', bear_body='#fbc', bear_shadow='#dab'))\n",
    "df_renko = chamada_api.reset_index()\n",
    "fplt.volume_ocv(df_renko[['Date','Open','Close','Volume']], ax=axv, )\n",
    "# Add some additional features to the plot\n",
    "mean_volume = chamada_api['Volume'].mean()\n",
    "fplt.add_line(axv,mean_volume, color='#4f4f4f', style='--')\n",
    "fplt.show()"
   ]
  },
  {
   "cell_type": "code",
   "execution_count": 2,
   "metadata": {},
   "outputs": [],
   "source": [
    "# IMPORT REQUIRED LIBRARIES\n",
    "# YOU SHOULD MAKE SURE THAT YOU ALREADY INSTLALED THEM PREVIOUSLY\n",
    "import yfinance as yf\n",
    "import finplot as fplt\n",
    "# chamada_api = yf.Ticker('PETR4.SA').history(period='36mo')\n",
    "# Create a finplot instance\n",
    "chamada_api = yf.Ticker('PETR4.SA').history(period='5mo')\n",
    "b = fplt.background = fplt.odd_plot_background = '#242320'\n",
    "w = fplt.foreground = '#eef'\n",
    "fplt.cross_hair_color = w+'a'\n",
    "ax, axv = fplt.create_plot(title='Gráfico de Velas', rows = 2, maximize=False)\n",
    "# Plot the data on the graph\n",
    "candles = chamada_api[['Open', 'Close', 'High', 'Low']]\n",
    "daily_plot = fplt.candlestick_ochl(candles, candle_width=1)\n",
    "daily_plot.colors.update(dict(bull_body='#bfb', bull_shadow='#ada', bear_body='#fbc', bear_shadow='#dab'))\n",
    "df_renko = chamada_api.reset_index()\n",
    "fplt.volume_ocv(df_renko[['Date','Open','Close','Volume']], ax=axv, )\n",
    "# Add some additional features to the plot\n",
    "fplt.plot(df_renko.Volume.ewm(span=24).mean(), ax=axv, color=1)\n",
    "fplt.show()"
   ]
  }
 ],
 "metadata": {
  "kernelspec": {
   "display_name": "base",
   "language": "python",
   "name": "python3"
  },
  "language_info": {
   "codemirror_mode": {
    "name": "ipython",
    "version": 3
   },
   "file_extension": ".py",
   "mimetype": "text/x-python",
   "name": "python",
   "nbconvert_exporter": "python",
   "pygments_lexer": "ipython3",
   "version": "3.9.13"
  },
  "orig_nbformat": 4
 },
 "nbformat": 4,
 "nbformat_minor": 2
}
